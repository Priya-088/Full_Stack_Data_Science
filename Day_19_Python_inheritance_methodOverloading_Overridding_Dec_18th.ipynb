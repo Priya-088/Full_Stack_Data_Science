{
 "cells": [
  {
   "cell_type": "markdown",
   "id": "7954dbb2",
   "metadata": {},
   "source": [
    "## Agenda\n",
    "\n",
    "- Inheritance\n",
    "- Different types of inheritance\n",
    "- Polymorphism\n",
    "- Method overloading and over ridding\n",
    "- Super function"
   ]
  },
  {
   "cell_type": "markdown",
   "id": "c80feaa8",
   "metadata": {},
   "source": [
    "### Inheritance\n",
    "\n",
    "Inheting the properties of parent class to child class\n",
    "\n",
    "Types of inheritance\n",
    "- single inheritance\n",
    "- multiple inheritance\n",
    "- multilevel inheritance\n",
    "- hirarchical inheritance\n",
    "- Hybrid inheritance"
   ]
  },
  {
   "cell_type": "markdown",
   "id": "110232b7",
   "metadata": {},
   "source": [
    "Syntax\n",
    "\n",
    "class parentclass():\n",
    "- ----\n",
    "\n",
    "- ----\n",
    "class derivedclass(parentClassName):\n",
    "- ----\n",
    "- ----"
   ]
  },
  {
   "cell_type": "code",
   "execution_count": 1,
   "id": "eed1f84f",
   "metadata": {},
   "outputs": [],
   "source": [
    "#single inheritance\n",
    "\n",
    "class Parent():\n",
    "    def func1(self):\n",
    "        print('Hello from parent class')\n",
    "        \n",
    "class Child(Parent):\n",
    "    def func2(self):\n",
    "        print('Hello child')\n",
    "    "
   ]
  },
  {
   "cell_type": "code",
   "execution_count": 2,
   "id": "47deec07",
   "metadata": {},
   "outputs": [],
   "source": [
    "test = Child()"
   ]
  },
  {
   "cell_type": "code",
   "execution_count": 4,
   "id": "87f2c45f",
   "metadata": {},
   "outputs": [
    {
     "name": "stdout",
     "output_type": "stream",
     "text": [
      "Hello from parent class\n"
     ]
    }
   ],
   "source": [
    "test.func1()"
   ]
  },
  {
   "cell_type": "code",
   "execution_count": 5,
   "id": "860bd5ca",
   "metadata": {},
   "outputs": [
    {
     "name": "stdout",
     "output_type": "stream",
     "text": [
      "Hello child\n"
     ]
    }
   ],
   "source": [
    "test.func2()"
   ]
  },
  {
   "cell_type": "code",
   "execution_count": 6,
   "id": "836262eb",
   "metadata": {},
   "outputs": [],
   "source": [
    "class Ineuron:\n",
    "    company_website = 'https://ineuron.ai'\n",
    "    name ='ineuron'\n",
    "    def contact_details(self):\n",
    "        print('Contact us at ',self.company_website)\n",
    "        \n",
    "class DataScience(Ineuron):\n",
    "    \n",
    "    def __init__(self):\n",
    "        self.year_of_establishment = 2018\n",
    "        \n",
    "    def est_details(self):\n",
    "        print('est details as', self.name, self.year_of_establishment)"
   ]
  },
  {
   "cell_type": "code",
   "execution_count": 7,
   "id": "4715b4a1",
   "metadata": {},
   "outputs": [],
   "source": [
    "ds = DataScience()"
   ]
  },
  {
   "cell_type": "code",
   "execution_count": 8,
   "id": "10b205b3",
   "metadata": {},
   "outputs": [
    {
     "name": "stdout",
     "output_type": "stream",
     "text": [
      "Contact us at  https://ineuron.ai\n"
     ]
    }
   ],
   "source": [
    "ds.contact_details()"
   ]
  },
  {
   "cell_type": "code",
   "execution_count": 9,
   "id": "b9fdec07",
   "metadata": {},
   "outputs": [
    {
     "name": "stdout",
     "output_type": "stream",
     "text": [
      "est details as ineuron 2018\n"
     ]
    }
   ],
   "source": [
    "ds.est_details()"
   ]
  },
  {
   "cell_type": "code",
   "execution_count": 10,
   "id": "1a6c9731",
   "metadata": {},
   "outputs": [
    {
     "data": {
      "text/plain": [
       "'ineuron'"
      ]
     },
     "execution_count": 10,
     "metadata": {},
     "output_type": "execute_result"
    }
   ],
   "source": [
    "ds.name"
   ]
  },
  {
   "cell_type": "code",
   "execution_count": 12,
   "id": "1bb42400",
   "metadata": {},
   "outputs": [],
   "source": [
    "#multiple inheritance\n",
    "\n",
    "#child class derived from multiple parent classes\n",
    "\n",
    "class Parent1:\n",
    "    def func1(self):\n",
    "        print('Hello from parent1')\n",
    "        \n",
    "class Parent2:\n",
    "    def func2(self):\n",
    "        print('Hello from parent2')\n",
    "        \n",
    "    \n",
    "class Child(Parent1,Parent2):\n",
    "    def func3(self):\n",
    "        print('Hello child')"
   ]
  },
  {
   "cell_type": "code",
   "execution_count": 13,
   "id": "5e319b6b",
   "metadata": {},
   "outputs": [],
   "source": [
    "test = Child()"
   ]
  },
  {
   "cell_type": "code",
   "execution_count": 14,
   "id": "271ccf8d",
   "metadata": {},
   "outputs": [
    {
     "name": "stdout",
     "output_type": "stream",
     "text": [
      "Hello from parent1\n"
     ]
    }
   ],
   "source": [
    "test.func1()"
   ]
  },
  {
   "cell_type": "code",
   "execution_count": 15,
   "id": "3f81a0ab",
   "metadata": {},
   "outputs": [
    {
     "name": "stdout",
     "output_type": "stream",
     "text": [
      "Hello from parent2\n"
     ]
    }
   ],
   "source": [
    "test.func2()"
   ]
  },
  {
   "cell_type": "code",
   "execution_count": 16,
   "id": "b9c9a12c",
   "metadata": {},
   "outputs": [],
   "source": [
    "#parent class 1\n",
    "class Batch_number:\n",
    "    batchnumber=''\n",
    "    def __init__(self,a,b,c):\n",
    "        self.a=a\n",
    "        self.b=b\n",
    "        self.c=c\n",
    "        \n",
    "    def Batch(self):\n",
    "        print('batch_number',self.batchnumber)\n",
    "        \n",
    "#parent class 2\n",
    "\n",
    "class Course_name:\n",
    "    cname=''\n",
    "    def course(self):\n",
    "        print(self.cname)\n",
    "        \n",
    "#child\n",
    "\n",
    "class Student(Batch_number,Course_name):\n",
    "    \n",
    "    def show(self):\n",
    "        print('Batch',self.batchnumber)\n",
    "        print('course',self.cname)\n",
    "    \n",
    "        "
   ]
  },
  {
   "cell_type": "code",
   "execution_count": 17,
   "id": "5d134263",
   "metadata": {},
   "outputs": [
    {
     "ename": "TypeError",
     "evalue": "__init__() missing 3 required positional arguments: 'a', 'b', and 'c'",
     "output_type": "error",
     "traceback": [
      "\u001b[1;31m---------------------------------------------------------------------------\u001b[0m",
      "\u001b[1;31mTypeError\u001b[0m                                 Traceback (most recent call last)",
      "\u001b[1;32m~\\AppData\\Local\\Temp/ipykernel_1268/1410181325.py\u001b[0m in \u001b[0;36m<module>\u001b[1;34m\u001b[0m\n\u001b[1;32m----> 1\u001b[1;33m \u001b[0ms1\u001b[0m\u001b[1;33m=\u001b[0m\u001b[0mStudent\u001b[0m\u001b[1;33m(\u001b[0m\u001b[1;33m)\u001b[0m\u001b[1;33m\u001b[0m\u001b[1;33m\u001b[0m\u001b[0m\n\u001b[0m",
      "\u001b[1;31mTypeError\u001b[0m: __init__() missing 3 required positional arguments: 'a', 'b', and 'c'"
     ]
    }
   ],
   "source": [
    "s1=Student()"
   ]
  },
  {
   "cell_type": "code",
   "execution_count": 18,
   "id": "7ebd2171",
   "metadata": {},
   "outputs": [],
   "source": [
    "s1=Student(4,5,6)"
   ]
  },
  {
   "cell_type": "code",
   "execution_count": 19,
   "id": "d7c2adff",
   "metadata": {},
   "outputs": [],
   "source": [
    "s1.batchnumber=\"2\""
   ]
  },
  {
   "cell_type": "code",
   "execution_count": 20,
   "id": "74fa663b",
   "metadata": {},
   "outputs": [],
   "source": [
    "s1.cname='fsds'"
   ]
  },
  {
   "cell_type": "code",
   "execution_count": 21,
   "id": "d54b3164",
   "metadata": {},
   "outputs": [
    {
     "name": "stdout",
     "output_type": "stream",
     "text": [
      "fsds\n"
     ]
    }
   ],
   "source": [
    "s1.course() #since we are initilising cname in the above line hence we are not seeing the empty str"
   ]
  },
  {
   "cell_type": "code",
   "execution_count": 23,
   "id": "519009e0",
   "metadata": {},
   "outputs": [],
   "source": [
    "#create a class 'Person', 'Company' as parent classes and child class 'Employee'\n",
    "\n",
    "class Person:\n",
    "    def func1(self):\n",
    "        print('Hello from Parent1')\n",
    "\n",
    "class Company:\n",
    "    def func2(self):\n",
    "        print('Hello from Parent2')\n",
    "\n",
    "class Employee(Person,Company):\n",
    "    def func3(self):\n",
    "        print('Hello from child')\n",
    "    "
   ]
  },
  {
   "cell_type": "code",
   "execution_count": 24,
   "id": "6b7ccd4d",
   "metadata": {},
   "outputs": [],
   "source": [
    "emp = Employee()"
   ]
  },
  {
   "cell_type": "code",
   "execution_count": 26,
   "id": "db318925",
   "metadata": {},
   "outputs": [
    {
     "name": "stdout",
     "output_type": "stream",
     "text": [
      "Hello from Parent1\n"
     ]
    }
   ],
   "source": [
    "emp.func1()"
   ]
  },
  {
   "cell_type": "code",
   "execution_count": 31,
   "id": "287c2c17",
   "metadata": {},
   "outputs": [],
   "source": [
    "class Person:\n",
    "    name=''\n",
    "    \n",
    "class Company:\n",
    "    c_name=''\n",
    "    \n",
    "class Employee(Person,Company):\n",
    "    def show(self):\n",
    "        return 'Name is '+self.name+' and company name is '+self.c_name"
   ]
  },
  {
   "cell_type": "code",
   "execution_count": 32,
   "id": "86cf6e4d",
   "metadata": {},
   "outputs": [],
   "source": [
    "emp2=Employee()"
   ]
  },
  {
   "cell_type": "code",
   "execution_count": 33,
   "id": "9e7c90a1",
   "metadata": {},
   "outputs": [],
   "source": [
    "emp2.c_name='TREDENCE'\n",
    "emp2.name='Priya Mora'"
   ]
  },
  {
   "cell_type": "code",
   "execution_count": 34,
   "id": "b3e1096c",
   "metadata": {},
   "outputs": [
    {
     "data": {
      "text/plain": [
       "'Name is Priya Mora and company name is TREDENCE'"
      ]
     },
     "execution_count": 34,
     "metadata": {},
     "output_type": "execute_result"
    }
   ],
   "source": [
    "emp2.show()"
   ]
  },
  {
   "cell_type": "code",
   "execution_count": 1,
   "id": "a3b73fab",
   "metadata": {},
   "outputs": [],
   "source": [
    "#multileve inheritance (51.00min)\n",
    "\n",
    "#Parent class:\n",
    "#:\n",
    "#:\n",
    "#child class -1 \n",
    "#:\n",
    "#:\n",
    "#child class- 2"
   ]
  },
  {
   "cell_type": "code",
   "execution_count": 2,
   "id": "6ab48a63",
   "metadata": {},
   "outputs": [],
   "source": [
    "#multi level\n",
    "\n",
    "class test1:  #parent class\n",
    "    def a(self):\n",
    "        print('Inside test1..')\n",
    "        \n",
    "class test2(test1): #child1\n",
    "    def b(self):\n",
    "        print('Inside test2..')\n",
    "        \n",
    "class test3(test2): #child2\n",
    "    def c(self):\n",
    "        print('Inside test3')\n",
    "        "
   ]
  },
  {
   "cell_type": "code",
   "execution_count": 3,
   "id": "c27b4f9f",
   "metadata": {},
   "outputs": [],
   "source": [
    "t1 = test3()"
   ]
  },
  {
   "cell_type": "code",
   "execution_count": 4,
   "id": "b753eb33",
   "metadata": {},
   "outputs": [
    {
     "name": "stdout",
     "output_type": "stream",
     "text": [
      "Inside test1..\n"
     ]
    }
   ],
   "source": [
    "t1.a()"
   ]
  },
  {
   "cell_type": "markdown",
   "id": "a0e8a0e8",
   "metadata": {},
   "source": [
    "### Inheritance comes into picture where we want to reuse the code from different classes\n",
    "\n",
    "- Private variables can't be inheritated to child class.\n",
    "- Protected variables can be accessed in both parent class or subclass (child class)"
   ]
  },
  {
   "cell_type": "code",
   "execution_count": 5,
   "id": "95067077",
   "metadata": {},
   "outputs": [],
   "source": [
    "class Vehicle:\n",
    "    def info(self):\n",
    "        print('Inside vehicle class')\n",
    "        \n",
    "class Car(Vehicle):\n",
    "    def car_info(self):\n",
    "        print('Inside car class')\n",
    "        \n",
    "class sportcar(Car):\n",
    "    def sportscar(self):\n",
    "        print('Inside sports car')\n",
    "        \n",
    "        "
   ]
  },
  {
   "cell_type": "code",
   "execution_count": 6,
   "id": "8c1f9334",
   "metadata": {},
   "outputs": [],
   "source": [
    "s1 = sportcar()"
   ]
  },
  {
   "cell_type": "code",
   "execution_count": 7,
   "id": "15974234",
   "metadata": {},
   "outputs": [
    {
     "name": "stdout",
     "output_type": "stream",
     "text": [
      "Inside car class\n"
     ]
    }
   ],
   "source": [
    "s1.car_info()"
   ]
  },
  {
   "cell_type": "code",
   "execution_count": 1,
   "id": "fddbe25b",
   "metadata": {},
   "outputs": [],
   "source": [
    "#super() method is used to inherite the attribute from parent class\n",
    "class Phones:\n",
    "    def __init__(self,brand,model,price):\n",
    "        self.brand = brand\n",
    "        self.model=model\n",
    "        self.price=price\n",
    "        \n",
    "    def spects(self):\n",
    "        return ('brand',self.brand,'price',self.price)\n",
    "    \n",
    "    def typeofphone(self):\n",
    "        if self.price>25000:\n",
    "            return 'This is a budget phone'\n",
    "        else:\n",
    "            return 'this is mid range phone'\n",
    "        \n",
    "class Smartphone(Phones):\n",
    "    def __init__(self,brand,model,price,ram,storage):\n",
    "        super().__init__(brand,model,price) #initialising 'brand','model','price' from the parent class\n",
    "        self.ram=ram\n",
    "        self.storage=storage\n",
    "   \n",
    "class Flagshipphone(Smartphone):\n",
    "    def __init__(self,brand,model,price,ram,storage,frontcamera,backcamera,display):\n",
    "        super().__init__(brand,model,price,ram,storage)\n",
    "        self.frontcamera=frontcamera\n",
    "        self.backcamera=backcamera\n",
    "        self.display=display\n",
    "        \n",
    "            \n",
    "            \n",
    "    \n",
    "        "
   ]
  },
  {
   "cell_type": "code",
   "execution_count": 2,
   "id": "aedf027c",
   "metadata": {},
   "outputs": [
    {
     "ename": "TypeError",
     "evalue": "__init__() missing 8 required positional arguments: 'brand', 'model', 'price', 'ram', 'storage', 'frontcamera', 'backcamera', and 'display'",
     "output_type": "error",
     "traceback": [
      "\u001b[1;31m---------------------------------------------------------------------------\u001b[0m",
      "\u001b[1;31mTypeError\u001b[0m                                 Traceback (most recent call last)",
      "\u001b[1;32m~\\AppData\\Local\\Temp/ipykernel_6304/1027871418.py\u001b[0m in \u001b[0;36m<module>\u001b[1;34m\u001b[0m\n\u001b[1;32m----> 1\u001b[1;33m \u001b[0mp1\u001b[0m \u001b[1;33m=\u001b[0m \u001b[0mFlagshipphone\u001b[0m\u001b[1;33m(\u001b[0m\u001b[1;33m)\u001b[0m\u001b[1;33m\u001b[0m\u001b[1;33m\u001b[0m\u001b[0m\n\u001b[0m",
      "\u001b[1;31mTypeError\u001b[0m: __init__() missing 8 required positional arguments: 'brand', 'model', 'price', 'ram', 'storage', 'frontcamera', 'backcamera', and 'display'"
     ]
    }
   ],
   "source": [
    "p1 = Flagshipphone()"
   ]
  },
  {
   "cell_type": "code",
   "execution_count": 3,
   "id": "3f84d89e",
   "metadata": {},
   "outputs": [],
   "source": [
    "p2 = Flagshipphone('samsung','s3',60000,120,60,'yes','yes','yes')"
   ]
  },
  {
   "cell_type": "code",
   "execution_count": 4,
   "id": "53b4e045",
   "metadata": {},
   "outputs": [
    {
     "data": {
      "text/plain": [
       "('brand', 'samsung', 'price', 60000)"
      ]
     },
     "execution_count": 4,
     "metadata": {},
     "output_type": "execute_result"
    }
   ],
   "source": [
    "p2.spects()"
   ]
  },
  {
   "cell_type": "code",
   "execution_count": 5,
   "id": "284a3e52",
   "metadata": {},
   "outputs": [
    {
     "data": {
      "text/plain": [
       "'This is a budget phone'"
      ]
     },
     "execution_count": 5,
     "metadata": {},
     "output_type": "execute_result"
    }
   ],
   "source": [
    "p2.typeofphone()"
   ]
  },
  {
   "cell_type": "code",
   "execution_count": 6,
   "id": "ca6a6f3c",
   "metadata": {},
   "outputs": [
    {
     "data": {
      "text/plain": [
       "'yes'"
      ]
     },
     "execution_count": 6,
     "metadata": {},
     "output_type": "execute_result"
    }
   ],
   "source": [
    "p2.frontcamera"
   ]
  },
  {
   "cell_type": "code",
   "execution_count": 7,
   "id": "5beb716b",
   "metadata": {},
   "outputs": [],
   "source": [
    "#Hirarical inheritance (1:30min)\n",
    "#One parent class is inherited in multiple child classes\n",
    "\n",
    "class Vehicle:\n",
    "    def info(self):\n",
    "        print('This is vehicle')\n",
    "        \n",
    "class Car(Vehicle):\n",
    "    def car_info(self,name):\n",
    "        print('Car name ',name)\n",
    "        \n",
    "class Truck(Vehicle):\n",
    "    def truck_info(self,name):\n",
    "        print('Truck name',name)\n",
    "    \n",
    "        \n",
    "\n"
   ]
  },
  {
   "cell_type": "code",
   "execution_count": 8,
   "id": "b795f8f1",
   "metadata": {},
   "outputs": [],
   "source": [
    "s1 = Car()"
   ]
  },
  {
   "cell_type": "code",
   "execution_count": 9,
   "id": "dc9c19b0",
   "metadata": {},
   "outputs": [
    {
     "name": "stdout",
     "output_type": "stream",
     "text": [
      "This is vehicle\n"
     ]
    }
   ],
   "source": [
    "s1.info()"
   ]
  },
  {
   "cell_type": "code",
   "execution_count": 12,
   "id": "ff21d019",
   "metadata": {},
   "outputs": [
    {
     "name": "stdout",
     "output_type": "stream",
     "text": [
      "Car name  BMW\n"
     ]
    }
   ],
   "source": [
    "s1.car_info('BMW')"
   ]
  },
  {
   "cell_type": "code",
   "execution_count": 10,
   "id": "9e01ed70",
   "metadata": {},
   "outputs": [],
   "source": [
    "t1 = Truck()"
   ]
  },
  {
   "cell_type": "code",
   "execution_count": 11,
   "id": "683b2a32",
   "metadata": {},
   "outputs": [
    {
     "name": "stdout",
     "output_type": "stream",
     "text": [
      "Truck name priya\n"
     ]
    }
   ],
   "source": [
    "t1.truck_info('priya')"
   ]
  },
  {
   "cell_type": "code",
   "execution_count": 22,
   "id": "55ed8059",
   "metadata": {},
   "outputs": [],
   "source": [
    "#Hirarical inheritance (1:30min)\n",
    "#One parent class is inherited in multiple child classes\n",
    "\n",
    "class Vehicle:\n",
    "    def info(self):\n",
    "        print('This is vehicle')\n",
    "        \n",
    "class Car(Vehicle):\n",
    "    def __init__(self,name):\n",
    "        self.name=name\n",
    "    def car_info(self,name):\n",
    "        print('Car name ',self.name)\n",
    "        \n",
    "class Truck(Vehicle):\n",
    "    def __init__(self,name):\n",
    "        self.name=name\n",
    "    def truck_info(self,name):\n",
    "        print('Truck name',self.name)\n",
    "    \n",
    "        \n",
    "\n"
   ]
  },
  {
   "cell_type": "code",
   "execution_count": 19,
   "id": "901a96ab",
   "metadata": {},
   "outputs": [],
   "source": [
    "s2 = Car('BMW')"
   ]
  },
  {
   "cell_type": "code",
   "execution_count": 20,
   "id": "76e64da3",
   "metadata": {},
   "outputs": [
    {
     "name": "stdout",
     "output_type": "stream",
     "text": [
      "Car name  BMW\n"
     ]
    }
   ],
   "source": [
    "s2.car_info('BMW')"
   ]
  },
  {
   "cell_type": "code",
   "execution_count": 23,
   "id": "6f308c89",
   "metadata": {},
   "outputs": [],
   "source": [
    "t2=Truck('Rodio')"
   ]
  },
  {
   "cell_type": "code",
   "execution_count": 26,
   "id": "260f1538",
   "metadata": {},
   "outputs": [
    {
     "name": "stdout",
     "output_type": "stream",
     "text": [
      "Truck name Rodio\n"
     ]
    }
   ],
   "source": [
    "t2.truck_info('Rodio')"
   ]
  },
  {
   "cell_type": "code",
   "execution_count": 30,
   "id": "4c7b4361",
   "metadata": {},
   "outputs": [],
   "source": [
    "#hybrid inheritance\n",
    "\n",
    "#The child class can be derived from multiple other child classes and the parent class\n",
    "#hybid is the combination of all above inheritance discussed\n",
    "\n",
    "#Hirarical inheritance (1:30min)\n",
    "#One parent class is inherited in multiple child classes\n",
    "\n",
    "class Vehicle:\n",
    "    def info(self):\n",
    "        print('This is vehicle')\n",
    "        \n",
    "class Car(Vehicle):\n",
    "    def car_info(self,name):\n",
    "        print('Car name ',name)\n",
    "        \n",
    "class Truck(Vehicle):\n",
    "    def truck_info(self,name):\n",
    "        print('Truck name',name)\n",
    "    \n",
    "class Sportscar(Car,Vehicle): #hybrid\n",
    "    def sportscar(self):\n",
    "        print('Inside from sports class')\n",
    "\n"
   ]
  },
  {
   "cell_type": "code",
   "execution_count": 31,
   "id": "e7177a0a",
   "metadata": {},
   "outputs": [],
   "source": [
    "s3=Sportscar()"
   ]
  },
  {
   "cell_type": "code",
   "execution_count": 33,
   "id": "fdcaba78",
   "metadata": {},
   "outputs": [
    {
     "name": "stdout",
     "output_type": "stream",
     "text": [
      "Car name  BMK\n"
     ]
    }
   ],
   "source": [
    "s3.car_info('BMK')"
   ]
  },
  {
   "cell_type": "markdown",
   "id": "99bc719b",
   "metadata": {},
   "source": [
    "- Super method is used when we need to built the classes that extent the functionality of previously built classes (means to update the functionality of prevously built classes or parent class) \n",
    "- Super fuction in python is used to access methods of immediate parent class"
   ]
  },
  {
   "cell_type": "code",
   "execution_count": 1,
   "id": "adca27f8",
   "metadata": {},
   "outputs": [],
   "source": [
    "class Company:\n",
    "    def company_name(self):\n",
    "        return 'ineuron'\n",
    "    \n",
    "class Employee(Company):\n",
    "    def info(self):\n",
    "        c_name = super().company_name() # by using super method we can access parent methods\n",
    "        print('I work at ',c_name)"
   ]
  },
  {
   "cell_type": "code",
   "execution_count": 2,
   "id": "a26d2379",
   "metadata": {},
   "outputs": [],
   "source": [
    "emp=Employee()"
   ]
  },
  {
   "cell_type": "code",
   "execution_count": 3,
   "id": "b5da00cb",
   "metadata": {},
   "outputs": [
    {
     "data": {
      "text/plain": [
       "'ineuron'"
      ]
     },
     "execution_count": 3,
     "metadata": {},
     "output_type": "execute_result"
    }
   ],
   "source": [
    "emp.company_name()"
   ]
  },
  {
   "cell_type": "code",
   "execution_count": 4,
   "id": "e5b54bf9",
   "metadata": {},
   "outputs": [
    {
     "name": "stdout",
     "output_type": "stream",
     "text": [
      "I work at  ineuron\n"
     ]
    }
   ],
   "source": [
    "emp.info()"
   ]
  },
  {
   "cell_type": "markdown",
   "id": "06386782",
   "metadata": {},
   "source": [
    "- when you initialize a child class in pyhon you can call super().__init__() method this initialize the parent class objects/ Attributes into child class"
   ]
  },
  {
   "cell_type": "code",
   "execution_count": 15,
   "id": "f0d057f1",
   "metadata": {},
   "outputs": [],
   "source": [
    "class Parent:\n",
    "    def __init__(self,v1,v2):\n",
    "        self.v1=v1\n",
    "        self.v2=v2\n",
    "        \n",
    "class child(Parent):\n",
    "    def __init__(self,v1,v2,v3):\n",
    "        super().__init__(v1,v2)\n",
    "        self.v3=v3\n",
    "        "
   ]
  },
  {
   "cell_type": "code",
   "execution_count": 16,
   "id": "0e292837",
   "metadata": {},
   "outputs": [],
   "source": [
    "c1=child(1,2,3)"
   ]
  },
  {
   "cell_type": "code",
   "execution_count": 17,
   "id": "362ae6b1",
   "metadata": {},
   "outputs": [
    {
     "data": {
      "text/plain": [
       "1"
      ]
     },
     "execution_count": 17,
     "metadata": {},
     "output_type": "execute_result"
    }
   ],
   "source": [
    "c1.v1"
   ]
  },
  {
   "cell_type": "code",
   "execution_count": null,
   "id": "b9c60e60",
   "metadata": {},
   "outputs": [],
   "source": [
    "#syntax\n",
    "\n",
    "class classname(parentclass):\n",
    "    def method(self,arg):\n",
    "        super([classname],[self]).method(args)"
   ]
  },
  {
   "cell_type": "code",
   "execution_count": 24,
   "id": "eef9a77c",
   "metadata": {},
   "outputs": [],
   "source": [
    "class Parent:\n",
    "    def __init__(self):\n",
    "        print('This is the parent class')\n",
    "        \n",
    "class Parent1:\n",
    "    def __init__(self):\n",
    "        print('This is the parent class 1')\n",
    "        \n",
    "class Parent2:\n",
    "    def __init__(self):\n",
    "        print('This is the parent class 2')\n",
    "        \n",
    "class Child(Parent1,Parent2,Parent):\n",
    "    def __init__(self):\n",
    "        super().__init__()"
   ]
  },
  {
   "cell_type": "code",
   "execution_count": 25,
   "id": "7465e3ff",
   "metadata": {},
   "outputs": [
    {
     "name": "stdout",
     "output_type": "stream",
     "text": [
      "This is the parent class 1\n"
     ]
    }
   ],
   "source": [
    "t1=Child() #It is initilising the attributes for the immediate parent class"
   ]
  },
  {
   "cell_type": "code",
   "execution_count": 27,
   "id": "d4ae9c30",
   "metadata": {},
   "outputs": [],
   "source": [
    "class Parent:\n",
    "    def __init__(self):\n",
    "        print('This is the parent class')\n",
    "        \n",
    "class Parent1:\n",
    "    def __init__(self):\n",
    "        print('This is the parent class 1')\n",
    "        \n",
    "class Parent2:\n",
    "    def __init__(self):\n",
    "        print('This is the parent class 2')\n",
    "        \n",
    "class Child(Parent1,Parent2,Parent):\n",
    "    def __init__(self):\n",
    "        super(Child,self).__init__()"
   ]
  },
  {
   "cell_type": "code",
   "execution_count": 28,
   "id": "0c0c1652",
   "metadata": {},
   "outputs": [
    {
     "name": "stdout",
     "output_type": "stream",
     "text": [
      "This is the parent class 1\n"
     ]
    }
   ],
   "source": [
    "t1=Child()"
   ]
  },
  {
   "cell_type": "code",
   "execution_count": null,
   "id": "008420f2",
   "metadata": {},
   "outputs": [],
   "source": []
  }
 ],
 "metadata": {
  "kernelspec": {
   "display_name": "Python 3 (ipykernel)",
   "language": "python",
   "name": "python3"
  },
  "language_info": {
   "codemirror_mode": {
    "name": "ipython",
    "version": 3
   },
   "file_extension": ".py",
   "mimetype": "text/x-python",
   "name": "python",
   "nbconvert_exporter": "python",
   "pygments_lexer": "ipython3",
   "version": "3.9.12"
  }
 },
 "nbformat": 4,
 "nbformat_minor": 5
}
