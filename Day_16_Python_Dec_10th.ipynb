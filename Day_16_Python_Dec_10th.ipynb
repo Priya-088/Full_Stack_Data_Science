{
 "cells": [
  {
   "cell_type": "markdown",
   "id": "0185f908",
   "metadata": {},
   "source": [
    "## Agenda\n",
    "\n",
    "- Logging and debugging\n",
    "\n",
    "log: A critical part o system documentation about runtime status of application\n",
    "\n",
    "Logging : Helps to track the events of the application\n",
    "logging is basically a module which helps us to track and moniter the application\n",
    "Logging is module which help us to track and record the log information\n",
    "\n",
    "Steps to follow while building application\n",
    "\n",
    "1. Development\n",
    "2. debugging\n",
    "3. review\n",
    "4. testing\n",
    "5. production\n",
    "\n",
    " module is python file"
   ]
  },
  {
   "cell_type": "code",
   "execution_count": 3,
   "id": "138df121",
   "metadata": {},
   "outputs": [
    {
     "name": "stdout",
     "output_type": "stream",
     "text": [
      "30\n",
      "10\n",
      "200\n",
      "2.0\n"
     ]
    }
   ],
   "source": [
    "#\n",
    "\n",
    "def add(x,y):\n",
    "    return x+y\n",
    "\n",
    "def subtract(x,y):\n",
    "    return x-y\n",
    "\n",
    "def multiply(x,y):\n",
    "    return x*y\n",
    "\n",
    "def divide(x,y):\n",
    "    return x/y\n",
    "\n",
    "num_1 = 20\n",
    "num_2 = 10\n",
    "\n",
    "add_result = add(num_1, num_2)\n",
    "print(add_result)  #tracking the result\n",
    "sub_result = subtract(num_1, num_2)\n",
    "print(sub_result)\n",
    "multiply_result = multiply(num_1, num_2)\n",
    "print(multiply_result)\n",
    "divide_result = divide(num_1, num_2)\n",
    "print(divide_result)"
   ]
  },
  {
   "cell_type": "code",
   "execution_count": 6,
   "id": "852c4176",
   "metadata": {},
   "outputs": [],
   "source": [
    "#using the logging in above code\n",
    "import logging\n",
    "logging.basicConfig() #we need to set the level, defaul level is info\n",
    "\n",
    "#10 - debug, 20 - Info, 30 - Warning, 40 - Error, 50- Criticasl\n",
    "\n",
    "def add(x,y):\n",
    "    return x+y\n",
    "\n",
    "def subtract(x,y):\n",
    "    return x-y\n",
    "\n",
    "def multiply(x,y):\n",
    "    return x*y\n",
    "\n",
    "def divide(x,y):\n",
    "    return x/y\n",
    "\n",
    "num_1 = 20\n",
    "num_2 = 10\n",
    "\n",
    "add_result = add(num_1, num_2)\n",
    "logging.debug(add_result)  #tracking the result\n",
    "sub_result = subtract(num_1, num_2)\n",
    "logging.debug(sub_result)\n",
    "multiply_result = multiply(num_1, num_2)\n",
    "logging.debug(multiply_result)\n",
    "divide_result = divide(num_1, num_2)\n",
    "logging.debug(divide_result)"
   ]
  },
  {
   "cell_type": "code",
   "execution_count": 10,
   "id": "14a5aa26",
   "metadata": {},
   "outputs": [],
   "source": [
    "#using the logging in above code\n",
    "import logging\n",
    "logging.basicConfig(filename='test.log',level=logging.DEBUG)\n",
    "\n",
    "#10 - debug, 20 - Info, 30 - Warning, 40 - Error, 50- Criticasl\n",
    "\n",
    "def add(x,y):\n",
    "    return x+y\n",
    "\n",
    "def subtract(x,y):\n",
    "    return x-y\n",
    "\n",
    "def multiply(x,y):\n",
    "    return x*y\n",
    "\n",
    "def divide(x,y):\n",
    "    return x/y\n",
    "\n",
    "num_1 = 20\n",
    "num_2 = 10\n",
    "\n",
    "add_result = add(num_1, num_2)\n",
    "logging.debug(add_result)  #tracking the result\n",
    "sub_result = subtract(num_1, num_2)\n",
    "logging.debug(sub_result)\n",
    "multiply_result = multiply(num_1, num_2)\n",
    "logging.debug(multiply_result)\n",
    "divide_result = divide(num_1, num_2)\n",
    "logging.debug(divide_result)"
   ]
  },
  {
   "cell_type": "code",
   "execution_count": 9,
   "id": "203adb2e",
   "metadata": {},
   "outputs": [
    {
     "data": {
      "text/plain": [
       "'C:\\\\Users\\\\hi\\\\Downloads\\\\Python for Data Science\\\\Full_Stack_DS'"
      ]
     },
     "execution_count": 9,
     "metadata": {},
     "output_type": "execute_result"
    }
   ],
   "source": [
    "pwd()"
   ]
  },
  {
   "cell_type": "code",
   "execution_count": 12,
   "id": "5ab6e8f7",
   "metadata": {},
   "outputs": [],
   "source": [
    "#using the logging in above code\n",
    "import logging\n",
    "logging.basicConfig(filename='test1.log',level=logging.INFO)\n",
    "\n",
    "#10 - debug, 20 - Info, 30 - Warning, 40 - Error, 50- Criticasl\n",
    "\n",
    "def add(x,y):\n",
    "    return x+y\n",
    "\n",
    "def subtract(x,y):\n",
    "    return x-y\n",
    "\n",
    "def multiply(x,y):\n",
    "    return x*y\n",
    "\n",
    "def divide(x,y):\n",
    "    return x/y\n",
    "\n",
    "num_1 = 20\n",
    "num_2 = 10\n",
    "\n",
    "add_result = add(num_1, num_2)\n",
    "logging.debug(add_result)  #tracking the result\n",
    "sub_result = subtract(num_1, num_2)\n",
    "logging.debug(sub_result)\n",
    "multiply_result = multiply(num_1, num_2)\n",
    "logging.debug(multiply_result)\n",
    "divide_result = divide(num_1, num_2)\n",
    "logging.debug(divide_result)"
   ]
  },
  {
   "cell_type": "markdown",
   "id": "a2556d31",
   "metadata": {},
   "source": [
    "Levels in logging\n",
    "- Debug\n",
    "- Info (information)\n",
    "- Warning\n",
    "- Error\n",
    "- Critical"
   ]
  },
  {
   "cell_type": "code",
   "execution_count": 4,
   "id": "4bbc60ae",
   "metadata": {},
   "outputs": [],
   "source": [
    "import logging"
   ]
  },
  {
   "cell_type": "code",
   "execution_count": 5,
   "id": "25225e51",
   "metadata": {},
   "outputs": [],
   "source": [
    "logging.info('this is info')"
   ]
  },
  {
   "cell_type": "code",
   "execution_count": 1,
   "id": "cf9ed410",
   "metadata": {},
   "outputs": [
    {
     "name": "stdout",
     "output_type": "stream",
     "text": [
      "valid name\n"
     ]
    }
   ],
   "source": [
    "import logging\n",
    "logging.basicConfig(filename='demo.log',level=logging.DEBUG)\n",
    "\n",
    "\n",
    "def namecheck(name):\n",
    "    if len(name)<2:\n",
    "        logging.debug('cheking for name lenght')\n",
    "        return 'Invalid name'\n",
    "    elif name.isspace():\n",
    "        logging.debug('checking for name has space')\n",
    "        return 'Invalid name'\n",
    "    elif name.isalpha():\n",
    "        logging.debug('checking for name is alphabet')\n",
    "        return 'valid name'\n",
    "    elif name.replace(' ','').isalpha():\n",
    "        logging.debug('checking for full name')\n",
    "        return 'name is valid'\n",
    "    else:\n",
    "        logging.debug('Failed all checks')\n",
    "        return 'Invalid name'\n",
    "    \n",
    "result = namecheck('Imran')\n",
    "print(result)\n",
    "    "
   ]
  },
  {
   "cell_type": "code",
   "execution_count": 14,
   "id": "b226bdd4",
   "metadata": {},
   "outputs": [
    {
     "name": "stdout",
     "output_type": "stream",
     "text": [
      "checking for name is alphabet\n"
     ]
    },
    {
     "data": {
      "text/plain": [
       "'valid name'"
      ]
     },
     "execution_count": 14,
     "metadata": {},
     "output_type": "execute_result"
    }
   ],
   "source": [
    "namecheck('Priya')"
   ]
  },
  {
   "cell_type": "code",
   "execution_count": 1,
   "id": "bdaab3ee",
   "metadata": {},
   "outputs": [
    {
     "name": "stdout",
     "output_type": "stream",
     "text": [
      "valid name\n"
     ]
    }
   ],
   "source": [
    "import logging\n",
    "logging.basicConfig(filename='test1.log',level=logging.DEBUG, format= '%(asctime)s - %(levelname)s - %(message)s')\n",
    "\n",
    "\n",
    "def namecheck(name):\n",
    "    if len(name)<2:\n",
    "        logging.debug('cheking for name lenght')\n",
    "        return 'Invalid name'\n",
    "    elif name.isspace():\n",
    "        logging.debug('checking for name has space')\n",
    "        return 'Invalid name'\n",
    "    elif name.isalpha():\n",
    "        logging.debug('checking for name is alphabet')\n",
    "        return 'valid name'\n",
    "    elif name.replace(' ','').isalpha():\n",
    "        logging.debug('checking for full name')\n",
    "        return 'name is valid'\n",
    "    else:\n",
    "        logging.debug('Failed all checks')\n",
    "        return 'Invalid name'\n",
    "    \n",
    "result = namecheck('Imran')\n",
    "print(result)\n",
    "    \n",
    "    "
   ]
  },
  {
   "cell_type": "code",
   "execution_count": null,
   "id": "cf2f0902",
   "metadata": {},
   "outputs": [],
   "source": [
    "#create a logger in the code, \n",
    "#create a function which can take any number of inputs as an arguments and it will return the summation of the numbers\n",
    "#capture user input in log file\n",
    "#read a log file from the python code and show it in the console"
   ]
  },
  {
   "cell_type": "code",
   "execution_count": 4,
   "id": "53b7848b",
   "metadata": {},
   "outputs": [
    {
     "data": {
      "text/plain": [
       "15"
      ]
     },
     "execution_count": 4,
     "metadata": {},
     "output_type": "execute_result"
    }
   ],
   "source": [
    "import logging\n",
    "logging.basicConfig(filename='test1.log',level=logging.DEBUG, format= '%(asctime)s - %(levelname)s - %(message)s')\n",
    "lst = [1,2,3,4,5]\n",
    "def sumation(l):\n",
    "    logging.debug('checking for the input')\n",
    "    return sum(l)\n",
    "\n",
    "sumation(lst)"
   ]
  },
  {
   "cell_type": "code",
   "execution_count": 2,
   "id": "941d5159",
   "metadata": {},
   "outputs": [
    {
     "name": "stdout",
     "output_type": "stream",
     "text": [
      "INFO:root:This is my addition function\n",
      "INFO:root:1\n",
      "INFO:root:2\n",
      "INFO:root:3\n",
      "INFO:root:4\n",
      "INFO:root:5\n",
      "\n"
     ]
    }
   ],
   "source": [
    "import logging as lg\n",
    "\n",
    "lg.basicConfig(filename='test3.log', level=lg.INFO)\n",
    "\n",
    "def addition(*args):\n",
    "    lg.info('This is my addition function')\n",
    "    sum1=0\n",
    "    for i in args:\n",
    "        lg.info(str(i))\n",
    "        sum1 = sum1+i\n",
    "    return sum1\n",
    "        \n",
    "addition(1,2,3,4,5)\n",
    "f = open('test3.log','r')\n",
    "print(f.read())"
   ]
  },
  {
   "cell_type": "code",
   "execution_count": null,
   "id": "e7fef72e",
   "metadata": {},
   "outputs": [],
   "source": []
  }
 ],
 "metadata": {
  "kernelspec": {
   "display_name": "Python 3 (ipykernel)",
   "language": "python",
   "name": "python3"
  },
  "language_info": {
   "codemirror_mode": {
    "name": "ipython",
    "version": 3
   },
   "file_extension": ".py",
   "mimetype": "text/x-python",
   "name": "python",
   "nbconvert_exporter": "python",
   "pygments_lexer": "ipython3",
   "version": "3.9.12"
  }
 },
 "nbformat": 4,
 "nbformat_minor": 5
}
