{
 "cells": [
  {
   "cell_type": "markdown",
   "id": "29090f9e",
   "metadata": {},
   "source": [
    "## Exception Handling"
   ]
  },
  {
   "cell_type": "markdown",
   "id": "5196bd77",
   "metadata": {},
   "source": [
    "How to handle errors - this is called expection\n",
    "Type of errors\n",
    "\n",
    "- Syntax errors (typing errors, mistakes in the code)\n",
    "- Logical errors (errors occuring during run time) (These can be handled by expections)\n",
    "  file not found\n",
    "  zero division error\n",
    "  input error\n",
    "  "
   ]
  },
  {
   "cell_type": "code",
   "execution_count": 1,
   "id": "b983f534",
   "metadata": {},
   "outputs": [
    {
     "ename": "IndentationError",
     "evalue": "unexpected indent (Temp/ipykernel_8280/4186825944.py, line 2)",
     "output_type": "error",
     "traceback": [
      "\u001b[1;36m  File \u001b[1;32m\"C:\\Users\\hi\\AppData\\Local\\Temp/ipykernel_8280/4186825944.py\"\u001b[1;36m, line \u001b[1;32m2\u001b[0m\n\u001b[1;33m    print('ineuron')\u001b[0m\n\u001b[1;37m    ^\u001b[0m\n\u001b[1;31mIndentationError\u001b[0m\u001b[1;31m:\u001b[0m unexpected indent\n"
     ]
    }
   ],
   "source": [
    "print('I write code')\n",
    "    print('ineuron')"
   ]
  },
  {
   "cell_type": "code",
   "execution_count": 2,
   "id": "ef118d4a",
   "metadata": {},
   "outputs": [
    {
     "ename": "SyntaxError",
     "evalue": "invalid syntax (Temp/ipykernel_8280/3877731753.py, line 1)",
     "output_type": "error",
     "traceback": [
      "\u001b[1;36m  File \u001b[1;32m\"C:\\Users\\hi\\AppData\\Local\\Temp/ipykernel_8280/3877731753.py\"\u001b[1;36m, line \u001b[1;32m1\u001b[0m\n\u001b[1;33m    if (a<10)\u001b[0m\n\u001b[1;37m             ^\u001b[0m\n\u001b[1;31mSyntaxError\u001b[0m\u001b[1;31m:\u001b[0m invalid syntax\n"
     ]
    }
   ],
   "source": [
    "if (a<10)\n",
    "    print('I code')"
   ]
  },
  {
   "cell_type": "code",
   "execution_count": 3,
   "id": "0cf8a5f6",
   "metadata": {},
   "outputs": [
    {
     "ename": "NameError",
     "evalue": "name 'a' is not defined",
     "output_type": "error",
     "traceback": [
      "\u001b[1;31m---------------------------------------------------------------------------\u001b[0m",
      "\u001b[1;31mNameError\u001b[0m                                 Traceback (most recent call last)",
      "\u001b[1;32m~\\AppData\\Local\\Temp/ipykernel_8280/986232339.py\u001b[0m in \u001b[0;36m<module>\u001b[1;34m\u001b[0m\n\u001b[1;32m----> 1\u001b[1;33m \u001b[0ma\u001b[0m\u001b[1;33m-\u001b[0m\u001b[1;36m10\u001b[0m\u001b[1;33m\u001b[0m\u001b[1;33m\u001b[0m\u001b[0m\n\u001b[0m",
      "\u001b[1;31mNameError\u001b[0m: name 'a' is not defined"
     ]
    }
   ],
   "source": [
    "a-10"
   ]
  },
  {
   "cell_type": "code",
   "execution_count": 4,
   "id": "8363c1f2",
   "metadata": {},
   "outputs": [
    {
     "ename": "ZeroDivisionError",
     "evalue": "division by zero",
     "output_type": "error",
     "traceback": [
      "\u001b[1;31m---------------------------------------------------------------------------\u001b[0m",
      "\u001b[1;31mZeroDivisionError\u001b[0m                         Traceback (most recent call last)",
      "\u001b[1;32m~\\AppData\\Local\\Temp/ipykernel_8280/2354412189.py\u001b[0m in \u001b[0;36m<module>\u001b[1;34m\u001b[0m\n\u001b[1;32m----> 1\u001b[1;33m \u001b[1;36m1\u001b[0m\u001b[1;33m/\u001b[0m\u001b[1;36m0\u001b[0m\u001b[1;33m\u001b[0m\u001b[1;33m\u001b[0m\u001b[0m\n\u001b[0m",
      "\u001b[1;31mZeroDivisionError\u001b[0m: division by zero"
     ]
    }
   ],
   "source": [
    "1/0  #logical error"
   ]
  },
  {
   "cell_type": "code",
   "execution_count": 5,
   "id": "425256cc",
   "metadata": {},
   "outputs": [
    {
     "ename": "FileNotFoundError",
     "evalue": "[Errno 2] No such file or directory: 'test.txt'",
     "output_type": "error",
     "traceback": [
      "\u001b[1;31m---------------------------------------------------------------------------\u001b[0m",
      "\u001b[1;31mFileNotFoundError\u001b[0m                         Traceback (most recent call last)",
      "\u001b[1;32m~\\AppData\\Local\\Temp/ipykernel_8280/1460582371.py\u001b[0m in \u001b[0;36m<module>\u001b[1;34m\u001b[0m\n\u001b[1;32m----> 1\u001b[1;33m \u001b[0mopen\u001b[0m\u001b[1;33m(\u001b[0m\u001b[1;34m'test.txt'\u001b[0m\u001b[1;33m)\u001b[0m\u001b[1;33m\u001b[0m\u001b[1;33m\u001b[0m\u001b[0m\n\u001b[0m",
      "\u001b[1;31mFileNotFoundError\u001b[0m: [Errno 2] No such file or directory: 'test.txt'"
     ]
    }
   ],
   "source": [
    "open('test.txt') #logical error"
   ]
  },
  {
   "cell_type": "code",
   "execution_count": 7,
   "id": "167c039a",
   "metadata": {},
   "outputs": [
    {
     "ename": "NameError",
     "evalue": "name 'c' is not defined",
     "output_type": "error",
     "traceback": [
      "\u001b[1;31m---------------------------------------------------------------------------\u001b[0m",
      "\u001b[1;31mNameError\u001b[0m                                 Traceback (most recent call last)",
      "\u001b[1;32m~\\AppData\\Local\\Temp/ipykernel_8280/3062761586.py\u001b[0m in \u001b[0;36m<module>\u001b[1;34m\u001b[0m\n\u001b[0;32m      1\u001b[0m \u001b[0ma\u001b[0m\u001b[1;33m=\u001b[0m\u001b[1;36m10\u001b[0m\u001b[1;33m\u001b[0m\u001b[1;33m\u001b[0m\u001b[0m\n\u001b[0;32m      2\u001b[0m \u001b[0mb\u001b[0m\u001b[1;33m=\u001b[0m\u001b[1;36m20\u001b[0m\u001b[1;33m\u001b[0m\u001b[1;33m\u001b[0m\u001b[0m\n\u001b[1;32m----> 3\u001b[1;33m \u001b[0mprint\u001b[0m\u001b[1;33m(\u001b[0m\u001b[1;34m\"Addition\"\u001b[0m\u001b[1;33m,\u001b[0m\u001b[0ma\u001b[0m\u001b[1;33m+\u001b[0m\u001b[0mc\u001b[0m\u001b[1;33m)\u001b[0m\u001b[1;33m\u001b[0m\u001b[1;33m\u001b[0m\u001b[0m\n\u001b[0m",
      "\u001b[1;31mNameError\u001b[0m: name 'c' is not defined"
     ]
    }
   ],
   "source": [
    "a=10\n",
    "b=20\n",
    "print(\"Addition\",a+c)"
   ]
  },
  {
   "cell_type": "markdown",
   "id": "12040f99",
   "metadata": {},
   "source": [
    "Refer to the type of expections documentation"
   ]
  },
  {
   "cell_type": "code",
   "execution_count": 9,
   "id": "4d59a75e",
   "metadata": {},
   "outputs": [
    {
     "name": "stdout",
     "output_type": "stream",
     "text": [
      "['ArithmeticError', 'AssertionError', 'AttributeError', 'BaseException', 'BlockingIOError', 'BrokenPipeError', 'BufferError', 'BytesWarning', 'ChildProcessError', 'ConnectionAbortedError', 'ConnectionError', 'ConnectionRefusedError', 'ConnectionResetError', 'DeprecationWarning', 'EOFError', 'Ellipsis', 'EnvironmentError', 'Exception', 'False', 'FileExistsError', 'FileNotFoundError', 'FloatingPointError', 'FutureWarning', 'GeneratorExit', 'IOError', 'ImportError', 'ImportWarning', 'IndentationError', 'IndexError', 'InterruptedError', 'IsADirectoryError', 'KeyError', 'KeyboardInterrupt', 'LookupError', 'MemoryError', 'ModuleNotFoundError', 'NameError', 'None', 'NotADirectoryError', 'NotImplemented', 'NotImplementedError', 'OSError', 'OverflowError', 'PendingDeprecationWarning', 'PermissionError', 'ProcessLookupError', 'RecursionError', 'ReferenceError', 'ResourceWarning', 'RuntimeError', 'RuntimeWarning', 'StopAsyncIteration', 'StopIteration', 'SyntaxError', 'SyntaxWarning', 'SystemError', 'SystemExit', 'TabError', 'TimeoutError', 'True', 'TypeError', 'UnboundLocalError', 'UnicodeDecodeError', 'UnicodeEncodeError', 'UnicodeError', 'UnicodeTranslateError', 'UnicodeWarning', 'UserWarning', 'ValueError', 'Warning', 'WindowsError', 'ZeroDivisionError', '__IPYTHON__', '__build_class__', '__debug__', '__doc__', '__import__', '__loader__', '__name__', '__package__', '__spec__', 'abs', 'all', 'any', 'ascii', 'bin', 'bool', 'breakpoint', 'bytearray', 'bytes', 'callable', 'chr', 'classmethod', 'compile', 'complex', 'copyright', 'credits', 'delattr', 'dict', 'dir', 'display', 'divmod', 'enumerate', 'eval', 'exec', 'filter', 'float', 'format', 'frozenset', 'get_ipython', 'getattr', 'globals', 'hasattr', 'hash', 'help', 'hex', 'id', 'input', 'int', 'isinstance', 'issubclass', 'iter', 'len', 'license', 'list', 'locals', 'map', 'max', 'memoryview', 'min', 'next', 'object', 'oct', 'open', 'ord', 'pow', 'print', 'property', 'range', 'repr', 'reversed', 'round', 'set', 'setattr', 'slice', 'sorted', 'staticmethod', 'str', 'sum', 'super', 'tuple', 'type', 'vars', 'zip']\n"
     ]
    }
   ],
   "source": [
    "print(dir(locals()['__builtins__']))"
   ]
  },
  {
   "cell_type": "markdown",
   "id": "7505526f",
   "metadata": {},
   "source": [
    "### Assertion Error\n",
    "used to debug the code"
   ]
  },
  {
   "cell_type": "code",
   "execution_count": 12,
   "id": "70b6a32a",
   "metadata": {},
   "outputs": [
    {
     "ename": "AssertionError",
     "evalue": "Invalid Operation",
     "output_type": "error",
     "traceback": [
      "\u001b[1;31m---------------------------------------------------------------------------\u001b[0m",
      "\u001b[1;31mAssertionError\u001b[0m                            Traceback (most recent call last)",
      "\u001b[1;32m~\\AppData\\Local\\Temp/ipykernel_8280/1758829374.py\u001b[0m in \u001b[0;36m<module>\u001b[1;34m\u001b[0m\n\u001b[0;32m      3\u001b[0m \u001b[0mx\u001b[0m\u001b[1;33m=\u001b[0m\u001b[1;36m1\u001b[0m\u001b[1;33m\u001b[0m\u001b[1;33m\u001b[0m\u001b[0m\n\u001b[0;32m      4\u001b[0m \u001b[0my\u001b[0m\u001b[1;33m=\u001b[0m\u001b[1;36m0\u001b[0m\u001b[1;33m\u001b[0m\u001b[1;33m\u001b[0m\u001b[0m\n\u001b[1;32m----> 5\u001b[1;33m \u001b[1;32massert\u001b[0m \u001b[0my\u001b[0m\u001b[1;33m!=\u001b[0m\u001b[1;36m0\u001b[0m\u001b[1;33m,\u001b[0m\u001b[1;34m'Invalid Operation'\u001b[0m\u001b[1;33m\u001b[0m\u001b[1;33m\u001b[0m\u001b[0m\n\u001b[0m\u001b[0;32m      6\u001b[0m \u001b[0mprint\u001b[0m\u001b[1;33m(\u001b[0m\u001b[0mx\u001b[0m\u001b[1;33m/\u001b[0m\u001b[0my\u001b[0m\u001b[1;33m)\u001b[0m\u001b[1;33m\u001b[0m\u001b[1;33m\u001b[0m\u001b[0m\n",
      "\u001b[1;31mAssertionError\u001b[0m: Invalid Operation"
     ]
    }
   ],
   "source": [
    "#used to debug the code\n",
    "#assert keyword which test if a condtion in your code return\n",
    "#if the condition in the code fails it throws assertion error\n",
    "x=1\n",
    "y=0\n",
    "assert y!=0,'Invalid Operation'\n",
    "print(x/y)"
   ]
  },
  {
   "cell_type": "code",
   "execution_count": 13,
   "id": "66145fc4",
   "metadata": {},
   "outputs": [
    {
     "name": "stdout",
     "output_type": "stream",
     "text": [
      "0.3333333333333333\n"
     ]
    }
   ],
   "source": [
    "x=1\n",
    "y=3\n",
    "assert y!=0,'Invalid Operation'\n",
    "print(x/y)"
   ]
  },
  {
   "cell_type": "markdown",
   "id": "2cef302d",
   "metadata": {},
   "source": [
    "### Atribute error/"
   ]
  },
  {
   "cell_type": "code",
   "execution_count": 14,
   "id": "a7d6cc68",
   "metadata": {},
   "outputs": [],
   "source": [
    "y=10"
   ]
  },
  {
   "cell_type": "code",
   "execution_count": 16,
   "id": "63cce71f",
   "metadata": {},
   "outputs": [
    {
     "ename": "AttributeError",
     "evalue": "'int' object has no attribute 'append'",
     "output_type": "error",
     "traceback": [
      "\u001b[1;31m---------------------------------------------------------------------------\u001b[0m",
      "\u001b[1;31mAttributeError\u001b[0m                            Traceback (most recent call last)",
      "\u001b[1;32m~\\AppData\\Local\\Temp/ipykernel_8280/2439508427.py\u001b[0m in \u001b[0;36m<module>\u001b[1;34m\u001b[0m\n\u001b[1;32m----> 1\u001b[1;33m \u001b[0my\u001b[0m\u001b[1;33m.\u001b[0m\u001b[0mappend\u001b[0m\u001b[1;33m(\u001b[0m\u001b[1;36m6\u001b[0m\u001b[1;33m)\u001b[0m \u001b[1;31m#'y' does not support append method\u001b[0m\u001b[1;33m\u001b[0m\u001b[1;33m\u001b[0m\u001b[0m\n\u001b[0m",
      "\u001b[1;31mAttributeError\u001b[0m: 'int' object has no attribute 'append'"
     ]
    }
   ],
   "source": [
    "y.append(6) #'y' does not support append method"
   ]
  },
  {
   "cell_type": "markdown",
   "id": "5f5e724d",
   "metadata": {},
   "source": [
    "## Index error"
   ]
  },
  {
   "cell_type": "code",
   "execution_count": 17,
   "id": "31377b7e",
   "metadata": {},
   "outputs": [],
   "source": [
    "mylist = [1,2,3,4,5,6,7,8]\n"
   ]
  },
  {
   "cell_type": "code",
   "execution_count": 18,
   "id": "ce4714ff",
   "metadata": {},
   "outputs": [
    {
     "ename": "IndexError",
     "evalue": "list index out of range",
     "output_type": "error",
     "traceback": [
      "\u001b[1;31m---------------------------------------------------------------------------\u001b[0m",
      "\u001b[1;31mIndexError\u001b[0m                                Traceback (most recent call last)",
      "\u001b[1;32m~\\AppData\\Local\\Temp/ipykernel_8280/1722322353.py\u001b[0m in \u001b[0;36m<module>\u001b[1;34m\u001b[0m\n\u001b[1;32m----> 1\u001b[1;33m \u001b[0mmylist\u001b[0m\u001b[1;33m[\u001b[0m\u001b[1;36m10\u001b[0m\u001b[1;33m]\u001b[0m\u001b[1;33m\u001b[0m\u001b[1;33m\u001b[0m\u001b[0m\n\u001b[0m",
      "\u001b[1;31mIndexError\u001b[0m: list index out of range"
     ]
    }
   ],
   "source": [
    "mylist[10]  #fetching out of range values"
   ]
  },
  {
   "cell_type": "markdown",
   "id": "6313b4a1",
   "metadata": {},
   "source": [
    "## Key error"
   ]
  },
  {
   "cell_type": "code",
   "execution_count": 19,
   "id": "b455cfbb",
   "metadata": {},
   "outputs": [],
   "source": [
    "mydict = {'name':'priya','course':'python'}"
   ]
  },
  {
   "cell_type": "code",
   "execution_count": 20,
   "id": "055625a5",
   "metadata": {},
   "outputs": [
    {
     "ename": "KeyError",
     "evalue": "'age'",
     "output_type": "error",
     "traceback": [
      "\u001b[1;31m---------------------------------------------------------------------------\u001b[0m",
      "\u001b[1;31mKeyError\u001b[0m                                  Traceback (most recent call last)",
      "\u001b[1;32m~\\AppData\\Local\\Temp/ipykernel_8280/3082226057.py\u001b[0m in \u001b[0;36m<module>\u001b[1;34m\u001b[0m\n\u001b[1;32m----> 1\u001b[1;33m \u001b[0mmydict\u001b[0m\u001b[1;33m[\u001b[0m\u001b[1;34m'age'\u001b[0m\u001b[1;33m]\u001b[0m\u001b[1;33m\u001b[0m\u001b[1;33m\u001b[0m\u001b[0m\n\u001b[0m",
      "\u001b[1;31mKeyError\u001b[0m: 'age'"
     ]
    }
   ],
   "source": [
    "mydict['age']"
   ]
  },
  {
   "cell_type": "markdown",
   "id": "af7c4351",
   "metadata": {},
   "source": [
    "## Name error"
   ]
  },
  {
   "cell_type": "code",
   "execution_count": 21,
   "id": "9f005053",
   "metadata": {},
   "outputs": [
    {
     "ename": "NameError",
     "evalue": "name 'm' is not defined",
     "output_type": "error",
     "traceback": [
      "\u001b[1;31m---------------------------------------------------------------------------\u001b[0m",
      "\u001b[1;31mNameError\u001b[0m                                 Traceback (most recent call last)",
      "\u001b[1;32m~\\AppData\\Local\\Temp/ipykernel_8280/283096461.py\u001b[0m in \u001b[0;36m<module>\u001b[1;34m\u001b[0m\n\u001b[1;32m----> 1\u001b[1;33m \u001b[0mprint\u001b[0m\u001b[1;33m(\u001b[0m\u001b[0mm\u001b[0m\u001b[1;33m)\u001b[0m\u001b[1;33m\u001b[0m\u001b[1;33m\u001b[0m\u001b[0m\n\u001b[0m",
      "\u001b[1;31mNameError\u001b[0m: name 'm' is not defined"
     ]
    }
   ],
   "source": [
    "print(m)  #m is not defined"
   ]
  },
  {
   "cell_type": "markdown",
   "id": "32e61b9c",
   "metadata": {},
   "source": [
    "## Value error"
   ]
  },
  {
   "cell_type": "code",
   "execution_count": 22,
   "id": "cb37ba48",
   "metadata": {},
   "outputs": [],
   "source": [
    "import math"
   ]
  },
  {
   "cell_type": "code",
   "execution_count": 23,
   "id": "bd8ea5a0",
   "metadata": {},
   "outputs": [
    {
     "ename": "ValueError",
     "evalue": "math domain error",
     "output_type": "error",
     "traceback": [
      "\u001b[1;31m---------------------------------------------------------------------------\u001b[0m",
      "\u001b[1;31mValueError\u001b[0m                                Traceback (most recent call last)",
      "\u001b[1;32m~\\AppData\\Local\\Temp/ipykernel_8280/3232150687.py\u001b[0m in \u001b[0;36m<module>\u001b[1;34m\u001b[0m\n\u001b[1;32m----> 1\u001b[1;33m \u001b[0mmath\u001b[0m\u001b[1;33m.\u001b[0m\u001b[0msqrt\u001b[0m\u001b[1;33m(\u001b[0m\u001b[1;33m-\u001b[0m\u001b[1;36m200\u001b[0m\u001b[1;33m)\u001b[0m\u001b[1;33m\u001b[0m\u001b[1;33m\u001b[0m\u001b[0m\n\u001b[0m",
      "\u001b[1;31mValueError\u001b[0m: math domain error"
     ]
    }
   ],
   "source": [
    "math.sqrt(-200) #sqrt takes positive integer"
   ]
  },
  {
   "cell_type": "markdown",
   "id": "d284ba81",
   "metadata": {},
   "source": [
    "## How to handle errors??"
   ]
  },
  {
   "cell_type": "code",
   "execution_count": 25,
   "id": "8f63ae9d",
   "metadata": {},
   "outputs": [
    {
     "name": "stdout",
     "output_type": "stream",
     "text": [
      "5\n"
     ]
    },
    {
     "data": {
      "text/plain": [
       "1.2"
      ]
     },
     "execution_count": 25,
     "metadata": {},
     "output_type": "execute_result"
    }
   ],
   "source": [
    "a=6\n",
    "b=int(input())\n",
    "a/b"
   ]
  },
  {
   "cell_type": "code",
   "execution_count": 26,
   "id": "f5a4cd39",
   "metadata": {},
   "outputs": [
    {
     "name": "stdout",
     "output_type": "stream",
     "text": [
      "0\n"
     ]
    },
    {
     "ename": "ZeroDivisionError",
     "evalue": "division by zero",
     "output_type": "error",
     "traceback": [
      "\u001b[1;31m---------------------------------------------------------------------------\u001b[0m",
      "\u001b[1;31mZeroDivisionError\u001b[0m                         Traceback (most recent call last)",
      "\u001b[1;32m~\\AppData\\Local\\Temp/ipykernel_8280/1991476413.py\u001b[0m in \u001b[0;36m<module>\u001b[1;34m\u001b[0m\n\u001b[0;32m      1\u001b[0m \u001b[0ma\u001b[0m\u001b[1;33m=\u001b[0m\u001b[1;36m6\u001b[0m\u001b[1;33m\u001b[0m\u001b[1;33m\u001b[0m\u001b[0m\n\u001b[0;32m      2\u001b[0m \u001b[0mb\u001b[0m\u001b[1;33m=\u001b[0m\u001b[0mint\u001b[0m\u001b[1;33m(\u001b[0m\u001b[0minput\u001b[0m\u001b[1;33m(\u001b[0m\u001b[1;33m)\u001b[0m\u001b[1;33m)\u001b[0m\u001b[1;33m\u001b[0m\u001b[1;33m\u001b[0m\u001b[0m\n\u001b[1;32m----> 3\u001b[1;33m \u001b[0ma\u001b[0m\u001b[1;33m/\u001b[0m\u001b[0mb\u001b[0m\u001b[1;33m\u001b[0m\u001b[1;33m\u001b[0m\u001b[0m\n\u001b[0m",
      "\u001b[1;31mZeroDivisionError\u001b[0m: division by zero"
     ]
    }
   ],
   "source": [
    "a=6\n",
    "b=int(input())\n",
    "a/b"
   ]
  },
  {
   "cell_type": "markdown",
   "id": "41bc2c55",
   "metadata": {},
   "source": [
    "Handling expections, different blocks\n",
    "\n",
    "- try\n",
    "- expect\n",
    "- else\n",
    "- finally\n"
   ]
  },
  {
   "cell_type": "code",
   "execution_count": 27,
   "id": "a1ce8038",
   "metadata": {},
   "outputs": [
    {
     "name": "stdout",
     "output_type": "stream",
     "text": [
      "cant divide with zero provide a different number\n"
     ]
    }
   ],
   "source": [
    "try:  #inside try we add critical code\n",
    "    a=10\n",
    "    b=0\n",
    "    c=a/b\n",
    "    print(c)\n",
    "except:  #if try blocks gives error then except will execute\n",
    "    print('cant divide with zero provide a different number')"
   ]
  },
  {
   "cell_type": "code",
   "execution_count": 28,
   "id": "5812186e",
   "metadata": {},
   "outputs": [
    {
     "name": "stdout",
     "output_type": "stream",
     "text": [
      "1.6666666666666667\n"
     ]
    }
   ],
   "source": [
    "try:  #inside try we add critical code\n",
    "    a=10\n",
    "    b=6\n",
    "    c=a/b\n",
    "    print(c)\n",
    "except:  #if try blocks gives error then except will execute\n",
    "    print('cant divide with zero provide a different number')"
   ]
  },
  {
   "cell_type": "code",
   "execution_count": 29,
   "id": "76b38bfe",
   "metadata": {},
   "outputs": [
    {
     "name": "stdout",
     "output_type": "stream",
     "text": [
      "there was mistake\n",
      "this is outer block\n"
     ]
    }
   ],
   "source": [
    "try:\n",
    "    f = open('test.txt','r')\n",
    "    f.write('ineuron')\n",
    "except:\n",
    "    print('there was mistake')\n",
    "    \n",
    "print('this is outer block')\n",
    "    "
   ]
  },
  {
   "cell_type": "code",
   "execution_count": 30,
   "id": "129061f4",
   "metadata": {},
   "outputs": [
    {
     "ename": "SyntaxError",
     "evalue": "unexpected EOF while parsing (Temp/ipykernel_8280/2724278769.py, line 1)",
     "output_type": "error",
     "traceback": [
      "\u001b[1;36m  File \u001b[1;32m\"C:\\Users\\hi\\AppData\\Local\\Temp/ipykernel_8280/2724278769.py\"\u001b[1;36m, line \u001b[1;32m1\u001b[0m\n\u001b[1;33m    f = open('test.txt','r'\u001b[0m\n\u001b[1;37m                           ^\u001b[0m\n\u001b[1;31mSyntaxError\u001b[0m\u001b[1;31m:\u001b[0m unexpected EOF while parsing\n"
     ]
    }
   ],
   "source": [
    "f = open('test.txt','r'"
   ]
  },
  {
   "cell_type": "code",
   "execution_count": 31,
   "id": "7a1d9dbd",
   "metadata": {},
   "outputs": [
    {
     "name": "stdout",
     "output_type": "stream",
     "text": [
      "[4, 5, 6, 7, 8, 9, 9]\n",
      "[4, 5, 6, 7, 8, 9, 9]\n",
      "[4, 5, 6, 7, 8, 9, 9]\n",
      "[4, 5, 6, 7, 8, 9, 9]\n",
      "[4, 5, 6, 7, 8, 9, 9]\n",
      "[4, 5, 6, 7, 8, 9, 9]\n",
      "[4, 5, 6, 7, 8, 9, 9]\n"
     ]
    }
   ],
   "source": [
    "l=[4,5,6,7,8,9,9]\n",
    "\n",
    "try:\n",
    "    for i in range(len(l)):\n",
    "        print(l)\n",
    "        \n",
    "except:\n",
    "    print('this is not working')\n",
    "    "
   ]
  },
  {
   "cell_type": "code",
   "execution_count": 33,
   "id": "96210ac9",
   "metadata": {},
   "outputs": [
    {
     "name": "stdout",
     "output_type": "stream",
     "text": [
      "4\n",
      "5\n",
      "6\n",
      "7\n",
      "8\n",
      "9\n",
      "9\n",
      "this is not working\n"
     ]
    }
   ],
   "source": [
    "l=[4,5,6,7,8,9,9]\n",
    "\n",
    "try:\n",
    "    for i in range(len(l)+1):\n",
    "        print(l[i])\n",
    "        \n",
    "except:\n",
    "    print('this is not working')\n",
    "    "
   ]
  },
  {
   "cell_type": "code",
   "execution_count": 34,
   "id": "b342e7f8",
   "metadata": {},
   "outputs": [
    {
     "name": "stdout",
     "output_type": "stream",
     "text": [
      "4\n",
      "5\n",
      "6\n",
      "7\n",
      "8\n",
      "9\n",
      "9\n"
     ]
    },
    {
     "ename": "IndexError",
     "evalue": "list index out of range",
     "output_type": "error",
     "traceback": [
      "\u001b[1;31m---------------------------------------------------------------------------\u001b[0m",
      "\u001b[1;31mIndexError\u001b[0m                                Traceback (most recent call last)",
      "\u001b[1;32m~\\AppData\\Local\\Temp/ipykernel_8280/3433458306.py\u001b[0m in \u001b[0;36m<module>\u001b[1;34m\u001b[0m\n\u001b[0;32m      3\u001b[0m \u001b[1;33m\u001b[0m\u001b[0m\n\u001b[0;32m      4\u001b[0m \u001b[1;32mfor\u001b[0m \u001b[0mi\u001b[0m \u001b[1;32min\u001b[0m \u001b[0mrange\u001b[0m\u001b[1;33m(\u001b[0m\u001b[0mlen\u001b[0m\u001b[1;33m(\u001b[0m\u001b[0ml\u001b[0m\u001b[1;33m)\u001b[0m\u001b[1;33m+\u001b[0m\u001b[1;36m1\u001b[0m\u001b[1;33m)\u001b[0m\u001b[1;33m:\u001b[0m\u001b[1;33m\u001b[0m\u001b[1;33m\u001b[0m\u001b[0m\n\u001b[1;32m----> 5\u001b[1;33m     \u001b[0mprint\u001b[0m\u001b[1;33m(\u001b[0m\u001b[0ml\u001b[0m\u001b[1;33m[\u001b[0m\u001b[0mi\u001b[0m\u001b[1;33m]\u001b[0m\u001b[1;33m)\u001b[0m\u001b[1;33m\u001b[0m\u001b[1;33m\u001b[0m\u001b[0m\n\u001b[0m",
      "\u001b[1;31mIndexError\u001b[0m: list index out of range"
     ]
    }
   ],
   "source": [
    "l=[4,5,6,7,8,9,9]\n",
    "\n",
    "\n",
    "for i in range(len(l)+1):\n",
    "    print(l[i])"
   ]
  },
  {
   "cell_type": "code",
   "execution_count": 35,
   "id": "e460c9ec",
   "metadata": {},
   "outputs": [
    {
     "name": "stdout",
     "output_type": "stream",
     "text": [
      "4\n",
      "5\n",
      "6\n",
      "7\n",
      "8\n",
      "9\n",
      "9\n",
      "list index out of range\n",
      "this is not working\n"
     ]
    }
   ],
   "source": [
    "l=[4,5,6,7,8,9,9]\n",
    "\n",
    "try:\n",
    "    for i in range(len(l)+1):\n",
    "        print(l[i])\n",
    "        \n",
    "except Exception as e:  #Added Exception class\n",
    "    print(e)\n",
    "    print('this is not working')\n",
    "    "
   ]
  },
  {
   "cell_type": "code",
   "execution_count": 36,
   "id": "b8c7ab79",
   "metadata": {},
   "outputs": [
    {
     "name": "stdout",
     "output_type": "stream",
     "text": [
      "2\n",
      "k\n",
      "invalid literal for int() with base 10: 'k'\n",
      "ineuron\n"
     ]
    }
   ],
   "source": [
    "try:\n",
    "    a=int(input())\n",
    "    b=int(input())\n",
    "except Exception as e:\n",
    "    print(e)\n",
    "print('ineuron')"
   ]
  },
  {
   "cell_type": "code",
   "execution_count": 37,
   "id": "9a76054d",
   "metadata": {},
   "outputs": [
    {
     "name": "stdout",
     "output_type": "stream",
     "text": [
      "3\n",
      "f\n"
     ]
    },
    {
     "ename": "ValueError",
     "evalue": "invalid literal for int() with base 10: 'f'",
     "output_type": "error",
     "traceback": [
      "\u001b[1;31m---------------------------------------------------------------------------\u001b[0m",
      "\u001b[1;31mValueError\u001b[0m                                Traceback (most recent call last)",
      "\u001b[1;32m~\\AppData\\Local\\Temp/ipykernel_8280/762776020.py\u001b[0m in \u001b[0;36m<module>\u001b[1;34m\u001b[0m\n\u001b[0;32m      1\u001b[0m \u001b[0ma\u001b[0m\u001b[1;33m=\u001b[0m\u001b[0mint\u001b[0m\u001b[1;33m(\u001b[0m\u001b[0minput\u001b[0m\u001b[1;33m(\u001b[0m\u001b[1;33m)\u001b[0m\u001b[1;33m)\u001b[0m\u001b[1;33m\u001b[0m\u001b[1;33m\u001b[0m\u001b[0m\n\u001b[1;32m----> 2\u001b[1;33m \u001b[0mb\u001b[0m\u001b[1;33m=\u001b[0m\u001b[0mint\u001b[0m\u001b[1;33m(\u001b[0m\u001b[0minput\u001b[0m\u001b[1;33m(\u001b[0m\u001b[1;33m)\u001b[0m\u001b[1;33m)\u001b[0m\u001b[1;33m\u001b[0m\u001b[1;33m\u001b[0m\u001b[0m\n\u001b[0m",
      "\u001b[1;31mValueError\u001b[0m: invalid literal for int() with base 10: 'f'"
     ]
    }
   ],
   "source": [
    "a=int(input())\n",
    "b=int(input())"
   ]
  },
  {
   "cell_type": "code",
   "execution_count": 38,
   "id": "1de90232",
   "metadata": {},
   "outputs": [
    {
     "name": "stdout",
     "output_type": "stream",
     "text": [
      "enter value of a:5\n",
      "enter value of b:tan\n",
      "Entered value is wrong\n"
     ]
    }
   ],
   "source": [
    "try:\n",
    "    a=int(input('enter value of a:'))\n",
    "    b=int(input('enter value of b:'))\n",
    "    c=a/b\n",
    "    print('answer',c)\n",
    "except ValueError:\n",
    "    print('Entered value is wrong')\n",
    "except ZeroDivisionError:\n",
    "    print('cant divide by zero')"
   ]
  },
  {
   "cell_type": "code",
   "execution_count": 39,
   "id": "6129c740",
   "metadata": {},
   "outputs": [
    {
     "name": "stdout",
     "output_type": "stream",
     "text": [
      "enter value of a:5\n",
      "enter value of b:0\n",
      "cant divide by zero\n"
     ]
    }
   ],
   "source": [
    "try:\n",
    "    a=int(input('enter value of a:'))\n",
    "    b=int(input('enter value of b:'))\n",
    "    c=a/b\n",
    "    print('answer',c)\n",
    "except ValueError:\n",
    "    print('Entered value is wrong')\n",
    "except ZeroDivisionError:\n",
    "    print('cant divide by zero')"
   ]
  },
  {
   "cell_type": "code",
   "execution_count": 40,
   "id": "334ec7e3",
   "metadata": {},
   "outputs": [
    {
     "name": "stdout",
     "output_type": "stream",
     "text": [
      "The entry is a\n",
      "OOPs <class 'ValueError'> occured\n",
      "next entry\n",
      "The entry is 0\n",
      "OOPs <class 'ZeroDivisionError'> occured\n",
      "next entry\n",
      "The entry is 2\n",
      "The reciption of 2 is 0.5\n"
     ]
    }
   ],
   "source": [
    "import sys\n",
    "\n",
    "randomList = ['a',0,2]\n",
    "\n",
    "for entry in randomList:\n",
    "    try:\n",
    "        print('The entry is',entry)\n",
    "        r=1/int(entry)\n",
    "        break\n",
    "    except:\n",
    "        print('OOPs',sys.exc_info()[0],'occured') #sys.exe_info() is helpful to know the type of error\n",
    "        print('next entry')\n",
    "        \n",
    "print('The reciption of',entry,'is',r)\n",
    "        "
   ]
  },
  {
   "cell_type": "code",
   "execution_count": 41,
   "id": "cda44ae6",
   "metadata": {},
   "outputs": [
    {
     "name": "stdout",
     "output_type": "stream",
     "text": [
      "The entry is a\n",
      "OOPs <class 'ValueError'> occured\n",
      "next entry\n",
      "The entry is 0\n",
      "OOPs <class 'ZeroDivisionError'> occured\n",
      "next entry\n",
      "The entry is 2\n",
      "The reciption of 2 is 0.5\n"
     ]
    }
   ],
   "source": [
    "import sys\n",
    "\n",
    "randomList = ['a',0,2]\n",
    "\n",
    "for entry in randomList:\n",
    "    try:\n",
    "        print('The entry is',entry)\n",
    "        r=1/int(entry)\n",
    "        #break\n",
    "    except:\n",
    "        print('OOPs',sys.exc_info()[0],'occured') #sys.exe_info() is helpful to know the type of error\n",
    "        print('next entry')\n",
    "        \n",
    "print('The reciption of',entry,'is',r)\n",
    "        "
   ]
  },
  {
   "cell_type": "code",
   "execution_count": null,
   "id": "efde550d",
   "metadata": {},
   "outputs": [],
   "source": [
    "try:\n",
    "    #block of code\n",
    "    \n",
    "except Exception:\n",
    "    #block of code\n",
    "else:\n",
    "    #this code executes when expection not occured"
   ]
  },
  {
   "cell_type": "code",
   "execution_count": 42,
   "id": "1bb9fa1c",
   "metadata": {},
   "outputs": [
    {
     "name": "stdout",
     "output_type": "stream",
     "text": [
      "Enter a number: 7\n",
      "not a even number\n"
     ]
    }
   ],
   "source": [
    "try:   #here there is not assertion raised hence it is going to else block\n",
    "    num=int(input('Enter a number: '))\n",
    "    assert num%2==0 #checks the conditon in assert block\n",
    "except:\n",
    "    print('not a even number')\n",
    "else:\n",
    "    reciprocal = 1/num\n",
    "    print(reciprocal)"
   ]
  },
  {
   "cell_type": "code",
   "execution_count": 43,
   "id": "6f4f3190",
   "metadata": {},
   "outputs": [
    {
     "name": "stdout",
     "output_type": "stream",
     "text": [
      "Enter a number: 8\n",
      "0.125\n"
     ]
    }
   ],
   "source": [
    "try:  #here there is not assertion raised hence it is going to else block\n",
    "    num=int(input('Enter a number: '))\n",
    "    assert num%2==0\n",
    "except:\n",
    "    print('not a even number')\n",
    "else:\n",
    "    reciprocal = 1/num\n",
    "    print(reciprocal)"
   ]
  },
  {
   "cell_type": "code",
   "execution_count": 44,
   "id": "14262c42",
   "metadata": {},
   "outputs": [
    {
     "name": "stdout",
     "output_type": "stream",
     "text": [
      "enter value of a:1\n",
      "enter value of b:3\n",
      "answer 0.3333333333333333\n",
      "else block\n"
     ]
    }
   ],
   "source": [
    "try:\n",
    "    a=int(input('enter value of a:'))\n",
    "    b=int(input('enter value of b:'))\n",
    "    c=a/b\n",
    "    print('answer',c)\n",
    "\n",
    "except ZeroDivisionError:\n",
    "    print('cant divide by zero')\n",
    "else:\n",
    "    print('else block')"
   ]
  },
  {
   "cell_type": "code",
   "execution_count": 46,
   "id": "3160b40c",
   "metadata": {},
   "outputs": [
    {
     "name": "stdout",
     "output_type": "stream",
     "text": [
      "enter value of a:2\n",
      "enter value of b:0\n",
      "cant divide by zero\n"
     ]
    }
   ],
   "source": [
    "try:\n",
    "    a=int(input('enter value of a:'))\n",
    "    b=int(input('enter value of b:'))\n",
    "    c=a/b\n",
    "    print('answer',c)\n",
    "\n",
    "except ZeroDivisionError:\n",
    "    print('cant divide by zero')\n",
    "else:\n",
    "    print('else block')"
   ]
  },
  {
   "cell_type": "markdown",
   "id": "b6b2bbad",
   "metadata": {},
   "source": [
    "### finally always executes, if there is expection or not"
   ]
  },
  {
   "cell_type": "code",
   "execution_count": 47,
   "id": "68698d23",
   "metadata": {},
   "outputs": [
    {
     "name": "stdout",
     "output_type": "stream",
     "text": [
      "enter value of a:5\n",
      "enter value of b:0\n",
      "cant divide by zero\n",
      "finally block\n"
     ]
    }
   ],
   "source": [
    "try:\n",
    "    a=int(input('enter value of a:'))\n",
    "    b=int(input('enter value of b:'))\n",
    "    c=a/b\n",
    "    print('answer',c)\n",
    "\n",
    "except ZeroDivisionError:\n",
    "    print('cant divide by zero')\n",
    "finally:\n",
    "    print('finally block')\n",
    "    "
   ]
  },
  {
   "cell_type": "markdown",
   "id": "b2ee15a3",
   "metadata": {},
   "source": [
    "### else will only execute if there is not exception raised\n",
    "### finally will always execute if there is or there is no expection to handle"
   ]
  },
  {
   "cell_type": "code",
   "execution_count": 48,
   "id": "3b4debce",
   "metadata": {},
   "outputs": [
    {
     "name": "stdout",
     "output_type": "stream",
     "text": [
      "enter value of a:3\n",
      "enter value of b:a\n",
      "invalid literal for int() with base 10: 'a'\n",
      "cant divide by zero\n",
      "finally block\n"
     ]
    }
   ],
   "source": [
    "try:\n",
    "    a=int(input('enter value of a:'))\n",
    "    b=int(input('enter value of b:'))\n",
    "    c=a/b\n",
    "    print('answer',c)\n",
    "\n",
    "except Exception as e:\n",
    "    print(e)\n",
    "    print('cant divide by zero')\n",
    "finally:\n",
    "    print('finally block')\n",
    "    "
   ]
  },
  {
   "cell_type": "markdown",
   "id": "abd32f28",
   "metadata": {},
   "source": [
    "- Try - test the code, if error free then it gets executed\n",
    "- execept - except disply the error message\n",
    "- else - Executes if there is no error in the code in Try block\n",
    "- finally - executes independently of try, execute blocks"
   ]
  },
  {
   "cell_type": "code",
   "execution_count": 49,
   "id": "b2bb5b75",
   "metadata": {},
   "outputs": [],
   "source": [
    "def divide(x,y):\n",
    "    print(x/y)\n",
    "    "
   ]
  },
  {
   "cell_type": "code",
   "execution_count": 50,
   "id": "b0ca4feb",
   "metadata": {},
   "outputs": [
    {
     "name": "stdout",
     "output_type": "stream",
     "text": [
      "5.0\n"
     ]
    },
    {
     "ename": "ZeroDivisionError",
     "evalue": "division by zero",
     "output_type": "error",
     "traceback": [
      "\u001b[1;31m---------------------------------------------------------------------------\u001b[0m",
      "\u001b[1;31mZeroDivisionError\u001b[0m                         Traceback (most recent call last)",
      "\u001b[1;32m~\\AppData\\Local\\Temp/ipykernel_8280/2017409793.py\u001b[0m in \u001b[0;36m<module>\u001b[1;34m\u001b[0m\n\u001b[0;32m      1\u001b[0m \u001b[0mdivide\u001b[0m\u001b[1;33m(\u001b[0m\u001b[1;36m10\u001b[0m\u001b[1;33m,\u001b[0m\u001b[1;36m2\u001b[0m\u001b[1;33m)\u001b[0m\u001b[1;33m\u001b[0m\u001b[1;33m\u001b[0m\u001b[0m\n\u001b[1;32m----> 2\u001b[1;33m \u001b[0mdivide\u001b[0m\u001b[1;33m(\u001b[0m\u001b[1;36m10\u001b[0m\u001b[1;33m,\u001b[0m\u001b[1;36m0\u001b[0m\u001b[1;33m)\u001b[0m\u001b[1;33m\u001b[0m\u001b[1;33m\u001b[0m\u001b[0m\n\u001b[0m\u001b[0;32m      3\u001b[0m \u001b[0mdivide\u001b[0m\u001b[1;33m(\u001b[0m\u001b[1;36m10\u001b[0m\u001b[1;33m,\u001b[0m\u001b[1;36m4\u001b[0m\u001b[1;33m)\u001b[0m\u001b[1;33m\u001b[0m\u001b[1;33m\u001b[0m\u001b[0m\n",
      "\u001b[1;32m~\\AppData\\Local\\Temp/ipykernel_8280/776784316.py\u001b[0m in \u001b[0;36mdivide\u001b[1;34m(x, y)\u001b[0m\n\u001b[0;32m      1\u001b[0m \u001b[1;32mdef\u001b[0m \u001b[0mdivide\u001b[0m\u001b[1;33m(\u001b[0m\u001b[0mx\u001b[0m\u001b[1;33m,\u001b[0m\u001b[0my\u001b[0m\u001b[1;33m)\u001b[0m\u001b[1;33m:\u001b[0m\u001b[1;33m\u001b[0m\u001b[1;33m\u001b[0m\u001b[0m\n\u001b[1;32m----> 2\u001b[1;33m     \u001b[0mprint\u001b[0m\u001b[1;33m(\u001b[0m\u001b[0mx\u001b[0m\u001b[1;33m/\u001b[0m\u001b[0my\u001b[0m\u001b[1;33m)\u001b[0m\u001b[1;33m\u001b[0m\u001b[1;33m\u001b[0m\u001b[0m\n\u001b[0m\u001b[0;32m      3\u001b[0m \u001b[1;33m\u001b[0m\u001b[0m\n",
      "\u001b[1;31mZeroDivisionError\u001b[0m: division by zero"
     ]
    }
   ],
   "source": [
    "divide(10,2)\n",
    "divide(10,0)\n",
    "divide(10,4)"
   ]
  },
  {
   "cell_type": "code",
   "execution_count": 51,
   "id": "eac78ab4",
   "metadata": {},
   "outputs": [],
   "source": [
    "def divide(x,y):\n",
    "    try:\n",
    "        print(x/y)\n",
    "    except ZeroDivisionError as e:\n",
    "        print(e)\n",
    "    \n",
    "    "
   ]
  },
  {
   "cell_type": "code",
   "execution_count": 52,
   "id": "a9b3c7db",
   "metadata": {},
   "outputs": [
    {
     "name": "stdout",
     "output_type": "stream",
     "text": [
      "5.0\n",
      "division by zero\n",
      "2.5\n"
     ]
    }
   ],
   "source": [
    "divide(10,2)\n",
    "divide(10,0)\n",
    "divide(10,4)"
   ]
  },
  {
   "cell_type": "code",
   "execution_count": 53,
   "id": "3cd25517",
   "metadata": {},
   "outputs": [],
   "source": [
    "def divide(x,y):\n",
    "    try:\n",
    "        print(x/y)\n",
    "    except ZeroDivisionError as e:\n",
    "        print(e)\n",
    "    else:\n",
    "        print('from else block')\n",
    "    finally:\n",
    "        print('from finally block')"
   ]
  },
  {
   "cell_type": "code",
   "execution_count": 54,
   "id": "25082246",
   "metadata": {},
   "outputs": [
    {
     "name": "stdout",
     "output_type": "stream",
     "text": [
      "5.0\n",
      "from else block\n",
      "from finally block\n",
      "division by zero\n",
      "from finally block\n",
      "2.5\n",
      "from else block\n",
      "from finally block\n"
     ]
    }
   ],
   "source": [
    "divide(10,2)\n",
    "divide(10,0)\n",
    "divide(10,4)"
   ]
  },
  {
   "cell_type": "code",
   "execution_count": 55,
   "id": "a230344b",
   "metadata": {},
   "outputs": [
    {
     "name": "stdout",
     "output_type": "stream",
     "text": [
      "outer try block\n",
      "nested try block\n",
      "outer except block\n",
      "division by zero\n"
     ]
    }
   ],
   "source": [
    "#Nested try\n",
    "\n",
    "x = 10\n",
    "y=0\n",
    "\n",
    "try:\n",
    "    print('outer try block')\n",
    "    try:\n",
    "        print('nested try block')\n",
    "        print(x/y)\n",
    "    except TypeError as te:\n",
    "        print('nested except block')\n",
    "        print(te)\n",
    "        \n",
    "except ZeroDivisionError as ze:\n",
    "    print('outer except block')\n",
    "    print(ze)"
   ]
  },
  {
   "cell_type": "code",
   "execution_count": 56,
   "id": "ec5985bd",
   "metadata": {},
   "outputs": [
    {
     "name": "stdout",
     "output_type": "stream",
     "text": [
      "outer try block\n",
      "nested try block\n",
      "0.8333333333333334\n"
     ]
    }
   ],
   "source": [
    "#Nested try\n",
    "\n",
    "x = 10\n",
    "y=12\n",
    "\n",
    "try:\n",
    "    print('outer try block')\n",
    "    try:\n",
    "        print('nested try block')\n",
    "        print(x/y)\n",
    "    except TypeError as te:\n",
    "        print('nested except block')\n",
    "        print(te)\n",
    "        \n",
    "except ZeroDivisionError as ze:\n",
    "    print('outer except block')\n",
    "    print(ze)"
   ]
  },
  {
   "cell_type": "code",
   "execution_count": 57,
   "id": "e7eb8b96",
   "metadata": {},
   "outputs": [],
   "source": [
    "def func1():\n",
    "    flag=True\n",
    "    while flag:\n",
    "        try:\n",
    "            a=int(input('enter the integer'))\n",
    "            if type(a)==int:\n",
    "                return 'yes, you have entered an integer'\n",
    "            flag=False\n",
    "        except Exception as e:\n",
    "            print('you did not entered an integer, please enter an integer')"
   ]
  },
  {
   "cell_type": "code",
   "execution_count": 58,
   "id": "4af8f0a6",
   "metadata": {},
   "outputs": [
    {
     "name": "stdout",
     "output_type": "stream",
     "text": [
      "enter the integera\n",
      "you did not entered an integer, please enter an integer\n",
      "enter the integerf\n",
      "you did not entered an integer, please enter an integer\n",
      "enter the integer5\n"
     ]
    },
    {
     "data": {
      "text/plain": [
       "'yes, you have entered an integer'"
      ]
     },
     "execution_count": 58,
     "metadata": {},
     "output_type": "execute_result"
    }
   ],
   "source": [
    "func1()"
   ]
  },
  {
   "cell_type": "code",
   "execution_count": 59,
   "id": "7e9d986e",
   "metadata": {},
   "outputs": [
    {
     "name": "stdout",
     "output_type": "stream",
     "text": [
      "there is no issue with the code\n"
     ]
    }
   ],
   "source": [
    "try:\n",
    "    l=[4,5,6,7,8,9]\n",
    "    l[1]\n",
    "except:\n",
    "    print('there is issue with my code')\n",
    "    t=(4,5,6,7,8,9)\n",
    "    print(t)\n",
    "    try:\n",
    "        t[0]='imran'\n",
    "        try:\n",
    "            list(t)\n",
    "            print(t)\n",
    "        except:\n",
    "            pass\n",
    "    except:\n",
    "        pass\n",
    "else:\n",
    "    print('there is no issue with the code')"
   ]
  },
  {
   "cell_type": "code",
   "execution_count": 60,
   "id": "82268417",
   "metadata": {},
   "outputs": [
    {
     "name": "stdout",
     "output_type": "stream",
     "text": [
      "there is issue with my code\n",
      "(4, 5, 6, 7, 8, 9)\n"
     ]
    }
   ],
   "source": [
    "try:\n",
    "    l=[4,5,6,7,8,9]\n",
    "    l[10]  #list out of range\n",
    "except:\n",
    "    print('there is issue with my code')\n",
    "    t=(4,5,6,7,8,9)\n",
    "    print(t)\n",
    "    try:\n",
    "        t[0]='imran'\n",
    "        try:\n",
    "            list(t)\n",
    "            print(t)\n",
    "        except:\n",
    "            pass\n",
    "    except:\n",
    "        pass\n",
    "else:\n",
    "    print('there is no issue with the code')"
   ]
  },
  {
   "cell_type": "code",
   "execution_count": 61,
   "id": "706cdf77",
   "metadata": {},
   "outputs": [
    {
     "ename": "IndexError",
     "evalue": "list index out of range",
     "output_type": "error",
     "traceback": [
      "\u001b[1;31m---------------------------------------------------------------------------\u001b[0m",
      "\u001b[1;31mIndexError\u001b[0m                                Traceback (most recent call last)",
      "\u001b[1;32m~\\AppData\\Local\\Temp/ipykernel_8280/3591402202.py\u001b[0m in \u001b[0;36m<module>\u001b[1;34m\u001b[0m\n\u001b[0;32m      1\u001b[0m \u001b[0ml\u001b[0m\u001b[1;33m=\u001b[0m\u001b[1;33m[\u001b[0m\u001b[1;36m4\u001b[0m\u001b[1;33m,\u001b[0m\u001b[1;36m5\u001b[0m\u001b[1;33m,\u001b[0m\u001b[1;36m6\u001b[0m\u001b[1;33m,\u001b[0m\u001b[1;36m7\u001b[0m\u001b[1;33m,\u001b[0m\u001b[1;36m8\u001b[0m\u001b[1;33m,\u001b[0m\u001b[1;36m9\u001b[0m\u001b[1;33m]\u001b[0m\u001b[1;33m\u001b[0m\u001b[1;33m\u001b[0m\u001b[0m\n\u001b[1;32m----> 2\u001b[1;33m \u001b[0ml\u001b[0m\u001b[1;33m[\u001b[0m\u001b[1;36m10\u001b[0m\u001b[1;33m]\u001b[0m\u001b[1;33m\u001b[0m\u001b[1;33m\u001b[0m\u001b[0m\n\u001b[0m",
      "\u001b[1;31mIndexError\u001b[0m: list index out of range"
     ]
    }
   ],
   "source": [
    "l=[4,5,6,7,8,9]\n",
    "l[10]"
   ]
  },
  {
   "cell_type": "code",
   "execution_count": 63,
   "id": "1ae1dc0c",
   "metadata": {},
   "outputs": [
    {
     "name": "stdout",
     "output_type": "stream",
     "text": [
      "there is issue with my code\n",
      "(4, 5, 6, 7, 8, 9)\n",
      "hi\n",
      "[4, 5, 6, 7, 8, 9]\n"
     ]
    }
   ],
   "source": [
    "try:\n",
    "    l=[4,5,6,7,8,9]\n",
    "    l[10]  #list out of range\n",
    "except:\n",
    "    print('there is issue with my code')\n",
    "    t=(4,5,6,7,8,9)\n",
    "    print(t)\n",
    "    try:\n",
    "        print('hi')\n",
    "        #t[0]='imran'\n",
    "        try:\n",
    "            k=list(t)\n",
    "            print(k)\n",
    "        except:\n",
    "            pass\n",
    "    except:\n",
    "        pass\n",
    "else:\n",
    "    print('there is no issue with the code')"
   ]
  },
  {
   "cell_type": "code",
   "execution_count": null,
   "id": "8b941cef",
   "metadata": {},
   "outputs": [],
   "source": []
  }
 ],
 "metadata": {
  "kernelspec": {
   "display_name": "Python 3 (ipykernel)",
   "language": "python",
   "name": "python3"
  },
  "language_info": {
   "codemirror_mode": {
    "name": "ipython",
    "version": 3
   },
   "file_extension": ".py",
   "mimetype": "text/x-python",
   "name": "python",
   "nbconvert_exporter": "python",
   "pygments_lexer": "ipython3",
   "version": "3.9.12"
  }
 },
 "nbformat": 4,
 "nbformat_minor": 5
}
