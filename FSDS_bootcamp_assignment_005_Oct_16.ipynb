{
 "cells": [
  {
   "cell_type": "markdown",
   "metadata": {
    "id": "dkGbTD94s6CD"
   },
   "source": [
    "# ASSIGNMENTS \n",
    "## Send it before 0000 hrs IST or 12 AM Friday\n",
    "\n",
    "## NOTE: Evaluation will be done before next class.\n",
    "\n",
    "## HOW TO SUBMIT: -\n",
    "Download this notebook, Solve it and upload in the google form given in the mail."
   ]
  },
  {
   "cell_type": "markdown",
   "metadata": {
    "id": "n3FuI-mutNl6"
   },
   "source": [
    "# List, Tuple and Sets"
   ]
  },
  {
   "cell_type": "markdown",
   "metadata": {
    "id": "hZcGNSR2y9zW"
   },
   "source": [
    "#### 1. On amazon website we have the following available items - \n",
    "\n",
    "```python\n",
    "amazon_website = [(\"watch\", 5000), (\"phone\", 10000), (\"laptop\", 50000), (\"shirt\", 1000)]\n",
    "```\n",
    "Take the user input N no. of times and find out the total cost to be paid?\n",
    "\n",
    "OR\n",
    "\n",
    "You can ask the user quntity or the count of item?\n",
    "\n",
    "if the item is not present in the amazon website then print that item as out of stock and do add it total\n",
    "\n",
    "\n",
    "HINT: while, for loop.. indexing"
   ]
  },
  {
   "cell_type": "code",
   "execution_count": 4,
   "metadata": {},
   "outputs": [
    {
     "name": "stdout",
     "output_type": "stream",
     "text": [
      "No of units of watches purchased: 1\n",
      "No of units of phones purchased: 3\n",
      "No of units of laptops purchased: 2\n",
      "No of units of shirts purchased: 3\n",
      "['watch', 'phone', 'laptop', 'shirt']\n"
     ]
    },
    {
     "data": {
      "text/plain": [
       "[5000, 10000, 50000, 1000]"
      ]
     },
     "execution_count": 4,
     "metadata": {},
     "output_type": "execute_result"
    }
   ],
   "source": [
    "amazon_website = [(\"watch\", 5000), (\"phone\", 10000), (\"laptop\", 50000), (\"shirt\", 1000)]\n",
    "\n",
    "input_watch = int(input('No of units of watches purchased: '))\n",
    "input_phone = int(input('No of units of phones purchased: '))\n",
    "input_laptop = int(input('No of units of laptops purchased: '))\n",
    "input_shirt = int(input('No of units of shirts purchased: '))\n",
    "\n",
    "products = list()\n",
    "prices = list()\n",
    "\n",
    "for i, j in amazon_website:\n",
    "    products.append(i)\n",
    "    prices.append(j)\n",
    "    \n",
    "print(products)\n",
    "prices"
   ]
  },
  {
   "cell_type": "code",
   "execution_count": 15,
   "metadata": {},
   "outputs": [
    {
     "name": "stdout",
     "output_type": "stream",
     "text": [
      "total amount: 5000\n",
      "total amount: 35000\n",
      "total amount: 135000\n"
     ]
    },
    {
     "data": {
      "text/plain": [
       "138000"
      ]
     },
     "execution_count": 15,
     "metadata": {},
     "output_type": "execute_result"
    }
   ],
   "source": [
    "amount_to_be_payed = 0\n",
    "\n",
    "if input_watch>5 or input_phone>5 or input_laptop>5 or input_shirt>5:\n",
    "    print('Out of stock')\n",
    "else:\n",
    "    if input_watch and input_watch<=5:\n",
    "        amount_to_be_payed = input_watch*amazon_website[0][1]\n",
    "        print(f'total amount: {amount_to_be_payed}')\n",
    "    if input_phone and input_phone<=5:\n",
    "        amount_to_be_payed += input_phone*amazon_website[1][1]\n",
    "        print(f'total amount: {amount_to_be_payed}')\n",
    "    if input_laptop and input_laptop<=5:\n",
    "        amount_to_be_payed += input_laptop*amazon_website[2][1]\n",
    "        print(f'total amount: {amount_to_be_payed}')\n",
    "    if input_shirt and input_shirt<=5:\n",
    "        amount_to_be_payed += input_shirt*amazon_website[3][1]\n",
    "    elif input_watch>5 or input_phone>5 or input_laptop>5 or input_shirt>5:\n",
    "        print('Out of stock')\n",
    "\n",
    "amount_to_be_payed\n",
    "                \n",
    "        \n",
    "amount_to_be_payed"
   ]
  },
  {
   "cell_type": "markdown",
   "metadata": {
    "id": "FQrKC2gzzsUm"
   },
   "source": [
    "#### 2. What will be the output of the following code snippet?\n",
    "\n",
    "```\n",
    "arr = [1, 2, 3, 4, 5, 6]\n",
    "for i in range(1, 6):\n",
    "    arr[i - 1] = arr[i]\n",
    "for i in range(0, 6): \n",
    "    print(arr[i], end = \" \")\n",
    "```"
   ]
  },
  {
   "cell_type": "markdown",
   "metadata": {
    "id": "nL_DZJFS0ZZF"
   },
   "source": [
    "#### 3. Write a Python program to find the repeated items of a tuple."
   ]
  },
  {
   "cell_type": "markdown",
   "metadata": {
    "id": "ne8WpLZZ1GSm"
   },
   "source": [
    "### 4. Replace last value of tuples in a list with 500. Try using list comprehension\n",
    "\n",
    "Example -: \n",
    "```\n",
    "Input -:\n",
    "\n",
    "[(10, 20, 40), (40, 50, 60), (70, 80, 90)]\n",
    "\n",
    "Output -:\n",
    "[(10, 20, 500), (40, 50, 500), (70, 80, 500)]\n",
    "\n",
    "\n",
    "```\n"
   ]
  },
  {
   "cell_type": "code",
   "execution_count": null,
   "metadata": {
    "id": "YpvH9Di21z-O"
   },
   "outputs": [],
   "source": []
  },
  {
   "cell_type": "code",
   "execution_count": null,
   "metadata": {
    "id": "mbx4uz9Y2bHk"
   },
   "outputs": [],
   "source": []
  }
 ],
 "metadata": {
  "colab": {
   "collapsed_sections": [],
   "provenance": []
  },
  "kernelspec": {
   "display_name": "Python 3 (ipykernel)",
   "language": "python",
   "name": "python3"
  },
  "language_info": {
   "codemirror_mode": {
    "name": "ipython",
    "version": 3
   },
   "file_extension": ".py",
   "mimetype": "text/x-python",
   "name": "python",
   "nbconvert_exporter": "python",
   "pygments_lexer": "ipython3",
   "version": "3.9.12"
  }
 },
 "nbformat": 4,
 "nbformat_minor": 1
}
