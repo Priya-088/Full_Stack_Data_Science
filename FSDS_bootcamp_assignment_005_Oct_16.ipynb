{
 "cells": [
  {
   "cell_type": "markdown",
   "metadata": {
    "id": "dkGbTD94s6CD"
   },
   "source": [
    "# ASSIGNMENTS \n",
    "## Send it before 0000 hrs IST or 12 AM Friday\n",
    "\n",
    "## NOTE: Evaluation will be done before next class.\n",
    "\n",
    "## HOW TO SUBMIT: -\n",
    "Download this notebook, Solve it and upload in the google form given in the mail."
   ]
  },
  {
   "cell_type": "markdown",
   "metadata": {
    "id": "n3FuI-mutNl6"
   },
   "source": [
    "# List, Tuple and Sets"
   ]
  },
  {
   "cell_type": "markdown",
   "metadata": {
    "id": "hZcGNSR2y9zW"
   },
   "source": [
    "#### 1. On amazon website we have the following available items - \n",
    "\n",
    "```python\n",
    "amazon_website = [(\"watch\", 5000), (\"phone\", 10000), (\"laptop\", 50000), (\"shirt\", 1000)]\n",
    "```\n",
    "Take the user input N no. of times and find out the total cost to be paid?\n",
    "\n",
    "OR\n",
    "\n",
    "You can ask the user quntity or the count of item?\n",
    "\n",
    "if the item is not present in the amazon website then print that item as out of stock and do add it total\n",
    "\n",
    "\n",
    "HINT: while, for loop.. indexing"
   ]
  },
  {
   "cell_type": "code",
   "execution_count": 14,
   "metadata": {},
   "outputs": [
    {
     "name": "stdout",
     "output_type": "stream",
     "text": [
      "['watch', 'phone', 'laptop', 'shirt']\n",
      "[5000, 10000, 50000, 1000]\n",
      "How many items to purchase: 4\n",
      "what prod you want to purchase? Laptop\n",
      "How many units required: 2\n",
      "Amount after addition of Laptop is: 100000\n",
      "Remaining number of products 2\n",
      "what prod you want to purchase? oppo\n",
      "How many units required: 2\n",
      "out of stock\n",
      "what prod you want to purchase? watch\n",
      "How many units required: 1\n",
      "Amount after addition of watch is: 105000\n",
      "Remaining number of products 1\n",
      "what prod you want to purchase? PhonE\n",
      "How many units required: 1\n",
      "Amount after addition of PhonE is: 115000\n",
      "Remaining number of products 0\n"
     ]
    },
    {
     "data": {
      "text/plain": [
       "115000"
      ]
     },
     "execution_count": 14,
     "metadata": {},
     "output_type": "execute_result"
    }
   ],
   "source": [
    "#Method - 1\n",
    "amazon_website = [(\"watch\", 5000), (\"phone\", 10000), (\"laptop\", 50000), (\"shirt\", 1000)]\n",
    "\n",
    "products = list()\n",
    "prices = list()\n",
    "amount_paid = 0\n",
    "\n",
    "for i, j in amazon_website:\n",
    "    products.append(i)\n",
    "    prices.append(j)\n",
    "    \n",
    "print(products)\n",
    "print(prices)\n",
    "no_of_products = int(input('How many items to purchase: '))\n",
    "\n",
    "#for i in range(1,no_of_products):\n",
    "while no_of_products>0:\n",
    "    \n",
    "    prod1 = input('what prod you want to purchase? ')\n",
    "    qty1 = int(input('How many units required: '))\n",
    "    if prod1.lower() in products:\n",
    "        amount_paid += qty1* prices[products.index(prod1.lower())]\n",
    "        print(f'Amount after addition of {prod1} is: {amount_paid}')\n",
    "        no_of_products-=qty1\n",
    "        print(f'Remaining number of products {no_of_products}')\n",
    "    else:\n",
    "        print('out of stock')\n",
    "        \n",
    "amount_paid"
   ]
  },
  {
   "cell_type": "code",
   "execution_count": 4,
   "metadata": {},
   "outputs": [
    {
     "name": "stdout",
     "output_type": "stream",
     "text": [
      "No of units of watches purchased: 1\n",
      "No of units of phones purchased: 2\n",
      "No of units of laptops purchased: 1\n",
      "No of units of shirts purchased: 2\n"
     ]
    },
    {
     "data": {
      "text/plain": [
       "77000"
      ]
     },
     "execution_count": 4,
     "metadata": {},
     "output_type": "execute_result"
    }
   ],
   "source": [
    "#Method - 2\n",
    "amazon_website = [(\"watch\", 5000), (\"phone\", 10000), (\"laptop\", 50000), (\"shirt\", 1000)]\n",
    "\n",
    "\n",
    "input_watch = int(input('No of units of watches purchased: '))\n",
    "input_phone = int(input('No of units of phones purchased: '))\n",
    "input_laptop = int(input('No of units of laptops purchased: '))\n",
    "input_shirt = int(input('No of units of shirts purchased: '))\n",
    "\n",
    "amount_paid = input_watch*amazon_website[0][1] + input_phone*amazon_website[1][1] + input_laptop*amazon_website[2][1]+input_shirt*amazon_website[3][1]\n",
    "amount_paid"
   ]
  },
  {
   "cell_type": "markdown",
   "metadata": {
    "id": "FQrKC2gzzsUm"
   },
   "source": [
    "#### 2. What will be the output of the following code snippet?\n",
    "\n",
    "```\n",
    "arr = [1, 2, 3, 4, 5, 6]\n",
    "for i in range(1, 6):\n",
    "    arr[i - 1] = arr[i]\n",
    "for i in range(0, 6): \n",
    "    print(arr[i], end = \" \")\n",
    "```"
   ]
  },
  {
   "cell_type": "code",
   "execution_count": 15,
   "metadata": {},
   "outputs": [
    {
     "name": "stdout",
     "output_type": "stream",
     "text": [
      "Before transfomation: [1, 2, 3, 4, 5, 6]\n"
     ]
    },
    {
     "data": {
      "text/plain": [
       "[2, 3, 4, 5, 6, 6]"
      ]
     },
     "execution_count": 15,
     "metadata": {},
     "output_type": "execute_result"
    }
   ],
   "source": [
    "arr = [1, 2, 3, 4, 5, 6]\n",
    "print(f'Before transfomation: {arr}')\n",
    "for i in range(1, 6):\n",
    "    arr[i - 1] = arr[i]\n",
    "arr"
   ]
  },
  {
   "cell_type": "code",
   "execution_count": 16,
   "metadata": {},
   "outputs": [
    {
     "name": "stdout",
     "output_type": "stream",
     "text": [
      "2 3 4 5 6 6 "
     ]
    }
   ],
   "source": [
    "for i in range(0, 6): \n",
    "    print(arr[i], end = \" \")"
   ]
  },
  {
   "cell_type": "markdown",
   "metadata": {
    "id": "nL_DZJFS0ZZF"
   },
   "source": [
    "#### 3. Write a Python program to find the repeated items of a tuple."
   ]
  },
  {
   "cell_type": "markdown",
   "metadata": {
    "id": "ne8WpLZZ1GSm"
   },
   "source": [
    "### 4. Replace last value of tuples in a list with 500. Try using list comprehension\n",
    "\n",
    "Example -: \n",
    "```\n",
    "Input -:\n",
    "\n",
    "[(10, 20, 40), (40, 50, 60), (70, 80, 90)]\n",
    "\n",
    "Output -:\n",
    "[(10, 20, 500), (40, 50, 500), (70, 80, 500)]\n",
    "\n",
    "\n",
    "```\n"
   ]
  },
  {
   "cell_type": "code",
   "execution_count": 24,
   "metadata": {
    "id": "YpvH9Di21z-O"
   },
   "outputs": [
    {
     "data": {
      "text/plain": [
       "[(10, 20, 500), (40, 50, 500), (70, 80, 500)]"
      ]
     },
     "execution_count": 24,
     "metadata": {},
     "output_type": "execute_result"
    }
   ],
   "source": [
    "lst = [(10, 20, 40), (40, 50, 60), (70, 80, 90)]\n",
    "lst2 = list()\n",
    "for i in lst:\n",
    "    x = list(i)\n",
    "    x[2]=500\n",
    "    lst2.append(tuple(x))\n",
    "    \n",
    "lst2"
   ]
  },
  {
   "cell_type": "code",
   "execution_count": null,
   "metadata": {
    "id": "mbx4uz9Y2bHk"
   },
   "outputs": [],
   "source": []
  }
 ],
 "metadata": {
  "colab": {
   "collapsed_sections": [],
   "provenance": []
  },
  "kernelspec": {
   "display_name": "Python 3 (ipykernel)",
   "language": "python",
   "name": "python3"
  },
  "language_info": {
   "codemirror_mode": {
    "name": "ipython",
    "version": 3
   },
   "file_extension": ".py",
   "mimetype": "text/x-python",
   "name": "python",
   "nbconvert_exporter": "python",
   "pygments_lexer": "ipython3",
   "version": "3.9.12"
  }
 },
 "nbformat": 4,
 "nbformat_minor": 1
}
