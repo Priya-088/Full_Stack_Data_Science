{
 "cells": [
  {
   "cell_type": "markdown",
   "id": "8b384cca",
   "metadata": {},
   "source": [
    "## Decorators in functions - Part2"
   ]
  },
  {
   "cell_type": "code",
   "execution_count": 1,
   "id": "13120868",
   "metadata": {},
   "outputs": [],
   "source": [
    "def test1(func):\n",
    "    def test2():\n",
    "        print('i am inside test2')\n",
    "        func()\n",
    "        print('function executed')\n",
    "    return test2"
   ]
  },
  {
   "cell_type": "code",
   "execution_count": 2,
   "id": "a516a87f",
   "metadata": {},
   "outputs": [],
   "source": [
    "def test3():\n",
    "    return 5+6"
   ]
  },
  {
   "cell_type": "code",
   "execution_count": 3,
   "id": "d39b4145",
   "metadata": {},
   "outputs": [
    {
     "data": {
      "text/plain": [
       "11"
      ]
     },
     "execution_count": 3,
     "metadata": {},
     "output_type": "execute_result"
    }
   ],
   "source": [
    "test3()"
   ]
  },
  {
   "cell_type": "code",
   "execution_count": 4,
   "id": "433e23e6",
   "metadata": {},
   "outputs": [
    {
     "data": {
      "text/plain": [
       "<function __main__.test1.<locals>.test2()>"
      ]
     },
     "execution_count": 4,
     "metadata": {},
     "output_type": "execute_result"
    }
   ],
   "source": [
    "test1(test3())"
   ]
  },
  {
   "cell_type": "code",
   "execution_count": 7,
   "id": "2dcf1f1f",
   "metadata": {},
   "outputs": [],
   "source": [
    "@test1\n",
    "def test3():\n",
    "    print('I m inside test3')"
   ]
  },
  {
   "cell_type": "code",
   "execution_count": 8,
   "id": "adbecd76",
   "metadata": {},
   "outputs": [
    {
     "name": "stdout",
     "output_type": "stream",
     "text": [
      "i am inside test2\n",
      "I m inside test3\n",
      "function executed\n"
     ]
    }
   ],
   "source": [
    "test3()"
   ]
  },
  {
   "cell_type": "code",
   "execution_count": 10,
   "id": "cad07b31",
   "metadata": {},
   "outputs": [],
   "source": [
    "@test1\n",
    "def test4():\n",
    "    return 5+6"
   ]
  },
  {
   "cell_type": "code",
   "execution_count": 11,
   "id": "671178b6",
   "metadata": {},
   "outputs": [
    {
     "name": "stdout",
     "output_type": "stream",
     "text": [
      "i am inside test2\n",
      "function executed\n"
     ]
    }
   ],
   "source": [
    "test4()"
   ]
  },
  {
   "cell_type": "code",
   "execution_count": 18,
   "id": "1bbef25e",
   "metadata": {},
   "outputs": [],
   "source": [
    "def test1(func):\n",
    "    def test2():\n",
    "        print('i am inside test2')\n",
    "        func()\n",
    "        print(func())\n",
    "        print('function executed')\n",
    "    return test2"
   ]
  },
  {
   "cell_type": "code",
   "execution_count": 19,
   "id": "055c0ad8",
   "metadata": {},
   "outputs": [],
   "source": [
    "@test1\n",
    "def test4():\n",
    "    return 5+6"
   ]
  },
  {
   "cell_type": "code",
   "execution_count": 20,
   "id": "a01a4029",
   "metadata": {},
   "outputs": [
    {
     "name": "stdout",
     "output_type": "stream",
     "text": [
      "i am inside test2\n",
      "11\n",
      "function executed\n"
     ]
    }
   ],
   "source": [
    "test4()"
   ]
  },
  {
   "cell_type": "code",
   "execution_count": 21,
   "id": "b03b8464",
   "metadata": {},
   "outputs": [
    {
     "name": "stdout",
     "output_type": "stream",
     "text": [
      "i am inside test2\n",
      "11\n",
      "function executed\n"
     ]
    }
   ],
   "source": [
    "a=test4()\n",
    "a"
   ]
  },
  {
   "cell_type": "code",
   "execution_count": 22,
   "id": "2370105e",
   "metadata": {},
   "outputs": [
    {
     "name": "stdout",
     "output_type": "stream",
     "text": [
      "None\n"
     ]
    }
   ],
   "source": [
    "print(a)"
   ]
  },
  {
   "cell_type": "code",
   "execution_count": 23,
   "id": "57558888",
   "metadata": {},
   "outputs": [
    {
     "name": "stdout",
     "output_type": "stream",
     "text": [
      "i am inside test2\n",
      "11\n",
      "function executed\n"
     ]
    },
    {
     "ename": "TypeError",
     "evalue": "unsupported operand type(s) for +: 'NoneType' and 'int'",
     "output_type": "error",
     "traceback": [
      "\u001b[1;31m---------------------------------------------------------------------------\u001b[0m",
      "\u001b[1;31mTypeError\u001b[0m                                 Traceback (most recent call last)",
      "\u001b[1;32m~\\AppData\\Local\\Temp/ipykernel_1036/2720576021.py\u001b[0m in \u001b[0;36m<module>\u001b[1;34m\u001b[0m\n\u001b[1;32m----> 1\u001b[1;33m \u001b[0mtest4\u001b[0m\u001b[1;33m(\u001b[0m\u001b[1;33m)\u001b[0m\u001b[1;33m+\u001b[0m\u001b[1;36m12\u001b[0m\u001b[1;33m\u001b[0m\u001b[1;33m\u001b[0m\u001b[0m\n\u001b[0m",
      "\u001b[1;31mTypeError\u001b[0m: unsupported operand type(s) for +: 'NoneType' and 'int'"
     ]
    }
   ],
   "source": [
    "test4()+12  ##this is occuring because of decorator"
   ]
  },
  {
   "cell_type": "code",
   "execution_count": 24,
   "id": "136a767b",
   "metadata": {},
   "outputs": [],
   "source": [
    "def test5():\n",
    "    return 5+6"
   ]
  },
  {
   "cell_type": "code",
   "execution_count": 25,
   "id": "9cde52ac",
   "metadata": {},
   "outputs": [
    {
     "data": {
      "text/plain": [
       "23"
      ]
     },
     "execution_count": 25,
     "metadata": {},
     "output_type": "execute_result"
    }
   ],
   "source": [
    "test5()+12"
   ]
  },
  {
   "cell_type": "code",
   "execution_count": 26,
   "id": "a752ba7d",
   "metadata": {},
   "outputs": [],
   "source": [
    "#To avoid the above issue of None type in cmd 23\n",
    "\n",
    "def test1(func):\n",
    "    def test2():\n",
    "        print('i am inside test2')\n",
    "        func()\n",
    "        print(func())\n",
    "        print('function executed')\n",
    "        return func()\n",
    "    return test2"
   ]
  },
  {
   "cell_type": "code",
   "execution_count": 28,
   "id": "07a2990d",
   "metadata": {},
   "outputs": [],
   "source": [
    "@test1\n",
    "def test4():\n",
    "    return 5+6"
   ]
  },
  {
   "cell_type": "code",
   "execution_count": 29,
   "id": "2973a6af",
   "metadata": {},
   "outputs": [
    {
     "name": "stdout",
     "output_type": "stream",
     "text": [
      "i am inside test2\n",
      "11\n",
      "function executed\n"
     ]
    },
    {
     "data": {
      "text/plain": [
       "int"
      ]
     },
     "execution_count": 29,
     "metadata": {},
     "output_type": "execute_result"
    }
   ],
   "source": [
    "type(test4())"
   ]
  },
  {
   "cell_type": "code",
   "execution_count": 30,
   "id": "abd14d94",
   "metadata": {},
   "outputs": [
    {
     "name": "stdout",
     "output_type": "stream",
     "text": [
      "i am inside test2\n",
      "11\n",
      "function executed\n"
     ]
    },
    {
     "data": {
      "text/plain": [
       "67"
      ]
     },
     "execution_count": 30,
     "metadata": {},
     "output_type": "execute_result"
    }
   ],
   "source": [
    "test4()+56"
   ]
  },
  {
   "cell_type": "code",
   "execution_count": 38,
   "id": "8aae05eb",
   "metadata": {},
   "outputs": [],
   "source": [
    "def test6(func):\n",
    "    def test7():\n",
    "        func()\n",
    "        print('this is my decorator function')\n",
    "    return test7"
   ]
  },
  {
   "cell_type": "code",
   "execution_count": 39,
   "id": "3ed9f299",
   "metadata": {},
   "outputs": [],
   "source": [
    "def test8():\n",
    "    return 5+7"
   ]
  },
  {
   "cell_type": "code",
   "execution_count": 40,
   "id": "82bc31ac",
   "metadata": {},
   "outputs": [
    {
     "data": {
      "text/plain": [
       "24"
      ]
     },
     "execution_count": 40,
     "metadata": {},
     "output_type": "execute_result"
    }
   ],
   "source": [
    "test8()+12 #with out using decorator"
   ]
  },
  {
   "cell_type": "code",
   "execution_count": 41,
   "id": "ac69aa48",
   "metadata": {},
   "outputs": [],
   "source": [
    "@test6\n",
    "def test8():\n",
    "    return 5+7"
   ]
  },
  {
   "cell_type": "code",
   "execution_count": 42,
   "id": "ae4fd196",
   "metadata": {},
   "outputs": [
    {
     "name": "stdout",
     "output_type": "stream",
     "text": [
      "this is my decorator function\n"
     ]
    }
   ],
   "source": [
    "test8()  #no out put of test8"
   ]
  },
  {
   "cell_type": "code",
   "execution_count": 43,
   "id": "00999d89",
   "metadata": {},
   "outputs": [],
   "source": [
    "#Above issue can be solved but arises Nonetype problem\n",
    "def test6(func):\n",
    "    def test7():\n",
    "        func()\n",
    "        print(func())\n",
    "        print('this is my decorator function')\n",
    "    return test7"
   ]
  },
  {
   "cell_type": "code",
   "execution_count": 44,
   "id": "ca8212de",
   "metadata": {},
   "outputs": [],
   "source": [
    "@test6\n",
    "def test8():\n",
    "    return 5+7"
   ]
  },
  {
   "cell_type": "code",
   "execution_count": 45,
   "id": "1277e078",
   "metadata": {},
   "outputs": [
    {
     "name": "stdout",
     "output_type": "stream",
     "text": [
      "12\n",
      "this is my decorator function\n"
     ]
    }
   ],
   "source": [
    "test8()"
   ]
  },
  {
   "cell_type": "code",
   "execution_count": 47,
   "id": "c8f9f8f1",
   "metadata": {},
   "outputs": [
    {
     "name": "stdout",
     "output_type": "stream",
     "text": [
      "12\n",
      "this is my decorator function\n"
     ]
    },
    {
     "ename": "TypeError",
     "evalue": "unsupported operand type(s) for +: 'NoneType' and 'int'",
     "output_type": "error",
     "traceback": [
      "\u001b[1;31m---------------------------------------------------------------------------\u001b[0m",
      "\u001b[1;31mTypeError\u001b[0m                                 Traceback (most recent call last)",
      "\u001b[1;32m~\\AppData\\Local\\Temp/ipykernel_1036/3890987069.py\u001b[0m in \u001b[0;36m<module>\u001b[1;34m\u001b[0m\n\u001b[1;32m----> 1\u001b[1;33m \u001b[0mtest8\u001b[0m\u001b[1;33m(\u001b[0m\u001b[1;33m)\u001b[0m\u001b[1;33m+\u001b[0m\u001b[1;36m100\u001b[0m\u001b[1;33m\u001b[0m\u001b[1;33m\u001b[0m\u001b[0m\n\u001b[0m",
      "\u001b[1;31mTypeError\u001b[0m: unsupported operand type(s) for +: 'NoneType' and 'int'"
     ]
    }
   ],
   "source": [
    "test8()+100"
   ]
  },
  {
   "cell_type": "code",
   "execution_count": 48,
   "id": "90c8a595",
   "metadata": {},
   "outputs": [],
   "source": [
    "def test6(func):\n",
    "    def test7():\n",
    "        func()\n",
    "        print(func())\n",
    "        print('this is my decorator function')\n",
    "        return func()\n",
    "    return test7"
   ]
  },
  {
   "cell_type": "code",
   "execution_count": 49,
   "id": "f0c85de2",
   "metadata": {},
   "outputs": [],
   "source": [
    "@test6\n",
    "def test8():\n",
    "    return 5+7"
   ]
  },
  {
   "cell_type": "code",
   "execution_count": 50,
   "id": "5931c52f",
   "metadata": {},
   "outputs": [
    {
     "name": "stdout",
     "output_type": "stream",
     "text": [
      "12\n",
      "this is my decorator function\n"
     ]
    },
    {
     "data": {
      "text/plain": [
       "112"
      ]
     },
     "execution_count": 50,
     "metadata": {},
     "output_type": "execute_result"
    }
   ],
   "source": [
    "test8()+100"
   ]
  },
  {
   "cell_type": "code",
   "execution_count": 51,
   "id": "71a94756",
   "metadata": {},
   "outputs": [],
   "source": [
    "def test6(func):\n",
    "    def test7():\n",
    "        func()\n",
    "        print(func())\n",
    "        print('this is my decorator function')\n",
    "        return func()\n",
    "    return test7"
   ]
  },
  {
   "cell_type": "code",
   "execution_count": 52,
   "id": "aba1887f",
   "metadata": {},
   "outputs": [],
   "source": [
    "def test8(a,b):\n",
    "    return a+b"
   ]
  },
  {
   "cell_type": "code",
   "execution_count": 54,
   "id": "09deb5c3",
   "metadata": {},
   "outputs": [
    {
     "data": {
      "text/plain": [
       "'sudhkumar'"
      ]
     },
     "execution_count": 54,
     "metadata": {},
     "output_type": "execute_result"
    }
   ],
   "source": [
    "test8('sudh','kumar')"
   ]
  },
  {
   "cell_type": "code",
   "execution_count": 55,
   "id": "ed956cab",
   "metadata": {},
   "outputs": [],
   "source": [
    "@test6\n",
    "def test8(a,b):\n",
    "    return a+b"
   ]
  },
  {
   "cell_type": "code",
   "execution_count": 56,
   "id": "27446d4f",
   "metadata": {},
   "outputs": [
    {
     "ename": "TypeError",
     "evalue": "test7() takes 0 positional arguments but 2 were given",
     "output_type": "error",
     "traceback": [
      "\u001b[1;31m---------------------------------------------------------------------------\u001b[0m",
      "\u001b[1;31mTypeError\u001b[0m                                 Traceback (most recent call last)",
      "\u001b[1;32m~\\AppData\\Local\\Temp/ipykernel_1036/2725340497.py\u001b[0m in \u001b[0;36m<module>\u001b[1;34m\u001b[0m\n\u001b[1;32m----> 1\u001b[1;33m \u001b[0mtest8\u001b[0m\u001b[1;33m(\u001b[0m\u001b[1;34m'sudh'\u001b[0m\u001b[1;33m,\u001b[0m\u001b[1;34m'kumar'\u001b[0m\u001b[1;33m)\u001b[0m\u001b[1;33m\u001b[0m\u001b[1;33m\u001b[0m\u001b[0m\n\u001b[0m",
      "\u001b[1;31mTypeError\u001b[0m: test7() takes 0 positional arguments but 2 were given"
     ]
    }
   ],
   "source": [
    "test8('sudh','kumar')"
   ]
  },
  {
   "cell_type": "code",
   "execution_count": 57,
   "id": "229a8f3e",
   "metadata": {},
   "outputs": [],
   "source": [
    "def test6(func):\n",
    "    def test7(c,d):\n",
    "        func(c,d)\n",
    "        print(func(c,d))\n",
    "        print('this is my decorator function')\n",
    "        return func(c,d)\n",
    "    return test7"
   ]
  },
  {
   "cell_type": "code",
   "execution_count": 58,
   "id": "942983da",
   "metadata": {},
   "outputs": [],
   "source": [
    "@test6\n",
    "def test8(a,b):\n",
    "    return a+b"
   ]
  },
  {
   "cell_type": "code",
   "execution_count": 59,
   "id": "ccab3976",
   "metadata": {},
   "outputs": [
    {
     "name": "stdout",
     "output_type": "stream",
     "text": [
      "sudhkumar\n",
      "this is my decorator function\n"
     ]
    },
    {
     "data": {
      "text/plain": [
       "'sudhkumar'"
      ]
     },
     "execution_count": 59,
     "metadata": {},
     "output_type": "execute_result"
    }
   ],
   "source": [
    "test8('sudh','kumar')"
   ]
  },
  {
   "cell_type": "code",
   "execution_count": 60,
   "id": "986fb9fc",
   "metadata": {},
   "outputs": [],
   "source": [
    "@test6\n",
    "def test8(a,b,c):\n",
    "    return a+b+c"
   ]
  },
  {
   "cell_type": "code",
   "execution_count": 61,
   "id": "2164dcdb",
   "metadata": {},
   "outputs": [
    {
     "ename": "TypeError",
     "evalue": "test7() takes 2 positional arguments but 3 were given",
     "output_type": "error",
     "traceback": [
      "\u001b[1;31m---------------------------------------------------------------------------\u001b[0m",
      "\u001b[1;31mTypeError\u001b[0m                                 Traceback (most recent call last)",
      "\u001b[1;32m~\\AppData\\Local\\Temp/ipykernel_1036/2380832578.py\u001b[0m in \u001b[0;36m<module>\u001b[1;34m\u001b[0m\n\u001b[1;32m----> 1\u001b[1;33m \u001b[0mtest8\u001b[0m\u001b[1;33m(\u001b[0m\u001b[1;34m'sudh'\u001b[0m\u001b[1;33m,\u001b[0m\u001b[1;34m'kumar'\u001b[0m\u001b[1;33m,\u001b[0m\u001b[1;34m'priya'\u001b[0m\u001b[1;33m)\u001b[0m\u001b[1;33m\u001b[0m\u001b[1;33m\u001b[0m\u001b[0m\n\u001b[0m",
      "\u001b[1;31mTypeError\u001b[0m: test7() takes 2 positional arguments but 3 were given"
     ]
    }
   ],
   "source": [
    "test8('sudh','kumar','priya')"
   ]
  },
  {
   "cell_type": "code",
   "execution_count": 65,
   "id": "344505e4",
   "metadata": {},
   "outputs": [],
   "source": [
    "def test6(func):\n",
    "    def test7(*args):\n",
    "        func(*args)\n",
    "        print(func(*args))\n",
    "        print('this is my decorator function')\n",
    "        return func(*args)\n",
    "    return test7"
   ]
  },
  {
   "cell_type": "code",
   "execution_count": 66,
   "id": "2f0af9dd",
   "metadata": {},
   "outputs": [],
   "source": [
    "@test6\n",
    "def test8(a,b,c):\n",
    "    return a+b+c"
   ]
  },
  {
   "cell_type": "code",
   "execution_count": 67,
   "id": "a9df9c28",
   "metadata": {},
   "outputs": [
    {
     "name": "stdout",
     "output_type": "stream",
     "text": [
      "sudhkumarsudh\n",
      "this is my decorator function\n"
     ]
    },
    {
     "data": {
      "text/plain": [
       "'sudhkumarsudh'"
      ]
     },
     "execution_count": 67,
     "metadata": {},
     "output_type": "execute_result"
    }
   ],
   "source": [
    "test8('sudh','kumar','sudh')"
   ]
  },
  {
   "cell_type": "code",
   "execution_count": 68,
   "id": "da4e85b9",
   "metadata": {},
   "outputs": [],
   "source": [
    "@test6\n",
    "\n",
    "def test9(**kwargs):\n",
    "    return kwargs"
   ]
  },
  {
   "cell_type": "code",
   "execution_count": 69,
   "id": "decb01be",
   "metadata": {},
   "outputs": [
    {
     "ename": "TypeError",
     "evalue": "test7() got an unexpected keyword argument 'a'",
     "output_type": "error",
     "traceback": [
      "\u001b[1;31m---------------------------------------------------------------------------\u001b[0m",
      "\u001b[1;31mTypeError\u001b[0m                                 Traceback (most recent call last)",
      "\u001b[1;32m~\\AppData\\Local\\Temp/ipykernel_1036/1261143844.py\u001b[0m in \u001b[0;36m<module>\u001b[1;34m\u001b[0m\n\u001b[1;32m----> 1\u001b[1;33m \u001b[0mtest9\u001b[0m\u001b[1;33m(\u001b[0m\u001b[0ma\u001b[0m\u001b[1;33m=\u001b[0m\u001b[1;36m89\u001b[0m\u001b[1;33m,\u001b[0m \u001b[0mb\u001b[0m\u001b[1;33m=\u001b[0m\u001b[1;36m67\u001b[0m\u001b[1;33m)\u001b[0m\u001b[1;33m\u001b[0m\u001b[1;33m\u001b[0m\u001b[0m\n\u001b[0m",
      "\u001b[1;31mTypeError\u001b[0m: test7() got an unexpected keyword argument 'a'"
     ]
    }
   ],
   "source": [
    "test9(a=89, b=67)"
   ]
  },
  {
   "cell_type": "code",
   "execution_count": 70,
   "id": "2af2d9e8",
   "metadata": {},
   "outputs": [],
   "source": [
    "def test9(**kwargs):\n",
    "    return kwargs"
   ]
  },
  {
   "cell_type": "code",
   "execution_count": 71,
   "id": "6c9f8f31",
   "metadata": {},
   "outputs": [
    {
     "data": {
      "text/plain": [
       "{'a': 89, 'b': 67}"
      ]
     },
     "execution_count": 71,
     "metadata": {},
     "output_type": "execute_result"
    }
   ],
   "source": [
    "test9(a=89, b=67)"
   ]
  },
  {
   "cell_type": "code",
   "execution_count": 72,
   "id": "d5634e41",
   "metadata": {},
   "outputs": [],
   "source": [
    "#solution for above\n",
    "\n",
    "def test6(func):\n",
    "    def test7(*args,**kwargs):\n",
    "        func(*args,**kwargs)\n",
    "        print(func(*args,**kwargs))\n",
    "        print('this is my decorator function')\n",
    "        return func(*args,**kwargs)\n",
    "    return test7"
   ]
  },
  {
   "cell_type": "code",
   "execution_count": 73,
   "id": "f6aef191",
   "metadata": {},
   "outputs": [],
   "source": [
    "@test6\n",
    "\n",
    "def test9(**kwargs):\n",
    "    return kwargs"
   ]
  },
  {
   "cell_type": "code",
   "execution_count": 74,
   "id": "4abe0e71",
   "metadata": {},
   "outputs": [
    {
     "name": "stdout",
     "output_type": "stream",
     "text": [
      "{'a': 89, 'b': 67}\n",
      "this is my decorator function\n"
     ]
    },
    {
     "data": {
      "text/plain": [
       "{'a': 89, 'b': 67}"
      ]
     },
     "execution_count": 74,
     "metadata": {},
     "output_type": "execute_result"
    }
   ],
   "source": [
    "test9(a=89, b=67)"
   ]
  },
  {
   "cell_type": "markdown",
   "id": "1cf56d67",
   "metadata": {},
   "source": [
    "### Always needs to mention *args, **kwargs while creating a global wraper functions"
   ]
  },
  {
   "cell_type": "markdown",
   "id": "a185d6d9",
   "metadata": {},
   "source": [
    "## Lambda function"
   ]
  },
  {
   "cell_type": "code",
   "execution_count": 75,
   "id": "5495bbb8",
   "metadata": {},
   "outputs": [],
   "source": [
    "def test10(a,b):\n",
    "    return a+b"
   ]
  },
  {
   "cell_type": "code",
   "execution_count": 76,
   "id": "1295531f",
   "metadata": {},
   "outputs": [
    {
     "data": {
      "text/plain": [
       "7"
      ]
     },
     "execution_count": 76,
     "metadata": {},
     "output_type": "execute_result"
    }
   ],
   "source": [
    "test10(3,4)"
   ]
  },
  {
   "cell_type": "code",
   "execution_count": 77,
   "id": "50cd24aa",
   "metadata": {},
   "outputs": [
    {
     "data": {
      "text/plain": [
       "'sudhkumar'"
      ]
     },
     "execution_count": 77,
     "metadata": {},
     "output_type": "execute_result"
    }
   ],
   "source": [
    "test10('sudh','kumar')"
   ]
  },
  {
   "cell_type": "code",
   "execution_count": 78,
   "id": "7e400e19",
   "metadata": {},
   "outputs": [
    {
     "data": {
      "text/plain": [
       "<function __main__.<lambda>(a, b)>"
      ]
     },
     "execution_count": 78,
     "metadata": {},
     "output_type": "execute_result"
    }
   ],
   "source": [
    "#the above function can be created using lambda function\n",
    "\n",
    "lambda a,b : a+b"
   ]
  },
  {
   "cell_type": "code",
   "execution_count": 79,
   "id": "40852108",
   "metadata": {},
   "outputs": [
    {
     "data": {
      "text/plain": [
       "<function __main__.test10(a, b)>"
      ]
     },
     "execution_count": 79,
     "metadata": {},
     "output_type": "execute_result"
    }
   ],
   "source": [
    "test10"
   ]
  },
  {
   "cell_type": "code",
   "execution_count": 80,
   "id": "6dd1d621",
   "metadata": {},
   "outputs": [],
   "source": [
    "c = lambda a,b : a+b"
   ]
  },
  {
   "cell_type": "code",
   "execution_count": 81,
   "id": "3a9c47ad",
   "metadata": {},
   "outputs": [
    {
     "data": {
      "text/plain": [
       "22"
      ]
     },
     "execution_count": 81,
     "metadata": {},
     "output_type": "execute_result"
    }
   ],
   "source": [
    "c(10,12)"
   ]
  },
  {
   "cell_type": "code",
   "execution_count": 82,
   "id": "8f0fba05",
   "metadata": {},
   "outputs": [
    {
     "data": {
      "text/plain": [
       "'sudh ineuron'"
      ]
     },
     "execution_count": 82,
     "metadata": {},
     "output_type": "execute_result"
    }
   ],
   "source": [
    "c('sudh',' ineuron')"
   ]
  },
  {
   "cell_type": "code",
   "execution_count": 84,
   "id": "7a127f1d",
   "metadata": {},
   "outputs": [],
   "source": [
    "d = lambda a,b,c,d: a*b+c/d"
   ]
  },
  {
   "cell_type": "code",
   "execution_count": 85,
   "id": "8dac74cc",
   "metadata": {},
   "outputs": [
    {
     "data": {
      "text/plain": [
       "12.833333333333334"
      ]
     },
     "execution_count": 85,
     "metadata": {},
     "output_type": "execute_result"
    }
   ],
   "source": [
    "d(3,4,5,6)"
   ]
  },
  {
   "cell_type": "code",
   "execution_count": 86,
   "id": "6a756cb3",
   "metadata": {},
   "outputs": [],
   "source": [
    "e = lambda *args: args"
   ]
  },
  {
   "cell_type": "code",
   "execution_count": 87,
   "id": "4d53d23b",
   "metadata": {},
   "outputs": [
    {
     "data": {
      "text/plain": [
       "()"
      ]
     },
     "execution_count": 87,
     "metadata": {},
     "output_type": "execute_result"
    }
   ],
   "source": [
    "e()"
   ]
  },
  {
   "cell_type": "code",
   "execution_count": 88,
   "id": "7a65a291",
   "metadata": {},
   "outputs": [
    {
     "data": {
      "text/plain": [
       "(1, 2, 3)"
      ]
     },
     "execution_count": 88,
     "metadata": {},
     "output_type": "execute_result"
    }
   ],
   "source": [
    "e(1,2,3)"
   ]
  },
  {
   "cell_type": "markdown",
   "id": "c2122d55",
   "metadata": {},
   "source": [
    "### Map(), reduce() and filter()"
   ]
  },
  {
   "cell_type": "code",
   "execution_count": 91,
   "id": "694ad7ee",
   "metadata": {},
   "outputs": [
    {
     "data": {
      "text/plain": [
       "[11, 12, 13, 14, 15, 16, 17]"
      ]
     },
     "execution_count": 91,
     "metadata": {},
     "output_type": "execute_result"
    }
   ],
   "source": [
    "l = [1,2,3,4,5,6,7]\n",
    "l1 = []\n",
    "for i in l:\n",
    "    l1.append(i+10)\n",
    "l1"
   ]
  },
  {
   "cell_type": "code",
   "execution_count": 92,
   "id": "919f969b",
   "metadata": {},
   "outputs": [
    {
     "data": {
      "text/plain": [
       "<map at 0x1680a6f7f40>"
      ]
     },
     "execution_count": 92,
     "metadata": {},
     "output_type": "execute_result"
    }
   ],
   "source": [
    "#map(func,iterable)\n",
    "map(lambda x: x+10 ,l)"
   ]
  },
  {
   "cell_type": "code",
   "execution_count": 94,
   "id": "170b8809",
   "metadata": {},
   "outputs": [
    {
     "data": {
      "text/plain": [
       "[11, 12, 13, 14, 15, 16, 17]"
      ]
     },
     "execution_count": 94,
     "metadata": {},
     "output_type": "execute_result"
    }
   ],
   "source": [
    "a = list(map(lambda x: x+10 ,l))\n",
    "a"
   ]
  },
  {
   "cell_type": "code",
   "execution_count": 95,
   "id": "6575c3b2",
   "metadata": {},
   "outputs": [],
   "source": [
    "def test14(a):\n",
    "    return a+10"
   ]
  },
  {
   "cell_type": "code",
   "execution_count": 97,
   "id": "638aa745",
   "metadata": {},
   "outputs": [
    {
     "data": {
      "text/plain": [
       "[11, 12, 13, 14, 15, 16, 17]"
      ]
     },
     "execution_count": 97,
     "metadata": {},
     "output_type": "execute_result"
    }
   ],
   "source": [
    "list(map(test14,l))"
   ]
  },
  {
   "cell_type": "code",
   "execution_count": 99,
   "id": "8fe8ed85",
   "metadata": {},
   "outputs": [
    {
     "data": {
      "text/plain": [
       "['SUDH', 'KUMAR', 'INEURON']"
      ]
     },
     "execution_count": 99,
     "metadata": {},
     "output_type": "execute_result"
    }
   ],
   "source": [
    "#convert everything to upper\n",
    "l = ['sudh','kumar','ineuron']\n",
    "list(map(lambda a: a.upper(),l))"
   ]
  },
  {
   "cell_type": "code",
   "execution_count": 100,
   "id": "ffdb2207",
   "metadata": {},
   "outputs": [
    {
     "data": {
      "text/plain": [
       "['SUDH', 'KUMAR', 'INEURON']"
      ]
     },
     "execution_count": 100,
     "metadata": {},
     "output_type": "execute_result"
    }
   ],
   "source": [
    "list(map(str.upper,l))"
   ]
  },
  {
   "cell_type": "code",
   "execution_count": 105,
   "id": "714ec81d",
   "metadata": {},
   "outputs": [],
   "source": [
    "def upper_stirng(a):\n",
    "    return a.upper()"
   ]
  },
  {
   "cell_type": "code",
   "execution_count": 106,
   "id": "8fb7cf7c",
   "metadata": {},
   "outputs": [
    {
     "data": {
      "text/plain": [
       "['SUDH', 'KUMAR', 'INEURON']"
      ]
     },
     "execution_count": 106,
     "metadata": {},
     "output_type": "execute_result"
    }
   ],
   "source": [
    "list(map(upper_stirng,l))"
   ]
  },
  {
   "cell_type": "code",
   "execution_count": 107,
   "id": "12ad73f4",
   "metadata": {},
   "outputs": [
    {
     "data": {
      "text/plain": [
       "[4, 5, 7]"
      ]
     },
     "execution_count": 107,
     "metadata": {},
     "output_type": "execute_result"
    }
   ],
   "source": [
    "list(map(lambda a: len(a),l))"
   ]
  },
  {
   "cell_type": "code",
   "execution_count": 108,
   "id": "c4b549b3",
   "metadata": {},
   "outputs": [
    {
     "data": {
      "text/plain": [
       "[4, 5, 7]"
      ]
     },
     "execution_count": 108,
     "metadata": {},
     "output_type": "execute_result"
    }
   ],
   "source": [
    "list(map(len,l))"
   ]
  },
  {
   "cell_type": "code",
   "execution_count": 109,
   "id": "f10894b4",
   "metadata": {},
   "outputs": [],
   "source": [
    "def test23(a):\n",
    "    return len(a)"
   ]
  },
  {
   "cell_type": "code",
   "execution_count": 110,
   "id": "6d30a48d",
   "metadata": {},
   "outputs": [
    {
     "data": {
      "text/plain": [
       "[4, 5, 7]"
      ]
     },
     "execution_count": 110,
     "metadata": {},
     "output_type": "execute_result"
    }
   ],
   "source": [
    "list(map(test23,l))"
   ]
  },
  {
   "cell_type": "code",
   "execution_count": 112,
   "id": "fd2c0b22",
   "metadata": {},
   "outputs": [
    {
     "ename": "SyntaxError",
     "evalue": "invalid syntax (Temp/ipykernel_1036/417939987.py, line 2)",
     "output_type": "error",
     "traceback": [
      "\u001b[1;36m  File \u001b[1;32m\"C:\\Users\\hi\\AppData\\Local\\Temp/ipykernel_1036/417939987.py\"\u001b[1;36m, line \u001b[1;32m2\u001b[0m\n\u001b[1;33m    list(map(lambda a: if a%2==0:,l))\u001b[0m\n\u001b[1;37m                       ^\u001b[0m\n\u001b[1;31mSyntaxError\u001b[0m\u001b[1;31m:\u001b[0m invalid syntax\n"
     ]
    }
   ],
   "source": [
    "l = [1,2,3,4,5,6,7,8]\n",
    "list(map(lambda a: if a%2==0:,l))"
   ]
  },
  {
   "cell_type": "code",
   "execution_count": 116,
   "id": "4ec707dc",
   "metadata": {},
   "outputs": [
    {
     "data": {
      "text/plain": [
       "[2, 4, 6, 8]"
      ]
     },
     "execution_count": 116,
     "metadata": {},
     "output_type": "execute_result"
    }
   ],
   "source": [
    "l = [1,2,3,4,5,6,7,8]\n",
    "l1 = []\n",
    "for i in l:\n",
    "    if i%2==0:\n",
    "        l1.append(i)\n",
    "l1"
   ]
  },
  {
   "cell_type": "code",
   "execution_count": 117,
   "id": "c3d770a0",
   "metadata": {},
   "outputs": [
    {
     "data": {
      "text/plain": [
       "[2, 4, 6, 8]"
      ]
     },
     "execution_count": 117,
     "metadata": {},
     "output_type": "execute_result"
    }
   ],
   "source": [
    "[i for i in l if i%2 == 0]"
   ]
  },
  {
   "cell_type": "code",
   "execution_count": 118,
   "id": "80f7594e",
   "metadata": {},
   "outputs": [
    {
     "data": {
      "text/plain": [
       "<function __main__.<lambda>(a)>"
      ]
     },
     "execution_count": 118,
     "metadata": {},
     "output_type": "execute_result"
    }
   ],
   "source": [
    "a = lambda a : a if a%2==0 else None\n",
    "a"
   ]
  },
  {
   "cell_type": "code",
   "execution_count": 120,
   "id": "0b0ae90f",
   "metadata": {},
   "outputs": [
    {
     "data": {
      "text/plain": [
       "[None, 2, None, 4, None, 6, None, 8]"
      ]
     },
     "execution_count": 120,
     "metadata": {},
     "output_type": "execute_result"
    }
   ],
   "source": [
    "list(map(a,l))  ##this is not appropriate using map() since, map() returns values for each element"
   ]
  },
  {
   "cell_type": "code",
   "execution_count": 121,
   "id": "890b4437",
   "metadata": {},
   "outputs": [
    {
     "data": {
      "text/plain": [
       "[2, 4, 6, 8]"
      ]
     },
     "execution_count": 121,
     "metadata": {},
     "output_type": "execute_result"
    }
   ],
   "source": [
    "list(filter(a,l))"
   ]
  },
  {
   "cell_type": "code",
   "execution_count": 124,
   "id": "07d1b0fc",
   "metadata": {},
   "outputs": [],
   "source": [
    "def test25(a):\n",
    "    if a%2==0:\n",
    "        return True\n",
    "    else:\n",
    "        False"
   ]
  },
  {
   "cell_type": "code",
   "execution_count": 123,
   "id": "2c5b60bd",
   "metadata": {},
   "outputs": [
    {
     "data": {
      "text/plain": [
       "True"
      ]
     },
     "execution_count": 123,
     "metadata": {},
     "output_type": "execute_result"
    }
   ],
   "source": [
    "test25(32)"
   ]
  },
  {
   "cell_type": "code",
   "execution_count": 125,
   "id": "ca243435",
   "metadata": {},
   "outputs": [],
   "source": [
    "test25(33)"
   ]
  },
  {
   "cell_type": "code",
   "execution_count": 126,
   "id": "07c7ae2d",
   "metadata": {},
   "outputs": [
    {
     "data": {
      "text/plain": [
       "[2, 4, 6, 8]"
      ]
     },
     "execution_count": 126,
     "metadata": {},
     "output_type": "execute_result"
    }
   ],
   "source": [
    "list(filter(test25,l))"
   ]
  },
  {
   "cell_type": "markdown",
   "id": "da52d3e7",
   "metadata": {},
   "source": [
    "#### Filter always works on Boolean values and returns where the condition is True"
   ]
  },
  {
   "cell_type": "code",
   "execution_count": 129,
   "id": "777428e1",
   "metadata": {},
   "outputs": [
    {
     "data": {
      "text/plain": [
       "[2, 4, 6, 8]"
      ]
     },
     "execution_count": 129,
     "metadata": {},
     "output_type": "execute_result"
    }
   ],
   "source": [
    "list(filter(lambda a:a if a%2==0 else None,l))"
   ]
  },
  {
   "cell_type": "code",
   "execution_count": 130,
   "id": "ea77335b",
   "metadata": {},
   "outputs": [
    {
     "data": {
      "text/plain": [
       "36"
      ]
     },
     "execution_count": 130,
     "metadata": {},
     "output_type": "execute_result"
    }
   ],
   "source": [
    "#summation of all elements in the list\n",
    "sum(l)"
   ]
  },
  {
   "cell_type": "code",
   "execution_count": 131,
   "id": "4117bcee",
   "metadata": {},
   "outputs": [],
   "source": [
    "# to return multiplication of all elements in the list\n",
    "#we can do it using for loop, lambda function and by reduce function\n",
    "\n",
    "from functools import reduce\n",
    "\n"
   ]
  },
  {
   "cell_type": "code",
   "execution_count": 134,
   "id": "93d6134d",
   "metadata": {},
   "outputs": [
    {
     "data": {
      "text/plain": [
       "40320"
      ]
     },
     "execution_count": 134,
     "metadata": {},
     "output_type": "execute_result"
    }
   ],
   "source": [
    "reduce(lambda a,b:a*b,l)"
   ]
  },
  {
   "cell_type": "code",
   "execution_count": 135,
   "id": "4717bb7f",
   "metadata": {},
   "outputs": [
    {
     "ename": "TypeError",
     "evalue": "<lambda>() missing 1 required positional argument: 'c'",
     "output_type": "error",
     "traceback": [
      "\u001b[1;31m---------------------------------------------------------------------------\u001b[0m",
      "\u001b[1;31mTypeError\u001b[0m                                 Traceback (most recent call last)",
      "\u001b[1;32m~\\AppData\\Local\\Temp/ipykernel_1036/3241545778.py\u001b[0m in \u001b[0;36m<module>\u001b[1;34m\u001b[0m\n\u001b[1;32m----> 1\u001b[1;33m \u001b[0mreduce\u001b[0m\u001b[1;33m(\u001b[0m\u001b[1;32mlambda\u001b[0m \u001b[0ma\u001b[0m\u001b[1;33m,\u001b[0m\u001b[0mb\u001b[0m\u001b[1;33m,\u001b[0m\u001b[0mc\u001b[0m\u001b[1;33m:\u001b[0m\u001b[0ma\u001b[0m\u001b[1;33m*\u001b[0m\u001b[0mb\u001b[0m\u001b[1;33m*\u001b[0m\u001b[0mc\u001b[0m\u001b[1;33m,\u001b[0m\u001b[0ml\u001b[0m\u001b[1;33m)\u001b[0m\u001b[1;33m\u001b[0m\u001b[1;33m\u001b[0m\u001b[0m\n\u001b[0m",
      "\u001b[1;31mTypeError\u001b[0m: <lambda>() missing 1 required positional argument: 'c'"
     ]
    }
   ],
   "source": [
    "reduce(lambda a,b,c:a*b*c,l)"
   ]
  },
  {
   "cell_type": "code",
   "execution_count": 136,
   "id": "8c670091",
   "metadata": {},
   "outputs": [
    {
     "data": {
      "text/plain": [
       "3"
      ]
     },
     "execution_count": 136,
     "metadata": {},
     "output_type": "execute_result"
    }
   ],
   "source": [
    "l1 = [3]\n",
    "reduce(lambda a,b:a+b,l1)"
   ]
  },
  {
   "cell_type": "code",
   "execution_count": 138,
   "id": "f12187e8",
   "metadata": {},
   "outputs": [],
   "source": [
    "def test26():\n",
    "    \"\"\"This is my docstring to give a hint to next programmer\"\"\"\n",
    "    return 'this is my func'"
   ]
  },
  {
   "cell_type": "code",
   "execution_count": 139,
   "id": "b8fe725e",
   "metadata": {},
   "outputs": [
    {
     "data": {
      "text/plain": [
       "'this is my func'"
      ]
     },
     "execution_count": 139,
     "metadata": {},
     "output_type": "execute_result"
    }
   ],
   "source": [
    "test26()"
   ]
  },
  {
   "cell_type": "code",
   "execution_count": 140,
   "id": "00974ab5",
   "metadata": {},
   "outputs": [],
   "source": [
    "def test26() -> str:\n",
    "    \"\"\"This is my docstring to give a hint to next programmer\"\"\"\n",
    "    return 'this is my func'"
   ]
  },
  {
   "cell_type": "code",
   "execution_count": 141,
   "id": "48cd8a29",
   "metadata": {},
   "outputs": [
    {
     "data": {
      "text/plain": [
       "'this is my func'"
      ]
     },
     "execution_count": 141,
     "metadata": {},
     "output_type": "execute_result"
    }
   ],
   "source": [
    "test26()"
   ]
  },
  {
   "cell_type": "code",
   "execution_count": 146,
   "id": "5fb2d5b5",
   "metadata": {},
   "outputs": [],
   "source": [
    "def test26(a : int,b: 'function',c=234) -> int:  ##'a : int' means we are knowing other person to use int value for a but not declaring 'a' as int\n",
    "    \"\"\"This is my docstring to give a hint to next programmer\"\"\"\n",
    "    return a+b+str(c)"
   ]
  },
  {
   "cell_type": "code",
   "execution_count": 147,
   "id": "faca9a56",
   "metadata": {},
   "outputs": [
    {
     "data": {
      "text/plain": [
       "'sudhkumar234'"
      ]
     },
     "execution_count": 147,
     "metadata": {},
     "output_type": "execute_result"
    }
   ],
   "source": [
    "test26('sudh','kumar')"
   ]
  },
  {
   "cell_type": "code",
   "execution_count": 148,
   "id": "d045848a",
   "metadata": {},
   "outputs": [
    {
     "data": {
      "text/plain": [
       "'sudhkumar200'"
      ]
     },
     "execution_count": 148,
     "metadata": {},
     "output_type": "execute_result"
    }
   ],
   "source": [
    "test26('sudh','kumar',200)"
   ]
  },
  {
   "cell_type": "code",
   "execution_count": 149,
   "id": "42811d09",
   "metadata": {},
   "outputs": [],
   "source": [
    "def test26(a : int,b: 'function',c: int =234) -> int:  ##'a : int' means we are knowing other person to use int value for a but not declaring 'a' as int\n",
    "    \"\"\"This is my docstring to give a hint to next programmer\"\"\"\n",
    "    return a+b+str(c)"
   ]
  },
  {
   "cell_type": "code",
   "execution_count": 150,
   "id": "7cca98ff",
   "metadata": {},
   "outputs": [
    {
     "data": {
      "text/plain": [
       "'sudhkumar234'"
      ]
     },
     "execution_count": 150,
     "metadata": {},
     "output_type": "execute_result"
    }
   ],
   "source": [
    "test26('sudh','kumar')"
   ]
  },
  {
   "cell_type": "code",
   "execution_count": null,
   "id": "7504a141",
   "metadata": {},
   "outputs": [],
   "source": []
  }
 ],
 "metadata": {
  "kernelspec": {
   "display_name": "Python 3 (ipykernel)",
   "language": "python",
   "name": "python3"
  },
  "language_info": {
   "codemirror_mode": {
    "name": "ipython",
    "version": 3
   },
   "file_extension": ".py",
   "mimetype": "text/x-python",
   "name": "python",
   "nbconvert_exporter": "python",
   "pygments_lexer": "ipython3",
   "version": "3.9.12"
  }
 },
 "nbformat": 4,
 "nbformat_minor": 5
}
