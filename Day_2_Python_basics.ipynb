{
 "cells": [
  {
   "cell_type": "code",
   "execution_count": 1,
   "id": "122308a3",
   "metadata": {},
   "outputs": [
    {
     "name": "stdout",
     "output_type": "stream",
     "text": [
      "Hello Neurons\n"
     ]
    }
   ],
   "source": [
    "print('Hello Neurons')"
   ]
  },
  {
   "cell_type": "code",
   "execution_count": 2,
   "id": "7751ffb8",
   "metadata": {},
   "outputs": [
    {
     "ename": "NameError",
     "evalue": "name 'Print' is not defined",
     "output_type": "error",
     "traceback": [
      "\u001b[1;31m---------------------------------------------------------------------------\u001b[0m",
      "\u001b[1;31mNameError\u001b[0m                                 Traceback (most recent call last)",
      "\u001b[1;32m~\\AppData\\Local\\Temp/ipykernel_988/4139734462.py\u001b[0m in \u001b[0;36m<module>\u001b[1;34m\u001b[0m\n\u001b[1;32m----> 1\u001b[1;33m \u001b[0mPrint\u001b[0m\u001b[1;33m(\u001b[0m\u001b[1;34m'Hello Neurons'\u001b[0m\u001b[1;33m)\u001b[0m\u001b[1;33m\u001b[0m\u001b[1;33m\u001b[0m\u001b[0m\n\u001b[0m",
      "\u001b[1;31mNameError\u001b[0m: name 'Print' is not defined"
     ]
    }
   ],
   "source": [
    "Print('Hello Neurons')"
   ]
  },
  {
   "cell_type": "code",
   "execution_count": 4,
   "id": "5697b9b8",
   "metadata": {},
   "outputs": [
    {
     "ename": "SyntaxError",
     "evalue": "EOL while scanning string literal (Temp/ipykernel_988/1832070742.py, line 1)",
     "output_type": "error",
     "traceback": [
      "\u001b[1;36m  File \u001b[1;32m\"C:\\Users\\hi\\AppData\\Local\\Temp/ipykernel_988/1832070742.py\"\u001b[1;36m, line \u001b[1;32m1\u001b[0m\n\u001b[1;33m    print('Good\u001b[0m\n\u001b[1;37m               ^\u001b[0m\n\u001b[1;31mSyntaxError\u001b[0m\u001b[1;31m:\u001b[0m EOL while scanning string literal\n"
     ]
    }
   ],
   "source": [
    "print('Good\n",
    "      morning')  #End of line error"
   ]
  },
  {
   "cell_type": "code",
   "execution_count": 6,
   "id": "b88984fb",
   "metadata": {},
   "outputs": [
    {
     "name": "stdout",
     "output_type": "stream",
     "text": [
      "Good\n",
      "Moring\n",
      "From\n",
      "India\n"
     ]
    }
   ],
   "source": [
    "#We can use \"\"\"\"\"\" for multi line string\n",
    "\n",
    "print(\"\"\"Good\n",
    "Moring\n",
    "From\n",
    "India\"\"\")"
   ]
  },
  {
   "cell_type": "markdown",
   "id": "4d617420",
   "metadata": {},
   "source": [
    "## Comments"
   ]
  },
  {
   "cell_type": "code",
   "execution_count": 7,
   "id": "1e23e8f9",
   "metadata": {},
   "outputs": [
    {
     "name": "stdout",
     "output_type": "stream",
     "text": [
      "Hi Students\n"
     ]
    }
   ],
   "source": [
    "# Say hello to the students\n",
    "\n",
    "print('Hi Students')"
   ]
  },
  {
   "cell_type": "markdown",
   "id": "b1a70633",
   "metadata": {},
   "source": [
    "## Multi line comments"
   ]
  },
  {
   "cell_type": "code",
   "execution_count": 8,
   "id": "424b4e31",
   "metadata": {},
   "outputs": [
    {
     "data": {
      "text/plain": [
       "'Hey you\\nare dong \\ngreat!'"
      ]
     },
     "execution_count": 8,
     "metadata": {},
     "output_type": "execute_result"
    }
   ],
   "source": [
    "'''Hey you\n",
    "are dong \n",
    "great!'''"
   ]
  },
  {
   "cell_type": "code",
   "execution_count": 9,
   "id": "fed9b3b9",
   "metadata": {},
   "outputs": [
    {
     "ename": "SyntaxError",
     "evalue": "invalid syntax (Temp/ipykernel_988/3066467599.py, line 3)",
     "output_type": "error",
     "traceback": [
      "\u001b[1;36m  File \u001b[1;32m\"C:\\Users\\hi\\AppData\\Local\\Temp/ipykernel_988/3066467599.py\"\u001b[1;36m, line \u001b[1;32m3\u001b[0m\n\u001b[1;33m    print(\"Hi my name is \"Priya\"\")\u001b[0m\n\u001b[1;37m                          ^\u001b[0m\n\u001b[1;31mSyntaxError\u001b[0m\u001b[1;31m:\u001b[0m invalid syntax\n"
     ]
    }
   ],
   "source": [
    "#more exceptional cases in print cases\n",
    "\n",
    "print(\"Hi my name is \"Priya\"\")"
   ]
  },
  {
   "cell_type": "code",
   "execution_count": 10,
   "id": "0187eb67",
   "metadata": {},
   "outputs": [
    {
     "name": "stdout",
     "output_type": "stream",
     "text": [
      "Hi my name is \"Priya\"\n"
     ]
    }
   ],
   "source": [
    "print('Hi my name is \"Priya\"')"
   ]
  },
  {
   "cell_type": "code",
   "execution_count": 12,
   "id": "6f4baf7c",
   "metadata": {},
   "outputs": [
    {
     "name": "stdout",
     "output_type": "stream",
     "text": [
      "Hi my name is \"Priya\" \n"
     ]
    }
   ],
   "source": [
    "print(\"\"\"Hi my name is \"Priya\" \"\"\")"
   ]
  },
  {
   "cell_type": "code",
   "execution_count": 14,
   "id": "e3b107d6",
   "metadata": {},
   "outputs": [
    {
     "name": "stdout",
     "output_type": "stream",
     "text": [
      "Hi my name is 'Priya'\n"
     ]
    }
   ],
   "source": [
    "#use escape sequence\n",
    "\n",
    "print('Hi my name is \\'Priya\\'')"
   ]
  },
  {
   "cell_type": "markdown",
   "id": "c9c5aba3",
   "metadata": {},
   "source": [
    "## Variable in Python"
   ]
  },
  {
   "cell_type": "code",
   "execution_count": 15,
   "id": "15bea7fc",
   "metadata": {},
   "outputs": [
    {
     "data": {
      "text/plain": [
       "368"
      ]
     },
     "execution_count": 15,
     "metadata": {},
     "output_type": "execute_result"
    }
   ],
   "source": [
    "123+245"
   ]
  },
  {
   "cell_type": "code",
   "execution_count": 16,
   "id": "e4336a13",
   "metadata": {},
   "outputs": [
    {
     "data": {
      "text/plain": [
       "30135"
      ]
     },
     "execution_count": 16,
     "metadata": {},
     "output_type": "execute_result"
    }
   ],
   "source": [
    "123*245"
   ]
  },
  {
   "cell_type": "code",
   "execution_count": 17,
   "id": "be5c42c5",
   "metadata": {},
   "outputs": [
    {
     "data": {
      "text/plain": [
       "0.5020408163265306"
      ]
     },
     "execution_count": 17,
     "metadata": {},
     "output_type": "execute_result"
    }
   ],
   "source": [
    "123/245"
   ]
  },
  {
   "cell_type": "code",
   "execution_count": 18,
   "id": "0bc094b4",
   "metadata": {},
   "outputs": [
    {
     "data": {
      "text/plain": [
       "15129"
      ]
     },
     "execution_count": 18,
     "metadata": {},
     "output_type": "execute_result"
    }
   ],
   "source": [
    "123**2  #power of 123 raised to 2"
   ]
  },
  {
   "cell_type": "code",
   "execution_count": 19,
   "id": "dfe039aa",
   "metadata": {},
   "outputs": [
    {
     "data": {
      "text/plain": [
       "1"
      ]
     },
     "execution_count": 19,
     "metadata": {},
     "output_type": "execute_result"
    }
   ],
   "source": [
    "123%2"
   ]
  },
  {
   "cell_type": "code",
   "execution_count": 20,
   "id": "40fe555c",
   "metadata": {},
   "outputs": [
    {
     "data": {
      "text/plain": [
       "0"
      ]
     },
     "execution_count": 20,
     "metadata": {},
     "output_type": "execute_result"
    }
   ],
   "source": [
    "122%2"
   ]
  },
  {
   "cell_type": "code",
   "execution_count": 21,
   "id": "35ff01a4",
   "metadata": {},
   "outputs": [
    {
     "data": {
      "text/plain": [
       "-1860867"
      ]
     },
     "execution_count": 21,
     "metadata": {},
     "output_type": "execute_result"
    }
   ],
   "source": [
    "(-123)**3"
   ]
  },
  {
   "cell_type": "code",
   "execution_count": 22,
   "id": "e8ffca16",
   "metadata": {},
   "outputs": [
    {
     "name": "stdout",
     "output_type": "stream",
     "text": [
      "30135\n"
     ]
    }
   ],
   "source": [
    "print(123*245)"
   ]
  },
  {
   "cell_type": "code",
   "execution_count": 23,
   "id": "5777374e",
   "metadata": {},
   "outputs": [
    {
     "name": "stdout",
     "output_type": "stream",
     "text": [
      "123*245\n"
     ]
    }
   ],
   "source": [
    "print('123*245')"
   ]
  },
  {
   "cell_type": "markdown",
   "id": "7ce42ab1",
   "metadata": {},
   "source": [
    "## Variables in python"
   ]
  },
  {
   "cell_type": "code",
   "execution_count": 24,
   "id": "ad1e8d2e",
   "metadata": {},
   "outputs": [],
   "source": [
    "x = 10"
   ]
  },
  {
   "cell_type": "code",
   "execution_count": 25,
   "id": "2ba59833",
   "metadata": {},
   "outputs": [
    {
     "name": "stdout",
     "output_type": "stream",
     "text": [
      "10\n"
     ]
    }
   ],
   "source": [
    "print(x)"
   ]
  },
  {
   "cell_type": "code",
   "execution_count": 26,
   "id": "35eb45fb",
   "metadata": {},
   "outputs": [],
   "source": [
    "y = 20"
   ]
  },
  {
   "cell_type": "code",
   "execution_count": 27,
   "id": "bed4e1b7",
   "metadata": {},
   "outputs": [
    {
     "name": "stdout",
     "output_type": "stream",
     "text": [
      "20\n"
     ]
    }
   ],
   "source": [
    "print(y)"
   ]
  },
  {
   "cell_type": "code",
   "execution_count": 28,
   "id": "5911f8b9",
   "metadata": {},
   "outputs": [
    {
     "name": "stdout",
     "output_type": "stream",
     "text": [
      "30\n"
     ]
    }
   ],
   "source": [
    "print(x+y)"
   ]
  },
  {
   "cell_type": "code",
   "execution_count": 29,
   "id": "f5b8f756",
   "metadata": {},
   "outputs": [
    {
     "name": "stdout",
     "output_type": "stream",
     "text": [
      "0.5\n"
     ]
    }
   ],
   "source": [
    "print(x/y)"
   ]
  },
  {
   "cell_type": "markdown",
   "id": "1ed4eec8",
   "metadata": {},
   "source": [
    "1. Variable names should start with alphabets\n",
    "2. Variable names should not containd any special character(except '_')\n",
    "3. Variable names can contain numbers but you can start the variable name with number\n",
    "4. Its is not a strict rule that you should start varable name with capital letter. But it is recommended to use small for the variable"
   ]
  },
  {
   "cell_type": "code",
   "execution_count": 30,
   "id": "cb5d3b88",
   "metadata": {},
   "outputs": [],
   "source": [
    "ten = 10\n",
    "ten_number = 10\n",
    "tenNumber = 10"
   ]
  },
  {
   "cell_type": "code",
   "execution_count": 31,
   "id": "7cd3ada0",
   "metadata": {},
   "outputs": [
    {
     "ename": "SyntaxError",
     "evalue": "invalid syntax (Temp/ipykernel_988/2667552044.py, line 1)",
     "output_type": "error",
     "traceback": [
      "\u001b[1;36m  File \u001b[1;32m\"C:\\Users\\hi\\AppData\\Local\\Temp/ipykernel_988/2667552044.py\"\u001b[1;36m, line \u001b[1;32m1\u001b[0m\n\u001b[1;33m    ten* = 10\u001b[0m\n\u001b[1;37m         ^\u001b[0m\n\u001b[1;31mSyntaxError\u001b[0m\u001b[1;31m:\u001b[0m invalid syntax\n"
     ]
    }
   ],
   "source": [
    "ten* = 10"
   ]
  },
  {
   "cell_type": "code",
   "execution_count": 32,
   "id": "8e62d456",
   "metadata": {},
   "outputs": [
    {
     "ename": "SyntaxError",
     "evalue": "cannot assign to operator (Temp/ipykernel_988/1698095852.py, line 1)",
     "output_type": "error",
     "traceback": [
      "\u001b[1;36m  File \u001b[1;32m\"C:\\Users\\hi\\AppData\\Local\\Temp/ipykernel_988/1698095852.py\"\u001b[1;36m, line \u001b[1;32m1\u001b[0m\n\u001b[1;33m    ten%number  = 10\u001b[0m\n\u001b[1;37m    ^\u001b[0m\n\u001b[1;31mSyntaxError\u001b[0m\u001b[1;31m:\u001b[0m cannot assign to operator\n"
     ]
    }
   ],
   "source": [
    "ten%number  = 10"
   ]
  },
  {
   "cell_type": "code",
   "execution_count": 33,
   "id": "9b271f08",
   "metadata": {},
   "outputs": [],
   "source": [
    "ten10 = 10"
   ]
  },
  {
   "cell_type": "code",
   "execution_count": 34,
   "id": "d1d8003b",
   "metadata": {},
   "outputs": [
    {
     "ename": "SyntaxError",
     "evalue": "invalid syntax (Temp/ipykernel_988/3011706180.py, line 1)",
     "output_type": "error",
     "traceback": [
      "\u001b[1;36m  File \u001b[1;32m\"C:\\Users\\hi\\AppData\\Local\\Temp/ipykernel_988/3011706180.py\"\u001b[1;36m, line \u001b[1;32m1\u001b[0m\n\u001b[1;33m    10ten = 10\u001b[0m\n\u001b[1;37m      ^\u001b[0m\n\u001b[1;31mSyntaxError\u001b[0m\u001b[1;31m:\u001b[0m invalid syntax\n"
     ]
    }
   ],
   "source": [
    "10ten = 10"
   ]
  },
  {
   "cell_type": "code",
   "execution_count": 35,
   "id": "52b838df",
   "metadata": {},
   "outputs": [],
   "source": [
    "__num = 10 ##hidden variable"
   ]
  },
  {
   "cell_type": "code",
   "execution_count": 36,
   "id": "6e9d0e9d",
   "metadata": {},
   "outputs": [],
   "source": [
    "Ten = 10"
   ]
  },
  {
   "cell_type": "code",
   "execution_count": 37,
   "id": "8bc97589",
   "metadata": {},
   "outputs": [
    {
     "ename": "SyntaxError",
     "evalue": "invalid syntax (Temp/ipykernel_988/2262126045.py, line 1)",
     "output_type": "error",
     "traceback": [
      "\u001b[1;36m  File \u001b[1;32m\"C:\\Users\\hi\\AppData\\Local\\Temp/ipykernel_988/2262126045.py\"\u001b[1;36m, line \u001b[1;32m1\u001b[0m\n\u001b[1;33m    ten number = 10\u001b[0m\n\u001b[1;37m        ^\u001b[0m\n\u001b[1;31mSyntaxError\u001b[0m\u001b[1;31m:\u001b[0m invalid syntax\n"
     ]
    }
   ],
   "source": [
    "ten number = 10"
   ]
  },
  {
   "cell_type": "code",
   "execution_count": 39,
   "id": "454560be",
   "metadata": {},
   "outputs": [],
   "source": [
    "_ = 10  ##Dummay variables"
   ]
  },
  {
   "cell_type": "markdown",
   "id": "d1201f70",
   "metadata": {},
   "source": [
    "## Fundamental data types"
   ]
  },
  {
   "cell_type": "markdown",
   "id": "a7ca6059",
   "metadata": {},
   "source": [
    "### Integers"
   ]
  },
  {
   "cell_type": "code",
   "execution_count": 40,
   "id": "d05451ef",
   "metadata": {},
   "outputs": [],
   "source": [
    "a = 7"
   ]
  },
  {
   "cell_type": "code",
   "execution_count": 41,
   "id": "5e532bea",
   "metadata": {},
   "outputs": [
    {
     "data": {
      "text/plain": [
       "int"
      ]
     },
     "execution_count": 41,
     "metadata": {},
     "output_type": "execute_result"
    }
   ],
   "source": [
    "type(a)"
   ]
  },
  {
   "cell_type": "code",
   "execution_count": 42,
   "id": "a0575eed",
   "metadata": {},
   "outputs": [
    {
     "data": {
      "text/plain": [
       "int"
      ]
     },
     "execution_count": 42,
     "metadata": {},
     "output_type": "execute_result"
    }
   ],
   "source": [
    "b = 77777\n",
    "type(b)"
   ]
  },
  {
   "cell_type": "markdown",
   "id": "edf3d7be",
   "metadata": {},
   "source": [
    "### Floats - Numbers containing decimals"
   ]
  },
  {
   "cell_type": "code",
   "execution_count": 44,
   "id": "50d0221b",
   "metadata": {},
   "outputs": [
    {
     "data": {
      "text/plain": [
       "float"
      ]
     },
     "execution_count": 44,
     "metadata": {},
     "output_type": "execute_result"
    }
   ],
   "source": [
    "pi = 3.14\n",
    "type(pi)"
   ]
  },
  {
   "cell_type": "code",
   "execution_count": 45,
   "id": "09d3d113",
   "metadata": {},
   "outputs": [
    {
     "data": {
      "text/plain": [
       "float"
      ]
     },
     "execution_count": 45,
     "metadata": {},
     "output_type": "execute_result"
    }
   ],
   "source": [
    "x = 2.0\n",
    "type(x)"
   ]
  },
  {
   "cell_type": "code",
   "execution_count": 46,
   "id": "50aaf2cc",
   "metadata": {},
   "outputs": [
    {
     "data": {
      "text/plain": [
       "float"
      ]
     },
     "execution_count": 46,
     "metadata": {},
     "output_type": "execute_result"
    }
   ],
   "source": [
    "p = 22/7\n",
    "type(p)"
   ]
  },
  {
   "cell_type": "markdown",
   "id": "b83d8536",
   "metadata": {},
   "source": [
    "### Complex"
   ]
  },
  {
   "cell_type": "code",
   "execution_count": 47,
   "id": "e41f1599",
   "metadata": {},
   "outputs": [
    {
     "data": {
      "text/plain": [
       "(2+3j)"
      ]
     },
     "execution_count": 47,
     "metadata": {},
     "output_type": "execute_result"
    }
   ],
   "source": [
    "a = 2+3j\n",
    "a"
   ]
  },
  {
   "cell_type": "code",
   "execution_count": 48,
   "id": "94ff61da",
   "metadata": {},
   "outputs": [
    {
     "data": {
      "text/plain": [
       "complex"
      ]
     },
     "execution_count": 48,
     "metadata": {},
     "output_type": "execute_result"
    }
   ],
   "source": [
    "type(a)"
   ]
  },
  {
   "cell_type": "code",
   "execution_count": 49,
   "id": "841b0bed",
   "metadata": {},
   "outputs": [
    {
     "data": {
      "text/plain": [
       "2.0"
      ]
     },
     "execution_count": 49,
     "metadata": {},
     "output_type": "execute_result"
    }
   ],
   "source": [
    "a.real"
   ]
  },
  {
   "cell_type": "code",
   "execution_count": 51,
   "id": "0c1bdf57",
   "metadata": {},
   "outputs": [
    {
     "data": {
      "text/plain": [
       "3.0"
      ]
     },
     "execution_count": 51,
     "metadata": {},
     "output_type": "execute_result"
    }
   ],
   "source": [
    "a.imag"
   ]
  },
  {
   "cell_type": "markdown",
   "id": "0d4c2d80",
   "metadata": {},
   "source": [
    "## Dynamic typing"
   ]
  },
  {
   "cell_type": "code",
   "execution_count": 52,
   "id": "a3b21936",
   "metadata": {},
   "outputs": [
    {
     "name": "stdout",
     "output_type": "stream",
     "text": [
      "<class 'int'>\n",
      "<class 'float'>\n"
     ]
    }
   ],
   "source": [
    "a = 22 # We can change the data type of the variable \n",
    "print(type(a))\n",
    "a = 22.2\n",
    "print(type(a))"
   ]
  },
  {
   "cell_type": "code",
   "execution_count": 53,
   "id": "1846df84",
   "metadata": {},
   "outputs": [
    {
     "name": "stdout",
     "output_type": "stream",
     "text": [
      "22.2\n"
     ]
    }
   ],
   "source": [
    "print(a)"
   ]
  },
  {
   "cell_type": "markdown",
   "id": "6129bcd4",
   "metadata": {},
   "source": [
    "## Strong typing"
   ]
  },
  {
   "cell_type": "code",
   "execution_count": 58,
   "id": "76635d59",
   "metadata": {},
   "outputs": [
    {
     "ename": "TypeError",
     "evalue": "can only concatenate str (not \"int\") to str",
     "output_type": "error",
     "traceback": [
      "\u001b[1;31m---------------------------------------------------------------------------\u001b[0m",
      "\u001b[1;31mTypeError\u001b[0m                                 Traceback (most recent call last)",
      "\u001b[1;32m~\\AppData\\Local\\Temp/ipykernel_988/1677450946.py\u001b[0m in \u001b[0;36m<module>\u001b[1;34m\u001b[0m\n\u001b[0;32m      1\u001b[0m \u001b[1;31m#if we want to add 2 things they should be of same data type\u001b[0m\u001b[1;33m\u001b[0m\u001b[1;33m\u001b[0m\u001b[0m\n\u001b[1;32m----> 2\u001b[1;33m \u001b[1;34m\"Day\"\u001b[0m\u001b[1;33m+\u001b[0m\u001b[1;36m1\u001b[0m\u001b[1;33m\u001b[0m\u001b[1;33m\u001b[0m\u001b[0m\n\u001b[0m",
      "\u001b[1;31mTypeError\u001b[0m: can only concatenate str (not \"int\") to str"
     ]
    }
   ],
   "source": [
    "#if we want to add 2 things they should be of same data type\n",
    "\"Day\"+1"
   ]
  },
  {
   "cell_type": "code",
   "execution_count": 55,
   "id": "cdfe2f49",
   "metadata": {},
   "outputs": [
    {
     "data": {
      "text/plain": [
       "'Day1'"
      ]
     },
     "execution_count": 55,
     "metadata": {},
     "output_type": "execute_result"
    }
   ],
   "source": [
    "'Day'+str(1)"
   ]
  },
  {
   "cell_type": "code",
   "execution_count": 56,
   "id": "ef1e6190",
   "metadata": {},
   "outputs": [
    {
     "data": {
      "text/plain": [
       "'2222'"
      ]
     },
     "execution_count": 56,
     "metadata": {},
     "output_type": "execute_result"
    }
   ],
   "source": [
    "'22'+'22'"
   ]
  },
  {
   "cell_type": "code",
   "execution_count": 57,
   "id": "843f1a6d",
   "metadata": {},
   "outputs": [
    {
     "data": {
      "text/plain": [
       "'PriyaMora'"
      ]
     },
     "execution_count": 57,
     "metadata": {},
     "output_type": "execute_result"
    }
   ],
   "source": [
    "'Priya'+'Mora'"
   ]
  },
  {
   "cell_type": "code",
   "execution_count": 59,
   "id": "1e9b78d0",
   "metadata": {},
   "outputs": [
    {
     "data": {
      "text/plain": [
       "44"
      ]
     },
     "execution_count": 59,
     "metadata": {},
     "output_type": "execute_result"
    }
   ],
   "source": [
    "22 + 22"
   ]
  },
  {
   "cell_type": "code",
   "execution_count": 60,
   "id": "9fcc2abf",
   "metadata": {},
   "outputs": [
    {
     "data": {
      "text/plain": [
       "'2222'"
      ]
     },
     "execution_count": 60,
     "metadata": {},
     "output_type": "execute_result"
    }
   ],
   "source": [
    "'22'+\"22\""
   ]
  },
  {
   "cell_type": "code",
   "execution_count": 61,
   "id": "e2c4a0cf",
   "metadata": {},
   "outputs": [
    {
     "data": {
      "text/plain": [
       "23.2"
      ]
     },
     "execution_count": 61,
     "metadata": {},
     "output_type": "execute_result"
    }
   ],
   "source": [
    "22.2 + 1"
   ]
  },
  {
   "cell_type": "code",
   "execution_count": 62,
   "id": "7beb39d7",
   "metadata": {},
   "outputs": [],
   "source": [
    "a = 1 #int\n",
    "b = 1.2  #float\n",
    "c = 'Priya' #str\n",
    "d = 1+2j #Complex"
   ]
  },
  {
   "cell_type": "code",
   "execution_count": 63,
   "id": "9a36b7b2",
   "metadata": {},
   "outputs": [
    {
     "name": "stdout",
     "output_type": "stream",
     "text": [
      "Hi welcome to class of Pyton Language\n"
     ]
    }
   ],
   "source": [
    "print('Hi welcome to class of Pyton Language')"
   ]
  },
  {
   "cell_type": "code",
   "execution_count": 65,
   "id": "ba6d9a41",
   "metadata": {},
   "outputs": [
    {
     "name": "stdout",
     "output_type": "stream",
     "text": [
      "Hi welcome to class of JavaScript language\n"
     ]
    }
   ],
   "source": [
    "language = 'JavaScript'\n",
    "print('Hi welcome to class of '+language+' language')"
   ]
  },
  {
   "cell_type": "code",
   "execution_count": 66,
   "id": "4e3833a0",
   "metadata": {},
   "outputs": [
    {
     "name": "stdout",
     "output_type": "stream",
     "text": [
      "Hi welcome to class of JavaScript language\n"
     ]
    }
   ],
   "source": [
    "#This is the current standard approach of using placeholder\n",
    "\n",
    "language = 'JavaScript'\n",
    "print(f'Hi welcome to class of {language} language')"
   ]
  },
  {
   "cell_type": "code",
   "execution_count": 68,
   "id": "b56e562d",
   "metadata": {},
   "outputs": [
    {
     "name": "stdout",
     "output_type": "stream",
     "text": [
      "Hi welcome to class of JavaScript language\n"
     ]
    }
   ],
   "source": [
    "print('Hi welcome to class of {} language'.format(language))"
   ]
  },
  {
   "cell_type": "code",
   "execution_count": 69,
   "id": "ab9f2d56",
   "metadata": {},
   "outputs": [
    {
     "name": "stdout",
     "output_type": "stream",
     "text": [
      "Today is thefirst class of Python language\n"
     ]
    }
   ],
   "source": [
    "#f --> formated string method\n",
    "\n",
    "num = 'first'\n",
    "language = 'Python'\n",
    "print(f'Today is the{num} class of {language} language')"
   ]
  },
  {
   "cell_type": "code",
   "execution_count": 71,
   "id": "fa3f92e7",
   "metadata": {},
   "outputs": [
    {
     "name": "stdout",
     "output_type": "stream",
     "text": [
      "Today is the first class of Python language\n"
     ]
    }
   ],
   "source": [
    "#f --> formated string method\n",
    "\n",
    "num = 'first'\n",
    "language = 'Python'\n",
    "print('Today is the {} class of {} language'.format(num,language))"
   ]
  },
  {
   "cell_type": "code",
   "execution_count": 72,
   "id": "5c2fda5a",
   "metadata": {},
   "outputs": [
    {
     "name": "stdout",
     "output_type": "stream",
     "text": [
      "The result sum of two numbers a:22 and b:34 is =56\n"
     ]
    }
   ],
   "source": [
    "a = 22\n",
    "b = 34\n",
    "c = a+b\n",
    "print(f'The result sum of two numbers a:{a} and b:{b} is ={c}')"
   ]
  },
  {
   "cell_type": "markdown",
   "id": "896295ac",
   "metadata": {},
   "source": [
    "## Boolean\n",
    "\n"
   ]
  },
  {
   "cell_type": "code",
   "execution_count": 73,
   "id": "39957c75",
   "metadata": {},
   "outputs": [],
   "source": [
    "one = True\n",
    "two = False"
   ]
  },
  {
   "cell_type": "code",
   "execution_count": 74,
   "id": "5f01b6bd",
   "metadata": {},
   "outputs": [
    {
     "name": "stdout",
     "output_type": "stream",
     "text": [
      "<class 'bool'>\n",
      "<class 'bool'>\n"
     ]
    }
   ],
   "source": [
    "print(type(one))\n",
    "print(type(two))"
   ]
  },
  {
   "cell_type": "code",
   "execution_count": 76,
   "id": "e7b3c3d9",
   "metadata": {},
   "outputs": [
    {
     "name": "stdout",
     "output_type": "stream",
     "text": [
      "You understood everything?:False\n"
     ]
    }
   ],
   "source": [
    "class_start_at = 1500\n",
    "you_came_at = 1600\n",
    "you_understood_all_concepts = you_came_at < class_start_at\n",
    "\n",
    "print(f\"You understood everything?:{you_understood_all_concepts}\")"
   ]
  },
  {
   "cell_type": "code",
   "execution_count": null,
   "id": "7a3952cf",
   "metadata": {},
   "outputs": [],
   "source": []
  }
 ],
 "metadata": {
  "kernelspec": {
   "display_name": "Python 3 (ipykernel)",
   "language": "python",
   "name": "python3"
  },
  "language_info": {
   "codemirror_mode": {
    "name": "ipython",
    "version": 3
   },
   "file_extension": ".py",
   "mimetype": "text/x-python",
   "name": "python",
   "nbconvert_exporter": "python",
   "pygments_lexer": "ipython3",
   "version": "3.9.12"
  }
 },
 "nbformat": 4,
 "nbformat_minor": 5
}
