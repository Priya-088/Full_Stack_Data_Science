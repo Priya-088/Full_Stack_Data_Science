{
 "cells": [
  {
   "cell_type": "markdown",
   "id": "58714c7b",
   "metadata": {},
   "source": [
    "## Understanding different error"
   ]
  },
  {
   "cell_type": "code",
   "execution_count": 1,
   "id": "d4a519ae",
   "metadata": {},
   "outputs": [
    {
     "ename": "NameError",
     "evalue": "name 'Type' is not defined",
     "output_type": "error",
     "traceback": [
      "\u001b[1;31m---------------------------------------------------------------------------\u001b[0m",
      "\u001b[1;31mNameError\u001b[0m                                 Traceback (most recent call last)",
      "\u001b[1;32m~\\AppData\\Local\\Temp/ipykernel_12264/388771896.py\u001b[0m in \u001b[0;36m<module>\u001b[1;34m\u001b[0m\n\u001b[0;32m      2\u001b[0m \u001b[1;33m\u001b[0m\u001b[0m\n\u001b[0;32m      3\u001b[0m \u001b[1;31m#want to print data type of x\u001b[0m\u001b[1;33m\u001b[0m\u001b[1;33m\u001b[0m\u001b[0m\n\u001b[1;32m----> 4\u001b[1;33m \u001b[0mType\u001b[0m\u001b[1;33m(\u001b[0m\u001b[0mx\u001b[0m\u001b[1;33m)\u001b[0m\u001b[1;33m\u001b[0m\u001b[1;33m\u001b[0m\u001b[0m\n\u001b[0m",
      "\u001b[1;31mNameError\u001b[0m: name 'Type' is not defined"
     ]
    }
   ],
   "source": [
    "x = 2\n",
    "\n",
    "#want to print data type of x\n",
    "Type(x)"
   ]
  },
  {
   "cell_type": "markdown",
   "id": "6d2403b7",
   "metadata": {},
   "source": [
    "1. Python is case sensitive"
   ]
  },
  {
   "cell_type": "code",
   "execution_count": 2,
   "id": "40583c0a",
   "metadata": {},
   "outputs": [
    {
     "ename": "NameError",
     "evalue": "name 'Sunday' is not defined",
     "output_type": "error",
     "traceback": [
      "\u001b[1;31m---------------------------------------------------------------------------\u001b[0m",
      "\u001b[1;31mNameError\u001b[0m                                 Traceback (most recent call last)",
      "\u001b[1;32m~\\AppData\\Local\\Temp/ipykernel_12264/1450796258.py\u001b[0m in \u001b[0;36m<module>\u001b[1;34m\u001b[0m\n\u001b[0;32m      2\u001b[0m \u001b[1;31m#need to do the work\u001b[0m\u001b[1;33m\u001b[0m\u001b[1;33m\u001b[0m\u001b[0m\n\u001b[0;32m      3\u001b[0m \u001b[1;31m#Class is on Saturday and\u001b[0m\u001b[1;33m\u001b[0m\u001b[1;33m\u001b[0m\u001b[0m\n\u001b[1;32m----> 4\u001b[1;33m \u001b[0mSunday\u001b[0m\u001b[1;33m\u001b[0m\u001b[1;33m\u001b[0m\u001b[0m\n\u001b[0m",
      "\u001b[1;31mNameError\u001b[0m: name 'Sunday' is not defined"
     ]
    }
   ],
   "source": [
    "#multi line comment\n",
    "#need to do the work\n",
    "#Class is on Saturday and \n",
    "Sunday"
   ]
  },
  {
   "cell_type": "markdown",
   "id": "43eff6ff",
   "metadata": {},
   "source": [
    "2. Use multi line string to define multi line comment"
   ]
  },
  {
   "cell_type": "code",
   "execution_count": 3,
   "id": "d3335204",
   "metadata": {},
   "outputs": [
    {
     "data": {
      "text/plain": [
       "'Monday is\\nbeing very busy\\noccupied with all meetings'"
      ]
     },
     "execution_count": 3,
     "metadata": {},
     "output_type": "execute_result"
    }
   ],
   "source": [
    "\"\"\"Monday is\n",
    "being very busy\n",
    "occupied with all meetings\"\"\""
   ]
  },
  {
   "cell_type": "code",
   "execution_count": 6,
   "id": "fb270d3c",
   "metadata": {},
   "outputs": [
    {
     "name": "stdout",
     "output_type": "stream",
     "text": [
      "C:\n",
      "local\\system\n"
     ]
    }
   ],
   "source": [
    "print('C:\\nlocal\\system')"
   ]
  },
  {
   "cell_type": "markdown",
   "id": "737171bf",
   "metadata": {},
   "source": [
    "3. Use 'r' to print the raw string"
   ]
  },
  {
   "cell_type": "code",
   "execution_count": 7,
   "id": "d28b8146",
   "metadata": {},
   "outputs": [
    {
     "name": "stdout",
     "output_type": "stream",
     "text": [
      "C:\\nlocal\\system\n"
     ]
    }
   ],
   "source": [
    "print(r\"C:\\nlocal\\system\")"
   ]
  },
  {
   "cell_type": "markdown",
   "id": "77eed8dd",
   "metadata": {},
   "source": [
    "4. Does variable names can start with numbers and is it can have '@' as a 3rd letter"
   ]
  },
  {
   "cell_type": "code",
   "execution_count": 9,
   "id": "9775950a",
   "metadata": {},
   "outputs": [
    {
     "ename": "SyntaxError",
     "evalue": "cannot assign to operator (Temp/ipykernel_12264/1678179527.py, line 1)",
     "output_type": "error",
     "traceback": [
      "\u001b[1;36m  File \u001b[1;32m\"C:\\Users\\hi\\AppData\\Local\\Temp/ipykernel_12264/1678179527.py\"\u001b[1;36m, line \u001b[1;32m1\u001b[0m\n\u001b[1;33m    34@ree = 10\u001b[0m\n\u001b[1;37m    ^\u001b[0m\n\u001b[1;31mSyntaxError\u001b[0m\u001b[1;31m:\u001b[0m cannot assign to operator\n"
     ]
    }
   ],
   "source": [
    "34@ree = 10"
   ]
  },
  {
   "cell_type": "markdown",
   "id": "312fed41",
   "metadata": {},
   "source": [
    "5. Can we compare a string with number?\n"
   ]
  },
  {
   "cell_type": "code",
   "execution_count": 11,
   "id": "60b28f7f",
   "metadata": {},
   "outputs": [
    {
     "ename": "TypeError",
     "evalue": "'>' not supported between instances of 'str' and 'int'",
     "output_type": "error",
     "traceback": [
      "\u001b[1;31m---------------------------------------------------------------------------\u001b[0m",
      "\u001b[1;31mTypeError\u001b[0m                                 Traceback (most recent call last)",
      "\u001b[1;32m~\\AppData\\Local\\Temp/ipykernel_12264/2583111284.py\u001b[0m in \u001b[0;36m<module>\u001b[1;34m\u001b[0m\n\u001b[1;32m----> 1\u001b[1;33m \u001b[1;34m'happy'\u001b[0m \u001b[1;33m>\u001b[0m\u001b[1;36m100\u001b[0m\u001b[1;33m\u001b[0m\u001b[1;33m\u001b[0m\u001b[0m\n\u001b[0m",
      "\u001b[1;31mTypeError\u001b[0m: '>' not supported between instances of 'str' and 'int'"
     ]
    }
   ],
   "source": [
    "'happy' >100"
   ]
  },
  {
   "cell_type": "code",
   "execution_count": 12,
   "id": "11a12f1f",
   "metadata": {},
   "outputs": [
    {
     "data": {
      "text/plain": [
       "False"
      ]
     },
     "execution_count": 12,
     "metadata": {},
     "output_type": "execute_result"
    }
   ],
   "source": [
    "'happy' >'sad'"
   ]
  },
  {
   "cell_type": "markdown",
   "id": "0bbb6514",
   "metadata": {},
   "source": [
    "5. What is the  values of sum(True)+sum(False)              "
   ]
  },
  {
   "cell_type": "code",
   "execution_count": 14,
   "id": "9b370e85",
   "metadata": {},
   "outputs": [
    {
     "ename": "TypeError",
     "evalue": "'bool' object is not iterable",
     "output_type": "error",
     "traceback": [
      "\u001b[1;31m---------------------------------------------------------------------------\u001b[0m",
      "\u001b[1;31mTypeError\u001b[0m                                 Traceback (most recent call last)",
      "\u001b[1;32m~\\AppData\\Local\\Temp/ipykernel_12264/3388544123.py\u001b[0m in \u001b[0;36m<module>\u001b[1;34m\u001b[0m\n\u001b[1;32m----> 1\u001b[1;33m \u001b[0msum\u001b[0m\u001b[1;33m(\u001b[0m\u001b[1;32mTrue\u001b[0m\u001b[1;33m)\u001b[0m\u001b[1;33m+\u001b[0m\u001b[0msum\u001b[0m\u001b[1;33m(\u001b[0m\u001b[1;32mFalse\u001b[0m\u001b[1;33m)\u001b[0m\u001b[1;33m\u001b[0m\u001b[1;33m\u001b[0m\u001b[0m\n\u001b[0m",
      "\u001b[1;31mTypeError\u001b[0m: 'bool' object is not iterable"
     ]
    }
   ],
   "source": [
    "sum(True)+sum(False)"
   ]
  },
  {
   "cell_type": "markdown",
   "id": "7a3db021",
   "metadata": {},
   "source": [
    "6. Convert the given input to integer datatype"
   ]
  },
  {
   "cell_type": "code",
   "execution_count": 2,
   "id": "b8d3c087",
   "metadata": {},
   "outputs": [
    {
     "name": "stdout",
     "output_type": "stream",
     "text": [
      "Enter the input: 12.3\n"
     ]
    },
    {
     "ename": "ValueError",
     "evalue": "invalid literal for int() with base 10: '12.3'",
     "output_type": "error",
     "traceback": [
      "\u001b[1;31m---------------------------------------------------------------------------\u001b[0m",
      "\u001b[1;31mValueError\u001b[0m                                Traceback (most recent call last)",
      "\u001b[1;32m~\\AppData\\Local\\Temp/ipykernel_8352/823495537.py\u001b[0m in \u001b[0;36m<module>\u001b[1;34m\u001b[0m\n\u001b[1;32m----> 1\u001b[1;33m \u001b[0minput_from_user\u001b[0m \u001b[1;33m=\u001b[0m \u001b[0mint\u001b[0m\u001b[1;33m(\u001b[0m\u001b[0minput\u001b[0m\u001b[1;33m(\u001b[0m\u001b[1;34m'Enter the input: '\u001b[0m\u001b[1;33m)\u001b[0m\u001b[1;33m)\u001b[0m\u001b[1;33m\u001b[0m\u001b[1;33m\u001b[0m\u001b[0m\n\u001b[0m",
      "\u001b[1;31mValueError\u001b[0m: invalid literal for int() with base 10: '12.3'"
     ]
    }
   ],
   "source": [
    "input_from_user = int(input('Enter the input: '))"
   ]
  },
  {
   "cell_type": "markdown",
   "id": "b15ec4ee",
   "metadata": {},
   "source": [
    "7. List of reserve words in python, what happens if we use reserved words as the variable name?\n",
    "\n",
    "and    |   del    |   from |     not |      while \n",
    "-|-|-|-|-\n",
    "as       | elif   |   global  |  or   |     with     \n",
    "assert |   else  |    if    |    pass |     yield    \n",
    "break   |  except |   import |   print             \n",
    "class   |  exec    |  in       | raise            \n",
    "continue | finally|   is  |      return          \n",
    "def  |     for|       lambda |   try\n",
    "\n"
   ]
  },
  {
   "cell_type": "code",
   "execution_count": 7,
   "id": "1603bd15",
   "metadata": {},
   "outputs": [
    {
     "ename": "SyntaxError",
     "evalue": "invalid syntax (Temp/ipykernel_8352/3937575404.py, line 1)",
     "output_type": "error",
     "traceback": [
      "\u001b[1;36m  File \u001b[1;32m\"C:\\Users\\hi\\AppData\\Local\\Temp/ipykernel_8352/3937575404.py\"\u001b[1;36m, line \u001b[1;32m1\u001b[0m\n\u001b[1;33m    lambda = 'Priya' #Throwing as invalid syntax when tried to use reserved word as anargument\u001b[0m\n\u001b[1;37m           ^\u001b[0m\n\u001b[1;31mSyntaxError\u001b[0m\u001b[1;31m:\u001b[0m invalid syntax\n"
     ]
    }
   ],
   "source": [
    "lambda = 'Priya' #Throwing as invalid syntax when tried to use reserved word as anargument"
   ]
  },
  {
   "cell_type": "markdown",
   "id": "a2ceb44d",
   "metadata": {},
   "source": [
    "2. Take input A and B and print their sum, mul, div, square of the nos."
   ]
  },
  {
   "cell_type": "code",
   "execution_count": 9,
   "id": "5c86e6cc",
   "metadata": {},
   "outputs": [
    {
     "name": "stdout",
     "output_type": "stream",
     "text": [
      "Enter the value of A: 10\n",
      "Enter the value of B: 5\n",
      "Addition of A and B: 15\n",
      "Subtraction of A and B: 5\n",
      "Multiplication of A and B: 50\n",
      "Division of A and B: 2.0\n"
     ]
    }
   ],
   "source": [
    "A = int(input('Enter the value of A: '))\n",
    "B = int(input('Enter the value of B: '))\n",
    "\n",
    "print(f'Addition of A and B: {A+B}')\n",
    "print(f'Subtraction of A and B: {A-B}')\n",
    "print(f'Multiplication of A and B: {A*B}')\n",
    "print(f'Division of A and B: {A/B}')"
   ]
  },
  {
   "cell_type": "markdown",
   "id": "3bdd16f5",
   "metadata": {},
   "source": [
    "3. How many reserve keywords are there in python and why we should not use them as a variable name."
   ]
  },
  {
   "cell_type": "markdown",
   "id": "a775fb04",
   "metadata": {},
   "source": [
    "Following are the reserved words and can some of the reserved words can be used as variable and some can't be.\n",
    "\n",
    "and       del       from      not       while    \n",
    "as        elif      global    or        with     \n",
    "assert    else      if        pass      yield    \n",
    "break     except    import    print              \n",
    "class     exec      in        raise              \n",
    "continue  finally   is        return             \n",
    "def       for       lambda    try"
   ]
  },
  {
   "cell_type": "code",
   "execution_count": 10,
   "id": "e7c9f5c3",
   "metadata": {},
   "outputs": [
    {
     "ename": "SyntaxError",
     "evalue": "invalid syntax (Temp/ipykernel_8352/2067601992.py, line 1)",
     "output_type": "error",
     "traceback": [
      "\u001b[1;36m  File \u001b[1;32m\"C:\\Users\\hi\\AppData\\Local\\Temp/ipykernel_8352/2067601992.py\"\u001b[1;36m, line \u001b[1;32m1\u001b[0m\n\u001b[1;33m    while = 'addition'\u001b[0m\n\u001b[1;37m          ^\u001b[0m\n\u001b[1;31mSyntaxError\u001b[0m\u001b[1;31m:\u001b[0m invalid syntax\n"
     ]
    }
   ],
   "source": [
    "#you may either encounter syntax error\n",
    "while = 'addition'"
   ]
  },
  {
   "cell_type": "code",
   "execution_count": 11,
   "id": "963b947b",
   "metadata": {},
   "outputs": [],
   "source": [
    "#you may overwrite the existing functionality of the keyword\n",
    "\n",
    "print = 'Hello'"
   ]
  },
  {
   "cell_type": "code",
   "execution_count": 12,
   "id": "1f934800",
   "metadata": {},
   "outputs": [
    {
     "ename": "TypeError",
     "evalue": "'str' object is not callable",
     "output_type": "error",
     "traceback": [
      "\u001b[1;31m---------------------------------------------------------------------------\u001b[0m",
      "\u001b[1;31mTypeError\u001b[0m                                 Traceback (most recent call last)",
      "\u001b[1;32m~\\AppData\\Local\\Temp/ipykernel_8352/3347700801.py\u001b[0m in \u001b[0;36m<module>\u001b[1;34m\u001b[0m\n\u001b[1;32m----> 1\u001b[1;33m \u001b[0mprint\u001b[0m\u001b[1;33m(\u001b[0m\u001b[1;34m'Hey, How you doing!'\u001b[0m\u001b[1;33m)\u001b[0m\u001b[1;33m\u001b[0m\u001b[1;33m\u001b[0m\u001b[0m\n\u001b[0m",
      "\u001b[1;31mTypeError\u001b[0m: 'str' object is not callable"
     ]
    }
   ],
   "source": [
    "print('Hey, How you doing!')"
   ]
  },
  {
   "cell_type": "code",
   "execution_count": 13,
   "id": "61a173fc",
   "metadata": {},
   "outputs": [],
   "source": [
    "del print"
   ]
  },
  {
   "cell_type": "markdown",
   "id": "f59f7e73",
   "metadata": {},
   "source": [
    "4. Create email ids with the user inputs. in the following format - \n",
    "lastname.firstname@gmail.com"
   ]
  },
  {
   "cell_type": "code",
   "execution_count": 14,
   "id": "9c64ceac",
   "metadata": {},
   "outputs": [
    {
     "name": "stdout",
     "output_type": "stream",
     "text": [
      "Enter your firstname: Priya\n",
      "Enter your lastname: Mora\n",
      "Email if of the person: Priya.Mora@gmail.com\n"
     ]
    }
   ],
   "source": [
    "first_name = input('Enter your firstname: ')\n",
    "last_name = input('Enter your lastname: ')\n",
    "print(f'Email if of the person: {first_name}.{last_name}@gmail.com')"
   ]
  },
  {
   "cell_type": "markdown",
   "id": "7084f7d7",
   "metadata": {},
   "source": [
    "5. Try to print the following lines - \n",
    "  - Hi I'm Sunny\n",
    "  - My address is 22\\3 \n",
    "  - I earn 20$ daily."
   ]
  },
  {
   "cell_type": "code",
   "execution_count": 15,
   "id": "c0d7a755",
   "metadata": {},
   "outputs": [
    {
     "data": {
      "text/plain": [
       "\"Try to print the following lines - \\n  Hi I'm Sunny\\n  My address is 22\\x03 \\n  I earn 20$ daily.\""
      ]
     },
     "execution_count": 15,
     "metadata": {},
     "output_type": "execute_result"
    }
   ],
   "source": [
    "#we can use multiline string method\n",
    "\n",
    "'''Try to print the following lines - \n",
    "  Hi I'm Sunny\n",
    "  My address is 22\\3 \n",
    "  I earn 20$ daily.'''"
   ]
  },
  {
   "cell_type": "markdown",
   "id": "85340b85",
   "metadata": {},
   "source": [
    "6. Take user input (name, address, date of birth etc) to fill a form for your college and print their email IDs"
   ]
  },
  {
   "cell_type": "code",
   "execution_count": 17,
   "id": "c5fec839",
   "metadata": {},
   "outputs": [
    {
     "name": "stdout",
     "output_type": "stream",
     "text": [
      "Enter the username: priya\n",
      "Enter the address: 12-6/A\n",
      "Enter the date of birth: 01-02-1996\n",
      "Name of the person: priya\n",
      "Address of the person: 12-6/A\n",
      "DOB of the person: 01-02-1996\n"
     ]
    }
   ],
   "source": [
    "user_name = input('Enter the username: ')\n",
    "address = input('Enter the address: ')\n",
    "dob = input('Enter the date of birth: ')\n",
    "\n",
    "print(f'Name of the person: {user_name}')\n",
    "print(f'Address of the person: {address}')\n",
    "print(f'DOB of the person: {dob}')"
   ]
  },
  {
   "cell_type": "markdown",
   "id": "bcefd03f",
   "metadata": {},
   "source": [
    "7. Convert the following - \n",
    "  - \"22.4\" into integer\n",
    "  - \"22\" into complex no."
   ]
  },
  {
   "cell_type": "code",
   "execution_count": 18,
   "id": "1a4fadaf",
   "metadata": {},
   "outputs": [
    {
     "name": "stdout",
     "output_type": "stream",
     "text": [
      "Enter the value: 22.4\n",
      "Enter the value: 22\n",
      "string to integer conversion: 22\n",
      "string to complex conversion: (22+0j)\n"
     ]
    }
   ],
   "source": [
    "user_input = input('Enter the value: ')\n",
    "user_input2 = input('Enter the value: ')\n",
    "\n",
    "print(f'string to integer conversion: {int(float(user_input))}')\n",
    "print(f'string to complex conversion: {complex(user_input2)}')"
   ]
  },
  {
   "cell_type": "code",
   "execution_count": null,
   "id": "c4a37a96",
   "metadata": {},
   "outputs": [],
   "source": []
  }
 ],
 "metadata": {
  "kernelspec": {
   "display_name": "Python 3 (ipykernel)",
   "language": "python",
   "name": "python3"
  },
  "language_info": {
   "codemirror_mode": {
    "name": "ipython",
    "version": 3
   },
   "file_extension": ".py",
   "mimetype": "text/x-python",
   "name": "python",
   "nbconvert_exporter": "python",
   "pygments_lexer": "ipython3",
   "version": "3.9.12"
  }
 },
 "nbformat": 4,
 "nbformat_minor": 5
}
