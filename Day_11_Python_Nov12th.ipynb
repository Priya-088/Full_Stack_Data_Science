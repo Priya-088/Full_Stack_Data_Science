{
 "cells": [
  {
   "cell_type": "markdown",
   "id": "4a45958b",
   "metadata": {},
   "source": [
    "## Functions\n",
    "\n",
    "Increases the reusability of the code"
   ]
  },
  {
   "cell_type": "code",
   "execution_count": 1,
   "id": "0afd98c5",
   "metadata": {},
   "outputs": [],
   "source": [
    "def test1():\n",
    "    a=5+6\n",
    "    return a"
   ]
  },
  {
   "cell_type": "code",
   "execution_count": 2,
   "id": "99b523ef",
   "metadata": {},
   "outputs": [],
   "source": [
    "def test2(a,b):\n",
    "    return a+b"
   ]
  },
  {
   "cell_type": "code",
   "execution_count": 3,
   "id": "ed7a8592",
   "metadata": {},
   "outputs": [
    {
     "data": {
      "text/plain": [
       "5"
      ]
     },
     "execution_count": 3,
     "metadata": {},
     "output_type": "execute_result"
    }
   ],
   "source": [
    "test2(2,3)"
   ]
  },
  {
   "cell_type": "code",
   "execution_count": 4,
   "id": "0826434e",
   "metadata": {},
   "outputs": [
    {
     "data": {
      "text/plain": [
       "'priyamora'"
      ]
     },
     "execution_count": 4,
     "metadata": {},
     "output_type": "execute_result"
    }
   ],
   "source": [
    "test2('priya','mora')"
   ]
  },
  {
   "cell_type": "code",
   "execution_count": 5,
   "id": "a5e3bbf6",
   "metadata": {},
   "outputs": [
    {
     "data": {
      "text/plain": [
       "'priyamora'"
      ]
     },
     "execution_count": 5,
     "metadata": {},
     "output_type": "execute_result"
    }
   ],
   "source": [
    "test2(b='mora',a='priya')"
   ]
  },
  {
   "cell_type": "markdown",
   "id": "ab0e821d",
   "metadata": {},
   "source": [
    "## key arguments"
   ]
  },
  {
   "cell_type": "code",
   "execution_count": 6,
   "id": "abedaf42",
   "metadata": {},
   "outputs": [],
   "source": [
    "#when we don't know how many arguments to pass while creating the function\n",
    "#A function should take any number of inputs and give them as list\n",
    "\n",
    "def test3(*args):  #'*args' can hold any number of inputs\n",
    "    return args"
   ]
  },
  {
   "cell_type": "code",
   "execution_count": 8,
   "id": "f9640d79",
   "metadata": {},
   "outputs": [
    {
     "data": {
      "text/plain": [
       "(1, 2, 3, 4, 'sudh')"
      ]
     },
     "execution_count": 8,
     "metadata": {},
     "output_type": "execute_result"
    }
   ],
   "source": [
    "test3(1,2,3,4,'sudh')  #data type for '*args' is tuples"
   ]
  },
  {
   "cell_type": "code",
   "execution_count": 9,
   "id": "e676648c",
   "metadata": {},
   "outputs": [
    {
     "data": {
      "text/plain": [
       "([1, 2, 3, 4], 'sidh', 'ineuron', (5+7j), (4, 5, 6))"
      ]
     },
     "execution_count": 9,
     "metadata": {},
     "output_type": "execute_result"
    }
   ],
   "source": [
    "test3([1,2,3,4],'sidh','ineuron',5+7j,(4,5,6))"
   ]
  },
  {
   "cell_type": "code",
   "execution_count": 11,
   "id": "2152d007",
   "metadata": {},
   "outputs": [],
   "source": [
    "def test4(*args):\n",
    "    return list(args)"
   ]
  },
  {
   "cell_type": "code",
   "execution_count": 12,
   "id": "eae25b92",
   "metadata": {},
   "outputs": [
    {
     "data": {
      "text/plain": [
       "['sudh', True, (8+7j), 34, 34.56]"
      ]
     },
     "execution_count": 12,
     "metadata": {},
     "output_type": "execute_result"
    }
   ],
   "source": [
    "test4('sudh',True, 8+7j,34,34.56)"
   ]
  },
  {
   "cell_type": "code",
   "execution_count": 13,
   "id": "c33fc110",
   "metadata": {},
   "outputs": [],
   "source": [
    "def test5(*args):\n",
    "    l=[]\n",
    "    for i in args:\n",
    "        l.append(i)\n",
    "    return l"
   ]
  },
  {
   "cell_type": "code",
   "execution_count": 14,
   "id": "6ecaf405",
   "metadata": {},
   "outputs": [
    {
     "data": {
      "text/plain": [
       "[34, 56, 34, 66]"
      ]
     },
     "execution_count": 14,
     "metadata": {},
     "output_type": "execute_result"
    }
   ],
   "source": [
    "test5(34,56,34,66)"
   ]
  },
  {
   "cell_type": "code",
   "execution_count": 16,
   "id": "13ccb70c",
   "metadata": {},
   "outputs": [],
   "source": [
    "def test6(*mora):\n",
    "    return list(mora)"
   ]
  },
  {
   "cell_type": "code",
   "execution_count": 17,
   "id": "2fd27def",
   "metadata": {},
   "outputs": [
    {
     "data": {
      "text/plain": [
       "[1, 2, 3, 4, 6]"
      ]
     },
     "execution_count": 17,
     "metadata": {},
     "output_type": "execute_result"
    }
   ],
   "source": [
    "test6(1,2,3,4,6)"
   ]
  },
  {
   "cell_type": "markdown",
   "id": "eba51269",
   "metadata": {},
   "source": [
    "## Dictionary\n",
    "\n",
    "- hold the data in key value pairs\n",
    "- Indexing is not possible, we can control the name of the key\n",
    "- key words can't be duplicate"
   ]
  },
  {
   "cell_type": "code",
   "execution_count": 19,
   "id": "cb36fcef",
   "metadata": {},
   "outputs": [],
   "source": [
    "l = [1,2,3,4,5,6]  #list\n",
    "t = (4,5,6,8+7j) ##tuple\n",
    "s = {3,4,5,6,6,6,7,6,6,6}  #set"
   ]
  },
  {
   "cell_type": "code",
   "execution_count": 20,
   "id": "eda69b29",
   "metadata": {},
   "outputs": [
    {
     "data": {
      "text/plain": [
       "[1, 2, 3, 4, 5, 6]"
      ]
     },
     "execution_count": 20,
     "metadata": {},
     "output_type": "execute_result"
    }
   ],
   "source": [
    "l"
   ]
  },
  {
   "cell_type": "code",
   "execution_count": 21,
   "id": "a4202065",
   "metadata": {},
   "outputs": [
    {
     "data": {
      "text/plain": [
       "dict"
      ]
     },
     "execution_count": 21,
     "metadata": {},
     "output_type": "execute_result"
    }
   ],
   "source": [
    "d = {}\n",
    "type(d)"
   ]
  },
  {
   "cell_type": "code",
   "execution_count": 22,
   "id": "4a6f5ca3",
   "metadata": {},
   "outputs": [
    {
     "data": {
      "text/plain": [
       "set"
      ]
     },
     "execution_count": 22,
     "metadata": {},
     "output_type": "execute_result"
    }
   ],
   "source": [
    "d1 = {1,2,3,5}\n",
    "type(d1)"
   ]
  },
  {
   "cell_type": "code",
   "execution_count": 23,
   "id": "c08f7f1d",
   "metadata": {},
   "outputs": [
    {
     "data": {
      "text/plain": [
       "{'key1': 'priya', 'key2': [2, 3, 4, 5]}"
      ]
     },
     "execution_count": 23,
     "metadata": {},
     "output_type": "execute_result"
    }
   ],
   "source": [
    "d2 = {'key1':'priya','key2':[2,3,4,5]}\n",
    "d2"
   ]
  },
  {
   "cell_type": "code",
   "execution_count": 24,
   "id": "8c34e1aa",
   "metadata": {},
   "outputs": [
    {
     "data": {
      "text/plain": [
       "{23334: 'sudh'}"
      ]
     },
     "execution_count": 24,
     "metadata": {},
     "output_type": "execute_result"
    }
   ],
   "source": [
    "#we can control the name of the key\n",
    "\n",
    "d3 = {23334:'sudh'}\n",
    "d3"
   ]
  },
  {
   "cell_type": "code",
   "execution_count": 25,
   "id": "fde74082",
   "metadata": {},
   "outputs": [
    {
     "ename": "SyntaxError",
     "evalue": "invalid syntax (Temp/ipykernel_6060/1864102134.py, line 3)",
     "output_type": "error",
     "traceback": [
      "\u001b[1;36m  File \u001b[1;32m\"C:\\Users\\hi\\AppData\\Local\\Temp/ipykernel_6060/1864102134.py\"\u001b[1;36m, line \u001b[1;32m3\u001b[0m\n\u001b[1;33m    d4 = {$:123}\u001b[0m\n\u001b[1;37m          ^\u001b[0m\n\u001b[1;31mSyntaxError\u001b[0m\u001b[1;31m:\u001b[0m invalid syntax\n"
     ]
    }
   ],
   "source": [
    "#special case character can't be used in keys\n",
    "\n",
    "d4 = {$:123}"
   ]
  },
  {
   "cell_type": "code",
   "execution_count": 27,
   "id": "277dadc5",
   "metadata": {},
   "outputs": [
    {
     "ename": "TypeError",
     "evalue": "unhashable type: 'list'",
     "output_type": "error",
     "traceback": [
      "\u001b[1;31m---------------------------------------------------------------------------\u001b[0m",
      "\u001b[1;31mTypeError\u001b[0m                                 Traceback (most recent call last)",
      "\u001b[1;32m~\\AppData\\Local\\Temp/ipykernel_6060/43042111.py\u001b[0m in \u001b[0;36m<module>\u001b[1;34m\u001b[0m\n\u001b[0;32m      1\u001b[0m \u001b[1;31m#list can't be used in keys - becoz list is mutable entity\u001b[0m\u001b[1;33m\u001b[0m\u001b[1;33m\u001b[0m\u001b[0m\n\u001b[0;32m      2\u001b[0m \u001b[1;33m\u001b[0m\u001b[0m\n\u001b[1;32m----> 3\u001b[1;33m \u001b[0md5\u001b[0m \u001b[1;33m=\u001b[0m \u001b[1;33m{\u001b[0m\u001b[1;33m[\u001b[0m\u001b[1;36m1\u001b[0m\u001b[1;33m,\u001b[0m\u001b[1;36m2\u001b[0m\u001b[1;33m,\u001b[0m\u001b[1;36m3\u001b[0m\u001b[1;33m,\u001b[0m\u001b[1;36m4\u001b[0m\u001b[1;33m]\u001b[0m\u001b[1;33m:\u001b[0m\u001b[1;34m'sudh'\u001b[0m\u001b[1;33m}\u001b[0m\u001b[1;33m\u001b[0m\u001b[1;33m\u001b[0m\u001b[0m\n\u001b[0m\u001b[0;32m      4\u001b[0m \u001b[0md5\u001b[0m\u001b[1;33m\u001b[0m\u001b[1;33m\u001b[0m\u001b[0m\n",
      "\u001b[1;31mTypeError\u001b[0m: unhashable type: 'list'"
     ]
    }
   ],
   "source": [
    "#list can't be used in keys - becoz list is mutable entity\n",
    "\n",
    "d5 = {[1,2,3,4]:'sudh'}\n",
    "d5"
   ]
  },
  {
   "cell_type": "code",
   "execution_count": 29,
   "id": "0935fe17",
   "metadata": {},
   "outputs": [
    {
     "data": {
      "text/plain": [
       "{(1, 2, 3, 4): 'sudh'}"
      ]
     },
     "execution_count": 29,
     "metadata": {},
     "output_type": "execute_result"
    }
   ],
   "source": [
    "d6 = {(1,2,3,4):'sudh'} #tuple is immutable\n",
    "d6"
   ]
  },
  {
   "cell_type": "code",
   "execution_count": 32,
   "id": "70d95a32",
   "metadata": {},
   "outputs": [],
   "source": [
    "d7 = {'name ':'priya','org':'Tredence','mail id':'priya@gmail.com','name':'mora'}"
   ]
  },
  {
   "cell_type": "code",
   "execution_count": 33,
   "id": "ff592f8a",
   "metadata": {},
   "outputs": [
    {
     "data": {
      "text/plain": [
       "{'name ': 'priya',\n",
       " 'org': 'Tredence',\n",
       " 'mail id': 'priya@gmail.com',\n",
       " 'name': 'mora'}"
      ]
     },
     "execution_count": 33,
     "metadata": {},
     "output_type": "execute_result"
    }
   ],
   "source": [
    "d7"
   ]
  },
  {
   "cell_type": "code",
   "execution_count": 34,
   "id": "1824882e",
   "metadata": {},
   "outputs": [],
   "source": [
    "d7 = {'name':'priya','org':'Tredence','mail id':'priya@gmail.com','name':'mora'}"
   ]
  },
  {
   "cell_type": "code",
   "execution_count": 35,
   "id": "d482240d",
   "metadata": {},
   "outputs": [
    {
     "data": {
      "text/plain": [
       "{'name': 'mora', 'org': 'Tredence', 'mail id': 'priya@gmail.com'}"
      ]
     },
     "execution_count": 35,
     "metadata": {},
     "output_type": "execute_result"
    }
   ],
   "source": [
    "d7"
   ]
  },
  {
   "cell_type": "code",
   "execution_count": 36,
   "id": "1ff3e39f",
   "metadata": {},
   "outputs": [],
   "source": [
    "d8 = {'name':'sudh','mentor':{'fsds':'imran','fsda':'anand','bigdata':'shashank'}}"
   ]
  },
  {
   "cell_type": "code",
   "execution_count": 38,
   "id": "b2f0d70c",
   "metadata": {},
   "outputs": [
    {
     "data": {
      "text/plain": [
       "{'name': 'sudh',\n",
       " 'mentor': {'fsds': 'imran', 'fsda': 'anand', 'bigdata': 'shashank'}}"
      ]
     },
     "execution_count": 38,
     "metadata": {},
     "output_type": "execute_result"
    }
   ],
   "source": [
    "d8"
   ]
  },
  {
   "cell_type": "code",
   "execution_count": 39,
   "id": "0f38b5af",
   "metadata": {},
   "outputs": [
    {
     "data": {
      "text/plain": [
       "{'name': 'mora', 'org': 'Tredence', 'mail id': 'priya@gmail.com'}"
      ]
     },
     "execution_count": 39,
     "metadata": {},
     "output_type": "execute_result"
    }
   ],
   "source": [
    "d7"
   ]
  },
  {
   "cell_type": "code",
   "execution_count": 40,
   "id": "502c4f94",
   "metadata": {},
   "outputs": [
    {
     "data": {
      "text/plain": [
       "'priya@gmail.com'"
      ]
     },
     "execution_count": 40,
     "metadata": {},
     "output_type": "execute_result"
    }
   ],
   "source": [
    "d7['mail id']"
   ]
  },
  {
   "cell_type": "code",
   "execution_count": 41,
   "id": "e377d34b",
   "metadata": {},
   "outputs": [
    {
     "data": {
      "text/plain": [
       "{'name': 'sudh',\n",
       " 'mentor': {'fsds': 'imran', 'fsda': 'anand', 'bigdata': 'shashank'}}"
      ]
     },
     "execution_count": 41,
     "metadata": {},
     "output_type": "execute_result"
    }
   ],
   "source": [
    "d8"
   ]
  },
  {
   "cell_type": "code",
   "execution_count": 42,
   "id": "951e1760",
   "metadata": {},
   "outputs": [
    {
     "data": {
      "text/plain": [
       "'shashank'"
      ]
     },
     "execution_count": 42,
     "metadata": {},
     "output_type": "execute_result"
    }
   ],
   "source": [
    "d8['mentor']['bigdata']"
   ]
  },
  {
   "cell_type": "code",
   "execution_count": 43,
   "id": "dd568ece",
   "metadata": {},
   "outputs": [
    {
     "data": {
      "text/plain": [
       "['name', 'org', 'mail id']"
      ]
     },
     "execution_count": 43,
     "metadata": {},
     "output_type": "execute_result"
    }
   ],
   "source": [
    "list(d7.keys())"
   ]
  },
  {
   "cell_type": "code",
   "execution_count": 44,
   "id": "c3c1148a",
   "metadata": {},
   "outputs": [
    {
     "data": {
      "text/plain": [
       "dict_values(['mora', 'Tredence', 'priya@gmail.com'])"
      ]
     },
     "execution_count": 44,
     "metadata": {},
     "output_type": "execute_result"
    }
   ],
   "source": [
    "d7.values()"
   ]
  },
  {
   "cell_type": "code",
   "execution_count": 45,
   "id": "afb954cd",
   "metadata": {},
   "outputs": [
    {
     "data": {
      "text/plain": [
       "dict_items([('name', 'mora'), ('org', 'Tredence'), ('mail id', 'priya@gmail.com')])"
      ]
     },
     "execution_count": 45,
     "metadata": {},
     "output_type": "execute_result"
    }
   ],
   "source": [
    "d7.items()"
   ]
  },
  {
   "cell_type": "code",
   "execution_count": 46,
   "id": "14a9ae5a",
   "metadata": {},
   "outputs": [
    {
     "data": {
      "text/plain": [
       "{'name': 'sudh',\n",
       " 'mentor': {'fsds': 'imran', 'fsda': 'anand', 'bigdata': 'shashank'}}"
      ]
     },
     "execution_count": 46,
     "metadata": {},
     "output_type": "execute_result"
    }
   ],
   "source": [
    "d8"
   ]
  },
  {
   "cell_type": "code",
   "execution_count": 48,
   "id": "84fe0853",
   "metadata": {},
   "outputs": [
    {
     "data": {
      "text/plain": [
       "['imran', 'anand', 'shashank']"
      ]
     },
     "execution_count": 48,
     "metadata": {},
     "output_type": "execute_result"
    }
   ],
   "source": [
    "list(d8['mentor'].values())"
   ]
  },
  {
   "cell_type": "code",
   "execution_count": 50,
   "id": "e88900fc",
   "metadata": {},
   "outputs": [
    {
     "data": {
      "text/plain": [
       "[dict_values(['imran', 'anand', 'shashank'])]"
      ]
     },
     "execution_count": 50,
     "metadata": {},
     "output_type": "execute_result"
    }
   ],
   "source": [
    "l=[]\n",
    "for i in d8.keys():\n",
    "    if type(d8[i])==dict:\n",
    "        l.append(d8[i].values())\n",
    "l"
   ]
  },
  {
   "cell_type": "code",
   "execution_count": 51,
   "id": "c139d329",
   "metadata": {},
   "outputs": [],
   "source": [
    "d9 = {'name': 'sudh',\n",
    " 'mentor': {'fsds': 'imran', 'fsda': 'anand', 'bigdata': 'shashank'},\n",
    "     'mail id':{'imran':'imran@inueron.ai','anand':'anand.ineuron.ai','shashank':'shsshank@ineuron.ai'}}"
   ]
  },
  {
   "cell_type": "code",
   "execution_count": 53,
   "id": "a67f34a9",
   "metadata": {},
   "outputs": [
    {
     "data": {
      "text/plain": [
       "[dict_values(['imran', 'anand', 'shashank']),\n",
       " dict_values(['imran@inueron.ai', 'anand.ineuron.ai', 'shsshank@ineuron.ai'])]"
      ]
     },
     "execution_count": 53,
     "metadata": {},
     "output_type": "execute_result"
    }
   ],
   "source": [
    "l=[]\n",
    "for i in d9.keys():\n",
    "    if type(d9[i])==dict:\n",
    "        l.append(d9[i].values())\n",
    "l"
   ]
  },
  {
   "cell_type": "code",
   "execution_count": 55,
   "id": "ba520016",
   "metadata": {},
   "outputs": [],
   "source": [
    "def test9(d):\n",
    "    l=[]\n",
    "    for i in d.keys():\n",
    "        if type(d[i])==dict:\n",
    "            l.append(d[i].values())\n",
    "    return l"
   ]
  },
  {
   "cell_type": "code",
   "execution_count": 56,
   "id": "40a90e9c",
   "metadata": {},
   "outputs": [
    {
     "data": {
      "text/plain": [
       "[dict_values(['imran', 'anand', 'shashank']),\n",
       " dict_values(['imran@inueron.ai', 'anand.ineuron.ai', 'shsshank@ineuron.ai'])]"
      ]
     },
     "execution_count": 56,
     "metadata": {},
     "output_type": "execute_result"
    }
   ],
   "source": [
    "test9(d9)"
   ]
  },
  {
   "cell_type": "code",
   "execution_count": 57,
   "id": "afc9bb79",
   "metadata": {},
   "outputs": [],
   "source": [
    "#to add the elements\n",
    "d8['mobilenumber']=(2323,345345,345345)"
   ]
  },
  {
   "cell_type": "code",
   "execution_count": 58,
   "id": "6fcf7169",
   "metadata": {},
   "outputs": [
    {
     "data": {
      "text/plain": [
       "{'name': 'sudh',\n",
       " 'mentor': {'fsds': 'imran', 'fsda': 'anand', 'bigdata': 'shashank'},\n",
       " 'mobilenumber': (2323, 345345, 345345)}"
      ]
     },
     "execution_count": 58,
     "metadata": {},
     "output_type": "execute_result"
    }
   ],
   "source": [
    "d8"
   ]
  },
  {
   "cell_type": "code",
   "execution_count": 59,
   "id": "1975b6c7",
   "metadata": {},
   "outputs": [],
   "source": [
    "d8['name']='sudhamshu kumar'"
   ]
  },
  {
   "cell_type": "code",
   "execution_count": 60,
   "id": "46600ddd",
   "metadata": {},
   "outputs": [
    {
     "data": {
      "text/plain": [
       "{'name': 'sudhamshu kumar',\n",
       " 'mentor': {'fsds': 'imran', 'fsda': 'anand', 'bigdata': 'shashank'},\n",
       " 'mobilenumber': (2323, 345345, 345345)}"
      ]
     },
     "execution_count": 60,
     "metadata": {},
     "output_type": "execute_result"
    }
   ],
   "source": [
    "d8"
   ]
  },
  {
   "cell_type": "code",
   "execution_count": 61,
   "id": "5a27904f",
   "metadata": {},
   "outputs": [],
   "source": [
    "#to delete the dictory\n",
    "\n",
    "del d7"
   ]
  },
  {
   "cell_type": "code",
   "execution_count": 62,
   "id": "f8c481bd",
   "metadata": {},
   "outputs": [
    {
     "ename": "NameError",
     "evalue": "name 'd7' is not defined",
     "output_type": "error",
     "traceback": [
      "\u001b[1;31m---------------------------------------------------------------------------\u001b[0m",
      "\u001b[1;31mNameError\u001b[0m                                 Traceback (most recent call last)",
      "\u001b[1;32m~\\AppData\\Local\\Temp/ipykernel_6060/3263294700.py\u001b[0m in \u001b[0;36m<module>\u001b[1;34m\u001b[0m\n\u001b[1;32m----> 1\u001b[1;33m \u001b[0md7\u001b[0m\u001b[1;33m\u001b[0m\u001b[1;33m\u001b[0m\u001b[0m\n\u001b[0m",
      "\u001b[1;31mNameError\u001b[0m: name 'd7' is not defined"
     ]
    }
   ],
   "source": [
    "d7"
   ]
  },
  {
   "cell_type": "code",
   "execution_count": 63,
   "id": "7cde41a4",
   "metadata": {},
   "outputs": [],
   "source": [
    "#to delet elements in the keys\n",
    "\n",
    "del d8['name']"
   ]
  },
  {
   "cell_type": "code",
   "execution_count": 64,
   "id": "648cd9e1",
   "metadata": {},
   "outputs": [
    {
     "data": {
      "text/plain": [
       "{'mentor': {'fsds': 'imran', 'fsda': 'anand', 'bigdata': 'shashank'},\n",
       " 'mobilenumber': (2323, 345345, 345345)}"
      ]
     },
     "execution_count": 64,
     "metadata": {},
     "output_type": "execute_result"
    }
   ],
   "source": [
    "d8"
   ]
  },
  {
   "cell_type": "code",
   "execution_count": 65,
   "id": "d58571c7",
   "metadata": {},
   "outputs": [
    {
     "data": {
      "text/plain": [
       "{'fsds': 'imran', 'fsda': 'anand', 'bigdata': 'shashank'}"
      ]
     },
     "execution_count": 65,
     "metadata": {},
     "output_type": "execute_result"
    }
   ],
   "source": [
    "#pop method\n",
    "\n",
    "d8.pop('mentor')"
   ]
  },
  {
   "cell_type": "code",
   "execution_count": 66,
   "id": "65f4e292",
   "metadata": {},
   "outputs": [
    {
     "data": {
      "text/plain": [
       "{'mobilenumber': (2323, 345345, 345345)}"
      ]
     },
     "execution_count": 66,
     "metadata": {},
     "output_type": "execute_result"
    }
   ],
   "source": [
    "d8"
   ]
  },
  {
   "cell_type": "code",
   "execution_count": 67,
   "id": "1e3af02a",
   "metadata": {},
   "outputs": [],
   "source": [
    "d8['name']='sudhanshu'"
   ]
  },
  {
   "cell_type": "code",
   "execution_count": 68,
   "id": "348d7eb4",
   "metadata": {},
   "outputs": [
    {
     "data": {
      "text/plain": [
       "{'mobilenumber': (2323, 345345, 345345), 'name': 'sudhanshu'}"
      ]
     },
     "execution_count": 68,
     "metadata": {},
     "output_type": "execute_result"
    }
   ],
   "source": [
    "d8"
   ]
  },
  {
   "cell_type": "markdown",
   "id": "68dfae22",
   "metadata": {},
   "source": [
    "## keyword arguments"
   ]
  },
  {
   "cell_type": "code",
   "execution_count": 69,
   "id": "957aa55f",
   "metadata": {},
   "outputs": [],
   "source": [
    "#create a function that takes a variable name and its value\n",
    "\n",
    "def test10(**kwargs):\n",
    "    return kwargs"
   ]
  },
  {
   "cell_type": "code",
   "execution_count": 70,
   "id": "0b0ebf7a",
   "metadata": {},
   "outputs": [
    {
     "ename": "TypeError",
     "evalue": "test10() takes 0 positional arguments but 3 were given",
     "output_type": "error",
     "traceback": [
      "\u001b[1;31m---------------------------------------------------------------------------\u001b[0m",
      "\u001b[1;31mTypeError\u001b[0m                                 Traceback (most recent call last)",
      "\u001b[1;32m~\\AppData\\Local\\Temp/ipykernel_6060/70610548.py\u001b[0m in \u001b[0;36m<module>\u001b[1;34m\u001b[0m\n\u001b[1;32m----> 1\u001b[1;33m \u001b[0mtest10\u001b[0m\u001b[1;33m(\u001b[0m\u001b[1;36m4\u001b[0m\u001b[1;33m,\u001b[0m\u001b[1;36m5\u001b[0m\u001b[1;33m,\u001b[0m\u001b[1;36m6\u001b[0m\u001b[1;33m)\u001b[0m\u001b[1;33m\u001b[0m\u001b[1;33m\u001b[0m\u001b[0m\n\u001b[0m",
      "\u001b[1;31mTypeError\u001b[0m: test10() takes 0 positional arguments but 3 were given"
     ]
    }
   ],
   "source": [
    "test10(4,5,6)"
   ]
  },
  {
   "cell_type": "code",
   "execution_count": 72,
   "id": "a73c2be6",
   "metadata": {},
   "outputs": [
    {
     "data": {
      "text/plain": [
       "{'a': 4, 'b': 5, 'c': 6, 'sudh': 7}"
      ]
     },
     "execution_count": 72,
     "metadata": {},
     "output_type": "execute_result"
    }
   ],
   "source": [
    "test10(a=4,b=5,c=6,sudh=7)  #the return type is dict"
   ]
  },
  {
   "cell_type": "code",
   "execution_count": 73,
   "id": "ebe17805",
   "metadata": {},
   "outputs": [],
   "source": [
    "def test11(**mora):\n",
    "    return mora"
   ]
  },
  {
   "cell_type": "code",
   "execution_count": 74,
   "id": "dd7fa5d0",
   "metadata": {},
   "outputs": [
    {
     "data": {
      "text/plain": [
       "{'b': 234, 'm': 23425}"
      ]
     },
     "execution_count": 74,
     "metadata": {},
     "output_type": "execute_result"
    }
   ],
   "source": [
    "test11(b=234, m=23425)"
   ]
  },
  {
   "cell_type": "code",
   "execution_count": 76,
   "id": "8d7701d6",
   "metadata": {},
   "outputs": [
    {
     "ename": "SyntaxError",
     "evalue": "expression cannot contain assignment, perhaps you meant \"==\"? (Temp/ipykernel_6060/4095901526.py, line 1)",
     "output_type": "error",
     "traceback": [
      "\u001b[1;36m  File \u001b[1;32m\"C:\\Users\\hi\\AppData\\Local\\Temp/ipykernel_6060/4095901526.py\"\u001b[1;36m, line \u001b[1;32m1\u001b[0m\n\u001b[1;33m    test11(1=234, m=23425)  #need to follow the rules for variable creation\u001b[0m\n\u001b[1;37m           ^\u001b[0m\n\u001b[1;31mSyntaxError\u001b[0m\u001b[1;31m:\u001b[0m expression cannot contain assignment, perhaps you meant \"==\"?\n"
     ]
    }
   ],
   "source": [
    "test11(1=234, m=23425)  #need to follow the rules for variable creation"
   ]
  },
  {
   "cell_type": "code",
   "execution_count": 77,
   "id": "d0fcb18a",
   "metadata": {},
   "outputs": [],
   "source": [
    "##function with in a function\n",
    "\n",
    "def test12(a):\n",
    "    return a\n",
    "\n",
    "def test13(b):\n",
    "    return b\n",
    "\n",
    "def test14(func):\n",
    "    return func('sudh')"
   ]
  },
  {
   "cell_type": "code",
   "execution_count": 78,
   "id": "9ae9ae31",
   "metadata": {},
   "outputs": [
    {
     "data": {
      "text/plain": [
       "'sudh'"
      ]
     },
     "execution_count": 78,
     "metadata": {},
     "output_type": "execute_result"
    }
   ],
   "source": [
    "test14(test12)"
   ]
  },
  {
   "cell_type": "code",
   "execution_count": 79,
   "id": "8cc48362",
   "metadata": {},
   "outputs": [
    {
     "data": {
      "text/plain": [
       "'sudh'"
      ]
     },
     "execution_count": 79,
     "metadata": {},
     "output_type": "execute_result"
    }
   ],
   "source": [
    "test14(test13)"
   ]
  },
  {
   "cell_type": "code",
   "execution_count": 84,
   "id": "2f25f0ec",
   "metadata": {},
   "outputs": [],
   "source": [
    "##function with in a function\n",
    "\n",
    "def test12(a):\n",
    "    return a\n",
    "\n",
    "def test13(*args):\n",
    "    return 'sudh'\n",
    "\n",
    "def test14(func):\n",
    "    return func('sudh')"
   ]
  },
  {
   "cell_type": "code",
   "execution_count": 85,
   "id": "a01e0e4c",
   "metadata": {},
   "outputs": [
    {
     "data": {
      "text/plain": [
       "'sudh'"
      ]
     },
     "execution_count": 85,
     "metadata": {},
     "output_type": "execute_result"
    }
   ],
   "source": [
    "test14(test13)"
   ]
  },
  {
   "cell_type": "code",
   "execution_count": 91,
   "id": "5f8ff5bc",
   "metadata": {},
   "outputs": [],
   "source": [
    "def test15(a):\n",
    "    print('this is my test15')\n",
    "    \n",
    "    def test16():\n",
    "        print('this is my test16')\n",
    "        \n",
    "    def test17():\n",
    "        print('this is my test17')\n",
    "        \n",
    "    if a=='sudh':\n",
    "        return test16()\n",
    "    elif a=='kumar':\n",
    "        return test17()\n",
    "    "
   ]
  },
  {
   "cell_type": "code",
   "execution_count": 89,
   "id": "65a9a6ca",
   "metadata": {},
   "outputs": [
    {
     "name": "stdout",
     "output_type": "stream",
     "text": [
      "this is my test15\n"
     ]
    }
   ],
   "source": [
    "test15()"
   ]
  },
  {
   "cell_type": "code",
   "execution_count": 92,
   "id": "072c2580",
   "metadata": {},
   "outputs": [
    {
     "name": "stdout",
     "output_type": "stream",
     "text": [
      "this is my test15\n",
      "this is my test16\n"
     ]
    }
   ],
   "source": [
    "test15('sudh')"
   ]
  },
  {
   "cell_type": "code",
   "execution_count": 93,
   "id": "d32a46b0",
   "metadata": {},
   "outputs": [
    {
     "name": "stdout",
     "output_type": "stream",
     "text": [
      "this is my test15\n",
      "this is my test17\n"
     ]
    }
   ],
   "source": [
    "test15('kumar')"
   ]
  },
  {
   "cell_type": "code",
   "execution_count": 94,
   "id": "f0029e1e",
   "metadata": {},
   "outputs": [],
   "source": [
    "def test18(func):\n",
    "    def test19():\n",
    "        print('i am inside test19')\n",
    "        func()\n",
    "    return test19()"
   ]
  },
  {
   "cell_type": "code",
   "execution_count": 97,
   "id": "165febb7",
   "metadata": {},
   "outputs": [],
   "source": [
    "\n",
    "def test13(*args):\n",
    "    print('this is a return of test13')"
   ]
  },
  {
   "cell_type": "code",
   "execution_count": 98,
   "id": "7353e8f8",
   "metadata": {},
   "outputs": [
    {
     "name": "stdout",
     "output_type": "stream",
     "text": [
      "i am inside test19\n",
      "this is a return of test13\n"
     ]
    }
   ],
   "source": [
    "test18(test13)"
   ]
  },
  {
   "cell_type": "code",
   "execution_count": 100,
   "id": "4bd5bec0",
   "metadata": {},
   "outputs": [],
   "source": [
    "def test18(func):\n",
    "    def test19():\n",
    "        print('i am inside test19')\n",
    "        func()\n",
    "    return test19()"
   ]
  },
  {
   "cell_type": "code",
   "execution_count": 101,
   "id": "8fc2ea8f",
   "metadata": {},
   "outputs": [
    {
     "name": "stdout",
     "output_type": "stream",
     "text": [
      "i am inside test19\n",
      "this is a return of test13\n"
     ]
    }
   ],
   "source": [
    "test18(test13) #we can call a function from other function"
   ]
  },
  {
   "cell_type": "markdown",
   "id": "7ef79710",
   "metadata": {},
   "source": [
    "## decorators\n",
    "\n",
    "- It is on of the way to re utilise the existing codes/ functions"
   ]
  },
  {
   "cell_type": "code",
   "execution_count": 126,
   "id": "56929617",
   "metadata": {},
   "outputs": [],
   "source": [
    "def test18(func):\n",
    "    def test19(*mora):\n",
    "        print('I am inside test19 and this will behave a decorator to any function that i am going to call')\n",
    "        func()\n",
    "    return test19"
   ]
  },
  {
   "cell_type": "code",
   "execution_count": 127,
   "id": "3b77892e",
   "metadata": {},
   "outputs": [],
   "source": [
    "@test18\n",
    "def test20():\n",
    "    #print('this is test20')\n",
    "    return 'this is test20'\n",
    "    "
   ]
  },
  {
   "cell_type": "code",
   "execution_count": 128,
   "id": "49d3fe73",
   "metadata": {},
   "outputs": [
    {
     "name": "stdout",
     "output_type": "stream",
     "text": [
      "I am inside test19 and this will behave a decorator to any function that i am going to call\n"
     ]
    }
   ],
   "source": [
    "test20()"
   ]
  },
  {
   "cell_type": "code",
   "execution_count": 129,
   "id": "25fb748d",
   "metadata": {},
   "outputs": [],
   "source": [
    "import os\n",
    "def test20(func):\n",
    "    def test21():\n",
    "        func()\n",
    "        print(os.getcwd())\n",
    "    return test21\n",
    "    "
   ]
  },
  {
   "cell_type": "code",
   "execution_count": 130,
   "id": "2edee9d1",
   "metadata": {},
   "outputs": [],
   "source": [
    "# to call test20 along with test22\n",
    "@test20\n",
    "def test22():\n",
    "    print('this will print inside test22')"
   ]
  },
  {
   "cell_type": "code",
   "execution_count": 131,
   "id": "267a1f5c",
   "metadata": {},
   "outputs": [
    {
     "name": "stdout",
     "output_type": "stream",
     "text": [
      "this will print inside test22\n",
      "C:\\Users\\hi\\Downloads\\Python for Data Science\\Full_Stack_DS\n"
     ]
    }
   ],
   "source": [
    "test22()"
   ]
  },
  {
   "cell_type": "code",
   "execution_count": 132,
   "id": "57fb407e",
   "metadata": {},
   "outputs": [],
   "source": [
    "# to call test20 along with test22\n",
    "@test18\n",
    "@test20\n",
    "def test22():\n",
    "    print('this will print inside test22')"
   ]
  },
  {
   "cell_type": "code",
   "execution_count": 133,
   "id": "d75d85ed",
   "metadata": {},
   "outputs": [
    {
     "name": "stdout",
     "output_type": "stream",
     "text": [
      "I am inside test19 and this will behave a decorator to any function that i am going to call\n",
      "this will print inside test22\n",
      "C:\\Users\\hi\\Downloads\\Python for Data Science\\Full_Stack_DS\n"
     ]
    }
   ],
   "source": [
    "test22()"
   ]
  },
  {
   "cell_type": "code",
   "execution_count": 134,
   "id": "77aaac82",
   "metadata": {},
   "outputs": [
    {
     "name": "stdout",
     "output_type": "stream",
     "text": [
      "hello\n",
      "0.0009958744049072266\n"
     ]
    }
   ],
   "source": [
    "import time\n",
    "\n",
    "start = time.time()\n",
    "print('hello')\n",
    "end=time.time()\n",
    "print(end-start)"
   ]
  },
  {
   "cell_type": "code",
   "execution_count": 143,
   "id": "7486c179",
   "metadata": {},
   "outputs": [],
   "source": [
    "#what is the execution time of the function\n",
    "\n",
    "def test25(func):\n",
    "    def test26():\n",
    "        print('this wil give you execution thime of a function')\n",
    "        start = time.time()\n",
    "        func()\n",
    "        end = time.time()\n",
    "        print(end-start)\n",
    "    return test26"
   ]
  },
  {
   "cell_type": "code",
   "execution_count": 150,
   "id": "cac69bb8",
   "metadata": {},
   "outputs": [],
   "source": [
    "@test25\n",
    "def test27():\n",
    "    \"\"\"this is a function which will take a decorator for calcualting timing of a function\"\"\"\n",
    "    l = [4,5,6,7,8]\n",
    "    l1 = []\n",
    "    for i in l:\n",
    "        if type(i)==int:\n",
    "            l1.append(i)\n",
    "    return l1\n",
    "        "
   ]
  },
  {
   "cell_type": "code",
   "execution_count": 151,
   "id": "e947d8b9",
   "metadata": {},
   "outputs": [
    {
     "name": "stdout",
     "output_type": "stream",
     "text": [
      "this wil give you execution thime of a function\n",
      "0.0\n"
     ]
    }
   ],
   "source": [
    "test27()"
   ]
  },
  {
   "cell_type": "code",
   "execution_count": null,
   "id": "6d80a107",
   "metadata": {},
   "outputs": [],
   "source": []
  }
 ],
 "metadata": {
  "kernelspec": {
   "display_name": "Python 3 (ipykernel)",
   "language": "python",
   "name": "python3"
  },
  "language_info": {
   "codemirror_mode": {
    "name": "ipython",
    "version": 3
   },
   "file_extension": ".py",
   "mimetype": "text/x-python",
   "name": "python",
   "nbconvert_exporter": "python",
   "pygments_lexer": "ipython3",
   "version": "3.9.12"
  }
 },
 "nbformat": 4,
 "nbformat_minor": 5
}
