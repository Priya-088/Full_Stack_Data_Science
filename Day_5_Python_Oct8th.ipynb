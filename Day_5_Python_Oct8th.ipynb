{
 "cells": [
  {
   "cell_type": "markdown",
   "id": "6d2b0d8a",
   "metadata": {},
   "source": [
    "### Agenda\n",
    "\n",
    "1. Operators\n",
    "  - Artthmetic Operators\n",
    "2. String menthods"
   ]
  },
  {
   "cell_type": "markdown",
   "id": "64dff40d",
   "metadata": {},
   "source": [
    "### Try to understand the following examples and answer the question based on it - \n",
    "    \n",
    "**Arithmatic Operators**\n",
    "\n",
    "|Operation|Meaning|\n",
    "|:-:|:-:|\n",
    "| **+** |addition|\n",
    "| **-** |subtraction|\n",
    "| **\\*** |multiplication|\n",
    "| **/** |true division|\n",
    "| **//** |integer division|\n",
    "| **%** |the modulo operator|\n",
    "\n",
    "\n",
    "Here `+`, `-`, `*`, `/` are regular arithmatic operators. Lets look at the `//` and `%` operators\n",
    "\n",
    "Usecase or examples - \n",
    "    \n",
    "```python\n",
    "var_a = 5\n",
    "var_b = 25\n",
    "integer_division = var_b // var_a\n",
    "print(f\"integer division: {var_b}/{var_a}={integer_division}\")\n",
    "```\n",
    "\n",
    "OUTPUT: integer division: 25/5=5\n",
    "\n",
    "```python\n",
    "var_a = 3\n",
    "var_b = 25\n",
    "integer_division = var_b // var_a\n",
    "print(f\"integer division: {var_b}/{var_a}={integer_division}\")\n",
    "```\n",
    "\n",
    "OUTPUT: integer division: 25/3=8\n",
    "\n",
    "```python\n",
    "var_a = 5\n",
    "var_b = 25\n",
    "remainder = var_b % var_a\n",
    "print(f\"remainder: {var_b}/{var_a} is {remainder}\")\n",
    "```\n",
    "\n",
    "OUTPUT: remainder: 25/5 is 0\n",
    "\n",
    "```python\n",
    "var_a = 3\n",
    "var_b = 25\n",
    "remainder = var_b % var_a\n",
    "print(f\"remainder: {var_b}/{var_a} is {remainder}\")\n",
    "```\n",
    "\n",
    "OUTPUT: remainder: 25/3 is 1\n",
    "\n"
   ]
  },
  {
   "cell_type": "code",
   "execution_count": 1,
   "id": "ee8472fd",
   "metadata": {},
   "outputs": [
    {
     "data": {
      "text/plain": [
       "45"
      ]
     },
     "execution_count": 1,
     "metadata": {},
     "output_type": "execute_result"
    }
   ],
   "source": [
    "A = 22\n",
    "B = 23\n",
    "\n",
    "A+B"
   ]
  },
  {
   "cell_type": "code",
   "execution_count": 2,
   "id": "208a4436",
   "metadata": {},
   "outputs": [
    {
     "data": {
      "text/plain": [
       "-1"
      ]
     },
     "execution_count": 2,
     "metadata": {},
     "output_type": "execute_result"
    }
   ],
   "source": [
    "A-B"
   ]
  },
  {
   "cell_type": "code",
   "execution_count": 3,
   "id": "5ec492fd",
   "metadata": {},
   "outputs": [
    {
     "data": {
      "text/plain": [
       "0.9565217391304348"
      ]
     },
     "execution_count": 3,
     "metadata": {},
     "output_type": "execute_result"
    }
   ],
   "source": [
    "A/B"
   ]
  },
  {
   "cell_type": "code",
   "execution_count": 4,
   "id": "b96f7037",
   "metadata": {},
   "outputs": [
    {
     "data": {
      "text/plain": [
       "0"
      ]
     },
     "execution_count": 4,
     "metadata": {},
     "output_type": "execute_result"
    }
   ],
   "source": [
    "A//B"
   ]
  },
  {
   "cell_type": "code",
   "execution_count": 5,
   "id": "57378d6e",
   "metadata": {},
   "outputs": [
    {
     "data": {
      "text/plain": [
       "2"
      ]
     },
     "execution_count": 5,
     "metadata": {},
     "output_type": "execute_result"
    }
   ],
   "source": [
    "a = 5\n",
    "b = 2\n",
    "\n",
    "a//b"
   ]
  },
  {
   "cell_type": "code",
   "execution_count": 6,
   "id": "c6174d50",
   "metadata": {},
   "outputs": [
    {
     "data": {
      "text/plain": [
       "1"
      ]
     },
     "execution_count": 6,
     "metadata": {},
     "output_type": "execute_result"
    }
   ],
   "source": [
    "a%b  #reminder"
   ]
  },
  {
   "cell_type": "code",
   "execution_count": 7,
   "id": "b59323eb",
   "metadata": {},
   "outputs": [
    {
     "data": {
      "text/plain": [
       "0"
      ]
     },
     "execution_count": 7,
     "metadata": {},
     "output_type": "execute_result"
    }
   ],
   "source": [
    "A = 4\n",
    "B = 2\n",
    "\n",
    "A%B"
   ]
  },
  {
   "cell_type": "code",
   "execution_count": 8,
   "id": "67848683",
   "metadata": {},
   "outputs": [
    {
     "name": "stdout",
     "output_type": "stream",
     "text": [
      "A : 55 is not divisible by B:2\n"
     ]
    }
   ],
   "source": [
    "A = 55\n",
    "\n",
    "B = 2\n",
    "\n",
    "if A%B==0:\n",
    "    print(f'A : {A} is divisible by B:{B}')\n",
    "else:\n",
    "    print(f'A : {A} is not divisible by B:{B}')"
   ]
  },
  {
   "cell_type": "code",
   "execution_count": 9,
   "id": "2032874f",
   "metadata": {},
   "outputs": [
    {
     "name": "stdout",
     "output_type": "stream",
     "text": [
      "A : 54 is divisible by B:3\n"
     ]
    }
   ],
   "source": [
    "A = 54\n",
    "\n",
    "B = 3\n",
    "\n",
    "if A%B==0:\n",
    "    print(f'A : {A} is divisible by B:{B}')\n",
    "else:\n",
    "    print(f'A : {A} is not divisible by B:{B}')"
   ]
  },
  {
   "cell_type": "code",
   "execution_count": 10,
   "id": "14596de5",
   "metadata": {},
   "outputs": [
    {
     "data": {
      "text/plain": [
       "2.0"
      ]
     },
     "execution_count": 10,
     "metadata": {},
     "output_type": "execute_result"
    }
   ],
   "source": [
    "# to find the square root\n",
    "\n",
    "A = 4\n",
    "A**(1/2)"
   ]
  },
  {
   "cell_type": "markdown",
   "id": "24306b12",
   "metadata": {},
   "source": [
    "### String methods"
   ]
  },
  {
   "cell_type": "code",
   "execution_count": 12,
   "id": "cf6290ae",
   "metadata": {},
   "outputs": [
    {
     "data": {
      "text/plain": [
       "'S'"
      ]
     },
     "execution_count": 12,
     "metadata": {},
     "output_type": "execute_result"
    }
   ],
   "source": [
    "#       01234\n",
    "name = 'Sunny'\n",
    "\n",
    "name[0]"
   ]
  },
  {
   "cell_type": "code",
   "execution_count": 13,
   "id": "181adacf",
   "metadata": {},
   "outputs": [
    {
     "data": {
      "text/plain": [
       "'y'"
      ]
     },
     "execution_count": 13,
     "metadata": {},
     "output_type": "execute_result"
    }
   ],
   "source": [
    "name[4]"
   ]
  },
  {
   "cell_type": "code",
   "execution_count": 14,
   "id": "fd7ea8a1",
   "metadata": {},
   "outputs": [
    {
     "data": {
      "text/plain": [
       "'y'"
      ]
     },
     "execution_count": 14,
     "metadata": {},
     "output_type": "execute_result"
    }
   ],
   "source": [
    "name[-1]"
   ]
  },
  {
   "cell_type": "code",
   "execution_count": 15,
   "id": "7fccee20",
   "metadata": {},
   "outputs": [
    {
     "data": {
      "text/plain": [
       "'S'"
      ]
     },
     "execution_count": 15,
     "metadata": {},
     "output_type": "execute_result"
    }
   ],
   "source": [
    "name[-0]"
   ]
  },
  {
   "cell_type": "code",
   "execution_count": 17,
   "id": "3d31bfa4",
   "metadata": {},
   "outputs": [
    {
     "ename": "IndexError",
     "evalue": "string index out of range",
     "output_type": "error",
     "traceback": [
      "\u001b[1;31m---------------------------------------------------------------------------\u001b[0m",
      "\u001b[1;31mIndexError\u001b[0m                                Traceback (most recent call last)",
      "\u001b[1;32m~\\AppData\\Local\\Temp/ipykernel_7184/4285078517.py\u001b[0m in \u001b[0;36m<module>\u001b[1;34m\u001b[0m\n\u001b[1;32m----> 1\u001b[1;33m \u001b[0mname\u001b[0m\u001b[1;33m[\u001b[0m\u001b[1;36m5\u001b[0m\u001b[1;33m]\u001b[0m  \u001b[1;31m#supplying the range greater than the str len\u001b[0m\u001b[1;33m\u001b[0m\u001b[1;33m\u001b[0m\u001b[0m\n\u001b[0m",
      "\u001b[1;31mIndexError\u001b[0m: string index out of range"
     ]
    }
   ],
   "source": [
    "name[5]  #supplying the range greater than the str len"
   ]
  },
  {
   "cell_type": "markdown",
   "id": "0c3baaf4",
   "metadata": {},
   "source": [
    "If N characters or elements are there in a string then\n",
    "\n",
    "- the index range will be till N-1\n",
    "- To index in reverse manner the range will be -1 to -N"
   ]
  },
  {
   "cell_type": "code",
   "execution_count": 18,
   "id": "01b82f6c",
   "metadata": {},
   "outputs": [
    {
     "data": {
      "text/plain": [
       "'unny'"
      ]
     },
     "execution_count": 18,
     "metadata": {},
     "output_type": "execute_result"
    }
   ],
   "source": [
    "#String slicing\n",
    "name = 'Sunny'\n",
    "name[1:]"
   ]
  },
  {
   "cell_type": "code",
   "execution_count": 19,
   "id": "3f8e7fc2",
   "metadata": {},
   "outputs": [
    {
     "data": {
      "text/plain": [
       "'un'"
      ]
     },
     "execution_count": 19,
     "metadata": {},
     "output_type": "execute_result"
    }
   ],
   "source": [
    "name[1:3] #here the ending index is excluded"
   ]
  },
  {
   "cell_type": "code",
   "execution_count": 20,
   "id": "229bb38c",
   "metadata": {},
   "outputs": [
    {
     "data": {
      "text/plain": [
       "'unn'"
      ]
     },
     "execution_count": 20,
     "metadata": {},
     "output_type": "execute_result"
    }
   ],
   "source": [
    "name[1:4]"
   ]
  },
  {
   "cell_type": "code",
   "execution_count": 21,
   "id": "3f575e5a",
   "metadata": {},
   "outputs": [
    {
     "data": {
      "text/plain": [
       "'unny'"
      ]
     },
     "execution_count": 21,
     "metadata": {},
     "output_type": "execute_result"
    }
   ],
   "source": [
    "name[1:5] #5 is not included"
   ]
  },
  {
   "cell_type": "code",
   "execution_count": 22,
   "id": "547aaa7f",
   "metadata": {},
   "outputs": [
    {
     "data": {
      "text/plain": [
       "'unn'"
      ]
     },
     "execution_count": 22,
     "metadata": {},
     "output_type": "execute_result"
    }
   ],
   "source": [
    "name[-4:-1]"
   ]
  },
  {
   "cell_type": "code",
   "execution_count": 35,
   "id": "9d002a27",
   "metadata": {},
   "outputs": [
    {
     "name": "stdout",
     "output_type": "stream",
     "text": [
      "its 08th of month 10 of the year 2022\n"
     ]
    }
   ],
   "source": [
    "date = '08/10/2022'\n",
    "today = date[0:2]\n",
    "month = date[3:5]\n",
    "year = date[-4:]\n",
    "\n",
    "print(f'its {today}th of month {month} of the year {year}')"
   ]
  },
  {
   "cell_type": "code",
   "execution_count": 30,
   "id": "844a0755",
   "metadata": {},
   "outputs": [
    {
     "data": {
      "text/plain": [
       "'08'"
      ]
     },
     "execution_count": 30,
     "metadata": {},
     "output_type": "execute_result"
    }
   ],
   "source": [
    "today = date[0:2]\n",
    "today"
   ]
  },
  {
   "cell_type": "code",
   "execution_count": 31,
   "id": "c958aa0a",
   "metadata": {},
   "outputs": [
    {
     "data": {
      "text/plain": [
       "'10'"
      ]
     },
     "execution_count": 31,
     "metadata": {},
     "output_type": "execute_result"
    }
   ],
   "source": [
    "month = date[3:5]\n",
    "month"
   ]
  },
  {
   "cell_type": "code",
   "execution_count": 32,
   "id": "de81bb0b",
   "metadata": {},
   "outputs": [
    {
     "data": {
      "text/plain": [
       "'2022'"
      ]
     },
     "execution_count": 32,
     "metadata": {},
     "output_type": "execute_result"
    }
   ],
   "source": [
    "year = date[-4:]\n",
    "year"
   ]
  },
  {
   "cell_type": "code",
   "execution_count": 38,
   "id": "d1b11fb2",
   "metadata": {},
   "outputs": [
    {
     "name": "stdout",
     "output_type": "stream",
     "text": [
      "enter DOB in the format dd/mm/yyyy: 11/10/1996\n",
      "The user was born in the month of 10 in the year 1996 on the date 11\n"
     ]
    }
   ],
   "source": [
    "date = input('enter DOB in the format dd/mm/yyyy: ')\n",
    "today = date[0:2]\n",
    "month = date[3:5]\n",
    "year = date[-4:]\n",
    "\n",
    "print(f'The user was born in the month of {month} in the year {year} on the date {today}')"
   ]
  },
  {
   "cell_type": "code",
   "execution_count": 39,
   "id": "aea054c0",
   "metadata": {},
   "outputs": [
    {
     "name": "stdout",
     "output_type": "stream",
     "text": [
      "enter DOB in the format dd/mmm/yyyy: 11/oct/1996\n",
      "The user was born in the month of oct in the year 1996 on the date 11\n"
     ]
    }
   ],
   "source": [
    "date = input('enter DOB in the format dd/mmm/yyyy: ')\n",
    "today = date[0:2]\n",
    "month = date[3:6]\n",
    "year = date[-4:]\n",
    "\n",
    "print(f'The user was born in the month of {month} in the year {year} on the date {today}')"
   ]
  },
  {
   "cell_type": "code",
   "execution_count": 40,
   "id": "e9bed31a",
   "metadata": {},
   "outputs": [
    {
     "data": {
      "text/plain": [
       "'Sny'"
      ]
     },
     "execution_count": 40,
     "metadata": {},
     "output_type": "execute_result"
    }
   ],
   "source": [
    "name = 'Sunny'\n",
    "name[0:5:2]  #start:ending:step"
   ]
  },
  {
   "cell_type": "code",
   "execution_count": 42,
   "id": "a263dc31",
   "metadata": {},
   "outputs": [
    {
     "data": {
      "text/plain": [
       "'Sn'"
      ]
     },
     "execution_count": 42,
     "metadata": {},
     "output_type": "execute_result"
    }
   ],
   "source": [
    "name[0:5:3]"
   ]
  },
  {
   "cell_type": "code",
   "execution_count": 43,
   "id": "97c9afe8",
   "metadata": {},
   "outputs": [
    {
     "data": {
      "text/plain": [
       "'SnyBaenCada'"
      ]
     },
     "execution_count": 43,
     "metadata": {},
     "output_type": "execute_result"
    }
   ],
   "source": [
    "name = 'Sunny Bhaveen Chandra'\n",
    "\n",
    "name[0::2]"
   ]
  },
  {
   "cell_type": "code",
   "execution_count": 44,
   "id": "0587ea81",
   "metadata": {},
   "outputs": [
    {
     "data": {
      "text/plain": [
       "'S'"
      ]
     },
     "execution_count": 44,
     "metadata": {},
     "output_type": "execute_result"
    }
   ],
   "source": [
    "name = 'Sunny Bhaveen Chandra'\n",
    "\n",
    "name[0::-1]"
   ]
  },
  {
   "cell_type": "code",
   "execution_count": 45,
   "id": "cc11e864",
   "metadata": {},
   "outputs": [
    {
     "data": {
      "text/plain": [
       "'ardnahC neevahB ynnuS'"
      ]
     },
     "execution_count": 45,
     "metadata": {},
     "output_type": "execute_result"
    }
   ],
   "source": [
    "name[::-1]  # to reverse the string"
   ]
  },
  {
   "cell_type": "code",
   "execution_count": 46,
   "id": "4525dcea",
   "metadata": {},
   "outputs": [
    {
     "data": {
      "text/plain": [
       "'adaCneaBynS'"
      ]
     },
     "execution_count": 46,
     "metadata": {},
     "output_type": "execute_result"
    }
   ],
   "source": [
    "name[::-2]  #skipping characters"
   ]
  },
  {
   "cell_type": "code",
   "execution_count": 48,
   "id": "1ab2ff7d",
   "metadata": {},
   "outputs": [
    {
     "name": "stdout",
     "output_type": "stream",
     "text": [
      "input a stringradar\n",
      "radar radar\n",
      "input string: radar is palindrome\n"
     ]
    }
   ],
   "source": [
    "#Palindrome sequence - eg: madam\n",
    "#read from left or right it will be same\n",
    "\n",
    "data = input('input a string')\n",
    "reverse = data[::-1]\n",
    "\n",
    "print(data, reverse)\n",
    "\n",
    "if data==reverse:\n",
    "    print(f'input string: {data} is palindrome')\n",
    "else:\n",
    "    print(f'input string: {data} is not a palindrome')\n",
    "\n"
   ]
  },
  {
   "cell_type": "code",
   "execution_count": 49,
   "id": "eef7f4df",
   "metadata": {},
   "outputs": [
    {
     "name": "stdout",
     "output_type": "stream",
     "text": [
      "input a stringsunny\n",
      "sunny ynnus\n",
      "input string: sunny is not a palindrome\n"
     ]
    }
   ],
   "source": [
    "data = input('input a string')\n",
    "reverse = data[::-1]\n",
    "\n",
    "print(data, reverse)\n",
    "\n",
    "if data==reverse:\n",
    "    print(f'input string: {data} is palindrome')\n",
    "else:\n",
    "    print(f'input string: {data} is not a palindrome')\n"
   ]
  },
  {
   "cell_type": "code",
   "execution_count": 50,
   "id": "054b15ba",
   "metadata": {},
   "outputs": [
    {
     "name": "stdout",
     "output_type": "stream",
     "text": [
      "input a stringRadar\n",
      "Radar radaR\n",
      "input string: Radar is not a palindrome\n"
     ]
    }
   ],
   "source": [
    "data = input('input a string')\n",
    "reverse = data[::-1]\n",
    "\n",
    "print(data, reverse)\n",
    "\n",
    "if data==reverse:\n",
    "    print(f'input string: {data} is palindrome')\n",
    "else:\n",
    "    print(f'input string: {data} is not a palindrome')\n"
   ]
  },
  {
   "cell_type": "code",
   "execution_count": 51,
   "id": "f408bb91",
   "metadata": {},
   "outputs": [],
   "source": [
    "sentence = \"Now Playing - 1st Oct Live Class Python if else condition basics\""
   ]
  },
  {
   "cell_type": "markdown",
   "id": "0e52ff6a",
   "metadata": {},
   "source": [
    "### Mutability\n",
    "\n",
    "- Str is not mutable/ changable"
   ]
  },
  {
   "cell_type": "code",
   "execution_count": 52,
   "id": "45d27648",
   "metadata": {},
   "outputs": [
    {
     "ename": "TypeError",
     "evalue": "'str' object does not support item assignment",
     "output_type": "error",
     "traceback": [
      "\u001b[1;31m---------------------------------------------------------------------------\u001b[0m",
      "\u001b[1;31mTypeError\u001b[0m                                 Traceback (most recent call last)",
      "\u001b[1;32m~\\AppData\\Local\\Temp/ipykernel_7184/1143774520.py\u001b[0m in \u001b[0;36m<module>\u001b[1;34m\u001b[0m\n\u001b[0;32m      1\u001b[0m \u001b[0mname\u001b[0m \u001b[1;33m=\u001b[0m \u001b[1;34m'Sunny'\u001b[0m\u001b[1;33m\u001b[0m\u001b[1;33m\u001b[0m\u001b[0m\n\u001b[1;32m----> 2\u001b[1;33m \u001b[0mname\u001b[0m\u001b[1;33m[\u001b[0m\u001b[1;36m0\u001b[0m\u001b[1;33m]\u001b[0m\u001b[1;33m=\u001b[0m\u001b[1;34m\"F\"\u001b[0m\u001b[1;33m\u001b[0m\u001b[1;33m\u001b[0m\u001b[0m\n\u001b[0m",
      "\u001b[1;31mTypeError\u001b[0m: 'str' object does not support item assignment"
     ]
    }
   ],
   "source": [
    "#replace \"s\" with 'F'\n",
    "name = 'Sunny'\n",
    "name[0]=\"F\""
   ]
  },
  {
   "cell_type": "code",
   "execution_count": 53,
   "id": "cf68fa2d",
   "metadata": {},
   "outputs": [
    {
     "data": {
      "text/plain": [
       "'Funny'"
      ]
     },
     "execution_count": 53,
     "metadata": {},
     "output_type": "execute_result"
    }
   ],
   "source": [
    "'F'+name[1:]"
   ]
  },
  {
   "cell_type": "code",
   "execution_count": 54,
   "id": "04580fa5",
   "metadata": {},
   "outputs": [],
   "source": [
    "name = 'F'+name[1:]"
   ]
  },
  {
   "cell_type": "code",
   "execution_count": 55,
   "id": "5502f90c",
   "metadata": {},
   "outputs": [
    {
     "data": {
      "text/plain": [
       "'Funny'"
      ]
     },
     "execution_count": 55,
     "metadata": {},
     "output_type": "execute_result"
    }
   ],
   "source": [
    "name"
   ]
  },
  {
   "cell_type": "code",
   "execution_count": 56,
   "id": "c87ef759",
   "metadata": {},
   "outputs": [
    {
     "data": {
      "text/plain": [
       "'FunnYYY'"
      ]
     },
     "execution_count": 56,
     "metadata": {},
     "output_type": "execute_result"
    }
   ],
   "source": [
    "#replace method\n",
    "\n",
    "name.replace('y','YYY')"
   ]
  },
  {
   "cell_type": "code",
   "execution_count": 57,
   "id": "384de719",
   "metadata": {},
   "outputs": [
    {
     "data": {
      "text/plain": [
       "'FunnYYY'"
      ]
     },
     "execution_count": 57,
     "metadata": {},
     "output_type": "execute_result"
    }
   ],
   "source": [
    "name = name.replace('y','YYY')\n",
    "name"
   ]
  },
  {
   "cell_type": "code",
   "execution_count": 58,
   "id": "3740c6cf",
   "metadata": {},
   "outputs": [],
   "source": [
    "name = 'Sunny BHAVEEN CHANDR'\n",
    "name=name.replace('Sunny','SUNNY')"
   ]
  },
  {
   "cell_type": "code",
   "execution_count": 59,
   "id": "46c96e63",
   "metadata": {},
   "outputs": [
    {
     "data": {
      "text/plain": [
       "'SUNNY BHAVEEN CHANDR'"
      ]
     },
     "execution_count": 59,
     "metadata": {},
     "output_type": "execute_result"
    }
   ],
   "source": [
    "name"
   ]
  },
  {
   "cell_type": "code",
   "execution_count": 60,
   "id": "30d1f2aa",
   "metadata": {},
   "outputs": [],
   "source": [
    "name = 'Sunny BHAVEEN CHANDR'\n",
    "name=name.replace('n','N')"
   ]
  },
  {
   "cell_type": "code",
   "execution_count": 61,
   "id": "3551dc80",
   "metadata": {},
   "outputs": [
    {
     "data": {
      "text/plain": [
       "'SuNNy BHAVEEN CHANDR'"
      ]
     },
     "execution_count": 61,
     "metadata": {},
     "output_type": "execute_result"
    }
   ],
   "source": [
    "name"
   ]
  },
  {
   "cell_type": "code",
   "execution_count": 62,
   "id": "4e413a32",
   "metadata": {},
   "outputs": [],
   "source": [
    "name = 'Sunny BHAVEEN CHANDR'\n",
    "name=name.replace(' ','_')"
   ]
  },
  {
   "cell_type": "code",
   "execution_count": 63,
   "id": "bc780d3a",
   "metadata": {},
   "outputs": [
    {
     "data": {
      "text/plain": [
       "'Sunny_BHAVEEN_CHANDR'"
      ]
     },
     "execution_count": 63,
     "metadata": {},
     "output_type": "execute_result"
    }
   ],
   "source": [
    "name"
   ]
  },
  {
   "cell_type": "markdown",
   "id": "0929b5ba",
   "metadata": {},
   "source": [
    "### length of the string which is often used"
   ]
  },
  {
   "cell_type": "code",
   "execution_count": 64,
   "id": "e7ec5576",
   "metadata": {},
   "outputs": [
    {
     "data": {
      "text/plain": [
       "20"
      ]
     },
     "execution_count": 64,
     "metadata": {},
     "output_type": "execute_result"
    }
   ],
   "source": [
    "len(name)"
   ]
  },
  {
   "cell_type": "code",
   "execution_count": 66,
   "id": "ca259ddf",
   "metadata": {},
   "outputs": [
    {
     "data": {
      "text/plain": [
       "13"
      ]
     },
     "execution_count": 66,
     "metadata": {},
     "output_type": "execute_result"
    }
   ],
   "source": [
    "len('Sunny chandra')"
   ]
  },
  {
   "cell_type": "code",
   "execution_count": 67,
   "id": "af318700",
   "metadata": {},
   "outputs": [
    {
     "data": {
      "text/plain": [
       "5"
      ]
     },
     "execution_count": 67,
     "metadata": {},
     "output_type": "execute_result"
    }
   ],
   "source": [
    "name = '  Sunny  '\n",
    "name = name.replace(' ','')\n",
    "len(name)"
   ]
  },
  {
   "cell_type": "markdown",
   "id": "e500fd5c",
   "metadata": {},
   "source": [
    "1. String indexing\n",
    "2. String slicing\n",
    "3. String skipping\n",
    "4. string reversal\n",
    "5. string replace method\n",
    "6. length of the string\n",
    "7. String is Immutable, we cannot directly change the letters by index methods"
   ]
  },
  {
   "cell_type": "code",
   "execution_count": 68,
   "id": "b975fe8d",
   "metadata": {},
   "outputs": [
    {
     "data": {
      "text/plain": [
       "'yhe a'"
      ]
     },
     "execution_count": 68,
     "metadata": {},
     "output_type": "execute_result"
    }
   ],
   "source": [
    "name = 'Sunny bhaveen chandra'\n",
    "name[4:19:3]"
   ]
  },
  {
   "cell_type": "markdown",
   "id": "48277394",
   "metadata": {},
   "source": [
    "### count specific character in a string"
   ]
  },
  {
   "cell_type": "code",
   "execution_count": 70,
   "id": "3c3730aa",
   "metadata": {},
   "outputs": [
    {
     "data": {
      "text/plain": [
       "2"
      ]
     },
     "execution_count": 70,
     "metadata": {},
     "output_type": "execute_result"
    }
   ],
   "source": [
    "name = 'Sunny'\n",
    "name.count('n')"
   ]
  },
  {
   "cell_type": "markdown",
   "id": "5965ec83",
   "metadata": {},
   "source": [
    "### Split operation\n"
   ]
  },
  {
   "cell_type": "code",
   "execution_count": 71,
   "id": "38ce3be9",
   "metadata": {},
   "outputs": [
    {
     "data": {
      "text/plain": [
       "['Sunny', 'Bhaveen', 'Chandra']"
      ]
     },
     "execution_count": 71,
     "metadata": {},
     "output_type": "execute_result"
    }
   ],
   "source": [
    "name = 'Sunny Bhaveen Chandra'\n",
    "name.split(\" \")"
   ]
  },
  {
   "cell_type": "code",
   "execution_count": 73,
   "id": "08a008f7",
   "metadata": {},
   "outputs": [
    {
     "name": "stdout",
     "output_type": "stream",
     "text": [
      "\n",
      "first_name: Sunny\n"
     ]
    }
   ],
   "source": [
    "first_name, middle_name, last_name = name.split(\" \")\n",
    "\n",
    "print(f\"\"\"\n",
    "first_name: {first_name}\"\"\")"
   ]
  },
  {
   "cell_type": "code",
   "execution_count": 76,
   "id": "49a143ad",
   "metadata": {},
   "outputs": [
    {
     "name": "stdout",
     "output_type": "stream",
     "text": [
      "enter DOB in the format dd/mmm/yyyy: 11/10/1996\n",
      "The user was born in the month of 10 in the year 1996 on the date 11\n"
     ]
    }
   ],
   "source": [
    "date = input('enter DOB in the format dd/mmm/yyyy: ')\n",
    "date, month, year = date.split('/')\n",
    "\n",
    "\n",
    "print(f'The user was born in the month of {month} in the year {year} on the date {date}')"
   ]
  },
  {
   "cell_type": "code",
   "execution_count": 77,
   "id": "c9410896",
   "metadata": {},
   "outputs": [
    {
     "data": {
      "text/plain": [
       "['Sunny', 'Bhaveen', 'Chandra']"
      ]
     },
     "execution_count": 77,
     "metadata": {},
     "output_type": "execute_result"
    }
   ],
   "source": [
    "name = 'Sunny_Bhaveen_Chandra'\n",
    "name.split('_')"
   ]
  },
  {
   "cell_type": "code",
   "execution_count": 78,
   "id": "936bb998",
   "metadata": {},
   "outputs": [
    {
     "data": {
      "text/plain": [
       "['Su', '', 'y_Bhavee', '_Cha', 'dra']"
      ]
     },
     "execution_count": 78,
     "metadata": {},
     "output_type": "execute_result"
    }
   ],
   "source": [
    "name.split('n')"
   ]
  },
  {
   "cell_type": "code",
   "execution_count": 79,
   "id": "6483a78f",
   "metadata": {},
   "outputs": [
    {
     "data": {
      "text/plain": [
       "['Sunny_Bhaveen_Chandra']"
      ]
     },
     "execution_count": 79,
     "metadata": {},
     "output_type": "execute_result"
    }
   ],
   "source": [
    "name.split('.')"
   ]
  },
  {
   "cell_type": "code",
   "execution_count": 80,
   "id": "a0ed0843",
   "metadata": {},
   "outputs": [
    {
     "name": "stdout",
     "output_type": "stream",
     "text": [
      "Enter the date in DD/MM/YYYY17th/march/1996\n"
     ]
    },
    {
     "data": {
      "text/plain": [
       "['17th', 'march', '1996']"
      ]
     },
     "execution_count": 80,
     "metadata": {},
     "output_type": "execute_result"
    }
   ],
   "source": [
    "date = input('Enter the date in DD/MM/YYYY')\n",
    "date.split('/')"
   ]
  },
  {
   "cell_type": "code",
   "execution_count": 82,
   "id": "22aabdbc",
   "metadata": {},
   "outputs": [
    {
     "name": "stdout",
     "output_type": "stream",
     "text": [
      "17th march 1996\n"
     ]
    }
   ],
   "source": [
    "A, B, C = date.split('/')\n",
    "print(A,B,C)"
   ]
  },
  {
   "cell_type": "code",
   "execution_count": 83,
   "id": "4eeaa9e0",
   "metadata": {},
   "outputs": [
    {
     "data": {
      "text/plain": [
       "['17th', 'march', '1996']"
      ]
     },
     "execution_count": 83,
     "metadata": {},
     "output_type": "execute_result"
    }
   ],
   "source": [
    "A = date.split('/')\n",
    "A"
   ]
  },
  {
   "cell_type": "code",
   "execution_count": 84,
   "id": "8f6cdc7f",
   "metadata": {},
   "outputs": [
    {
     "data": {
      "text/plain": [
       "'march'"
      ]
     },
     "execution_count": 84,
     "metadata": {},
     "output_type": "execute_result"
    }
   ],
   "source": [
    "A[1]"
   ]
  },
  {
   "cell_type": "code",
   "execution_count": 85,
   "id": "61f71f6b",
   "metadata": {},
   "outputs": [
    {
     "data": {
      "text/plain": [
       "3"
      ]
     },
     "execution_count": 85,
     "metadata": {},
     "output_type": "execute_result"
    }
   ],
   "source": [
    "len(A)"
   ]
  },
  {
   "cell_type": "markdown",
   "id": "354f503e",
   "metadata": {},
   "source": [
    "### lower, upper, title case etc"
   ]
  },
  {
   "cell_type": "code",
   "execution_count": 86,
   "id": "fea12603",
   "metadata": {},
   "outputs": [
    {
     "data": {
      "text/plain": [
       "'sunny bhaveen chandra'"
      ]
     },
     "execution_count": 86,
     "metadata": {},
     "output_type": "execute_result"
    }
   ],
   "source": [
    "name = 'Sunny Bhaveen Chandra'\n",
    "name.lower()"
   ]
  },
  {
   "cell_type": "code",
   "execution_count": 87,
   "id": "c3aeaada",
   "metadata": {},
   "outputs": [
    {
     "data": {
      "text/plain": [
       "'SUNNY BHAVEEN CHANDRA'"
      ]
     },
     "execution_count": 87,
     "metadata": {},
     "output_type": "execute_result"
    }
   ],
   "source": [
    "name.upper()"
   ]
  },
  {
   "cell_type": "code",
   "execution_count": 89,
   "id": "645c7709",
   "metadata": {},
   "outputs": [
    {
     "name": "stdout",
     "output_type": "stream",
     "text": [
      "Enter your name: Sunny BHAveen chanDRA\n",
      "user input: Sunny BHAveen chanDRA\n",
      "name in upper case: SUNNY BHAVEEN CHANDRA\n",
      "name in lower case: sunny bhaveen chandra\n",
      "name in title case: Sunny Bhaveen Chandra\n",
      "name in capitalise case: Sunny bhaveen chandra\n",
      "name in swap case: sUNNY bhaVEEN CHANdra\n"
     ]
    }
   ],
   "source": [
    "name = input('Enter your name: ')\n",
    "print(f'user input: {name}')\n",
    "print(f'name in upper case: {name.upper()}')\n",
    "print(f'name in lower case: {name.lower()}')\n",
    "print(f'name in title case: {name.title()}')\n",
    "print(f'name in capitalise case: {name.capitalize()}')\n",
    "print(f'name in swap case: {name.swapcase()}')"
   ]
  },
  {
   "cell_type": "code",
   "execution_count": 90,
   "id": "ae6faf48",
   "metadata": {},
   "outputs": [
    {
     "name": "stdout",
     "output_type": "stream",
     "text": [
      "user input: Today is the best DAY of my Life\n",
      "name in upper case: TODAY IS THE BEST DAY OF MY LIFE\n",
      "name in lower case: today is the best day of my life\n",
      "name in title case: Today Is The Best Day Of My Life\n",
      "name in capitalise case: Today is the best day of my life\n",
      "name in swap case: tODAY IS THE BEST day OF MY lIFE\n"
     ]
    }
   ],
   "source": [
    "name = 'Today is the best DAY of my Life'\n",
    "print(f'user input: {name}')\n",
    "print(f'name in upper case: {name.upper()}')\n",
    "print(f'name in lower case: {name.lower()}')\n",
    "print(f'name in title case: {name.title()}')\n",
    "print(f'name in capitalise case: {name.capitalize()}')\n",
    "print(f'name in swap case: {name.swapcase()}')"
   ]
  },
  {
   "cell_type": "markdown",
   "id": "e5e4fe31",
   "metadata": {},
   "source": [
    "### Join method\n"
   ]
  },
  {
   "cell_type": "code",
   "execution_count": 92,
   "id": "a10aa1ab",
   "metadata": {},
   "outputs": [
    {
     "data": {
      "text/plain": [
       "'S*u*n*n*y* *B*h*a*v*e*e*n* *C*h*a*n*d*r*a'"
      ]
     },
     "execution_count": 92,
     "metadata": {},
     "output_type": "execute_result"
    }
   ],
   "source": [
    "name ='Sunny Bhaveen Chandra'\n",
    "\n",
    "'*'.join(name)"
   ]
  },
  {
   "cell_type": "code",
   "execution_count": 93,
   "id": "25399521",
   "metadata": {},
   "outputs": [
    {
     "data": {
      "text/plain": [
       "'S|u|n|n|y| |B|h|a|v|e|e|n| |C|h|a|n|d|r|a'"
      ]
     },
     "execution_count": 93,
     "metadata": {},
     "output_type": "execute_result"
    }
   ],
   "source": [
    "'|'.join(name)"
   ]
  },
  {
   "cell_type": "code",
   "execution_count": 95,
   "id": "1b25e309",
   "metadata": {},
   "outputs": [
    {
     "data": {
      "text/plain": [
       "'S u n n y   B h a v e e n   C h a n d r a'"
      ]
     },
     "execution_count": 95,
     "metadata": {},
     "output_type": "execute_result"
    }
   ],
   "source": [
    "' '.join(name)"
   ]
  },
  {
   "cell_type": "code",
   "execution_count": 94,
   "id": "41436c27",
   "metadata": {},
   "outputs": [
    {
     "data": {
      "text/plain": [
       "'ardnahC neevahB ynnuS'"
      ]
     },
     "execution_count": 94,
     "metadata": {},
     "output_type": "execute_result"
    }
   ],
   "source": [
    "#to reverse name\n",
    "\n",
    "''.join(reversed(name))"
   ]
  },
  {
   "cell_type": "code",
   "execution_count": 96,
   "id": "26c834ed",
   "metadata": {},
   "outputs": [
    {
     "data": {
      "text/plain": [
       "'ardnahC neevahB ynnuS'"
      ]
     },
     "execution_count": 96,
     "metadata": {},
     "output_type": "execute_result"
    }
   ],
   "source": [
    "name[::-1]"
   ]
  },
  {
   "cell_type": "markdown",
   "id": "81ac8dc0",
   "metadata": {},
   "source": [
    "### remove extra spaces front and back of the string"
   ]
  },
  {
   "cell_type": "code",
   "execution_count": 97,
   "id": "b7e52c2b",
   "metadata": {},
   "outputs": [
    {
     "data": {
      "text/plain": [
       "'Sunny'"
      ]
     },
     "execution_count": 97,
     "metadata": {},
     "output_type": "execute_result"
    }
   ],
   "source": [
    "name = '  Sunny   '\n",
    "name.strip(' ')"
   ]
  },
  {
   "cell_type": "code",
   "execution_count": 98,
   "id": "e2de06e8",
   "metadata": {},
   "outputs": [
    {
     "data": {
      "text/plain": [
       "'Sunny   '"
      ]
     },
     "execution_count": 98,
     "metadata": {},
     "output_type": "execute_result"
    }
   ],
   "source": [
    "#left strip\n",
    "\n",
    "name.lstrip(' ')"
   ]
  },
  {
   "cell_type": "code",
   "execution_count": 99,
   "id": "1bbf55a0",
   "metadata": {},
   "outputs": [
    {
     "data": {
      "text/plain": [
       "'  Sunny'"
      ]
     },
     "execution_count": 99,
     "metadata": {},
     "output_type": "execute_result"
    }
   ],
   "source": [
    "name.rstrip(' ')"
   ]
  },
  {
   "cell_type": "code",
   "execution_count": 100,
   "id": "3b16a729",
   "metadata": {},
   "outputs": [
    {
     "data": {
      "text/plain": [
       "'Sunny Bhaveen Chandra'"
      ]
     },
     "execution_count": 100,
     "metadata": {},
     "output_type": "execute_result"
    }
   ],
   "source": [
    "name ='==Sunny Bhaveen Chandra==='\n",
    "name.strip('=')"
   ]
  },
  {
   "cell_type": "markdown",
   "id": "37bba404",
   "metadata": {},
   "source": [
    "### Fromatting"
   ]
  },
  {
   "cell_type": "code",
   "execution_count": 101,
   "id": "2cd51a81",
   "metadata": {},
   "outputs": [
    {
     "data": {
      "text/plain": [
       "'#######Sunny########'"
      ]
     },
     "execution_count": 101,
     "metadata": {},
     "output_type": "execute_result"
    }
   ],
   "source": [
    "name = 'Sunny'\n",
    "\n",
    "name.center(20,\"#\")"
   ]
  },
  {
   "cell_type": "code",
   "execution_count": 102,
   "id": "93766dc8",
   "metadata": {},
   "outputs": [
    {
     "data": {
      "text/plain": [
       "'##Sunny###'"
      ]
     },
     "execution_count": 102,
     "metadata": {},
     "output_type": "execute_result"
    }
   ],
   "source": [
    "name.center(10,\"#\")"
   ]
  },
  {
   "cell_type": "code",
   "execution_count": 103,
   "id": "3b28e6b2",
   "metadata": {},
   "outputs": [
    {
     "data": {
      "text/plain": [
       "'Sunny'"
      ]
     },
     "execution_count": 103,
     "metadata": {},
     "output_type": "execute_result"
    }
   ],
   "source": [
    "name.center(2,\"#\")"
   ]
  },
  {
   "cell_type": "markdown",
   "id": "d1d6c338",
   "metadata": {},
   "source": [
    "### Checking string cases (important)"
   ]
  },
  {
   "cell_type": "code",
   "execution_count": 104,
   "id": "7c6378a2",
   "metadata": {},
   "outputs": [
    {
     "data": {
      "text/plain": [
       "True"
      ]
     },
     "execution_count": 104,
     "metadata": {},
     "output_type": "execute_result"
    }
   ],
   "source": [
    "name = 'SUNNY'\n",
    "name.isupper()"
   ]
  },
  {
   "cell_type": "code",
   "execution_count": 105,
   "id": "5462f6ff",
   "metadata": {},
   "outputs": [
    {
     "data": {
      "text/plain": [
       "False"
      ]
     },
     "execution_count": 105,
     "metadata": {},
     "output_type": "execute_result"
    }
   ],
   "source": [
    "name.islower()"
   ]
  },
  {
   "cell_type": "code",
   "execution_count": 106,
   "id": "b283b4dd",
   "metadata": {},
   "outputs": [
    {
     "data": {
      "text/plain": [
       "False"
      ]
     },
     "execution_count": 106,
     "metadata": {},
     "output_type": "execute_result"
    }
   ],
   "source": [
    "name.isspace()"
   ]
  },
  {
   "cell_type": "code",
   "execution_count": 107,
   "id": "0ffc8757",
   "metadata": {},
   "outputs": [
    {
     "data": {
      "text/plain": [
       "False"
      ]
     },
     "execution_count": 107,
     "metadata": {},
     "output_type": "execute_result"
    }
   ],
   "source": [
    "name = 'Sunny  '\n",
    "name.isspace()"
   ]
  },
  {
   "cell_type": "code",
   "execution_count": 108,
   "id": "edd256fb",
   "metadata": {},
   "outputs": [
    {
     "data": {
      "text/plain": [
       "False"
      ]
     },
     "execution_count": 108,
     "metadata": {},
     "output_type": "execute_result"
    }
   ],
   "source": [
    "name = 'Sun ny'\n",
    "name.isspace()"
   ]
  },
  {
   "cell_type": "code",
   "execution_count": 110,
   "id": "d254ecc8",
   "metadata": {},
   "outputs": [
    {
     "name": "stdout",
     "output_type": "stream",
     "text": [
      "Enter your name:   \n",
      "user input:   \n",
      "Wrong input please try again\n"
     ]
    }
   ],
   "source": [
    "name = input('Enter your name: ')\n",
    "print(f'user input: {name}')\n",
    "\n",
    "if name.istitle():\n",
    "    print(f'user has given correct input')\n",
    "elif name.isspace():\n",
    "    print(f'Wrong input please try again')\n",
    "else:\n",
    "    print(f'wrong input we neet to autocorrect it')\n",
    "    name = name.title()\n",
    "    print(f'correct input {name}')"
   ]
  },
  {
   "cell_type": "code",
   "execution_count": 111,
   "id": "515a7801",
   "metadata": {},
   "outputs": [
    {
     "name": "stdout",
     "output_type": "stream",
     "text": [
      "Enter your name: sunny chandra\n",
      "user input: sunny chandra\n",
      "wrong input we neet to autocorrect it\n",
      "correct input Sunny Chandra\n"
     ]
    }
   ],
   "source": [
    "name = input('Enter your name: ')\n",
    "print(f'user input: {name}')\n",
    "\n",
    "if name.istitle():\n",
    "    print(f'user has given correct input')\n",
    "elif name.isspace():\n",
    "    print(f'Wrong input please try again')\n",
    "else:\n",
    "    print(f'wrong input we neet to autocorrect it')\n",
    "    name = name.title()\n",
    "    print(f'correct input {name}')\n",
    "    "
   ]
  },
  {
   "cell_type": "code",
   "execution_count": 112,
   "id": "d76412e7",
   "metadata": {},
   "outputs": [
    {
     "name": "stdout",
     "output_type": "stream",
     "text": [
      "Enter your name: suNNy chnDra\n",
      "user input: suNNy chnDra\n",
      "wrong input we neet to autocorrect it\n",
      "correct input Sunny Chndra\n"
     ]
    }
   ],
   "source": [
    "name = input('Enter your name: ')\n",
    "print(f'user input: {name}')\n",
    "\n",
    "if name.istitle():\n",
    "    print(f'user has given correct input')\n",
    "elif name.isspace():\n",
    "    print(f'Wrong input please try again')\n",
    "else:\n",
    "    print(f'wrong input we neet to autocorrect it')\n",
    "    name = name.title()\n",
    "    print(f'correct input {name}')"
   ]
  },
  {
   "cell_type": "code",
   "execution_count": 113,
   "id": "ad7090d6",
   "metadata": {},
   "outputs": [
    {
     "data": {
      "text/plain": [
       "True"
      ]
     },
     "execution_count": 113,
     "metadata": {},
     "output_type": "execute_result"
    }
   ],
   "source": [
    "phone_number = '1308580135'\n",
    "phone_number.isdigit()"
   ]
  },
  {
   "cell_type": "code",
   "execution_count": 114,
   "id": "9ea50bad",
   "metadata": {},
   "outputs": [
    {
     "data": {
      "text/plain": [
       "False"
      ]
     },
     "execution_count": 114,
     "metadata": {},
     "output_type": "execute_result"
    }
   ],
   "source": [
    "phone_number = '1308580135ggg'\n",
    "phone_number.isdigit()"
   ]
  },
  {
   "cell_type": "code",
   "execution_count": 115,
   "id": "df7e8619",
   "metadata": {},
   "outputs": [
    {
     "name": "stdout",
     "output_type": "stream",
     "text": [
      "enter your phone number: 9849433669\n",
      "user input is correct\n"
     ]
    }
   ],
   "source": [
    "phone_number = input('enter your phone number: ')\n",
    "\n",
    "if phone_number.isdigit() and len(phone_number)==10:\n",
    "    print(f'user input is correct')\n",
    "else:\n",
    "    print('Invalid input')\n"
   ]
  },
  {
   "cell_type": "code",
   "execution_count": 117,
   "id": "0dcb132f",
   "metadata": {},
   "outputs": [
    {
     "name": "stdout",
     "output_type": "stream",
     "text": [
      "enter your phone number: 0000000000\n",
      "Invalid input\n"
     ]
    }
   ],
   "source": [
    "phone_number = input('enter your phone number: ')\n",
    "\n",
    "if phone_number.isdigit() and len(phone_number)==10 and phone_number!='0000000000':\n",
    "    print(f'user input is correct')\n",
    "else:\n",
    "    print('Invalid input')\n"
   ]
  },
  {
   "cell_type": "code",
   "execution_count": 118,
   "id": "987e6788",
   "metadata": {},
   "outputs": [
    {
     "data": {
      "text/plain": [
       "True"
      ]
     },
     "execution_count": 118,
     "metadata": {},
     "output_type": "execute_result"
    }
   ],
   "source": [
    "phone_number.startswith('0')"
   ]
  },
  {
   "cell_type": "code",
   "execution_count": 119,
   "id": "d2e2bffb",
   "metadata": {},
   "outputs": [
    {
     "data": {
      "text/plain": [
       "True"
      ]
     },
     "execution_count": 119,
     "metadata": {},
     "output_type": "execute_result"
    }
   ],
   "source": [
    "phone_number.endswith('0')"
   ]
  },
  {
   "cell_type": "code",
   "execution_count": 127,
   "id": "73e3c206",
   "metadata": {},
   "outputs": [
    {
     "name": "stdout",
     "output_type": "stream",
     "text": [
      "enter your phone number: +919849433669\n",
      "user input is correct\n"
     ]
    }
   ],
   "source": [
    "#to check whether it is an Indian phone number\n",
    "phone_number = input('enter your phone number: ')\n",
    "\n",
    "if phone_number.startswith('+91') and phone_number[1:].isdigit() and len(phone_number)==13:\n",
    "    print(f'user input is correct')\n",
    "else:\n",
    "    print('Invalid input')\n"
   ]
  },
  {
   "cell_type": "code",
   "execution_count": 122,
   "id": "7226e024",
   "metadata": {},
   "outputs": [
    {
     "name": "stdout",
     "output_type": "stream",
     "text": [
      "enter your phone number: 9849433669\n",
      "Invalid input\n"
     ]
    }
   ],
   "source": [
    "#to check whether it is an Indian phone number\n",
    "phone_number = input('enter your phone number: ')\n",
    "\n",
    "if phone_number.startswith('+91') and phone_number[1:0].isdigit() and len(phone_number)==13:\n",
    "    print(f'user input is correct')\n",
    "else:\n",
    "    print('Invalid input')\n"
   ]
  },
  {
   "cell_type": "code",
   "execution_count": 123,
   "id": "c694425a",
   "metadata": {},
   "outputs": [
    {
     "data": {
      "text/plain": [
       "True"
      ]
     },
     "execution_count": 123,
     "metadata": {},
     "output_type": "execute_result"
    }
   ],
   "source": [
    "#to chck alphanumeric\n",
    "\n",
    "PAN_NUMBERS = 'AYEPC5656X'\n",
    "\n",
    "PAN_NUMBERS.isalnum() #check for alpha or numeric values\n"
   ]
  },
  {
   "cell_type": "code",
   "execution_count": 124,
   "id": "66b55d2c",
   "metadata": {},
   "outputs": [
    {
     "data": {
      "text/plain": [
       "True"
      ]
     },
     "execution_count": 124,
     "metadata": {},
     "output_type": "execute_result"
    }
   ],
   "source": [
    "PAN_NUMBERS = '4567'\n",
    "\n",
    "PAN_NUMBERS.isalnum()"
   ]
  },
  {
   "cell_type": "code",
   "execution_count": 125,
   "id": "8c1ec0ba",
   "metadata": {},
   "outputs": [
    {
     "data": {
      "text/plain": [
       "True"
      ]
     },
     "execution_count": 125,
     "metadata": {},
     "output_type": "execute_result"
    }
   ],
   "source": [
    "PAN_NUMBERS = 'AYEPC'\n",
    "\n",
    "PAN_NUMBERS.isalnum()"
   ]
  },
  {
   "cell_type": "code",
   "execution_count": 128,
   "id": "b29cc752",
   "metadata": {},
   "outputs": [
    {
     "data": {
      "text/plain": [
       "False"
      ]
     },
     "execution_count": 128,
     "metadata": {},
     "output_type": "execute_result"
    }
   ],
   "source": [
    "PAN_NUMBERS = ' '\n",
    "\n",
    "PAN_NUMBERS.isalnum()"
   ]
  },
  {
   "cell_type": "code",
   "execution_count": null,
   "id": "63a13a44",
   "metadata": {},
   "outputs": [],
   "source": []
  }
 ],
 "metadata": {
  "kernelspec": {
   "display_name": "Python 3 (ipykernel)",
   "language": "python",
   "name": "python3"
  },
  "language_info": {
   "codemirror_mode": {
    "name": "ipython",
    "version": 3
   },
   "file_extension": ".py",
   "mimetype": "text/x-python",
   "name": "python",
   "nbconvert_exporter": "python",
   "pygments_lexer": "ipython3",
   "version": "3.9.12"
  }
 },
 "nbformat": 4,
 "nbformat_minor": 5
}
