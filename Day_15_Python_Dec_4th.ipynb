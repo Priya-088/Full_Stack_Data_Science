{
 "cells": [
  {
   "cell_type": "markdown",
   "id": "be6a12df",
   "metadata": {},
   "source": [
    "## Agenda\n",
    "\n",
    "- File handling\n",
    "- Iterator\n",
    "- Generator"
   ]
  },
  {
   "cell_type": "code",
   "execution_count": 1,
   "id": "eb9298aa",
   "metadata": {},
   "outputs": [
    {
     "name": "stdout",
     "output_type": "stream",
     "text": [
      " Volume in drive C has no label.\n",
      " Volume Serial Number is 5E89-A9EE\n",
      "\n",
      " Directory of C:\\Users\\hi\\Downloads\\Python for Data Science\\Full_Stack_DS\n",
      "\n",
      "10-12-2022  16:59    <DIR>          .\n",
      "10-12-2022  16:59    <DIR>          ..\n",
      "10-12-2022  15:05    <DIR>          .ipynb_checkpoints\n",
      "02-10-2022  17:22            17,901 Assignment_1_Sep27.ipynb\n",
      "29-10-2022  16:43            24,479 Day_10_Python_Oct29th.ipynb\n",
      "12-11-2022  17:34            34,152 Day_11_Python_Nov12th.ipynb\n",
      "13-11-2022  17:20            39,051 Day_12_Python_Nov13th_functions.ipynb\n",
      "19-11-2022  23:26            40,543 Day_13_solving_questions_python_Nov19th_20th.ipynb\n",
      "03-12-2022  17:31            45,417 Day_14_Python_Exceptions_Dec3rd.ipynb\n",
      "10-12-2022  12:42               778 Day_15_Python_Dec_4th.ipynb\n",
      "10-12-2022  16:59            10,852 Day_16_Python_Dec_10th.ipynb\n",
      "02-10-2022  16:02            25,585 Day_2_Python_basics.ipynb\n",
      "02-10-2022  16:39            29,912 Day_3_Python_Sep23.ipynb\n",
      "08-10-2022  22:46            28,061 Day_4_Python_Oct1.ipynb\n",
      "08-10-2022  17:59            46,170 Day_5_Python_Oct8th.ipynb\n",
      "09-10-2022  17:32         1,994,509 Day_7_Python_Oct09th.ipynb\n",
      "15-10-2022  17:41            40,831 Day_8_Python_Oct15th.ipynb\n",
      "16-10-2022  17:51            54,265 Day_9_Python_Oct17th.ipynb\n",
      "10-12-2022  16:33                84 demo.log\n",
      "29-10-2022  23:45            13,692 example.docx\n",
      "09-10-2022  18:36            18,823 FSDS_bootcamp_assignment_002_Oct_01.ipynb\n",
      "13-10-2022  23:32             9,439 FSDS_bootcamp_assignment_004_Oct_09.ipynb\n",
      "20-10-2022  22:35             8,730 FSDS_bootcamp_assignment_005_Oct_16.ipynb\n",
      "30-10-2022  16:39            21,494 FSDS_bootcamp_assignment_Oct29.ipynb\n",
      "10-12-2022  16:49               123 test1.log\n",
      "10-12-2022  16:56               145 test2.log\n",
      "10-12-2022  16:57               105 test3.log\n",
      "08-10-2022  15:07                72 Untitled.ipynb\n",
      "              25 File(s)      2,505,213 bytes\n",
      "               3 Dir(s)  304,924,504,064 bytes free\n"
     ]
    }
   ],
   "source": [
    "%ls  #to check the list of files in the current folder"
   ]
  },
  {
   "cell_type": "code",
   "execution_count": 2,
   "id": "8c9d8a81",
   "metadata": {},
   "outputs": [
    {
     "data": {
      "text/plain": [
       "'C:\\\\Users\\\\hi\\\\Downloads\\\\Python for Data Science\\\\Full_Stack_DS'"
      ]
     },
     "execution_count": 2,
     "metadata": {},
     "output_type": "execute_result"
    }
   ],
   "source": [
    "pwd()"
   ]
  },
  {
   "cell_type": "code",
   "execution_count": 3,
   "id": "0a39b56d",
   "metadata": {},
   "outputs": [],
   "source": [
    "#used to open file\n",
    "f = open('test.txt')"
   ]
  },
  {
   "cell_type": "code",
   "execution_count": 4,
   "id": "7027548c",
   "metadata": {},
   "outputs": [
    {
     "data": {
      "text/plain": [
       "_io.TextIOWrapper"
      ]
     },
     "execution_count": 4,
     "metadata": {},
     "output_type": "execute_result"
    }
   ],
   "source": [
    "type(f)"
   ]
  },
  {
   "cell_type": "code",
   "execution_count": 5,
   "id": "58cc7281",
   "metadata": {},
   "outputs": [],
   "source": [
    "f.close()"
   ]
  },
  {
   "cell_type": "code",
   "execution_count": 21,
   "id": "ea7bdda4",
   "metadata": {},
   "outputs": [
    {
     "data": {
      "text/plain": [
       "\"I write code\\nI'm a beggner to the coding world\""
      ]
     },
     "execution_count": 21,
     "metadata": {},
     "output_type": "execute_result"
    }
   ],
   "source": [
    "#how to read a file\n",
    "f = open('test.txt')\n",
    "f.read()"
   ]
  },
  {
   "cell_type": "code",
   "execution_count": 22,
   "id": "a453f1e0",
   "metadata": {},
   "outputs": [
    {
     "data": {
      "text/plain": [
       "''"
      ]
     },
     "execution_count": 22,
     "metadata": {},
     "output_type": "execute_result"
    }
   ],
   "source": [
    "f.read(1)"
   ]
  },
  {
   "cell_type": "code",
   "execution_count": 23,
   "id": "b7dd9f4f",
   "metadata": {},
   "outputs": [
    {
     "data": {
      "text/plain": [
       "0"
      ]
     },
     "execution_count": 23,
     "metadata": {},
     "output_type": "execute_result"
    }
   ],
   "source": [
    "f.seek(0) #to go back to the starting line"
   ]
  },
  {
   "cell_type": "code",
   "execution_count": 24,
   "id": "c85a1e4a",
   "metadata": {},
   "outputs": [
    {
     "data": {
      "text/plain": [
       "'I'"
      ]
     },
     "execution_count": 24,
     "metadata": {},
     "output_type": "execute_result"
    }
   ],
   "source": [
    "f.read(1)"
   ]
  },
  {
   "cell_type": "code",
   "execution_count": 25,
   "id": "b7ece3d9",
   "metadata": {},
   "outputs": [],
   "source": [
    "#f.close()"
   ]
  },
  {
   "cell_type": "code",
   "execution_count": 26,
   "id": "05bfcc96",
   "metadata": {},
   "outputs": [
    {
     "data": {
      "text/plain": [
       "1"
      ]
     },
     "execution_count": 26,
     "metadata": {},
     "output_type": "execute_result"
    }
   ],
   "source": [
    "f.tell()  #get the current file position"
   ]
  },
  {
   "cell_type": "code",
   "execution_count": 27,
   "id": "fc1a17c9",
   "metadata": {},
   "outputs": [
    {
     "data": {
      "text/plain": [
       "[' write code\\n', \"I'm a beggner to the coding world\"]"
      ]
     },
     "execution_count": 27,
     "metadata": {},
     "output_type": "execute_result"
    }
   ],
   "source": [
    "f.readlines()"
   ]
  },
  {
   "cell_type": "code",
   "execution_count": 28,
   "id": "2cd93e3c",
   "metadata": {},
   "outputs": [],
   "source": [
    "try:\n",
    "    f=open('test.txt')\n",
    "finally:\n",
    "    f.close()\n"
   ]
  },
  {
   "cell_type": "code",
   "execution_count": 29,
   "id": "87cc669a",
   "metadata": {},
   "outputs": [],
   "source": [
    "with open('test.txt') as f:\n",
    "    f.read()\n",
    "    pass"
   ]
  },
  {
   "cell_type": "code",
   "execution_count": 31,
   "id": "aedf34a7",
   "metadata": {},
   "outputs": [
    {
     "name": "stdout",
     "output_type": "stream",
     "text": [
      "done\n"
     ]
    }
   ],
   "source": [
    "data = 'ineuron'\n",
    "f = open('test4.txt','w')\n",
    "f.write(data)\n",
    "print('done')\n",
    "f.close()"
   ]
  },
  {
   "cell_type": "code",
   "execution_count": 34,
   "id": "a0a3eb1c",
   "metadata": {},
   "outputs": [],
   "source": [
    "with open('test4.txt') as f:\n",
    "    f.read()"
   ]
  },
  {
   "cell_type": "code",
   "execution_count": 35,
   "id": "35033280",
   "metadata": {},
   "outputs": [
    {
     "data": {
      "text/plain": [
       "'ineuron'"
      ]
     },
     "execution_count": 35,
     "metadata": {},
     "output_type": "execute_result"
    }
   ],
   "source": [
    "f = open('test4.txt')\n",
    "f.read()"
   ]
  },
  {
   "cell_type": "code",
   "execution_count": 36,
   "id": "e56fef50",
   "metadata": {},
   "outputs": [],
   "source": [
    "with open('test5.txt','w') as f:\n",
    "    f.write('ineuron line\\n')\n",
    "    f.write('I write code\\n')"
   ]
  },
  {
   "cell_type": "code",
   "execution_count": 37,
   "id": "ddcfa61d",
   "metadata": {},
   "outputs": [
    {
     "data": {
      "text/plain": [
       "'ineuron line\\nI write code\\n'"
      ]
     },
     "execution_count": 37,
     "metadata": {},
     "output_type": "execute_result"
    }
   ],
   "source": [
    "f = open('test5.txt')\n",
    "f.read()"
   ]
  },
  {
   "cell_type": "code",
   "execution_count": 39,
   "id": "db968f75",
   "metadata": {},
   "outputs": [
    {
     "name": "stdout",
     "output_type": "stream",
     "text": [
      "enter the first number3\n",
      "enter the second number5\n",
      "this will execute once try is success\n"
     ]
    }
   ],
   "source": [
    "try:\n",
    "    a = int(input('enter the first number'))\n",
    "    b = int(input('enter the second number'))\n",
    "    c = a/b\n",
    "except ArithmeticError as e:\n",
    "    print('There i sone issue with my code',e)\n",
    "    f=open('error5.txt','w+') #'w+' means read and write'\n",
    "    f.write('hi')\n",
    "    f.write(str(e))\n",
    "    f.seek(0)\n",
    "    print(f.read())\n",
    "    \n",
    "else:\n",
    "    print('this will execute once try is success')\n",
    "    try:\n",
    "        f = open('test6.txt','w')\n",
    "    except:\n",
    "        print('This is an issue with try block')\n",
    "        "
   ]
  },
  {
   "cell_type": "code",
   "execution_count": 41,
   "id": "a3630665",
   "metadata": {},
   "outputs": [
    {
     "name": "stdout",
     "output_type": "stream",
     "text": [
      "enter the first number4\n",
      "enter the second number0\n",
      "There i sone issue with my code division by zero\n",
      "hidivision by zero\n"
     ]
    }
   ],
   "source": [
    "try:\n",
    "    a = int(input('enter the first number'))\n",
    "    b = int(input('enter the second number'))\n",
    "    c = a/b\n",
    "except ArithmeticError as e:\n",
    "    print('There i sone issue with my code',e)\n",
    "    f=open('error5.txt','w+') #'w+' means read and write'\n",
    "    f.write('hi')\n",
    "    f.write(str(e))\n",
    "    f.seek(0)\n",
    "    print(f.read())\n",
    "    \n",
    "else:\n",
    "    print('this will execute once try is success')\n",
    "    try:\n",
    "        f = open('test6.txt','w')\n",
    "    except:\n",
    "        print('This is an issue with try block')\n",
    "        "
   ]
  },
  {
   "cell_type": "code",
   "execution_count": 42,
   "id": "df36bc61",
   "metadata": {},
   "outputs": [
    {
     "data": {
      "text/plain": [
       "'error5.txt'"
      ]
     },
     "execution_count": 42,
     "metadata": {},
     "output_type": "execute_result"
    }
   ],
   "source": [
    "f.name"
   ]
  },
  {
   "cell_type": "code",
   "execution_count": 43,
   "id": "db8a0485",
   "metadata": {},
   "outputs": [
    {
     "data": {
      "text/plain": [
       "'hidivision by zero'"
      ]
     },
     "execution_count": 43,
     "metadata": {},
     "output_type": "execute_result"
    }
   ],
   "source": [
    "f.seek(0)\n",
    "f.read()"
   ]
  },
  {
   "cell_type": "code",
   "execution_count": 46,
   "id": "a29e8fb9",
   "metadata": {},
   "outputs": [
    {
     "name": "stdout",
     "output_type": "stream",
     "text": [
      " Volume in drive C has no label.\n",
      " Volume Serial Number is 5E89-A9EE\n",
      "\n",
      " Directory of C:\\Users\\hi\\Downloads\\Python for Data Science\\Full_Stack_DS\n",
      "\n",
      "11-12-2022  19:58    <DIR>          .\n",
      "11-12-2022  19:58    <DIR>          ..\n",
      "10-12-2022  15:05    <DIR>          .ipynb_checkpoints\n",
      "02-10-2022  17:22            17,901 Assignment_1_Sep27.ipynb\n",
      "29-10-2022  16:43            24,479 Day_10_Python_Oct29th.ipynb\n",
      "12-11-2022  17:34            34,152 Day_11_Python_Nov12th.ipynb\n",
      "13-11-2022  17:20            39,051 Day_12_Python_Nov13th_functions.ipynb\n",
      "19-11-2022  23:26            40,543 Day_13_solving_questions_python_Nov19th_20th.ipynb\n",
      "03-12-2022  17:31            45,417 Day_14_Python_Exceptions_Dec3rd.ipynb\n",
      "11-12-2022  19:58            12,233 Day_15_Python_Dec_4th.ipynb\n",
      "11-12-2022  15:10            10,868 Day_16_Python_Dec_10th.ipynb\n",
      "02-10-2022  16:02            25,585 Day_2_Python_basics.ipynb\n",
      "02-10-2022  16:39            29,912 Day_3_Python_Sep23.ipynb\n",
      "08-10-2022  22:46            28,061 Day_4_Python_Oct1.ipynb\n",
      "08-10-2022  17:59            46,170 Day_5_Python_Oct8th.ipynb\n",
      "09-10-2022  17:32         1,994,509 Day_7_Python_Oct09th.ipynb\n",
      "15-10-2022  17:41            40,831 Day_8_Python_Oct15th.ipynb\n",
      "16-10-2022  17:51            54,265 Day_9_Python_Oct17th.ipynb\n",
      "10-12-2022  16:33                84 demo.log\n",
      "11-12-2022  14:04                18 error5.txt\n",
      "29-10-2022  23:45            13,692 example.docx\n",
      "09-10-2022  18:36            18,823 FSDS_bootcamp_assignment_002_Oct_01.ipynb\n",
      "13-10-2022  23:32             9,439 FSDS_bootcamp_assignment_004_Oct_09.ipynb\n",
      "20-10-2022  22:35             8,730 FSDS_bootcamp_assignment_005_Oct_16.ipynb\n",
      "30-10-2022  16:39            21,494 FSDS_bootcamp_assignment_Oct29.ipynb\n",
      "11-12-2022  13:18                47 test.txt\n",
      "10-12-2022  16:49               123 test1.log\n",
      "10-12-2022  16:56               145 test2.log\n",
      "10-12-2022  16:57               105 test3.log\n",
      "11-12-2022  13:38                 7 test4.txt\n",
      "11-12-2022  13:48                28 test5.txt\n",
      "11-12-2022  14:03                 0 test6.txt\n",
      "08-10-2022  15:07                72 Untitled.ipynb\n",
      "              30 File(s)      2,516,784 bytes\n",
      "               3 Dir(s)  301,287,591,936 bytes free\n"
     ]
    }
   ],
   "source": [
    "%ls"
   ]
  },
  {
   "cell_type": "code",
   "execution_count": 52,
   "id": "853331e0",
   "metadata": {},
   "outputs": [
    {
     "name": "stdout",
     "output_type": "stream",
     "text": [
      "hidivision by zero\n"
     ]
    }
   ],
   "source": [
    "#Write a program to check whether 'error5.txt' exists in the current location or not\n",
    "\n",
    "try:\n",
    "    f=open('error5.txt')\n",
    "    f.seek(0)\n",
    "    print(f.read())\n",
    "    \n",
    "except:\n",
    "    print('File not found')"
   ]
  },
  {
   "cell_type": "code",
   "execution_count": 54,
   "id": "e0924416",
   "metadata": {},
   "outputs": [
    {
     "name": "stdout",
     "output_type": "stream",
     "text": [
      "File size is 18 bytes\n"
     ]
    }
   ],
   "source": [
    "#Write a programe to check the size of the file\n",
    "import os\n",
    "\n",
    "f = open('error5.txt')\n",
    "f.seek(0, os.SEEK_END)\n",
    "\n",
    "print(f'File size is {f.tell()} bytes')"
   ]
  },
  {
   "cell_type": "code",
   "execution_count": 55,
   "id": "db366334",
   "metadata": {},
   "outputs": [],
   "source": [
    "f.close()"
   ]
  },
  {
   "cell_type": "code",
   "execution_count": 57,
   "id": "5a7fe1c1",
   "metadata": {},
   "outputs": [
    {
     "name": "stdout",
     "output_type": "stream",
     "text": [
      "File size is 18 bytes\n"
     ]
    }
   ],
   "source": [
    "#method-2\n",
    "import os\n",
    "\n",
    "file_size = os.path.getsize('error5.txt')\n",
    "\n",
    "print(f'File size is {file_size} bytes')\n",
    "\n"
   ]
  },
  {
   "cell_type": "code",
   "execution_count": 58,
   "id": "b856df90",
   "metadata": {},
   "outputs": [
    {
     "data": {
      "text/plain": [
       "1"
      ]
     },
     "execution_count": 58,
     "metadata": {},
     "output_type": "execute_result"
    }
   ],
   "source": [
    "#count number of line in a file\n",
    "\n",
    "count=0\n",
    "f = open('error5.txt')\n",
    "for i in f.readlines():\n",
    "    count=count+1\n",
    "    \n",
    "count"
   ]
  },
  {
   "cell_type": "markdown",
   "id": "5002d791",
   "metadata": {},
   "source": [
    "- 'r': opens a file for reading\n",
    "- 'w': this operation writes the content into the file for writing, if the file doesn't exists it will create a new file\n",
    "- 'x': opens a file for execlusive creation, if the file exists then the operations are performed other wise it will throw an error"
   ]
  },
  {
   "cell_type": "markdown",
   "id": "58ad0274",
   "metadata": {},
   "source": [
    "## Iterator and generator"
   ]
  },
  {
   "cell_type": "code",
   "execution_count": 1,
   "id": "1521f3c5",
   "metadata": {},
   "outputs": [
    {
     "name": "stdout",
     "output_type": "stream",
     "text": [
      "ineuron\n",
      "imarn\n",
      "code\n"
     ]
    }
   ],
   "source": [
    "#iterator\n",
    "\n",
    "mytuple = ('ineuron','imarn','code')\n",
    "for i in mytuple:\n",
    "    print(i)"
   ]
  },
  {
   "cell_type": "code",
   "execution_count": 2,
   "id": "29e5590b",
   "metadata": {},
   "outputs": [
    {
     "data": {
      "text/plain": [
       "tuple"
      ]
     },
     "execution_count": 2,
     "metadata": {},
     "output_type": "execute_result"
    }
   ],
   "source": [
    "type(mytuple)"
   ]
  },
  {
   "cell_type": "code",
   "execution_count": 3,
   "id": "a99f268e",
   "metadata": {},
   "outputs": [
    {
     "data": {
      "text/plain": [
       "['__add__',\n",
       " '__class__',\n",
       " '__class_getitem__',\n",
       " '__contains__',\n",
       " '__delattr__',\n",
       " '__dir__',\n",
       " '__doc__',\n",
       " '__eq__',\n",
       " '__format__',\n",
       " '__ge__',\n",
       " '__getattribute__',\n",
       " '__getitem__',\n",
       " '__getnewargs__',\n",
       " '__gt__',\n",
       " '__hash__',\n",
       " '__init__',\n",
       " '__init_subclass__',\n",
       " '__iter__',\n",
       " '__le__',\n",
       " '__len__',\n",
       " '__lt__',\n",
       " '__mul__',\n",
       " '__ne__',\n",
       " '__new__',\n",
       " '__reduce__',\n",
       " '__reduce_ex__',\n",
       " '__repr__',\n",
       " '__rmul__',\n",
       " '__setattr__',\n",
       " '__sizeof__',\n",
       " '__str__',\n",
       " '__subclasshook__',\n",
       " 'count',\n",
       " 'index']"
      ]
     },
     "execution_count": 3,
     "metadata": {},
     "output_type": "execute_result"
    }
   ],
   "source": [
    "dir(mytuple)"
   ]
  },
  {
   "cell_type": "code",
   "execution_count": 4,
   "id": "75115590",
   "metadata": {},
   "outputs": [
    {
     "name": "stdout",
     "output_type": "stream",
     "text": [
      "i\n",
      "n\n",
      "e\n",
      "u\n",
      "r\n",
      "o\n",
      "n\n"
     ]
    }
   ],
   "source": [
    "mystr = 'ineuron'\n",
    "\n",
    "for i in mystr:\n",
    "    print(i)"
   ]
  },
  {
   "cell_type": "code",
   "execution_count": 5,
   "id": "dac6a95a",
   "metadata": {},
   "outputs": [
    {
     "data": {
      "text/plain": [
       "['__add__',\n",
       " '__class__',\n",
       " '__contains__',\n",
       " '__delattr__',\n",
       " '__dir__',\n",
       " '__doc__',\n",
       " '__eq__',\n",
       " '__format__',\n",
       " '__ge__',\n",
       " '__getattribute__',\n",
       " '__getitem__',\n",
       " '__getnewargs__',\n",
       " '__gt__',\n",
       " '__hash__',\n",
       " '__init__',\n",
       " '__init_subclass__',\n",
       " '__iter__',\n",
       " '__le__',\n",
       " '__len__',\n",
       " '__lt__',\n",
       " '__mod__',\n",
       " '__mul__',\n",
       " '__ne__',\n",
       " '__new__',\n",
       " '__reduce__',\n",
       " '__reduce_ex__',\n",
       " '__repr__',\n",
       " '__rmod__',\n",
       " '__rmul__',\n",
       " '__setattr__',\n",
       " '__sizeof__',\n",
       " '__str__',\n",
       " '__subclasshook__',\n",
       " 'capitalize',\n",
       " 'casefold',\n",
       " 'center',\n",
       " 'count',\n",
       " 'encode',\n",
       " 'endswith',\n",
       " 'expandtabs',\n",
       " 'find',\n",
       " 'format',\n",
       " 'format_map',\n",
       " 'index',\n",
       " 'isalnum',\n",
       " 'isalpha',\n",
       " 'isascii',\n",
       " 'isdecimal',\n",
       " 'isdigit',\n",
       " 'isidentifier',\n",
       " 'islower',\n",
       " 'isnumeric',\n",
       " 'isprintable',\n",
       " 'isspace',\n",
       " 'istitle',\n",
       " 'isupper',\n",
       " 'join',\n",
       " 'ljust',\n",
       " 'lower',\n",
       " 'lstrip',\n",
       " 'maketrans',\n",
       " 'partition',\n",
       " 'removeprefix',\n",
       " 'removesuffix',\n",
       " 'replace',\n",
       " 'rfind',\n",
       " 'rindex',\n",
       " 'rjust',\n",
       " 'rpartition',\n",
       " 'rsplit',\n",
       " 'rstrip',\n",
       " 'split',\n",
       " 'splitlines',\n",
       " 'startswith',\n",
       " 'strip',\n",
       " 'swapcase',\n",
       " 'title',\n",
       " 'translate',\n",
       " 'upper',\n",
       " 'zfill']"
      ]
     },
     "execution_count": 5,
     "metadata": {},
     "output_type": "execute_result"
    }
   ],
   "source": [
    "dir(mystr)"
   ]
  },
  {
   "cell_type": "code",
   "execution_count": 6,
   "id": "17a72281",
   "metadata": {},
   "outputs": [
    {
     "name": "stdout",
     "output_type": "stream",
     "text": [
      "1\n",
      "2\n",
      "3\n",
      "4\n"
     ]
    }
   ],
   "source": [
    "#trying wiht list\n",
    "\n",
    "mylist = [1,2,3,4]\n",
    "\n",
    "for i in mylist:\n",
    "    print(i)"
   ]
  },
  {
   "cell_type": "code",
   "execution_count": 8,
   "id": "a78a3271",
   "metadata": {},
   "outputs": [
    {
     "name": "stdout",
     "output_type": "stream",
     "text": [
      "x 43\n",
      "y 3.14\n",
      "z 7\n"
     ]
    }
   ],
   "source": [
    "#trying wiht dictionary\n",
    "\n",
    "d = {'x':43, 'y':3.14, 'z':7}\n",
    "\n",
    "for k,v in d.items():\n",
    "    print(k,v)"
   ]
  },
  {
   "cell_type": "code",
   "execution_count": 9,
   "id": "8cfe4276",
   "metadata": {},
   "outputs": [
    {
     "data": {
      "text/plain": [
       "['__class__',\n",
       " '__class_getitem__',\n",
       " '__contains__',\n",
       " '__delattr__',\n",
       " '__delitem__',\n",
       " '__dir__',\n",
       " '__doc__',\n",
       " '__eq__',\n",
       " '__format__',\n",
       " '__ge__',\n",
       " '__getattribute__',\n",
       " '__getitem__',\n",
       " '__gt__',\n",
       " '__hash__',\n",
       " '__init__',\n",
       " '__init_subclass__',\n",
       " '__ior__',\n",
       " '__iter__',\n",
       " '__le__',\n",
       " '__len__',\n",
       " '__lt__',\n",
       " '__ne__',\n",
       " '__new__',\n",
       " '__or__',\n",
       " '__reduce__',\n",
       " '__reduce_ex__',\n",
       " '__repr__',\n",
       " '__reversed__',\n",
       " '__ror__',\n",
       " '__setattr__',\n",
       " '__setitem__',\n",
       " '__sizeof__',\n",
       " '__str__',\n",
       " '__subclasshook__',\n",
       " 'clear',\n",
       " 'copy',\n",
       " 'fromkeys',\n",
       " 'get',\n",
       " 'items',\n",
       " 'keys',\n",
       " 'pop',\n",
       " 'popitem',\n",
       " 'setdefault',\n",
       " 'update',\n",
       " 'values']"
      ]
     },
     "execution_count": 9,
     "metadata": {},
     "output_type": "execute_result"
    }
   ],
   "source": [
    "dir(d)"
   ]
  },
  {
   "cell_type": "code",
   "execution_count": 10,
   "id": "6ac939c0",
   "metadata": {},
   "outputs": [
    {
     "data": {
      "text/plain": [
       "['__abs__',\n",
       " '__add__',\n",
       " '__and__',\n",
       " '__bool__',\n",
       " '__ceil__',\n",
       " '__class__',\n",
       " '__delattr__',\n",
       " '__dir__',\n",
       " '__divmod__',\n",
       " '__doc__',\n",
       " '__eq__',\n",
       " '__float__',\n",
       " '__floor__',\n",
       " '__floordiv__',\n",
       " '__format__',\n",
       " '__ge__',\n",
       " '__getattribute__',\n",
       " '__getnewargs__',\n",
       " '__gt__',\n",
       " '__hash__',\n",
       " '__index__',\n",
       " '__init__',\n",
       " '__init_subclass__',\n",
       " '__int__',\n",
       " '__invert__',\n",
       " '__le__',\n",
       " '__lshift__',\n",
       " '__lt__',\n",
       " '__mod__',\n",
       " '__mul__',\n",
       " '__ne__',\n",
       " '__neg__',\n",
       " '__new__',\n",
       " '__or__',\n",
       " '__pos__',\n",
       " '__pow__',\n",
       " '__radd__',\n",
       " '__rand__',\n",
       " '__rdivmod__',\n",
       " '__reduce__',\n",
       " '__reduce_ex__',\n",
       " '__repr__',\n",
       " '__rfloordiv__',\n",
       " '__rlshift__',\n",
       " '__rmod__',\n",
       " '__rmul__',\n",
       " '__ror__',\n",
       " '__round__',\n",
       " '__rpow__',\n",
       " '__rrshift__',\n",
       " '__rshift__',\n",
       " '__rsub__',\n",
       " '__rtruediv__',\n",
       " '__rxor__',\n",
       " '__setattr__',\n",
       " '__sizeof__',\n",
       " '__str__',\n",
       " '__sub__',\n",
       " '__subclasshook__',\n",
       " '__truediv__',\n",
       " '__trunc__',\n",
       " '__xor__',\n",
       " 'as_integer_ratio',\n",
       " 'bit_length',\n",
       " 'conjugate',\n",
       " 'denominator',\n",
       " 'from_bytes',\n",
       " 'imag',\n",
       " 'numerator',\n",
       " 'real',\n",
       " 'to_bytes']"
      ]
     },
     "execution_count": 10,
     "metadata": {},
     "output_type": "execute_result"
    }
   ],
   "source": [
    "#trying with int\n",
    "\n",
    "x = 42\n",
    "\n",
    "dir(x)"
   ]
  },
  {
   "cell_type": "code",
   "execution_count": 11,
   "id": "93238440",
   "metadata": {},
   "outputs": [
    {
     "ename": "TypeError",
     "evalue": "'int' object is not iterable",
     "output_type": "error",
     "traceback": [
      "\u001b[1;31m---------------------------------------------------------------------------\u001b[0m",
      "\u001b[1;31mTypeError\u001b[0m                                 Traceback (most recent call last)",
      "\u001b[1;32m~\\AppData\\Local\\Temp/ipykernel_1552/4021145316.py\u001b[0m in \u001b[0;36m<module>\u001b[1;34m\u001b[0m\n\u001b[1;32m----> 1\u001b[1;33m \u001b[1;32mfor\u001b[0m \u001b[0mi\u001b[0m \u001b[1;32min\u001b[0m \u001b[0mx\u001b[0m\u001b[1;33m:\u001b[0m\u001b[1;33m\u001b[0m\u001b[1;33m\u001b[0m\u001b[0m\n\u001b[0m\u001b[0;32m      2\u001b[0m    \u001b[0mprint\u001b[0m\u001b[1;33m(\u001b[0m\u001b[0mi\u001b[0m\u001b[1;33m)\u001b[0m\u001b[1;33m\u001b[0m\u001b[1;33m\u001b[0m\u001b[0m\n",
      "\u001b[1;31mTypeError\u001b[0m: 'int' object is not iterable"
     ]
    }
   ],
   "source": [
    " for i in x:\n",
    "    print(i)"
   ]
  },
  {
   "cell_type": "code",
   "execution_count": 12,
   "id": "5818ad3d",
   "metadata": {},
   "outputs": [],
   "source": [
    "data = ['ineuron','code','india']\n"
   ]
  },
  {
   "cell_type": "code",
   "execution_count": 13,
   "id": "4dfa8206",
   "metadata": {},
   "outputs": [
    {
     "ename": "TypeError",
     "evalue": "'list' object is not an iterator",
     "output_type": "error",
     "traceback": [
      "\u001b[1;31m---------------------------------------------------------------------------\u001b[0m",
      "\u001b[1;31mTypeError\u001b[0m                                 Traceback (most recent call last)",
      "\u001b[1;32m~\\AppData\\Local\\Temp/ipykernel_1552/2835631658.py\u001b[0m in \u001b[0;36m<module>\u001b[1;34m\u001b[0m\n\u001b[1;32m----> 1\u001b[1;33m \u001b[0mnext\u001b[0m\u001b[1;33m(\u001b[0m\u001b[0mdata\u001b[0m\u001b[1;33m)\u001b[0m\u001b[1;33m\u001b[0m\u001b[1;33m\u001b[0m\u001b[0m\n\u001b[0m",
      "\u001b[1;31mTypeError\u001b[0m: 'list' object is not an iterator"
     ]
    }
   ],
   "source": [
    "next(data)"
   ]
  },
  {
   "cell_type": "code",
   "execution_count": 14,
   "id": "820d6430",
   "metadata": {},
   "outputs": [],
   "source": [
    "#Need to convert the above list iterable to iterator\n",
    "\n",
    "x = iter(data)"
   ]
  },
  {
   "cell_type": "code",
   "execution_count": 15,
   "id": "6e5aa4d5",
   "metadata": {},
   "outputs": [
    {
     "data": {
      "text/plain": [
       "list_iterator"
      ]
     },
     "execution_count": 15,
     "metadata": {},
     "output_type": "execute_result"
    }
   ],
   "source": [
    "type(x)"
   ]
  },
  {
   "cell_type": "code",
   "execution_count": 16,
   "id": "459eb539",
   "metadata": {},
   "outputs": [
    {
     "data": {
      "text/plain": [
       "'ineuron'"
      ]
     },
     "execution_count": 16,
     "metadata": {},
     "output_type": "execute_result"
    }
   ],
   "source": [
    "next(x)"
   ]
  },
  {
   "cell_type": "code",
   "execution_count": 19,
   "id": "2d4ec6b9",
   "metadata": {},
   "outputs": [
    {
     "ename": "StopIteration",
     "evalue": "",
     "output_type": "error",
     "traceback": [
      "\u001b[1;31m---------------------------------------------------------------------------\u001b[0m",
      "\u001b[1;31mStopIteration\u001b[0m                             Traceback (most recent call last)",
      "\u001b[1;32m~\\AppData\\Local\\Temp/ipykernel_1552/3485793935.py\u001b[0m in \u001b[0;36m<module>\u001b[1;34m\u001b[0m\n\u001b[1;32m----> 1\u001b[1;33m \u001b[0mnext\u001b[0m\u001b[1;33m(\u001b[0m\u001b[0mx\u001b[0m\u001b[1;33m)\u001b[0m\u001b[1;33m\u001b[0m\u001b[1;33m\u001b[0m\u001b[0m\n\u001b[0m",
      "\u001b[1;31mStopIteration\u001b[0m: "
     ]
    }
   ],
   "source": [
    "next(x)"
   ]
  },
  {
   "cell_type": "code",
   "execution_count": 20,
   "id": "e58b11fc",
   "metadata": {},
   "outputs": [
    {
     "ename": "TypeError",
     "evalue": "'str' object is not an iterator",
     "output_type": "error",
     "traceback": [
      "\u001b[1;31m---------------------------------------------------------------------------\u001b[0m",
      "\u001b[1;31mTypeError\u001b[0m                                 Traceback (most recent call last)",
      "\u001b[1;32m~\\AppData\\Local\\Temp/ipykernel_1552/3456676545.py\u001b[0m in \u001b[0;36m<module>\u001b[1;34m\u001b[0m\n\u001b[0;32m      1\u001b[0m \u001b[0mm\u001b[0m \u001b[1;33m=\u001b[0m \u001b[1;34m'ineuron'\u001b[0m\u001b[1;33m\u001b[0m\u001b[1;33m\u001b[0m\u001b[0m\n\u001b[1;32m----> 2\u001b[1;33m \u001b[0mnext\u001b[0m\u001b[1;33m(\u001b[0m\u001b[0mm\u001b[0m\u001b[1;33m)\u001b[0m\u001b[1;33m\u001b[0m\u001b[1;33m\u001b[0m\u001b[0m\n\u001b[0m",
      "\u001b[1;31mTypeError\u001b[0m: 'str' object is not an iterator"
     ]
    }
   ],
   "source": [
    "m = 'ineuron'\n",
    "next(m)"
   ]
  },
  {
   "cell_type": "code",
   "execution_count": 21,
   "id": "d7e2a726",
   "metadata": {},
   "outputs": [],
   "source": [
    "#need to convert the above iterable tp iterator\n",
    "\n",
    "c = iter(m)"
   ]
  },
  {
   "cell_type": "code",
   "execution_count": 24,
   "id": "0ad1ecb7",
   "metadata": {},
   "outputs": [
    {
     "data": {
      "text/plain": [
       "'e'"
      ]
     },
     "execution_count": 24,
     "metadata": {},
     "output_type": "execute_result"
    }
   ],
   "source": [
    "next(c)"
   ]
  },
  {
   "cell_type": "code",
   "execution_count": 25,
   "id": "84026314",
   "metadata": {},
   "outputs": [
    {
     "data": {
      "text/plain": [
       "['__class__',\n",
       " '__delattr__',\n",
       " '__dir__',\n",
       " '__doc__',\n",
       " '__eq__',\n",
       " '__format__',\n",
       " '__ge__',\n",
       " '__getattribute__',\n",
       " '__gt__',\n",
       " '__hash__',\n",
       " '__init__',\n",
       " '__init_subclass__',\n",
       " '__iter__',\n",
       " '__le__',\n",
       " '__length_hint__',\n",
       " '__lt__',\n",
       " '__ne__',\n",
       " '__new__',\n",
       " '__next__',\n",
       " '__reduce__',\n",
       " '__reduce_ex__',\n",
       " '__repr__',\n",
       " '__setattr__',\n",
       " '__setstate__',\n",
       " '__sizeof__',\n",
       " '__str__',\n",
       " '__subclasshook__']"
      ]
     },
     "execution_count": 25,
     "metadata": {},
     "output_type": "execute_result"
    }
   ],
   "source": [
    "dir(c)"
   ]
  },
  {
   "cell_type": "code",
   "execution_count": 30,
   "id": "15753af7",
   "metadata": {},
   "outputs": [
    {
     "ename": "StopIteration",
     "evalue": "",
     "output_type": "error",
     "traceback": [
      "\u001b[1;31m---------------------------------------------------------------------------\u001b[0m",
      "\u001b[1;31mStopIteration\u001b[0m                             Traceback (most recent call last)",
      "\u001b[1;32m~\\AppData\\Local\\Temp/ipykernel_1552/1173204873.py\u001b[0m in \u001b[0;36m<module>\u001b[1;34m\u001b[0m\n\u001b[1;32m----> 1\u001b[1;33m \u001b[0mnext\u001b[0m\u001b[1;33m(\u001b[0m\u001b[0mc\u001b[0m\u001b[1;33m)\u001b[0m\u001b[1;33m\u001b[0m\u001b[1;33m\u001b[0m\u001b[0m\n\u001b[0m",
      "\u001b[1;31mStopIteration\u001b[0m: "
     ]
    }
   ],
   "source": [
    "next(c)"
   ]
  },
  {
   "cell_type": "markdown",
   "id": "db724fdf",
   "metadata": {},
   "source": [
    "- Iterables are not Iterators\n",
    "- Iterators are also Iterables\n",
    "- calling iter() function on iterable gives an iterator\n",
    "- calling next() function on iterator gives next elements"
   ]
  },
  {
   "cell_type": "code",
   "execution_count": 31,
   "id": "4d8f39e8",
   "metadata": {},
   "outputs": [],
   "source": [
    "l = [1,2,3,4]"
   ]
  },
  {
   "cell_type": "code",
   "execution_count": 32,
   "id": "baef3943",
   "metadata": {},
   "outputs": [
    {
     "ename": "TypeError",
     "evalue": "'list' object is not an iterator",
     "output_type": "error",
     "traceback": [
      "\u001b[1;31m---------------------------------------------------------------------------\u001b[0m",
      "\u001b[1;31mTypeError\u001b[0m                                 Traceback (most recent call last)",
      "\u001b[1;32m~\\AppData\\Local\\Temp/ipykernel_1552/2016234150.py\u001b[0m in \u001b[0;36m<module>\u001b[1;34m\u001b[0m\n\u001b[1;32m----> 1\u001b[1;33m \u001b[0mnext\u001b[0m\u001b[1;33m(\u001b[0m\u001b[0ml\u001b[0m\u001b[1;33m)\u001b[0m\u001b[1;33m\u001b[0m\u001b[1;33m\u001b[0m\u001b[0m\n\u001b[0m",
      "\u001b[1;31mTypeError\u001b[0m: 'list' object is not an iterator"
     ]
    }
   ],
   "source": [
    "next(l)"
   ]
  },
  {
   "cell_type": "code",
   "execution_count": 33,
   "id": "0c3faa4f",
   "metadata": {},
   "outputs": [],
   "source": [
    "k = iter(l)"
   ]
  },
  {
   "cell_type": "code",
   "execution_count": 34,
   "id": "a30f8a52",
   "metadata": {},
   "outputs": [
    {
     "name": "stdout",
     "output_type": "stream",
     "text": [
      "1\n",
      "2\n",
      "3\n",
      "4\n"
     ]
    }
   ],
   "source": [
    "for i in k:\n",
    "    print(i)"
   ]
  },
  {
   "cell_type": "code",
   "execution_count": 35,
   "id": "3821d1e5",
   "metadata": {},
   "outputs": [
    {
     "data": {
      "text/plain": [
       "list_iterator"
      ]
     },
     "execution_count": 35,
     "metadata": {},
     "output_type": "execute_result"
    }
   ],
   "source": [
    "type(k)"
   ]
  },
  {
   "cell_type": "code",
   "execution_count": 36,
   "id": "7086d2ab",
   "metadata": {},
   "outputs": [
    {
     "ename": "StopIteration",
     "evalue": "",
     "output_type": "error",
     "traceback": [
      "\u001b[1;31m---------------------------------------------------------------------------\u001b[0m",
      "\u001b[1;31mStopIteration\u001b[0m                             Traceback (most recent call last)",
      "\u001b[1;32m~\\AppData\\Local\\Temp/ipykernel_1552/2802804969.py\u001b[0m in \u001b[0;36m<module>\u001b[1;34m\u001b[0m\n\u001b[1;32m----> 1\u001b[1;33m \u001b[0mnext\u001b[0m\u001b[1;33m(\u001b[0m\u001b[0mk\u001b[0m\u001b[1;33m)\u001b[0m\u001b[1;33m\u001b[0m\u001b[1;33m\u001b[0m\u001b[0m\n\u001b[0m",
      "\u001b[1;31mStopIteration\u001b[0m: "
     ]
    }
   ],
   "source": [
    "next(k)"
   ]
  },
  {
   "cell_type": "markdown",
   "id": "38cc7963",
   "metadata": {},
   "source": [
    "#### Generator is other way of creating iterator\n",
    "\n",
    "- Generators are used to create iterators in the loops and try to return all the data without imparting the loops iteration\n",
    "- If you want to have multiple returns in a function then we need to use generators"
   ]
  },
  {
   "cell_type": "code",
   "execution_count": 40,
   "id": "a476b754",
   "metadata": {},
   "outputs": [],
   "source": [
    "def square(n):\n",
    "    \n",
    "    for i in range(n):\n",
    "        return i**2"
   ]
  },
  {
   "cell_type": "code",
   "execution_count": 41,
   "id": "54d455f4",
   "metadata": {},
   "outputs": [
    {
     "data": {
      "text/plain": [
       "0"
      ]
     },
     "execution_count": 41,
     "metadata": {},
     "output_type": "execute_result"
    }
   ],
   "source": [
    "square(3)"
   ]
  },
  {
   "cell_type": "code",
   "execution_count": 44,
   "id": "4b039e4e",
   "metadata": {},
   "outputs": [
    {
     "name": "stdout",
     "output_type": "stream",
     "text": [
      "0\n",
      "1\n",
      "4\n"
     ]
    }
   ],
   "source": [
    "for i in range(3):\n",
    "    print(i**2)"
   ]
  },
  {
   "cell_type": "code",
   "execution_count": 52,
   "id": "fbd10b67",
   "metadata": {},
   "outputs": [],
   "source": [
    "def square(n):\n",
    "    for i in range(n):\n",
    "        yield i**2"
   ]
  },
  {
   "cell_type": "code",
   "execution_count": 53,
   "id": "51e067da",
   "metadata": {},
   "outputs": [],
   "source": [
    "k = square(3)"
   ]
  },
  {
   "cell_type": "code",
   "execution_count": 47,
   "id": "b8a89c0b",
   "metadata": {},
   "outputs": [
    {
     "data": {
      "text/plain": [
       "generator"
      ]
     },
     "execution_count": 47,
     "metadata": {},
     "output_type": "execute_result"
    }
   ],
   "source": [
    "type(k)\n"
   ]
  },
  {
   "cell_type": "code",
   "execution_count": 48,
   "id": "e63d20fa",
   "metadata": {},
   "outputs": [
    {
     "data": {
      "text/plain": [
       "0"
      ]
     },
     "execution_count": 48,
     "metadata": {},
     "output_type": "execute_result"
    }
   ],
   "source": [
    "next(k)"
   ]
  },
  {
   "cell_type": "code",
   "execution_count": 54,
   "id": "442b170c",
   "metadata": {},
   "outputs": [
    {
     "name": "stdout",
     "output_type": "stream",
     "text": [
      "0\n",
      "1\n",
      "4\n"
     ]
    }
   ],
   "source": [
    "for i in k:\n",
    "    print(i)"
   ]
  },
  {
   "cell_type": "code",
   "execution_count": 55,
   "id": "d5c829ce",
   "metadata": {},
   "outputs": [],
   "source": [
    "def new():\n",
    "    n=1\n",
    "    print('line one')\n",
    "    yield n\n",
    "    \n",
    "    n=n+1\n",
    "    print('second line')\n",
    "    \n",
    "    n=n+1\n",
    "    print('third')\n",
    "    yield n"
   ]
  },
  {
   "cell_type": "code",
   "execution_count": 56,
   "id": "6274273f",
   "metadata": {},
   "outputs": [],
   "source": [
    "k = new()"
   ]
  },
  {
   "cell_type": "code",
   "execution_count": 57,
   "id": "3dfbfee7",
   "metadata": {},
   "outputs": [
    {
     "data": {
      "text/plain": [
       "generator"
      ]
     },
     "execution_count": 57,
     "metadata": {},
     "output_type": "execute_result"
    }
   ],
   "source": [
    "type(k)"
   ]
  },
  {
   "cell_type": "code",
   "execution_count": 58,
   "id": "4a1fb986",
   "metadata": {},
   "outputs": [
    {
     "name": "stdout",
     "output_type": "stream",
     "text": [
      "line one\n",
      "1\n",
      "second line\n",
      "third\n",
      "3\n"
     ]
    }
   ],
   "source": [
    "for i in new():\n",
    "    print(i)"
   ]
  },
  {
   "cell_type": "code",
   "execution_count": 64,
   "id": "c530a286",
   "metadata": {},
   "outputs": [],
   "source": [
    "nums = [1,2,3]\n"
   ]
  },
  {
   "cell_type": "code",
   "execution_count": 65,
   "id": "9b486bec",
   "metadata": {},
   "outputs": [],
   "source": [
    "i_nums = iter(nums)"
   ]
  },
  {
   "cell_type": "code",
   "execution_count": 61,
   "id": "283e9787",
   "metadata": {},
   "outputs": [
    {
     "name": "stdout",
     "output_type": "stream",
     "text": [
      "1\n",
      "2\n",
      "3\n"
     ]
    }
   ],
   "source": [
    "for i in i_nums:\n",
    "    print(i)"
   ]
  },
  {
   "cell_type": "code",
   "execution_count": 66,
   "id": "cecd8e57",
   "metadata": {},
   "outputs": [
    {
     "name": "stdout",
     "output_type": "stream",
     "text": [
      "1\n",
      "2\n",
      "3\n"
     ]
    }
   ],
   "source": [
    "while True:\n",
    "    try:\n",
    "        item = next(i_nums)\n",
    "        print(item)\n",
    "    except StopIteration:\n",
    "        break"
   ]
  },
  {
   "cell_type": "code",
   "execution_count": null,
   "id": "5389ea37",
   "metadata": {},
   "outputs": [],
   "source": []
  }
 ],
 "metadata": {
  "kernelspec": {
   "display_name": "Python 3 (ipykernel)",
   "language": "python",
   "name": "python3"
  },
  "language_info": {
   "codemirror_mode": {
    "name": "ipython",
    "version": 3
   },
   "file_extension": ".py",
   "mimetype": "text/x-python",
   "name": "python",
   "nbconvert_exporter": "python",
   "pygments_lexer": "ipython3",
   "version": "3.9.12"
  }
 },
 "nbformat": 4,
 "nbformat_minor": 5
}
