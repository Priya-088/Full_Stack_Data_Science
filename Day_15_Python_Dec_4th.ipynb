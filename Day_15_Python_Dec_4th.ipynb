{
 "cells": [
  {
   "cell_type": "markdown",
   "id": "be6a12df",
   "metadata": {},
   "source": [
    "## Agenda\n",
    "\n",
    "- File handling\n",
    "- Iterator\n",
    "- Generator"
   ]
  },
  {
   "cell_type": "code",
   "execution_count": 1,
   "id": "eb9298aa",
   "metadata": {},
   "outputs": [
    {
     "name": "stdout",
     "output_type": "stream",
     "text": [
      " Volume in drive C has no label.\n",
      " Volume Serial Number is 5E89-A9EE\n",
      "\n",
      " Directory of C:\\Users\\hi\\Downloads\\Python for Data Science\\Full_Stack_DS\n",
      "\n",
      "10-12-2022  16:59    <DIR>          .\n",
      "10-12-2022  16:59    <DIR>          ..\n",
      "10-12-2022  15:05    <DIR>          .ipynb_checkpoints\n",
      "02-10-2022  17:22            17,901 Assignment_1_Sep27.ipynb\n",
      "29-10-2022  16:43            24,479 Day_10_Python_Oct29th.ipynb\n",
      "12-11-2022  17:34            34,152 Day_11_Python_Nov12th.ipynb\n",
      "13-11-2022  17:20            39,051 Day_12_Python_Nov13th_functions.ipynb\n",
      "19-11-2022  23:26            40,543 Day_13_solving_questions_python_Nov19th_20th.ipynb\n",
      "03-12-2022  17:31            45,417 Day_14_Python_Exceptions_Dec3rd.ipynb\n",
      "10-12-2022  12:42               778 Day_15_Python_Dec_4th.ipynb\n",
      "10-12-2022  16:59            10,852 Day_16_Python_Dec_10th.ipynb\n",
      "02-10-2022  16:02            25,585 Day_2_Python_basics.ipynb\n",
      "02-10-2022  16:39            29,912 Day_3_Python_Sep23.ipynb\n",
      "08-10-2022  22:46            28,061 Day_4_Python_Oct1.ipynb\n",
      "08-10-2022  17:59            46,170 Day_5_Python_Oct8th.ipynb\n",
      "09-10-2022  17:32         1,994,509 Day_7_Python_Oct09th.ipynb\n",
      "15-10-2022  17:41            40,831 Day_8_Python_Oct15th.ipynb\n",
      "16-10-2022  17:51            54,265 Day_9_Python_Oct17th.ipynb\n",
      "10-12-2022  16:33                84 demo.log\n",
      "29-10-2022  23:45            13,692 example.docx\n",
      "09-10-2022  18:36            18,823 FSDS_bootcamp_assignment_002_Oct_01.ipynb\n",
      "13-10-2022  23:32             9,439 FSDS_bootcamp_assignment_004_Oct_09.ipynb\n",
      "20-10-2022  22:35             8,730 FSDS_bootcamp_assignment_005_Oct_16.ipynb\n",
      "30-10-2022  16:39            21,494 FSDS_bootcamp_assignment_Oct29.ipynb\n",
      "10-12-2022  16:49               123 test1.log\n",
      "10-12-2022  16:56               145 test2.log\n",
      "10-12-2022  16:57               105 test3.log\n",
      "08-10-2022  15:07                72 Untitled.ipynb\n",
      "              25 File(s)      2,505,213 bytes\n",
      "               3 Dir(s)  304,924,504,064 bytes free\n"
     ]
    }
   ],
   "source": [
    "%ls  #to check the list of files in the current folder"
   ]
  },
  {
   "cell_type": "code",
   "execution_count": 2,
   "id": "8c9d8a81",
   "metadata": {},
   "outputs": [
    {
     "data": {
      "text/plain": [
       "'C:\\\\Users\\\\hi\\\\Downloads\\\\Python for Data Science\\\\Full_Stack_DS'"
      ]
     },
     "execution_count": 2,
     "metadata": {},
     "output_type": "execute_result"
    }
   ],
   "source": [
    "pwd()"
   ]
  },
  {
   "cell_type": "code",
   "execution_count": 3,
   "id": "0a39b56d",
   "metadata": {},
   "outputs": [],
   "source": [
    "#used to open file\n",
    "f = open('test.txt')"
   ]
  },
  {
   "cell_type": "code",
   "execution_count": 4,
   "id": "7027548c",
   "metadata": {},
   "outputs": [
    {
     "data": {
      "text/plain": [
       "_io.TextIOWrapper"
      ]
     },
     "execution_count": 4,
     "metadata": {},
     "output_type": "execute_result"
    }
   ],
   "source": [
    "type(f)"
   ]
  },
  {
   "cell_type": "code",
   "execution_count": 5,
   "id": "58cc7281",
   "metadata": {},
   "outputs": [],
   "source": [
    "f.close()"
   ]
  },
  {
   "cell_type": "code",
   "execution_count": 21,
   "id": "ea7bdda4",
   "metadata": {},
   "outputs": [
    {
     "data": {
      "text/plain": [
       "\"I write code\\nI'm a beggner to the coding world\""
      ]
     },
     "execution_count": 21,
     "metadata": {},
     "output_type": "execute_result"
    }
   ],
   "source": [
    "#how to read a file\n",
    "f = open('test.txt')\n",
    "f.read()"
   ]
  },
  {
   "cell_type": "code",
   "execution_count": 22,
   "id": "a453f1e0",
   "metadata": {},
   "outputs": [
    {
     "data": {
      "text/plain": [
       "''"
      ]
     },
     "execution_count": 22,
     "metadata": {},
     "output_type": "execute_result"
    }
   ],
   "source": [
    "f.read(1)"
   ]
  },
  {
   "cell_type": "code",
   "execution_count": 23,
   "id": "b7dd9f4f",
   "metadata": {},
   "outputs": [
    {
     "data": {
      "text/plain": [
       "0"
      ]
     },
     "execution_count": 23,
     "metadata": {},
     "output_type": "execute_result"
    }
   ],
   "source": [
    "f.seek(0) #to go back to the starting line"
   ]
  },
  {
   "cell_type": "code",
   "execution_count": 24,
   "id": "c85a1e4a",
   "metadata": {},
   "outputs": [
    {
     "data": {
      "text/plain": [
       "'I'"
      ]
     },
     "execution_count": 24,
     "metadata": {},
     "output_type": "execute_result"
    }
   ],
   "source": [
    "f.read(1)"
   ]
  },
  {
   "cell_type": "code",
   "execution_count": 25,
   "id": "b7ece3d9",
   "metadata": {},
   "outputs": [],
   "source": [
    "#f.close()"
   ]
  },
  {
   "cell_type": "code",
   "execution_count": 26,
   "id": "05bfcc96",
   "metadata": {},
   "outputs": [
    {
     "data": {
      "text/plain": [
       "1"
      ]
     },
     "execution_count": 26,
     "metadata": {},
     "output_type": "execute_result"
    }
   ],
   "source": [
    "f.tell()  #get the current file position"
   ]
  },
  {
   "cell_type": "code",
   "execution_count": 27,
   "id": "fc1a17c9",
   "metadata": {},
   "outputs": [
    {
     "data": {
      "text/plain": [
       "[' write code\\n', \"I'm a beggner to the coding world\"]"
      ]
     },
     "execution_count": 27,
     "metadata": {},
     "output_type": "execute_result"
    }
   ],
   "source": [
    "f.readlines()"
   ]
  },
  {
   "cell_type": "code",
   "execution_count": 28,
   "id": "2cd93e3c",
   "metadata": {},
   "outputs": [],
   "source": [
    "try:\n",
    "    f=open('test.txt')\n",
    "finally:\n",
    "    f.close()\n"
   ]
  },
  {
   "cell_type": "code",
   "execution_count": 29,
   "id": "87cc669a",
   "metadata": {},
   "outputs": [],
   "source": [
    "with open('test.txt') as f:\n",
    "    f.read()\n",
    "    pass"
   ]
  },
  {
   "cell_type": "code",
   "execution_count": 31,
   "id": "aedf34a7",
   "metadata": {},
   "outputs": [
    {
     "name": "stdout",
     "output_type": "stream",
     "text": [
      "done\n"
     ]
    }
   ],
   "source": [
    "data = 'ineuron'\n",
    "f = open('test4.txt','w')\n",
    "f.write(data)\n",
    "print('done')\n",
    "f.close()"
   ]
  },
  {
   "cell_type": "code",
   "execution_count": 34,
   "id": "a0a3eb1c",
   "metadata": {},
   "outputs": [],
   "source": [
    "with open('test4.txt') as f:\n",
    "    f.read()"
   ]
  },
  {
   "cell_type": "code",
   "execution_count": 35,
   "id": "35033280",
   "metadata": {},
   "outputs": [
    {
     "data": {
      "text/plain": [
       "'ineuron'"
      ]
     },
     "execution_count": 35,
     "metadata": {},
     "output_type": "execute_result"
    }
   ],
   "source": [
    "f = open('test4.txt')\n",
    "f.read()"
   ]
  },
  {
   "cell_type": "code",
   "execution_count": 36,
   "id": "e56fef50",
   "metadata": {},
   "outputs": [],
   "source": [
    "with open('test5.txt','w') as f:\n",
    "    f.write('ineuron line\\n')\n",
    "    f.write('I write code\\n')"
   ]
  },
  {
   "cell_type": "code",
   "execution_count": 37,
   "id": "ddcfa61d",
   "metadata": {},
   "outputs": [
    {
     "data": {
      "text/plain": [
       "'ineuron line\\nI write code\\n'"
      ]
     },
     "execution_count": 37,
     "metadata": {},
     "output_type": "execute_result"
    }
   ],
   "source": [
    "f = open('test5.txt')\n",
    "f.read()"
   ]
  },
  {
   "cell_type": "code",
   "execution_count": 39,
   "id": "db968f75",
   "metadata": {},
   "outputs": [
    {
     "name": "stdout",
     "output_type": "stream",
     "text": [
      "enter the first number3\n",
      "enter the second number5\n",
      "this will execute once try is success\n"
     ]
    }
   ],
   "source": [
    "try:\n",
    "    a = int(input('enter the first number'))\n",
    "    b = int(input('enter the second number'))\n",
    "    c = a/b\n",
    "except ArithmeticError as e:\n",
    "    print('There i sone issue with my code',e)\n",
    "    f=open('error5.txt','w+') #'w+' means read and write'\n",
    "    f.write('hi')\n",
    "    f.write(str(e))\n",
    "    f.seek(0)\n",
    "    print(f.read())\n",
    "    \n",
    "else:\n",
    "    print('this will execute once try is success')\n",
    "    try:\n",
    "        f = open('test6.txt','w')\n",
    "    except:\n",
    "        print('This is an issue with try block')\n",
    "        "
   ]
  },
  {
   "cell_type": "code",
   "execution_count": 41,
   "id": "a3630665",
   "metadata": {},
   "outputs": [
    {
     "name": "stdout",
     "output_type": "stream",
     "text": [
      "enter the first number4\n",
      "enter the second number0\n",
      "There i sone issue with my code division by zero\n",
      "hidivision by zero\n"
     ]
    }
   ],
   "source": [
    "try:\n",
    "    a = int(input('enter the first number'))\n",
    "    b = int(input('enter the second number'))\n",
    "    c = a/b\n",
    "except ArithmeticError as e:\n",
    "    print('There i sone issue with my code',e)\n",
    "    f=open('error5.txt','w+') #'w+' means read and write'\n",
    "    f.write('hi')\n",
    "    f.write(str(e))\n",
    "    f.seek(0)\n",
    "    print(f.read())\n",
    "    \n",
    "else:\n",
    "    print('this will execute once try is success')\n",
    "    try:\n",
    "        f = open('test6.txt','w')\n",
    "    except:\n",
    "        print('This is an issue with try block')\n",
    "        "
   ]
  },
  {
   "cell_type": "code",
   "execution_count": 42,
   "id": "df36bc61",
   "metadata": {},
   "outputs": [
    {
     "data": {
      "text/plain": [
       "'error5.txt'"
      ]
     },
     "execution_count": 42,
     "metadata": {},
     "output_type": "execute_result"
    }
   ],
   "source": [
    "f.name"
   ]
  },
  {
   "cell_type": "code",
   "execution_count": 43,
   "id": "db8a0485",
   "metadata": {},
   "outputs": [
    {
     "data": {
      "text/plain": [
       "'hidivision by zero'"
      ]
     },
     "execution_count": 43,
     "metadata": {},
     "output_type": "execute_result"
    }
   ],
   "source": [
    "f.seek(0)\n",
    "f.read()"
   ]
  },
  {
   "cell_type": "code",
   "execution_count": 46,
   "id": "a29e8fb9",
   "metadata": {},
   "outputs": [
    {
     "name": "stdout",
     "output_type": "stream",
     "text": [
      " Volume in drive C has no label.\n",
      " Volume Serial Number is 5E89-A9EE\n",
      "\n",
      " Directory of C:\\Users\\hi\\Downloads\\Python for Data Science\\Full_Stack_DS\n",
      "\n",
      "11-12-2022  19:58    <DIR>          .\n",
      "11-12-2022  19:58    <DIR>          ..\n",
      "10-12-2022  15:05    <DIR>          .ipynb_checkpoints\n",
      "02-10-2022  17:22            17,901 Assignment_1_Sep27.ipynb\n",
      "29-10-2022  16:43            24,479 Day_10_Python_Oct29th.ipynb\n",
      "12-11-2022  17:34            34,152 Day_11_Python_Nov12th.ipynb\n",
      "13-11-2022  17:20            39,051 Day_12_Python_Nov13th_functions.ipynb\n",
      "19-11-2022  23:26            40,543 Day_13_solving_questions_python_Nov19th_20th.ipynb\n",
      "03-12-2022  17:31            45,417 Day_14_Python_Exceptions_Dec3rd.ipynb\n",
      "11-12-2022  19:58            12,233 Day_15_Python_Dec_4th.ipynb\n",
      "11-12-2022  15:10            10,868 Day_16_Python_Dec_10th.ipynb\n",
      "02-10-2022  16:02            25,585 Day_2_Python_basics.ipynb\n",
      "02-10-2022  16:39            29,912 Day_3_Python_Sep23.ipynb\n",
      "08-10-2022  22:46            28,061 Day_4_Python_Oct1.ipynb\n",
      "08-10-2022  17:59            46,170 Day_5_Python_Oct8th.ipynb\n",
      "09-10-2022  17:32         1,994,509 Day_7_Python_Oct09th.ipynb\n",
      "15-10-2022  17:41            40,831 Day_8_Python_Oct15th.ipynb\n",
      "16-10-2022  17:51            54,265 Day_9_Python_Oct17th.ipynb\n",
      "10-12-2022  16:33                84 demo.log\n",
      "11-12-2022  14:04                18 error5.txt\n",
      "29-10-2022  23:45            13,692 example.docx\n",
      "09-10-2022  18:36            18,823 FSDS_bootcamp_assignment_002_Oct_01.ipynb\n",
      "13-10-2022  23:32             9,439 FSDS_bootcamp_assignment_004_Oct_09.ipynb\n",
      "20-10-2022  22:35             8,730 FSDS_bootcamp_assignment_005_Oct_16.ipynb\n",
      "30-10-2022  16:39            21,494 FSDS_bootcamp_assignment_Oct29.ipynb\n",
      "11-12-2022  13:18                47 test.txt\n",
      "10-12-2022  16:49               123 test1.log\n",
      "10-12-2022  16:56               145 test2.log\n",
      "10-12-2022  16:57               105 test3.log\n",
      "11-12-2022  13:38                 7 test4.txt\n",
      "11-12-2022  13:48                28 test5.txt\n",
      "11-12-2022  14:03                 0 test6.txt\n",
      "08-10-2022  15:07                72 Untitled.ipynb\n",
      "              30 File(s)      2,516,784 bytes\n",
      "               3 Dir(s)  301,287,591,936 bytes free\n"
     ]
    }
   ],
   "source": [
    "%ls"
   ]
  },
  {
   "cell_type": "code",
   "execution_count": 52,
   "id": "853331e0",
   "metadata": {},
   "outputs": [
    {
     "name": "stdout",
     "output_type": "stream",
     "text": [
      "hidivision by zero\n"
     ]
    }
   ],
   "source": [
    "#Write a program to check whether 'error5.txt' exists in the current location or not\n",
    "\n",
    "try:\n",
    "    f=open('error5.txt')\n",
    "    f.seek(0)\n",
    "    print(f.read())\n",
    "    \n",
    "except:\n",
    "    print('File not found')"
   ]
  },
  {
   "cell_type": "code",
   "execution_count": 54,
   "id": "e0924416",
   "metadata": {},
   "outputs": [
    {
     "name": "stdout",
     "output_type": "stream",
     "text": [
      "File size is 18 bytes\n"
     ]
    }
   ],
   "source": [
    "#Write a programe to check the size of the file\n",
    "import os\n",
    "\n",
    "f = open('error5.txt')\n",
    "f.seek(0, os.SEEK_END)\n",
    "\n",
    "print(f'File size is {f.tell()} bytes')"
   ]
  },
  {
   "cell_type": "code",
   "execution_count": 55,
   "id": "db366334",
   "metadata": {},
   "outputs": [],
   "source": [
    "f.close()"
   ]
  },
  {
   "cell_type": "code",
   "execution_count": 57,
   "id": "5a7fe1c1",
   "metadata": {},
   "outputs": [
    {
     "name": "stdout",
     "output_type": "stream",
     "text": [
      "File size is 18 bytes\n"
     ]
    }
   ],
   "source": [
    "#method-2\n",
    "import os\n",
    "\n",
    "file_size = os.path.getsize('error5.txt')\n",
    "\n",
    "print(f'File size is {file_size} bytes')\n",
    "\n"
   ]
  },
  {
   "cell_type": "code",
   "execution_count": 58,
   "id": "b856df90",
   "metadata": {},
   "outputs": [
    {
     "data": {
      "text/plain": [
       "1"
      ]
     },
     "execution_count": 58,
     "metadata": {},
     "output_type": "execute_result"
    }
   ],
   "source": [
    "#count number of line in a file\n",
    "\n",
    "count=0\n",
    "f = open('error5.txt')\n",
    "for i in f.readlines():\n",
    "    count=count+1\n",
    "    \n",
    "count"
   ]
  },
  {
   "cell_type": "markdown",
   "id": "5002d791",
   "metadata": {},
   "source": [
    "- 'r': opens a file for reading\n",
    "- 'w': creates a file for writing, if the file doesn't exists it will create a new file\n",
    "- 'x': opens a file for execlusive creation, if the file exists then the operations are performed other wise it will throw an error"
   ]
  },
  {
   "cell_type": "code",
   "execution_count": null,
   "id": "36d4bc03",
   "metadata": {},
   "outputs": [],
   "source": []
  }
 ],
 "metadata": {
  "kernelspec": {
   "display_name": "Python 3 (ipykernel)",
   "language": "python",
   "name": "python3"
  },
  "language_info": {
   "codemirror_mode": {
    "name": "ipython",
    "version": 3
   },
   "file_extension": ".py",
   "mimetype": "text/x-python",
   "name": "python",
   "nbconvert_exporter": "python",
   "pygments_lexer": "ipython3",
   "version": "3.9.12"
  }
 },
 "nbformat": 4,
 "nbformat_minor": 5
}
