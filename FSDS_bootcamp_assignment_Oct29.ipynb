{
 "cells": [
  {
   "cell_type": "markdown",
   "id": "8f9d94ed",
   "metadata": {},
   "source": [
    "1. write a function which try to find out the len of the string without using an inbuilt len function"
   ]
  },
  {
   "cell_type": "code",
   "execution_count": 1,
   "id": "65d463e7",
   "metadata": {},
   "outputs": [],
   "source": [
    "def len_string(a):\n",
    "    count = 0\n",
    "    for i in a:\n",
    "        count+=1\n",
    "    return count"
   ]
  },
  {
   "cell_type": "code",
   "execution_count": 2,
   "id": "934b1a89",
   "metadata": {},
   "outputs": [
    {
     "data": {
      "text/plain": [
       "5"
      ]
     },
     "execution_count": 2,
     "metadata": {},
     "output_type": "execute_result"
    }
   ],
   "source": [
    "len_string('priya')"
   ]
  },
  {
   "cell_type": "code",
   "execution_count": 3,
   "id": "5bb56a38",
   "metadata": {},
   "outputs": [
    {
     "data": {
      "text/plain": [
       "14"
      ]
     },
     "execution_count": 3,
     "metadata": {},
     "output_type": "execute_result"
    }
   ],
   "source": [
    "len_string('Chandra shekar')"
   ]
  },
  {
   "cell_type": "markdown",
   "id": "cb3f2f68",
   "metadata": {},
   "source": [
    "2. Write a fuction which will print the an index of the list element (ele: index) with out using index function"
   ]
  },
  {
   "cell_type": "code",
   "execution_count": 7,
   "id": "8cff8fcf",
   "metadata": {},
   "outputs": [],
   "source": [
    "def ele_index(a):\n",
    "    count=0\n",
    "    for i in a:\n",
    "        count+=1\n",
    "        print(f'Index of {i} is {count}')\n",
    "    "
   ]
  },
  {
   "cell_type": "code",
   "execution_count": 8,
   "id": "18b2317d",
   "metadata": {},
   "outputs": [
    {
     "name": "stdout",
     "output_type": "stream",
     "text": [
      "Index of 1 is 1\n",
      "Index of 4 is 2\n",
      "Index of 6 is 3\n",
      "Index of 7 is 4\n"
     ]
    }
   ],
   "source": [
    "ele_index([1,4,6,7])"
   ]
  },
  {
   "cell_type": "markdown",
   "id": "f14a3be4",
   "metadata": {},
   "source": [
    "3. Write a function which will be able to print an IP Address of your system"
   ]
  },
  {
   "cell_type": "code",
   "execution_count": 9,
   "id": "19aadf58",
   "metadata": {},
   "outputs": [],
   "source": [
    "import socket"
   ]
  },
  {
   "cell_type": "code",
   "execution_count": 10,
   "id": "a41640c2",
   "metadata": {},
   "outputs": [],
   "source": [
    "def print_IP():\n",
    "    hostname = socket.gethostname()\n",
    "    IPAdress = socket.gethostbyname(hostname)\n",
    "    return f'computer name {hostname} and IP address {IPAdress}'"
   ]
  },
  {
   "cell_type": "code",
   "execution_count": 11,
   "id": "a5e6030e",
   "metadata": {},
   "outputs": [
    {
     "data": {
      "text/plain": [
       "'computer name DESKTOP-4MKBSB4 and IP address 192.168.0.110'"
      ]
     },
     "execution_count": 11,
     "metadata": {},
     "output_type": "execute_result"
    }
   ],
   "source": [
    "print_IP()"
   ]
  },
  {
   "cell_type": "markdown",
   "id": "7989f6a7",
   "metadata": {},
   "source": [
    "4. Write a function which will shutdown your system"
   ]
  },
  {
   "cell_type": "code",
   "execution_count": 12,
   "id": "99da8b8d",
   "metadata": {},
   "outputs": [],
   "source": [
    "import os\n"
   ]
  },
  {
   "cell_type": "code",
   "execution_count": 1,
   "id": "65ac2f7f",
   "metadata": {},
   "outputs": [],
   "source": [
    "def shutdown(a):\n",
    "    if a=='no':\n",
    "        exit()\n",
    "    else:\n",
    "        os.system(\"shutdown /s /t 1\")\n",
    "    "
   ]
  },
  {
   "cell_type": "code",
   "execution_count": 2,
   "id": "34f10245",
   "metadata": {},
   "outputs": [
    {
     "name": "stdout",
     "output_type": "stream",
     "text": [
      "Do you want to shut down the machine? no\n"
     ]
    }
   ],
   "source": [
    "shutdown(input('Do you want to shut down the machine? '))"
   ]
  },
  {
   "cell_type": "markdown",
   "id": "8aced1be",
   "metadata": {},
   "source": [
    "5. Write a fuction which will take input as a list with any kind of numeric values and give an output as a multiplication ofall the numeric data l = [3,5,6.56, 4,5,'sudh', 'fsds bootcamp 2.0']"
   ]
  },
  {
   "cell_type": "code",
   "execution_count": 1,
   "id": "294b36e5",
   "metadata": {},
   "outputs": [],
   "source": [
    " l = [3,5,6.56, 4,5,'sudh', 'fsds bootcamp 2.0']"
   ]
  },
  {
   "cell_type": "code",
   "execution_count": 4,
   "id": "a371053d",
   "metadata": {},
   "outputs": [],
   "source": [
    "def mul(a):\n",
    "    mul = 1\n",
    "    for i in a:\n",
    "        if type(i)!=str:\n",
    "            mul=i*mul\n",
    "    return mul\n",
    "            "
   ]
  },
  {
   "cell_type": "code",
   "execution_count": 5,
   "id": "03751aaa",
   "metadata": {},
   "outputs": [
    {
     "data": {
      "text/plain": [
       "1967.9999999999998"
      ]
     },
     "execution_count": 5,
     "metadata": {},
     "output_type": "execute_result"
    }
   ],
   "source": [
    "mul(l)"
   ]
  },
  {
   "cell_type": "markdown",
   "id": "000dda6c",
   "metadata": {},
   "source": [
    "8. Write a function which will be able to read a doc/word file from your system"
   ]
  },
  {
   "cell_type": "code",
   "execution_count": 9,
   "id": "8f63d8ee",
   "metadata": {},
   "outputs": [
    {
     "name": "stdout",
     "output_type": "stream",
     "text": [
      "Collecting docx2txt\n",
      "  Downloading docx2txt-0.8.tar.gz (2.8 kB)\n",
      "Building wheels for collected packages: docx2txt\n",
      "  Building wheel for docx2txt (setup.py): started\n",
      "  Building wheel for docx2txt (setup.py): finished with status 'done'\n",
      "  Created wheel for docx2txt: filename=docx2txt-0.8-py3-none-any.whl size=3984 sha256=c147e254b3ac417f6b6f6b6d814b68c8342db7f5073158b9f9fc0d88633307ca\n",
      "  Stored in directory: c:\\users\\hi\\appdata\\local\\pip\\cache\\wheels\\40\\75\\01\\e6c444034338bde9c7947d3467807f889123465c2371e77418\n",
      "Successfully built docx2txt\n",
      "Installing collected packages: docx2txt\n",
      "Successfully installed docx2txt-0.8\n",
      "Collecting docx2txt\n",
      "  Using cached docx2txt-0.8-py3-none-any.whl\n",
      "Installing collected packages: docx2txt\n",
      "Successfully installed docx2txt-0.8\n"
     ]
    }
   ],
   "source": [
    "!pip install docx2txt"
   ]
  },
  {
   "cell_type": "code",
   "execution_count": 13,
   "id": "7fba3a44",
   "metadata": {},
   "outputs": [],
   "source": [
    "import docx2txt\n",
    "\n",
    "def read_doc(f):\n",
    "    result = docx2txt.process(f)\n",
    "    #return result\n"
   ]
  },
  {
   "cell_type": "code",
   "execution_count": 14,
   "id": "c5acd8fb",
   "metadata": {},
   "outputs": [
    {
     "ename": "FileNotFoundError",
     "evalue": "[Errno 2] No such file or directory: 'example.docx'",
     "output_type": "error",
     "traceback": [
      "\u001b[1;31m---------------------------------------------------------------------------\u001b[0m",
      "\u001b[1;31mFileNotFoundError\u001b[0m                         Traceback (most recent call last)",
      "\u001b[1;32m~\\AppData\\Local\\Temp/ipykernel_372/3225960793.py\u001b[0m in \u001b[0;36m<module>\u001b[1;34m\u001b[0m\n\u001b[1;32m----> 1\u001b[1;33m \u001b[0mread_doc\u001b[0m\u001b[1;33m(\u001b[0m\u001b[1;34m'example.docx'\u001b[0m\u001b[1;33m)\u001b[0m\u001b[1;33m\u001b[0m\u001b[1;33m\u001b[0m\u001b[0m\n\u001b[0m",
      "\u001b[1;32m~\\AppData\\Local\\Temp/ipykernel_372/1765894937.py\u001b[0m in \u001b[0;36mread_doc\u001b[1;34m(f)\u001b[0m\n\u001b[0;32m      2\u001b[0m \u001b[1;33m\u001b[0m\u001b[0m\n\u001b[0;32m      3\u001b[0m \u001b[1;32mdef\u001b[0m \u001b[0mread_doc\u001b[0m\u001b[1;33m(\u001b[0m\u001b[0mf\u001b[0m\u001b[1;33m)\u001b[0m\u001b[1;33m:\u001b[0m\u001b[1;33m\u001b[0m\u001b[1;33m\u001b[0m\u001b[0m\n\u001b[1;32m----> 4\u001b[1;33m     \u001b[0mresult\u001b[0m \u001b[1;33m=\u001b[0m \u001b[0mdocx2txt\u001b[0m\u001b[1;33m.\u001b[0m\u001b[0mprocess\u001b[0m\u001b[1;33m(\u001b[0m\u001b[0mf\u001b[0m\u001b[1;33m)\u001b[0m\u001b[1;33m\u001b[0m\u001b[1;33m\u001b[0m\u001b[0m\n\u001b[0m\u001b[0;32m      5\u001b[0m     \u001b[1;31m#return result\u001b[0m\u001b[1;33m\u001b[0m\u001b[1;33m\u001b[0m\u001b[0m\n",
      "\u001b[1;32m~\\anaconda3\\lib\\site-packages\\docx2txt\\docx2txt.py\u001b[0m in \u001b[0;36mprocess\u001b[1;34m(docx, img_dir)\u001b[0m\n\u001b[0;32m     74\u001b[0m \u001b[1;33m\u001b[0m\u001b[0m\n\u001b[0;32m     75\u001b[0m     \u001b[1;31m# unzip the docx in memory\u001b[0m\u001b[1;33m\u001b[0m\u001b[1;33m\u001b[0m\u001b[0m\n\u001b[1;32m---> 76\u001b[1;33m     \u001b[0mzipf\u001b[0m \u001b[1;33m=\u001b[0m \u001b[0mzipfile\u001b[0m\u001b[1;33m.\u001b[0m\u001b[0mZipFile\u001b[0m\u001b[1;33m(\u001b[0m\u001b[0mdocx\u001b[0m\u001b[1;33m)\u001b[0m\u001b[1;33m\u001b[0m\u001b[1;33m\u001b[0m\u001b[0m\n\u001b[0m\u001b[0;32m     77\u001b[0m     \u001b[0mfilelist\u001b[0m \u001b[1;33m=\u001b[0m \u001b[0mzipf\u001b[0m\u001b[1;33m.\u001b[0m\u001b[0mnamelist\u001b[0m\u001b[1;33m(\u001b[0m\u001b[1;33m)\u001b[0m\u001b[1;33m\u001b[0m\u001b[1;33m\u001b[0m\u001b[0m\n\u001b[0;32m     78\u001b[0m \u001b[1;33m\u001b[0m\u001b[0m\n",
      "\u001b[1;32m~\\anaconda3\\lib\\zipfile.py\u001b[0m in \u001b[0;36m__init__\u001b[1;34m(self, file, mode, compression, allowZip64, compresslevel, strict_timestamps)\u001b[0m\n\u001b[0;32m   1246\u001b[0m             \u001b[1;32mwhile\u001b[0m \u001b[1;32mTrue\u001b[0m\u001b[1;33m:\u001b[0m\u001b[1;33m\u001b[0m\u001b[1;33m\u001b[0m\u001b[0m\n\u001b[0;32m   1247\u001b[0m                 \u001b[1;32mtry\u001b[0m\u001b[1;33m:\u001b[0m\u001b[1;33m\u001b[0m\u001b[1;33m\u001b[0m\u001b[0m\n\u001b[1;32m-> 1248\u001b[1;33m                     \u001b[0mself\u001b[0m\u001b[1;33m.\u001b[0m\u001b[0mfp\u001b[0m \u001b[1;33m=\u001b[0m \u001b[0mio\u001b[0m\u001b[1;33m.\u001b[0m\u001b[0mopen\u001b[0m\u001b[1;33m(\u001b[0m\u001b[0mfile\u001b[0m\u001b[1;33m,\u001b[0m \u001b[0mfilemode\u001b[0m\u001b[1;33m)\u001b[0m\u001b[1;33m\u001b[0m\u001b[1;33m\u001b[0m\u001b[0m\n\u001b[0m\u001b[0;32m   1249\u001b[0m                 \u001b[1;32mexcept\u001b[0m \u001b[0mOSError\u001b[0m\u001b[1;33m:\u001b[0m\u001b[1;33m\u001b[0m\u001b[1;33m\u001b[0m\u001b[0m\n\u001b[0;32m   1250\u001b[0m                     \u001b[1;32mif\u001b[0m \u001b[0mfilemode\u001b[0m \u001b[1;32min\u001b[0m \u001b[0mmodeDict\u001b[0m\u001b[1;33m:\u001b[0m\u001b[1;33m\u001b[0m\u001b[1;33m\u001b[0m\u001b[0m\n",
      "\u001b[1;31mFileNotFoundError\u001b[0m: [Errno 2] No such file or directory: 'example.docx'"
     ]
    }
   ],
   "source": [
    "read_doc('example.docx')"
   ]
  },
  {
   "cell_type": "code",
   "execution_count": null,
   "id": "7977084a",
   "metadata": {},
   "outputs": [],
   "source": []
  }
 ],
 "metadata": {
  "kernelspec": {
   "display_name": "Python 3 (ipykernel)",
   "language": "python",
   "name": "python3"
  },
  "language_info": {
   "codemirror_mode": {
    "name": "ipython",
    "version": 3
   },
   "file_extension": ".py",
   "mimetype": "text/x-python",
   "name": "python",
   "nbconvert_exporter": "python",
   "pygments_lexer": "ipython3",
   "version": "3.9.12"
  }
 },
 "nbformat": 4,
 "nbformat_minor": 5
}
