{
 "cells": [
  {
   "cell_type": "markdown",
   "id": "f43d7369",
   "metadata": {},
   "source": [
    "## Agenda\n",
    "\n",
    "1. Operators\n",
    "\n",
    "  - Logical\n",
    "  - Equality\n",
    "  - Comparision\n",
    "  - Arthematic\n",
    "  - Bitwise (Advanc class)\n",
    "  - Operators for set and dictionaries (Advance class)\n",
    "2. String methods\n",
    "3. Control flow statements"
   ]
  },
  {
   "cell_type": "markdown",
   "id": "dd211d0e",
   "metadata": {},
   "source": [
    "### Conditional statements\n",
    "\n",
    "- if else condition"
   ]
  },
  {
   "cell_type": "markdown",
   "id": "9f4c3717",
   "metadata": {},
   "source": [
    "if condition:\n",
    "    print('execute this statement')\n",
    "else:\n",
    "    print('if condition is not true')"
   ]
  },
  {
   "cell_type": "markdown",
   "id": "72360254",
   "metadata": {},
   "source": [
    "### Logical operators\n",
    "\n",
    "- Not"
   ]
  },
  {
   "cell_type": "code",
   "execution_count": 1,
   "id": "80f9007f",
   "metadata": {},
   "outputs": [
    {
     "name": "stdout",
     "output_type": "stream",
     "text": [
      "True\n"
     ]
    }
   ],
   "source": [
    "START = True\n",
    "print(START)"
   ]
  },
  {
   "cell_type": "code",
   "execution_count": 2,
   "id": "5e74de3b",
   "metadata": {},
   "outputs": [
    {
     "name": "stdout",
     "output_type": "stream",
     "text": [
      "Lets concentrated\n"
     ]
    }
   ],
   "source": [
    "class_started = True\n",
    "\n",
    "if class_started:\n",
    "    print('Lets concentrated')"
   ]
  },
  {
   "cell_type": "code",
   "execution_count": 4,
   "id": "aa40f2e9",
   "metadata": {},
   "outputs": [
    {
     "name": "stdout",
     "output_type": "stream",
     "text": [
      "Lets revise the previous class\n"
     ]
    }
   ],
   "source": [
    "class_started = False\n",
    "\n",
    "if class_started:\n",
    "    print('Lets concentrated')\n",
    "else:\n",
    "    print('Lets revise the previous class')"
   ]
  },
  {
   "cell_type": "code",
   "execution_count": 6,
   "id": "4b8e5d17",
   "metadata": {},
   "outputs": [
    {
     "name": "stdout",
     "output_type": "stream",
     "text": [
      "Lets do work from home\n"
     ]
    }
   ],
   "source": [
    "raining = True\n",
    "\n",
    "if raining:\n",
    "    print('Lets do work from home')\n",
    "    \n",
    "else:\n",
    "    print('Lets go to office')"
   ]
  },
  {
   "cell_type": "code",
   "execution_count": 8,
   "id": "99b9d75f",
   "metadata": {},
   "outputs": [
    {
     "name": "stdout",
     "output_type": "stream",
     "text": [
      "Lets go to office\n"
     ]
    }
   ],
   "source": [
    "raining = False  #It is not raining\n",
    "\n",
    "if raining:\n",
    "    print('Lets do work from home')\n",
    "    \n",
    "else:\n",
    "    print('Lets go to office')"
   ]
  },
  {
   "cell_type": "markdown",
   "id": "1fdbce84",
   "metadata": {},
   "source": [
    "#### use of indentation"
   ]
  },
  {
   "cell_type": "code",
   "execution_count": 9,
   "id": "187d8892",
   "metadata": {},
   "outputs": [
    {
     "ename": "IndentationError",
     "evalue": "expected an indented block (Temp/ipykernel_1336/3903841712.py, line 4)",
     "output_type": "error",
     "traceback": [
      "\u001b[1;36m  File \u001b[1;32m\"C:\\Users\\hi\\AppData\\Local\\Temp/ipykernel_1336/3903841712.py\"\u001b[1;36m, line \u001b[1;32m4\u001b[0m\n\u001b[1;33m    print('Lets do work from home')\u001b[0m\n\u001b[1;37m    ^\u001b[0m\n\u001b[1;31mIndentationError\u001b[0m\u001b[1;31m:\u001b[0m expected an indented block\n"
     ]
    }
   ],
   "source": [
    "raining = False  #It is not raining\n",
    "\n",
    "if raining:\n",
    "print('Lets do work from home')\n",
    "    \n",
    "else:\n",
    "print('Lets go to office')"
   ]
  },
  {
   "cell_type": "code",
   "execution_count": 10,
   "id": "28dfefd8",
   "metadata": {},
   "outputs": [
    {
     "name": "stdout",
     "output_type": "stream",
     "text": [
      "Since its raining..\n",
      "Lets do work from home\n"
     ]
    }
   ],
   "source": [
    "raining = True  #It is not raining\n",
    "\n",
    "if raining:\n",
    "    print('Since its raining..')\n",
    "    print('Lets do work from home')\n",
    "    \n",
    "else:\n",
    "    print('Since its not raining..')\n",
    "    print('Lets go to office')"
   ]
  },
  {
   "cell_type": "code",
   "execution_count": 11,
   "id": "be7a5418",
   "metadata": {},
   "outputs": [
    {
     "name": "stdout",
     "output_type": "stream",
     "text": [
      "Since its not raining..\n",
      "Lets go to office\n"
     ]
    }
   ],
   "source": [
    "#When its not raining\n",
    "raining = True  #It is not raining\n",
    "\n",
    "if not raining:\n",
    "    print('Since its raining..')\n",
    "    print('Lets do work from home')\n",
    "    \n",
    "else:\n",
    "    print('Since its not raining..')\n",
    "    print('Lets go to office')"
   ]
  },
  {
   "cell_type": "markdown",
   "id": "96b34608",
   "metadata": {},
   "source": [
    "If class started"
   ]
  },
  {
   "cell_type": "code",
   "execution_count": 12,
   "id": "b8f10019",
   "metadata": {},
   "outputs": [
    {
     "name": "stdout",
     "output_type": "stream",
     "text": [
      "since class started\n",
      "Lets concentrate\n"
     ]
    }
   ],
   "source": [
    "class_started = True\n",
    "\n",
    "if class_started:\n",
    "    print('since class started')\n",
    "    print('Lets concentrate')\n",
    "    \n",
    "else:\n",
    "    print('since class not started')\n",
    "    print('lets revise')"
   ]
  },
  {
   "cell_type": "code",
   "execution_count": 13,
   "id": "68a1b701",
   "metadata": {},
   "outputs": [
    {
     "name": "stdout",
     "output_type": "stream",
     "text": [
      "since class started\n",
      "Lets concentrate\n"
     ]
    }
   ],
   "source": [
    "class_started = True\n",
    "\n",
    "if not class_started:\n",
    "    print('since class not started')\n",
    "    print('lets revise')\n",
    "else:\n",
    "    print('since class started')\n",
    "    print('Lets concentrate')"
   ]
  },
  {
   "cell_type": "markdown",
   "id": "3284cff4",
   "metadata": {},
   "source": [
    "#### Indentation errors: Statements not aligned properly"
   ]
  },
  {
   "cell_type": "code",
   "execution_count": 14,
   "id": "945d7972",
   "metadata": {},
   "outputs": [
    {
     "ename": "IndentationError",
     "evalue": "unexpected indent (Temp/ipykernel_1336/1967240101.py, line 5)",
     "output_type": "error",
     "traceback": [
      "\u001b[1;36m  File \u001b[1;32m\"C:\\Users\\hi\\AppData\\Local\\Temp/ipykernel_1336/1967240101.py\"\u001b[1;36m, line \u001b[1;32m5\u001b[0m\n\u001b[1;33m    print('lets revise')\u001b[0m\n\u001b[1;37m    ^\u001b[0m\n\u001b[1;31mIndentationError\u001b[0m\u001b[1;31m:\u001b[0m unexpected indent\n"
     ]
    }
   ],
   "source": [
    "class_started = True\n",
    "\n",
    "if not class_started:\n",
    " print('since class not started')\n",
    "    print('lets revise')\n",
    "else:\n",
    "    print('since class started')\n",
    "     print('Lets concentrate')"
   ]
  },
  {
   "cell_type": "code",
   "execution_count": 17,
   "id": "f6fcd932",
   "metadata": {},
   "outputs": [
    {
     "name": "stdout",
     "output_type": "stream",
     "text": [
      "Hey friend is calss started? 0 - False/1 - TrueTrue\n",
      "since class started\n",
      "Lets concentrate\n"
     ]
    }
   ],
   "source": [
    "class_started = bool(input('Hey friend is calss started? 0 - False/1 - True'))\n",
    "\n",
    "\n",
    "if class_started:\n",
    "    print('since class started')\n",
    "    print('Lets concentrate')\n",
    "else:\n",
    "    print('since class not started')\n",
    "    print('lets revise')"
   ]
  },
  {
   "cell_type": "markdown",
   "id": "2755e5e9",
   "metadata": {},
   "source": [
    "#### AND condition"
   ]
  },
  {
   "cell_type": "markdown",
   "id": "28482763",
   "metadata": {},
   "source": [
    "Vegitables | Salt | Dish\n",
    "-|-|-\n",
    "False|False|False\n",
    "False| True|False\n",
    "True|False|False\n",
    "True|True|True"
   ]
  },
  {
   "cell_type": "code",
   "execution_count": 19,
   "id": "9cac2f0a",
   "metadata": {},
   "outputs": [
    {
     "name": "stdout",
     "output_type": "stream",
     "text": [
      "Its a bad dish\n",
      "because vegetable present:False\n",
      "becasuse salt present: False\n"
     ]
    }
   ],
   "source": [
    "vegetables_present = False\n",
    "salt_present = False\n",
    "\n",
    "if vegetables_present and salt_present:\n",
    "    print('Its a good dish')\n",
    "else:\n",
    "    print('Its a bad dish')\n",
    "    print(f'because vegetable present:{vegetables_present}')\n",
    "    print(f'becasuse salt present: {salt_present}')"
   ]
  },
  {
   "cell_type": "markdown",
   "id": "f0a08996",
   "metadata": {},
   "source": [
    "If both vegetables and salt is present then my dish is good"
   ]
  },
  {
   "cell_type": "code",
   "execution_count": 21,
   "id": "3c5392b8",
   "metadata": {},
   "outputs": [
    {
     "name": "stdout",
     "output_type": "stream",
     "text": [
      "Its a good dish\n"
     ]
    }
   ],
   "source": [
    "vegetables_present = True\n",
    "salt_present = True\n",
    "\n",
    "if vegetables_present and salt_present: #This condition is True\n",
    "    print('Its a good dish')\n",
    "else:\n",
    "    print('Its a bad dish')\n",
    "    print(f'because vegetable present:{vegetables_present}')\n",
    "    print(f'becasuse salt present: {salt_present}')"
   ]
  },
  {
   "cell_type": "markdown",
   "id": "6f3b2241",
   "metadata": {},
   "source": [
    "### OR condition\n",
    "\n",
    "If i have a car or bike then i can travel 100kms in a day \n",
    "\n",
    "car | bike | travel_100kms\n",
    "-|-|-\n",
    "False|False|False\n",
    "False| True|True\n",
    "True|False|True\n",
    "True|True|True"
   ]
  },
  {
   "cell_type": "code",
   "execution_count": 23,
   "id": "a3993446",
   "metadata": {},
   "outputs": [
    {
     "name": "stdout",
     "output_type": "stream",
     "text": [
      "I am stuck as I dont have a cat or bike\n"
     ]
    }
   ],
   "source": [
    "i_own_car = False\n",
    "i_own_bike = False\n",
    "\n",
    "if  i_own_car or i_own_bike:\n",
    "    print('I can travek 100kms in a day')\n",
    "else:\n",
    "    print('I am stuck as I dont have a cat or bike')\n",
    "    "
   ]
  },
  {
   "cell_type": "code",
   "execution_count": 24,
   "id": "1d025e8e",
   "metadata": {},
   "outputs": [
    {
     "name": "stdout",
     "output_type": "stream",
     "text": [
      "I can travek 100kms in a day\n"
     ]
    }
   ],
   "source": [
    "i_own_car = False\n",
    "i_own_bike = True\n",
    "\n",
    "if  i_own_car or i_own_bike:\n",
    "    print('I can travek 100kms in a day')\n",
    "else:\n",
    "    print('I am stuck as I dont have a cat or bike')\n",
    "    "
   ]
  },
  {
   "cell_type": "markdown",
   "id": "922164ac",
   "metadata": {},
   "source": [
    "Conclusion:\n",
    "1. use 'and' operator when you want all the conditions to be true\n",
    "2. use 'or' operator if anyone of the condition you want to be true"
   ]
  },
  {
   "cell_type": "code",
   "execution_count": 25,
   "id": "a0845340",
   "metadata": {},
   "outputs": [
    {
     "name": "stdout",
     "output_type": "stream",
     "text": [
      "I am stuck as I dont have a cat or bike\n"
     ]
    }
   ],
   "source": [
    "i_own_car = False\n",
    "i_own_bike = False\n",
    "\n",
    "if  i_own_car or i_own_bike:\n",
    "    print('I can travek 100kms in a day')\n",
    "else:\n",
    "    print('I am stuck as I dont have a cat or bike')\n",
    "    "
   ]
  },
  {
   "cell_type": "markdown",
   "id": "fc2cbe7a",
   "metadata": {},
   "source": [
    "attendence | assignment | Eligible_for_exam\n",
    "-|-|-\n",
    ">=75% | >=70|True"
   ]
  },
  {
   "cell_type": "code",
   "execution_count": 26,
   "id": "09a3c7fb",
   "metadata": {},
   "outputs": [
    {
     "name": "stdout",
     "output_type": "stream",
     "text": [
      "Student is not eligible\n"
     ]
    }
   ],
   "source": [
    "attendence = 70\n",
    "assignment_submitted = 40\n",
    "\n",
    "if attendence>=75 and assignment_submitted>=70:\n",
    "    print('The student is eligible to apper in final exam')\n",
    "else:\n",
    "    print('Student is not eligible')"
   ]
  },
  {
   "cell_type": "code",
   "execution_count": 31,
   "id": "f701d733",
   "metadata": {},
   "outputs": [
    {
     "name": "stdout",
     "output_type": "stream",
     "text": [
      "attendence criteira met?: True\n",
      "assignment criteria met?: False\n",
      "Student is not eligible\n"
     ]
    }
   ],
   "source": [
    "attendence = 90\n",
    "assignment_submitted = 40\n",
    "print(f'attendence criteira met?: {attendence>=75}')\n",
    "print(f'assignment criteria met?: {assignment_submitted>=70}')\n",
    "\n",
    "\n",
    "if attendence>=75 and assignment_submitted>=70:\n",
    "    print('The student is eligible to apper in final exam')\n",
    "else:\n",
    "    print('Student is not eligible')"
   ]
  },
  {
   "cell_type": "code",
   "execution_count": 30,
   "id": "399e0628",
   "metadata": {},
   "outputs": [
    {
     "name": "stdout",
     "output_type": "stream",
     "text": [
      "attendence criteira met?: True\n",
      "assignment criteria met?: True\n",
      "The student is eligible to apper in final exam\n"
     ]
    }
   ],
   "source": [
    "attendence = 90\n",
    "assignment_submitted = 90\n",
    "\n",
    "print(f'attendence criteira met?: {attendence>=75}')\n",
    "print(f'assignment criteria met?: {assignment_submitted>=70}')\n",
    "\n",
    "if attendence>=75 and assignment_submitted>=70:\n",
    "    print('The student is eligible to apper in final exam')\n",
    "else:\n",
    "    print('Student is not eligible')"
   ]
  },
  {
   "cell_type": "markdown",
   "id": "1098e64f",
   "metadata": {},
   "source": [
    "credit_card|debit_card|purchase_book_from_amazon\n",
    "-|-|-\n",
    "True|True|True\n",
    "False|False|True"
   ]
  },
  {
   "cell_type": "code",
   "execution_count": 33,
   "id": "09ce8b91",
   "metadata": {},
   "outputs": [
    {
     "name": "stdout",
     "output_type": "stream",
     "text": [
      "Ask from a dad for debit or credit card?\n",
      "cast on delivery\n"
     ]
    }
   ],
   "source": [
    "own_credit_card = False\n",
    "own_debit_card = False\n",
    "\n",
    "if own_credit_card or own_debit_card:\n",
    "    print('procedd futhur for payment')\n",
    "    \n",
    "else:\n",
    "    print('Ask from a dad for debit or credit card?')\n",
    "    print('cast on delivery')"
   ]
  },
  {
   "cell_type": "code",
   "execution_count": 34,
   "id": "14ef7280",
   "metadata": {},
   "outputs": [
    {
     "name": "stdout",
     "output_type": "stream",
     "text": [
      "procedd futhur for payment\n"
     ]
    }
   ],
   "source": [
    "own_credit_card = False\n",
    "own_debit_card = True\n",
    "\n",
    "if own_credit_card or own_debit_card:\n",
    "    print('procedd futhur for payment')\n",
    "    \n",
    "else:\n",
    "    print('Ask from a dad for debit or credit card?')\n",
    "    print('cast on delivery')"
   ]
  },
  {
   "cell_type": "markdown",
   "id": "9d15895d",
   "metadata": {},
   "source": [
    "#### and, or - using them together\n",
    "\n",
    "attendence|assignment|sports_player|eligible_for_exam\n",
    "-|-|-\n",
    ">=75%|\n"
   ]
  },
  {
   "cell_type": "markdown",
   "id": "60e45603",
   "metadata": {},
   "source": [
    "If assignment completed is more than 70% and the attendence is more than 75% OR if the student is sports_person then eligible for exam\n",
    "sports_person = +10 marks as grace marks"
   ]
  },
  {
   "cell_type": "code",
   "execution_count": 37,
   "id": "898c9e4c",
   "metadata": {},
   "outputs": [
    {
     "name": "stdout",
     "output_type": "stream",
     "text": [
      "attendence criteira met?: True\n",
      "assignment criteria met?: True\n",
      "sports criteria is met?: False\n",
      "the student is eligible to appear in final exam\n"
     ]
    }
   ],
   "source": [
    "attendence = 90\n",
    "assignment_submitted = 75\n",
    "sports_player = False\n",
    "\n",
    "print(f'attendence criteira met?: {attendence>=75}')\n",
    "print(f'assignment criteria met?: {assignment_submitted>=70}')\n",
    "print(f'sports criteria is met?: {sports_player}')\n",
    "\n",
    "\n",
    "if attendence>=75 and assignment_submitted>=70:\n",
    "    if sports_player:\n",
    "        print('The student can get grace marks =+ 10')\n",
    "    else:\n",
    "        print('the student is eligible to appear in final exam')\n",
    "else:\n",
    "    print('Student is eligible to appeat ')"
   ]
  },
  {
   "cell_type": "markdown",
   "id": "acc10dd1",
   "metadata": {},
   "source": [
    "### Equality operators"
   ]
  },
  {
   "cell_type": "markdown",
   "id": "0c7f45e5",
   "metadata": {},
   "source": [
    "operators|users|meaning\n",
    "-|-|-\n",
    "is| A is B => | return True if A and B points to the same obj\n",
    "is not| A is not B|retund true if A and B do not points to same object\n",
    "== |A==B| A is equal to B\n",
    "!=|A!=B| A is not equal to B\n",
    "\n",
    "When using 'is', 'is not' we are also comparing the memory location along with the value of variable\n",
    "\n",
    "== and != is only checking value of the variable (will be used more oftenlly)\n",
    "\n"
   ]
  },
  {
   "cell_type": "code",
   "execution_count": 43,
   "id": "84c5658c",
   "metadata": {},
   "outputs": [
    {
     "name": "stdout",
     "output_type": "stream",
     "text": [
      "A and B are same\n"
     ]
    }
   ],
   "source": [
    "A =1\n",
    "B = 1\n",
    "\n",
    "if A is B:  #cheching whether the both objects have same address\n",
    "    print('A and B are same')\n",
    "else:\n",
    "    print('A and B are not same')"
   ]
  },
  {
   "cell_type": "code",
   "execution_count": 40,
   "id": "e71fd2a3",
   "metadata": {},
   "outputs": [
    {
     "name": "stdout",
     "output_type": "stream",
     "text": [
      "A and B are not same\n"
     ]
    }
   ],
   "source": [
    "A =1\n",
    "B = 2\n",
    "\n",
    "if A is B:\n",
    "    print('A and B are same')\n",
    "else:\n",
    "    print('A and B are not same')"
   ]
  },
  {
   "cell_type": "code",
   "execution_count": 44,
   "id": "da76c00a",
   "metadata": {},
   "outputs": [
    {
     "name": "stdout",
     "output_type": "stream",
     "text": [
      "2895567022384\n",
      "2895567022384\n"
     ]
    }
   ],
   "source": [
    "print(id(A))\n",
    "print(id(B))"
   ]
  },
  {
   "cell_type": "code",
   "execution_count": 42,
   "id": "9932e241",
   "metadata": {},
   "outputs": [
    {
     "name": "stdout",
     "output_type": "stream",
     "text": [
      "A and B are same\n"
     ]
    }
   ],
   "source": [
    "A =1\n",
    "B = 1\n",
    "\n",
    "if A == B:  #checking A and B are having same value or not\n",
    "    print('A and B are same')\n",
    "else:\n",
    "    print('A and B are not same')"
   ]
  },
  {
   "cell_type": "code",
   "execution_count": 46,
   "id": "23fcabd3",
   "metadata": {},
   "outputs": [
    {
     "name": "stdout",
     "output_type": "stream",
     "text": [
      "A and B are same\n"
     ]
    }
   ],
   "source": [
    "A =1\n",
    "B =2 \n",
    "\n",
    "if A != B:\n",
    "    print('A and B are same')\n",
    "else:\n",
    "    print('A and B are not same')"
   ]
  },
  {
   "cell_type": "code",
   "execution_count": 47,
   "id": "d9404bc6",
   "metadata": {},
   "outputs": [
    {
     "data": {
      "text/plain": [
       "True"
      ]
     },
     "execution_count": 47,
     "metadata": {},
     "output_type": "execute_result"
    }
   ],
   "source": [
    "A = 'Priya'\n",
    "B = 'Priya'\n",
    "\n",
    "A is B"
   ]
  },
  {
   "cell_type": "code",
   "execution_count": 49,
   "id": "a590f9bf",
   "metadata": {},
   "outputs": [
    {
     "data": {
      "text/plain": [
       "False"
      ]
     },
     "execution_count": 49,
     "metadata": {},
     "output_type": "execute_result"
    }
   ],
   "source": [
    "#In python list are assigned wih diffrent address all though the elements are same becasue in future we can add elements into the list\n",
    "A = ['Sunny','Priya']\n",
    "B = ['Sunny','Priya']\n",
    "\n",
    "A is B"
   ]
  },
  {
   "cell_type": "code",
   "execution_count": 50,
   "id": "5679d1bb",
   "metadata": {},
   "outputs": [
    {
     "name": "stdout",
     "output_type": "stream",
     "text": [
      "2895682481600\n",
      "2895682662976\n"
     ]
    }
   ],
   "source": [
    "print(id(A))\n",
    "print(id(B))"
   ]
  },
  {
   "cell_type": "code",
   "execution_count": 51,
   "id": "ce45e56c",
   "metadata": {},
   "outputs": [
    {
     "data": {
      "text/plain": [
       "True"
      ]
     },
     "execution_count": 51,
     "metadata": {},
     "output_type": "execute_result"
    }
   ],
   "source": [
    "A==B"
   ]
  },
  {
   "cell_type": "code",
   "execution_count": 53,
   "id": "8216eb7e",
   "metadata": {},
   "outputs": [
    {
     "name": "stdout",
     "output_type": "stream",
     "text": [
      "Enter the value of A:1\n",
      "Enter the value of B:2\n"
     ]
    },
    {
     "data": {
      "text/plain": [
       "False"
      ]
     },
     "execution_count": 53,
     "metadata": {},
     "output_type": "execute_result"
    }
   ],
   "source": [
    "A = int(input('Enter the value of A:'))\n",
    "B= int(input('Enter the value of B:'))\n",
    "\n",
    "A is B"
   ]
  },
  {
   "cell_type": "code",
   "execution_count": 57,
   "id": "d607468c",
   "metadata": {},
   "outputs": [
    {
     "name": "stdout",
     "output_type": "stream",
     "text": [
      "Enter your name: sunny bhaveen chandra\n",
      "Its possible that he/she is a student\n"
     ]
    }
   ],
   "source": [
    "name = input('Enter your name: ')\n",
    "\n",
    "if name =='Sunny Bhaveen Chandra':\n",
    "    print('He is my mentor')\n",
    "else:\n",
    "    print('Its possible that he/she is a student')"
   ]
  },
  {
   "cell_type": "code",
   "execution_count": 67,
   "id": "d2bf12a1",
   "metadata": {},
   "outputs": [
    {
     "data": {
      "text/plain": [
       "False"
      ]
     },
     "execution_count": 67,
     "metadata": {},
     "output_type": "execute_result"
    }
   ],
   "source": [
    "a = (1,2,3)\n",
    "b = (1,2,3)\n",
    "a is b"
   ]
  },
  {
   "cell_type": "markdown",
   "id": "ed9040d8",
   "metadata": {},
   "source": [
    "### Comparison operator"
   ]
  },
  {
   "cell_type": "markdown",
   "id": "12a8840c",
   "metadata": {},
   "source": [
    "operation|Meaning\n",
    "-|-\n",
    "<|A<B\n",
    "<=|A<=B\n",
    ">|A>B\n",
    ">=|A>=B"
   ]
  },
  {
   "cell_type": "code",
   "execution_count": 59,
   "id": "6bcb1db7",
   "metadata": {
    "collapsed": true
   },
   "outputs": [
    {
     "name": "stdout",
     "output_type": "stream",
     "text": [
      "attendence criteira met?: True\n",
      "assignment criteria met?: True\n",
      "The student is eligible to apper in final exam\n"
     ]
    }
   ],
   "source": [
    "attendence = 75\n",
    "assignment_submitted = 70\n",
    "print(f'attendence criteira met?: {attendence>=75}')\n",
    "print(f'assignment criteria met?: {assignment_submitted>=70}')\n",
    "\n",
    "\n",
    "if attendence>=75 and assignment_submitted>=70:\n",
    "    print('The student is eligible to apper in final exam')\n",
    "else:\n",
    "    print('Student is not eligible')"
   ]
  },
  {
   "cell_type": "code",
   "execution_count": 62,
   "id": "5532340b",
   "metadata": {},
   "outputs": [
    {
     "name": "stdout",
     "output_type": "stream",
     "text": [
      "Dad: You should have taken things seriously\n"
     ]
    }
   ],
   "source": [
    "your_score = 30\n",
    "passing_marks = 33.33\n",
    "\n",
    "if your_score>=33.33:\n",
    "    print(f'Since you have scored: {your_score}, you have passed the exams!')\n",
    "else:\n",
    "    print('Dad: You should have taken things seriously')"
   ]
  },
  {
   "cell_type": "code",
   "execution_count": 63,
   "id": "41858df0",
   "metadata": {},
   "outputs": [
    {
     "name": "stdout",
     "output_type": "stream",
     "text": [
      "Dad: You should have taken things seriously\n"
     ]
    }
   ],
   "source": [
    "your_score = 33.33\n",
    "passing_marks = 33.33\n",
    "\n",
    "if your_score>33.33: #strict case\n",
    "    print(f'Since you have scored: {your_score}, you have passed the exams!')\n",
    "else:\n",
    "    print('Dad: You should have taken things seriously')"
   ]
  },
  {
   "cell_type": "code",
   "execution_count": 64,
   "id": "28f7f91f",
   "metadata": {},
   "outputs": [
    {
     "name": "stdout",
     "output_type": "stream",
     "text": [
      "Since you have scored: 90, you have passed the exams!\n",
      "Dad: I wil buy you a bike\n"
     ]
    }
   ],
   "source": [
    "your_score = 90\n",
    "passing_marks = 33.33\n",
    "distinction_marks = 75\n",
    "\n",
    "if your_score>33.33: #strict case\n",
    "    print(f'Since you have scored: {your_score}, you have passed the exams!')\n",
    "    if your_score> distinction_marks:\n",
    "        print('Dad: I wil buy you a bike')\n",
    "    else:\n",
    "        print('Dad: Better luck next time')\n",
    "else:\n",
    "    print('Dad: You should have taken things seriously')"
   ]
  },
  {
   "cell_type": "code",
   "execution_count": 65,
   "id": "bc9d2c04",
   "metadata": {},
   "outputs": [
    {
     "name": "stdout",
     "output_type": "stream",
     "text": [
      "Since you have scored: 60, you have passed the exams!\n",
      "Dad: Better luck next time\n"
     ]
    }
   ],
   "source": [
    "your_score = 60\n",
    "passing_marks = 33.33\n",
    "distinction_marks = 75\n",
    "\n",
    "if your_score>33.33: #strict case\n",
    "    print(f'Since you have scored: {your_score}, you have passed the exams!')\n",
    "    if your_score> distinction_marks:\n",
    "        print('Dad: I wil buy you a bike')\n",
    "    else:\n",
    "        print('Dad: Better luck next time')\n",
    "else:\n",
    "    print('Dad: You should have taken things seriously')"
   ]
  },
  {
   "cell_type": "code",
   "execution_count": 66,
   "id": "ba363bed",
   "metadata": {},
   "outputs": [
    {
     "name": "stdout",
     "output_type": "stream",
     "text": [
      "Dad: You should have taken things seriously\n"
     ]
    }
   ],
   "source": [
    "your_score = 30\n",
    "passing_marks = 33.33\n",
    "distinction_marks = 75\n",
    "\n",
    "if your_score>33.33: #strict case\n",
    "    print(f'Since you have scored: {your_score}, you have passed the exams!')\n",
    "    if your_score> distinction_marks:\n",
    "        print('Dad: I wil buy you a bike')\n",
    "    else:\n",
    "        print('Dad: Better luck next time')\n",
    "else:\n",
    "    print('Dad: You should have taken things seriously')"
   ]
  },
  {
   "cell_type": "code",
   "execution_count": null,
   "id": "69a2313c",
   "metadata": {},
   "outputs": [],
   "source": []
  }
 ],
 "metadata": {
  "kernelspec": {
   "display_name": "Python 3 (ipykernel)",
   "language": "python",
   "name": "python3"
  },
  "language_info": {
   "codemirror_mode": {
    "name": "ipython",
    "version": 3
   },
   "file_extension": ".py",
   "mimetype": "text/x-python",
   "name": "python",
   "nbconvert_exporter": "python",
   "pygments_lexer": "ipython3",
   "version": "3.9.12"
  }
 },
 "nbformat": 4,
 "nbformat_minor": 5
}
