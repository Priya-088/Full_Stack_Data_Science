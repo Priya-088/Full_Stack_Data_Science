{
 "cells": [
  {
   "cell_type": "markdown",
   "id": "e2c0325c",
   "metadata": {},
   "source": [
    "### In built data structures\n",
    "\n"
   ]
  },
  {
   "cell_type": "markdown",
   "id": "39732358",
   "metadata": {},
   "source": [
    "#### Lists\n",
    "\n",
    "- container that stores the data\n",
    "- accepts any data type\n",
    "- List are mutable/ changable"
   ]
  },
  {
   "cell_type": "code",
   "execution_count": 1,
   "id": "163d5984",
   "metadata": {},
   "outputs": [
    {
     "data": {
      "text/plain": [
       "1"
      ]
     },
     "execution_count": 1,
     "metadata": {},
     "output_type": "execute_result"
    }
   ],
   "source": [
    "A = [1,2,3,4,5]\n",
    "\n",
    "A[0]"
   ]
  },
  {
   "cell_type": "code",
   "execution_count": 2,
   "id": "379c321b",
   "metadata": {},
   "outputs": [
    {
     "data": {
      "text/plain": [
       "True"
      ]
     },
     "execution_count": 2,
     "metadata": {},
     "output_type": "execute_result"
    }
   ],
   "source": [
    "A = [1,2,3,4,5.0,'Sunny',1+2j, True]\n",
    "\n",
    "A[-1]"
   ]
  },
  {
   "cell_type": "markdown",
   "id": "5a8be2d9",
   "metadata": {},
   "source": [
    "#### What is the difference between list in python and array in other language\n",
    "\n",
    "- In array we will have elements of only one data type\n",
    "- In python list all elements can be of different data type or same data type."
   ]
  },
  {
   "cell_type": "code",
   "execution_count": 3,
   "id": "3e6960af",
   "metadata": {},
   "outputs": [
    {
     "data": {
      "text/plain": [
       "list"
      ]
     },
     "execution_count": 3,
     "metadata": {},
     "output_type": "execute_result"
    }
   ],
   "source": [
    "A = [1,2,3,4,5.0,'Sunny',1+2j, True]\n",
    "\n",
    "type(A)"
   ]
  },
  {
   "cell_type": "code",
   "execution_count": 4,
   "id": "2d92052d",
   "metadata": {},
   "outputs": [
    {
     "name": "stdout",
     "output_type": "stream",
     "text": [
      "1 2 3 4 5.0 Sunny (1+2j) True "
     ]
    }
   ],
   "source": [
    "for element in A:\n",
    "    print(element, end=' ')"
   ]
  },
  {
   "cell_type": "code",
   "execution_count": 5,
   "id": "13728c91",
   "metadata": {},
   "outputs": [
    {
     "name": "stdout",
     "output_type": "stream",
     "text": [
      "1 2 3 4 5.0 Sunny (1+2j) True "
     ]
    }
   ],
   "source": [
    "for i in range(len(A)):\n",
    "    print(A[i], end=' ')"
   ]
  },
  {
   "cell_type": "code",
   "execution_count": 7,
   "id": "ac629a3c",
   "metadata": {},
   "outputs": [
    {
     "name": "stdout",
     "output_type": "stream",
     "text": [
      "vlaues is 1 and data type is<class 'int'>\n",
      "vlaues is 2 and data type is<class 'int'>\n",
      "vlaues is 3 and data type is<class 'int'>\n",
      "vlaues is 4 and data type is<class 'int'>\n",
      "vlaues is 5.0 and data type is<class 'float'>\n",
      "vlaues is Sunny and data type is<class 'str'>\n",
      "vlaues is (1+2j) and data type is<class 'complex'>\n",
      "vlaues is True and data type is<class 'bool'>\n"
     ]
    }
   ],
   "source": [
    "for i in range(len(A)):\n",
    "    print(f'vlaues is {A[i]} and data type is{type(A[i])}')"
   ]
  },
  {
   "cell_type": "code",
   "execution_count": 8,
   "id": "b4b38ab9",
   "metadata": {},
   "outputs": [],
   "source": [
    "my_list = ['one','two','three']"
   ]
  },
  {
   "cell_type": "code",
   "execution_count": 10,
   "id": "09bddb67",
   "metadata": {},
   "outputs": [
    {
     "name": "stdout",
     "output_type": "stream",
     "text": [
      "[1, 2, 3, 4, 5.0, 'Sunny', (1+2j), True]\n"
     ]
    },
    {
     "data": {
      "text/plain": [
       "[4, 5.0, 'Sunny', (1+2j), True]"
      ]
     },
     "execution_count": 10,
     "metadata": {},
     "output_type": "execute_result"
    }
   ],
   "source": [
    "print(A)\n",
    "A[3:]"
   ]
  },
  {
   "cell_type": "code",
   "execution_count": 11,
   "id": "1be2d61a",
   "metadata": {},
   "outputs": [
    {
     "data": {
      "text/plain": [
       "[1, 3, 5.0, (1+2j)]"
      ]
     },
     "execution_count": 11,
     "metadata": {},
     "output_type": "execute_result"
    }
   ],
   "source": [
    "A[0::2]  #[start index: end index: step]"
   ]
  },
  {
   "cell_type": "code",
   "execution_count": 13,
   "id": "b8b36802",
   "metadata": {},
   "outputs": [
    {
     "name": "stdout",
     "output_type": "stream",
     "text": [
      "0 1\n",
      "2 3\n",
      "4 5.0\n",
      "6 (1+2j)\n"
     ]
    }
   ],
   "source": [
    "for i in range(0,8,2):\n",
    "   \n",
    "    print(i, A[i])"
   ]
  },
  {
   "cell_type": "code",
   "execution_count": 14,
   "id": "36af7b69",
   "metadata": {},
   "outputs": [
    {
     "name": "stdout",
     "output_type": "stream",
     "text": [
      "[1, 2, 3, 4, 5.0, 'Sunny', (1+2j), True]\n"
     ]
    },
    {
     "data": {
      "text/plain": [
       "[True, (1+2j), 'Sunny', 5.0, 4, 3, 2, 1]"
      ]
     },
     "execution_count": 14,
     "metadata": {},
     "output_type": "execute_result"
    }
   ],
   "source": [
    "print(A)\n",
    "#print reverse\n",
    "\n",
    "A[::-1]"
   ]
  },
  {
   "cell_type": "code",
   "execution_count": 15,
   "id": "5da42852",
   "metadata": {},
   "outputs": [
    {
     "data": {
      "text/plain": [
       "[True, 'Sunny', 4, 2]"
      ]
     },
     "execution_count": 15,
     "metadata": {},
     "output_type": "execute_result"
    }
   ],
   "source": [
    "A[::-2]"
   ]
  },
  {
   "cell_type": "code",
   "execution_count": 16,
   "id": "50e7285e",
   "metadata": {},
   "outputs": [
    {
     "name": "stdout",
     "output_type": "stream",
     "text": [
      "0\n",
      "2\n",
      "4\n",
      "6\n",
      "8\n"
     ]
    }
   ],
   "source": [
    "for i in range(0,10,2):\n",
    "    print(i)"
   ]
  },
  {
   "cell_type": "code",
   "execution_count": 17,
   "id": "24a5fd5d",
   "metadata": {},
   "outputs": [
    {
     "name": "stdout",
     "output_type": "stream",
     "text": [
      "0 1\n",
      "2 3\n",
      "4 5.0\n",
      "6 (1+2j)\n"
     ]
    }
   ],
   "source": [
    "for i in range(0,len(A),2):\n",
    "    print(i, A[i])"
   ]
  },
  {
   "cell_type": "code",
   "execution_count": 18,
   "id": "07be555e",
   "metadata": {},
   "outputs": [
    {
     "name": "stdout",
     "output_type": "stream",
     "text": [
      "0 1\n",
      "1 2\n",
      "2 3\n",
      "3 4\n",
      "4 5.0\n",
      "5 Sunny\n",
      "6 (1+2j)\n",
      "7 True\n"
     ]
    }
   ],
   "source": [
    "for i in range(0,len(A)):\n",
    "    print(i, A[i])"
   ]
  },
  {
   "cell_type": "code",
   "execution_count": 20,
   "id": "4ecdb787",
   "metadata": {},
   "outputs": [
    {
     "name": "stdout",
     "output_type": "stream",
     "text": [
      "-1 True\n",
      "-2 (1+2j)\n",
      "-3 Sunny\n",
      "-4 5.0\n",
      "-5 4\n",
      "-6 3\n",
      "-7 2\n",
      "-8 1\n"
     ]
    }
   ],
   "source": [
    "for i in range(-1,-len(A)-1,-1):\n",
    "    print(i, A[i])"
   ]
  },
  {
   "cell_type": "code",
   "execution_count": 21,
   "id": "e9130295",
   "metadata": {},
   "outputs": [
    {
     "data": {
      "text/plain": [
       "[2, 4, 'Sunny', True]"
      ]
     },
     "execution_count": 21,
     "metadata": {},
     "output_type": "execute_result"
    }
   ],
   "source": [
    "A[1::2]"
   ]
  },
  {
   "cell_type": "code",
   "execution_count": 23,
   "id": "7f684e9f",
   "metadata": {},
   "outputs": [
    {
     "name": "stdout",
     "output_type": "stream",
     "text": [
      "2\n",
      "Sunny\n",
      "(1+2j)\n",
      "True\n"
     ]
    }
   ],
   "source": [
    "for i in [1,5,6,7]:\n",
    "    print(A[i])"
   ]
  },
  {
   "cell_type": "code",
   "execution_count": 24,
   "id": "3a6e4bb3",
   "metadata": {},
   "outputs": [
    {
     "data": {
      "text/plain": [
       "[1, 2, 3, 4, 999, 'Sunny', (1+2j), True]"
      ]
     },
     "execution_count": 24,
     "metadata": {},
     "output_type": "execute_result"
    }
   ],
   "source": [
    "#changing the values in the list\n",
    "\n",
    "A[4] = 999\n",
    "A"
   ]
  },
  {
   "cell_type": "code",
   "execution_count": 25,
   "id": "a70600d4",
   "metadata": {},
   "outputs": [
    {
     "data": {
      "text/plain": [
       "[1, 2, 3, 4, 999, 'Sunny', 'Ineuron', True]"
      ]
     },
     "execution_count": 25,
     "metadata": {},
     "output_type": "execute_result"
    }
   ],
   "source": [
    "A[-2]=\"Ineuron\"\n",
    "A"
   ]
  },
  {
   "cell_type": "code",
   "execution_count": 26,
   "id": "44754bce",
   "metadata": {},
   "outputs": [
    {
     "data": {
      "text/plain": [
       "[778, 90.22]"
      ]
     },
     "execution_count": 26,
     "metadata": {},
     "output_type": "execute_result"
    }
   ],
   "source": [
    "B = [778,90.22]\n",
    "B"
   ]
  },
  {
   "cell_type": "code",
   "execution_count": 27,
   "id": "dfdfb9a6",
   "metadata": {},
   "outputs": [
    {
     "data": {
      "text/plain": [
       "[1, 2, 3, 4, 999, 'Sunny', 'Ineuron', True, 778, 90.22]"
      ]
     },
     "execution_count": 27,
     "metadata": {},
     "output_type": "execute_result"
    }
   ],
   "source": [
    "#concatenation of two lists\n",
    "\n",
    "A+B"
   ]
  },
  {
   "cell_type": "code",
   "execution_count": 28,
   "id": "d9b22e23",
   "metadata": {},
   "outputs": [],
   "source": [
    "A = A+B"
   ]
  },
  {
   "cell_type": "code",
   "execution_count": 29,
   "id": "f68a7caa",
   "metadata": {},
   "outputs": [
    {
     "data": {
      "text/plain": [
       "[1, 2, 3, 4, 999, 'Sunny', 'Ineuron', True, 778, 90.22]"
      ]
     },
     "execution_count": 29,
     "metadata": {},
     "output_type": "execute_result"
    }
   ],
   "source": [
    "A"
   ]
  },
  {
   "cell_type": "code",
   "execution_count": 30,
   "id": "0773c1d2",
   "metadata": {},
   "outputs": [
    {
     "ename": "TypeError",
     "evalue": "unsupported operand type(s) for -: 'list' and 'list'",
     "output_type": "error",
     "traceback": [
      "\u001b[1;31m---------------------------------------------------------------------------\u001b[0m",
      "\u001b[1;31mTypeError\u001b[0m                                 Traceback (most recent call last)",
      "\u001b[1;32m~\\AppData\\Local\\Temp/ipykernel_1464/3242924324.py\u001b[0m in \u001b[0;36m<module>\u001b[1;34m\u001b[0m\n\u001b[1;32m----> 1\u001b[1;33m \u001b[0mA\u001b[0m\u001b[1;33m-\u001b[0m\u001b[0mB\u001b[0m\u001b[1;33m\u001b[0m\u001b[1;33m\u001b[0m\u001b[0m\n\u001b[0m",
      "\u001b[1;31mTypeError\u001b[0m: unsupported operand type(s) for -: 'list' and 'list'"
     ]
    }
   ],
   "source": [
    "A-B"
   ]
  },
  {
   "cell_type": "code",
   "execution_count": 31,
   "id": "386b5ff7",
   "metadata": {},
   "outputs": [
    {
     "data": {
      "text/plain": [
       "[1,\n",
       " 2,\n",
       " 3,\n",
       " 4,\n",
       " 999,\n",
       " 'Sunny',\n",
       " 'Ineuron',\n",
       " True,\n",
       " 778,\n",
       " 90.22,\n",
       " 1,\n",
       " 2,\n",
       " 3,\n",
       " 4,\n",
       " 999,\n",
       " 'Sunny',\n",
       " 'Ineuron',\n",
       " True,\n",
       " 778,\n",
       " 90.22]"
      ]
     },
     "execution_count": 31,
     "metadata": {},
     "output_type": "execute_result"
    }
   ],
   "source": [
    "#repetation of the list\n",
    "\n",
    "A*2"
   ]
  },
  {
   "cell_type": "code",
   "execution_count": 32,
   "id": "3be5601b",
   "metadata": {},
   "outputs": [
    {
     "ename": "TypeError",
     "evalue": "unsupported operand type(s) for /: 'list' and 'int'",
     "output_type": "error",
     "traceback": [
      "\u001b[1;31m---------------------------------------------------------------------------\u001b[0m",
      "\u001b[1;31mTypeError\u001b[0m                                 Traceback (most recent call last)",
      "\u001b[1;32m~\\AppData\\Local\\Temp/ipykernel_1464/3171056322.py\u001b[0m in \u001b[0;36m<module>\u001b[1;34m\u001b[0m\n\u001b[1;32m----> 1\u001b[1;33m \u001b[0mA\u001b[0m\u001b[1;33m/\u001b[0m\u001b[1;36m2\u001b[0m\u001b[1;33m\u001b[0m\u001b[1;33m\u001b[0m\u001b[0m\n\u001b[0m",
      "\u001b[1;31mTypeError\u001b[0m: unsupported operand type(s) for /: 'list' and 'int'"
     ]
    }
   ],
   "source": [
    "A/2"
   ]
  },
  {
   "cell_type": "code",
   "execution_count": 33,
   "id": "8589de5e",
   "metadata": {},
   "outputs": [
    {
     "ename": "TypeError",
     "evalue": "can't multiply sequence by non-int of type 'list'",
     "output_type": "error",
     "traceback": [
      "\u001b[1;31m---------------------------------------------------------------------------\u001b[0m",
      "\u001b[1;31mTypeError\u001b[0m                                 Traceback (most recent call last)",
      "\u001b[1;32m~\\AppData\\Local\\Temp/ipykernel_1464/496857620.py\u001b[0m in \u001b[0;36m<module>\u001b[1;34m\u001b[0m\n\u001b[1;32m----> 1\u001b[1;33m \u001b[0mA\u001b[0m\u001b[1;33m*\u001b[0m\u001b[0mA\u001b[0m\u001b[1;33m\u001b[0m\u001b[1;33m\u001b[0m\u001b[0m\n\u001b[0m",
      "\u001b[1;31mTypeError\u001b[0m: can't multiply sequence by non-int of type 'list'"
     ]
    }
   ],
   "source": [
    "A*A"
   ]
  },
  {
   "cell_type": "code",
   "execution_count": 34,
   "id": "94601283",
   "metadata": {},
   "outputs": [
    {
     "data": {
      "text/plain": [
       "[1,\n",
       " 2,\n",
       " 3,\n",
       " 4,\n",
       " 999,\n",
       " 'Sunny',\n",
       " 'Ineuron',\n",
       " True,\n",
       " 778,\n",
       " 90.22,\n",
       " 1,\n",
       " 2,\n",
       " 3,\n",
       " 4,\n",
       " 999,\n",
       " 'Sunny',\n",
       " 'Ineuron',\n",
       " True,\n",
       " 778,\n",
       " 90.22,\n",
       " 1,\n",
       " 2,\n",
       " 3,\n",
       " 4,\n",
       " 999,\n",
       " 'Sunny',\n",
       " 'Ineuron',\n",
       " True,\n",
       " 778,\n",
       " 90.22]"
      ]
     },
     "execution_count": 34,
     "metadata": {},
     "output_type": "execute_result"
    }
   ],
   "source": [
    "A+A+A"
   ]
  },
  {
   "cell_type": "code",
   "execution_count": 36,
   "id": "38bd0db1",
   "metadata": {},
   "outputs": [
    {
     "data": {
      "text/plain": [
       "[]"
      ]
     },
     "execution_count": 36,
     "metadata": {},
     "output_type": "execute_result"
    }
   ],
   "source": [
    "A*(-1)"
   ]
  },
  {
   "cell_type": "code",
   "execution_count": 37,
   "id": "0af6e32c",
   "metadata": {},
   "outputs": [
    {
     "data": {
      "text/plain": [
       "[]"
      ]
     },
     "execution_count": 37,
     "metadata": {},
     "output_type": "execute_result"
    }
   ],
   "source": [
    "A*(-2)"
   ]
  },
  {
   "cell_type": "code",
   "execution_count": 38,
   "id": "f305f6ff",
   "metadata": {},
   "outputs": [
    {
     "ename": "SyntaxError",
     "evalue": "invalid syntax (Temp/ipykernel_1464/3610180755.py, line 1)",
     "output_type": "error",
     "traceback": [
      "\u001b[1;36m  File \u001b[1;32m\"C:\\Users\\hi\\AppData\\Local\\Temp/ipykernel_1464/3610180755.py\"\u001b[1;36m, line \u001b[1;32m1\u001b[0m\n\u001b[1;33m    A+2A\u001b[0m\n\u001b[1;37m       ^\u001b[0m\n\u001b[1;31mSyntaxError\u001b[0m\u001b[1;31m:\u001b[0m invalid syntax\n"
     ]
    }
   ],
   "source": [
    "A+2A"
   ]
  },
  {
   "cell_type": "code",
   "execution_count": 39,
   "id": "1ca4bd84",
   "metadata": {},
   "outputs": [
    {
     "data": {
      "text/plain": [
       "[]"
      ]
     },
     "execution_count": 39,
     "metadata": {},
     "output_type": "execute_result"
    }
   ],
   "source": [
    "A*0"
   ]
  },
  {
   "cell_type": "markdown",
   "id": "dff72e9a",
   "metadata": {},
   "source": [
    "### Basic List Methods"
   ]
  },
  {
   "cell_type": "code",
   "execution_count": 40,
   "id": "53213c58",
   "metadata": {},
   "outputs": [
    {
     "data": {
      "text/plain": [
       "10"
      ]
     },
     "execution_count": 40,
     "metadata": {},
     "output_type": "execute_result"
    }
   ],
   "source": [
    "len(A)"
   ]
  },
  {
   "cell_type": "code",
   "execution_count": 41,
   "id": "2a84fb7e",
   "metadata": {},
   "outputs": [
    {
     "data": {
      "text/plain": [
       "0"
      ]
     },
     "execution_count": 41,
     "metadata": {},
     "output_type": "execute_result"
    }
   ],
   "source": [
    "#list with user input\n",
    "\n",
    "my_list = []  #Not recommended\n",
    "len(my_list)"
   ]
  },
  {
   "cell_type": "code",
   "execution_count": 43,
   "id": "19606f1f",
   "metadata": {},
   "outputs": [],
   "source": [
    "my_list = list()  #recommended input"
   ]
  },
  {
   "cell_type": "code",
   "execution_count": 46,
   "id": "3df162b5",
   "metadata": {},
   "outputs": [
    {
     "name": "stdout",
     "output_type": "stream",
     "text": [
      "Enter the item that you want to purchase: 1\n",
      "Enter the item that you want to purchase: 2\n",
      "Enter the item that you want to purchase: 3\n",
      "Enter the item that you want to purchase: 4\n",
      "Enter the item that you want to purchase: 5\n",
      "Enter the item that you want to purchase: 6\n",
      "Enter the item that you want to purchase: 7\n",
      "Enter the item that you want to purchase: 8\n",
      "Enter the item that you want to purchase: 9\n",
      "Enter the item that you want to purchase: 11\n",
      "['1', '2', '3', '4', '5', '6', '7', '8', '9', '11']\n"
     ]
    }
   ],
   "source": [
    "list_of_item_to_purchase = list()\n",
    "\n",
    "for i in range(10):\n",
    "    user_input = input('Enter the item that you want to purchase: ')\n",
    "    list_of_item_to_purchase=list_of_item_to_purchase+[user_input]\n",
    "    \n",
    "print(list_of_item_to_purchase)"
   ]
  },
  {
   "cell_type": "code",
   "execution_count": 50,
   "id": "731845f9",
   "metadata": {},
   "outputs": [
    {
     "name": "stdout",
     "output_type": "stream",
     "text": [
      "No of iteams you want to purchase3\n",
      "Enter the item that you want to purchase: pen\n",
      "Enter the item that you want to purchase: pencile\n",
      "Enter the item that you want to purchase: book\n",
      "['pen', 'pencile', 'book']\n"
     ]
    }
   ],
   "source": [
    "list_of_item_to_purchase = list()\n",
    "N = int(input('No of iteams you want to purchase'))\n",
    "for i in range(N):\n",
    "    user_input = input('Enter the item that you want to purchase: ')\n",
    "    list_of_item_to_purchase=list_of_item_to_purchase+[user_input]\n",
    "    \n",
    "print(list_of_item_to_purchase)\n"
   ]
  },
  {
   "cell_type": "code",
   "execution_count": 52,
   "id": "9c0636f7",
   "metadata": {},
   "outputs": [
    {
     "name": "stdout",
     "output_type": "stream",
     "text": [
      "No of iteams you want to purchase3\n",
      "Enter the item that you want to purchase: pen\n",
      "Current list: ['pen']\n",
      "Enter the item that you want to purchase: pencile\n",
      "Current list: ['pen', 'pencile']\n",
      "Enter the item that you want to purchase: \n",
      "Current list: ['pen', 'pencile', '']\n",
      "['pen', 'pencile', '']\n"
     ]
    }
   ],
   "source": [
    "list_of_item_to_purchase = list()\n",
    "N = int(input('No of iteams you want to purchase'))\n",
    "i=0\n",
    "while i <N:\n",
    "    user_input = input('Enter the item that you want to purchase: ')\n",
    "    list_of_item_to_purchase=list_of_item_to_purchase+[user_input]\n",
    "    print(f'Current list: {list_of_item_to_purchase}')\n",
    "    i=i+1\n",
    "print(list_of_item_to_purchase)\n"
   ]
  },
  {
   "cell_type": "markdown",
   "id": "5400f20d",
   "metadata": {},
   "source": [
    "### checking the elements in the list"
   ]
  },
  {
   "cell_type": "code",
   "execution_count": 53,
   "id": "4cc3a6a3",
   "metadata": {},
   "outputs": [
    {
     "data": {
      "text/plain": [
       "False"
      ]
     },
     "execution_count": 53,
     "metadata": {},
     "output_type": "execute_result"
    }
   ],
   "source": [
    "'phone cover' in list_of_item_to_purchase"
   ]
  },
  {
   "cell_type": "code",
   "execution_count": 54,
   "id": "7fded649",
   "metadata": {},
   "outputs": [
    {
     "data": {
      "text/plain": [
       "True"
      ]
     },
     "execution_count": 54,
     "metadata": {},
     "output_type": "execute_result"
    }
   ],
   "source": [
    "'pen' in list_of_item_to_purchase"
   ]
  },
  {
   "cell_type": "code",
   "execution_count": 55,
   "id": "cf7091c9",
   "metadata": {},
   "outputs": [
    {
     "data": {
      "text/plain": [
       "False"
      ]
     },
     "execution_count": 55,
     "metadata": {},
     "output_type": "execute_result"
    }
   ],
   "source": [
    "'Pen' in list_of_item_to_purchase  ##case sensitive"
   ]
  },
  {
   "cell_type": "code",
   "execution_count": 56,
   "id": "b035043c",
   "metadata": {},
   "outputs": [
    {
     "name": "stdout",
     "output_type": "stream",
     "text": [
      "No, adding into the list\n"
     ]
    },
    {
     "data": {
      "text/plain": [
       "['pen', 'pencile', '', 'phone cover']"
      ]
     },
     "execution_count": 56,
     "metadata": {},
     "output_type": "execute_result"
    }
   ],
   "source": [
    "if 'phone cover' in list_of_item_to_purchase:\n",
    "    print('Yes')\n",
    "else:\n",
    "    print('No, adding into the list')\n",
    "    list_of_item_to_purchase = list_of_item_to_purchase+['phone cover']\n",
    "\n",
    "list_of_item_to_purchase"
   ]
  },
  {
   "cell_type": "code",
   "execution_count": 59,
   "id": "2491f417",
   "metadata": {},
   "outputs": [
    {
     "name": "stdout",
     "output_type": "stream",
     "text": [
      "No, adding into the list\n"
     ]
    },
    {
     "data": {
      "text/plain": [
       "['pen', 'pencile', '', 'phone cover', 'milk']"
      ]
     },
     "execution_count": 59,
     "metadata": {},
     "output_type": "execute_result"
    }
   ],
   "source": [
    "if 'milk' not in list_of_item_to_purchase:\n",
    "    print('No, adding into the list')\n",
    "    list_of_item_to_purchase = list_of_item_to_purchase+['milk']\n",
    "\n",
    "list_of_item_to_purchase"
   ]
  },
  {
   "cell_type": "code",
   "execution_count": 60,
   "id": "a6955377",
   "metadata": {},
   "outputs": [
    {
     "name": "stdout",
     "output_type": "stream",
     "text": [
      "Any thing to add: eggs\n",
      "No, adding into the list\n"
     ]
    },
    {
     "data": {
      "text/plain": [
       "['pen', 'pencile', '', 'phone cover', 'milk', 'eggs']"
      ]
     },
     "execution_count": 60,
     "metadata": {},
     "output_type": "execute_result"
    }
   ],
   "source": [
    "new_item = input('Any thing to add: ')\n",
    "\n",
    "if new_item not in list_of_item_to_purchase:\n",
    "    print('No, adding into the list')\n",
    "    list_of_item_to_purchase = list_of_item_to_purchase+[new_item]\n",
    "\n",
    "list_of_item_to_purchase"
   ]
  },
  {
   "cell_type": "markdown",
   "id": "46e00d99",
   "metadata": {},
   "source": [
    "### max()"
   ]
  },
  {
   "cell_type": "code",
   "execution_count": 62,
   "id": "baf1c726",
   "metadata": {},
   "outputs": [
    {
     "data": {
      "text/plain": [
       "999"
      ]
     },
     "execution_count": 62,
     "metadata": {},
     "output_type": "execute_result"
    }
   ],
   "source": [
    "example= [1,49,10,999]\n",
    "\n",
    "max(example)"
   ]
  },
  {
   "cell_type": "code",
   "execution_count": 64,
   "id": "5440145a",
   "metadata": {},
   "outputs": [
    {
     "data": {
      "text/plain": [
       "'d'"
      ]
     },
     "execution_count": 64,
     "metadata": {},
     "output_type": "execute_result"
    }
   ],
   "source": [
    "string_example = ['b','a','d','c']\n",
    "\n",
    "max(string_example)"
   ]
  },
  {
   "cell_type": "code",
   "execution_count": 65,
   "id": "487fc354",
   "metadata": {},
   "outputs": [
    {
     "data": {
      "text/plain": [
       "'d'"
      ]
     },
     "execution_count": 65,
     "metadata": {},
     "output_type": "execute_result"
    }
   ],
   "source": [
    "##ASCII value for \"D\" is less than 'd'\n",
    "string_example = ['b','a','d','c','D']\n",
    "\n",
    "max(string_example)"
   ]
  },
  {
   "cell_type": "code",
   "execution_count": 66,
   "id": "069c0610",
   "metadata": {},
   "outputs": [
    {
     "ename": "TypeError",
     "evalue": "'>' not supported between instances of 'int' and 'str'",
     "output_type": "error",
     "traceback": [
      "\u001b[1;31m---------------------------------------------------------------------------\u001b[0m",
      "\u001b[1;31mTypeError\u001b[0m                                 Traceback (most recent call last)",
      "\u001b[1;32m~\\AppData\\Local\\Temp/ipykernel_1464/1012306479.py\u001b[0m in \u001b[0;36m<module>\u001b[1;34m\u001b[0m\n\u001b[0;32m      1\u001b[0m \u001b[0mstring_example\u001b[0m \u001b[1;33m=\u001b[0m \u001b[1;33m[\u001b[0m\u001b[1;34m'b'\u001b[0m\u001b[1;33m,\u001b[0m\u001b[1;34m'a'\u001b[0m\u001b[1;33m,\u001b[0m\u001b[1;34m'd'\u001b[0m\u001b[1;33m,\u001b[0m\u001b[1;34m'c'\u001b[0m\u001b[1;33m,\u001b[0m\u001b[1;34m'D'\u001b[0m\u001b[1;33m,\u001b[0m\u001b[1;36m1\u001b[0m\u001b[1;33m,\u001b[0m\u001b[1;36m2\u001b[0m\u001b[1;33m]\u001b[0m\u001b[1;33m\u001b[0m\u001b[1;33m\u001b[0m\u001b[0m\n\u001b[0;32m      2\u001b[0m \u001b[1;33m\u001b[0m\u001b[0m\n\u001b[1;32m----> 3\u001b[1;33m \u001b[0mmax\u001b[0m\u001b[1;33m(\u001b[0m\u001b[0mstring_example\u001b[0m\u001b[1;33m)\u001b[0m\u001b[1;33m\u001b[0m\u001b[1;33m\u001b[0m\u001b[0m\n\u001b[0m",
      "\u001b[1;31mTypeError\u001b[0m: '>' not supported between instances of 'int' and 'str'"
     ]
    }
   ],
   "source": [
    "string_example = ['b','a','d','c','D',1,2]\n",
    "\n",
    "max(string_example)"
   ]
  },
  {
   "cell_type": "code",
   "execution_count": 67,
   "id": "d98b91f0",
   "metadata": {},
   "outputs": [
    {
     "data": {
      "text/plain": [
       "99.0"
      ]
     },
     "execution_count": 67,
     "metadata": {},
     "output_type": "execute_result"
    }
   ],
   "source": [
    "example = [1,2,99.0]\n",
    "max(example)"
   ]
  },
  {
   "cell_type": "code",
   "execution_count": 68,
   "id": "2035ee5f",
   "metadata": {},
   "outputs": [
    {
     "ename": "TypeError",
     "evalue": "'>' not supported between instances of 'complex' and 'float'",
     "output_type": "error",
     "traceback": [
      "\u001b[1;31m---------------------------------------------------------------------------\u001b[0m",
      "\u001b[1;31mTypeError\u001b[0m                                 Traceback (most recent call last)",
      "\u001b[1;32m~\\AppData\\Local\\Temp/ipykernel_1464/761235984.py\u001b[0m in \u001b[0;36m<module>\u001b[1;34m\u001b[0m\n\u001b[0;32m      1\u001b[0m \u001b[0mexample\u001b[0m \u001b[1;33m=\u001b[0m \u001b[1;33m[\u001b[0m\u001b[1;36m1\u001b[0m\u001b[1;33m,\u001b[0m\u001b[1;36m2\u001b[0m\u001b[1;33m,\u001b[0m\u001b[1;36m99.0\u001b[0m\u001b[1;33m,\u001b[0m \u001b[1;36m1\u001b[0m\u001b[1;33m-\u001b[0m\u001b[1;36m5j\u001b[0m\u001b[1;33m]\u001b[0m\u001b[1;33m\u001b[0m\u001b[1;33m\u001b[0m\u001b[0m\n\u001b[1;32m----> 2\u001b[1;33m \u001b[0mmax\u001b[0m\u001b[1;33m(\u001b[0m\u001b[0mexample\u001b[0m\u001b[1;33m)\u001b[0m\u001b[1;33m\u001b[0m\u001b[1;33m\u001b[0m\u001b[0m\n\u001b[0m",
      "\u001b[1;31mTypeError\u001b[0m: '>' not supported between instances of 'complex' and 'float'"
     ]
    }
   ],
   "source": [
    "example = [1,2,99.0, 1-5j]\n",
    "max(example)"
   ]
  },
  {
   "cell_type": "code",
   "execution_count": 70,
   "id": "99cb995c",
   "metadata": {},
   "outputs": [
    {
     "data": {
      "text/plain": [
       "1000"
      ]
     },
     "execution_count": 70,
     "metadata": {},
     "output_type": "execute_result"
    }
   ],
   "source": [
    "example = [1,2,99.0, 1000, -5]\n",
    "max(example)"
   ]
  },
  {
   "cell_type": "code",
   "execution_count": 71,
   "id": "6538a191",
   "metadata": {},
   "outputs": [
    {
     "data": {
      "text/plain": [
       "-5"
      ]
     },
     "execution_count": 71,
     "metadata": {},
     "output_type": "execute_result"
    }
   ],
   "source": [
    "example = [1,2,99.0, 1000, -5]\n",
    "min(example)"
   ]
  },
  {
   "cell_type": "code",
   "execution_count": 74,
   "id": "91cf5b56",
   "metadata": {},
   "outputs": [
    {
     "data": {
      "text/plain": [
       "2400"
      ]
     },
     "execution_count": 74,
     "metadata": {},
     "output_type": "execute_result"
    }
   ],
   "source": [
    "example = [1,2,99.0, 1000, -5, 200*12]\n",
    "max(example)"
   ]
  },
  {
   "cell_type": "code",
   "execution_count": 75,
   "id": "9450d026",
   "metadata": {},
   "outputs": [
    {
     "data": {
      "text/plain": [
       "'dew'"
      ]
     },
     "execution_count": 75,
     "metadata": {},
     "output_type": "execute_result"
    }
   ],
   "source": [
    "sample_example = ['bhaveen', 'abhishek','dew','chalie','Doctor']\n",
    "\n",
    "max(sample_example)"
   ]
  },
  {
   "cell_type": "code",
   "execution_count": 78,
   "id": "8e66f461",
   "metadata": {},
   "outputs": [
    {
     "name": "stdout",
     "output_type": "stream",
     "text": [
      "df\n"
     ]
    },
    {
     "data": {
      "text/plain": [
       "'Doctor'"
      ]
     },
     "execution_count": 78,
     "metadata": {},
     "output_type": "execute_result"
    }
   ],
   "source": [
    "sample_example = ['bhaveen', 'abhishek','dew','df','chalie','Doctor']\n",
    "\n",
    "print(max(sample_example))\n",
    "min(sample_example)"
   ]
  },
  {
   "cell_type": "code",
   "execution_count": 79,
   "id": "fa77a84f",
   "metadata": {},
   "outputs": [
    {
     "name": "stdout",
     "output_type": "stream",
     "text": [
      "bhaveen 7\n",
      "abhishek 8\n",
      "dew 3\n",
      "df 2\n",
      "chalie 6\n",
      "Doctor 6\n",
      "RESULT: max_len: 8 name: abhishek\n"
     ]
    }
   ],
   "source": [
    "#print a name with highest number of characters\n",
    "string_example = ['bhaveen', 'abhishek','dew','df','chalie','Doctor']\n",
    "max_len =0\n",
    "result = ''\n",
    "for example in string_example:\n",
    "    print(example, len(example))\n",
    "    if len(example)>max_len:\n",
    "        max_len = len(example)\n",
    "        result = example\n",
    "        \n",
    "print(f'RESULT: max_len: {max_len} name: {result}')"
   ]
  },
  {
   "cell_type": "markdown",
   "id": "7b5a69d3",
   "metadata": {},
   "source": [
    "### Append method"
   ]
  },
  {
   "cell_type": "code",
   "execution_count": 80,
   "id": "02c1b34a",
   "metadata": {},
   "outputs": [
    {
     "data": {
      "text/plain": [
       "[1, 2, 77, 'new element']"
      ]
     },
     "execution_count": 80,
     "metadata": {},
     "output_type": "execute_result"
    }
   ],
   "source": [
    "A = [1,2,77]\n",
    "\n",
    "A = A+['new element']\n",
    "A"
   ]
  },
  {
   "cell_type": "code",
   "execution_count": 81,
   "id": "6a2a890c",
   "metadata": {},
   "outputs": [
    {
     "data": {
      "text/plain": [
       "[1, 2, 77, 'new element']"
      ]
     },
     "execution_count": 81,
     "metadata": {},
     "output_type": "execute_result"
    }
   ],
   "source": [
    "A = [1,2,77]\n",
    "A.append('new element')\n",
    "A"
   ]
  },
  {
   "cell_type": "code",
   "execution_count": 82,
   "id": "f1734358",
   "metadata": {},
   "outputs": [],
   "source": [
    "A.append('ROMA')"
   ]
  },
  {
   "cell_type": "code",
   "execution_count": 83,
   "id": "1f57ecc1",
   "metadata": {},
   "outputs": [
    {
     "data": {
      "text/plain": [
       "[1, 2, 77, 'new element', 'ROMA']"
      ]
     },
     "execution_count": 83,
     "metadata": {},
     "output_type": "execute_result"
    }
   ],
   "source": [
    "A"
   ]
  },
  {
   "cell_type": "code",
   "execution_count": 84,
   "id": "08124893",
   "metadata": {},
   "outputs": [
    {
     "ename": "TypeError",
     "evalue": "list.append() takes exactly one argument (2 given)",
     "output_type": "error",
     "traceback": [
      "\u001b[1;31m---------------------------------------------------------------------------\u001b[0m",
      "\u001b[1;31mTypeError\u001b[0m                                 Traceback (most recent call last)",
      "\u001b[1;32m~\\AppData\\Local\\Temp/ipykernel_1464/182494987.py\u001b[0m in \u001b[0;36m<module>\u001b[1;34m\u001b[0m\n\u001b[1;32m----> 1\u001b[1;33m \u001b[0mA\u001b[0m\u001b[1;33m.\u001b[0m\u001b[0mappend\u001b[0m\u001b[1;33m(\u001b[0m\u001b[1;34m'Sanjay'\u001b[0m\u001b[1;33m,\u001b[0m\u001b[1;34m'John'\u001b[0m\u001b[1;33m)\u001b[0m\u001b[1;33m\u001b[0m\u001b[1;33m\u001b[0m\u001b[0m\n\u001b[0m\u001b[0;32m      2\u001b[0m \u001b[0mA\u001b[0m\u001b[1;33m\u001b[0m\u001b[1;33m\u001b[0m\u001b[0m\n",
      "\u001b[1;31mTypeError\u001b[0m: list.append() takes exactly one argument (2 given)"
     ]
    }
   ],
   "source": [
    "A.append('Sanjay','John')\n",
    "A"
   ]
  },
  {
   "cell_type": "code",
   "execution_count": 85,
   "id": "f85e7f5d",
   "metadata": {},
   "outputs": [
    {
     "data": {
      "text/plain": [
       "[1, 2, 77, 'new element', 'ROMA', ['Sanjay', 'John']]"
      ]
     },
     "execution_count": 85,
     "metadata": {},
     "output_type": "execute_result"
    }
   ],
   "source": [
    "A.append(['Sanjay','John'])\n",
    "A"
   ]
  },
  {
   "cell_type": "code",
   "execution_count": 88,
   "id": "4dd74fe7",
   "metadata": {},
   "outputs": [
    {
     "name": "stdout",
     "output_type": "stream",
     "text": [
      "Enter no of items to purchase3\n",
      "Enter the item that you want to purchase: pen\n",
      "Enter the item that you want to purchase: pencil\n",
      "Enter the item that you want to purchase: book\n",
      "['pen', 'pencil', 'book']\n"
     ]
    }
   ],
   "source": [
    "list_of_item_to_purchase = list()\n",
    "\n",
    "N = int(input('Enter no of items to purchase'))\n",
    "for i in range(N):\n",
    "    user_input = input('Enter the item that you want to purchase: ')\n",
    "    list_of_item_to_purchase.append(user_input)\n",
    "    \n",
    "print(list_of_item_to_purchase)"
   ]
  },
  {
   "cell_type": "markdown",
   "id": "8cf376b0",
   "metadata": {},
   "source": [
    "### POP()\n",
    "\n",
    "Use pop to 'Pop off' and item fron the list. By default pop takes off the last index, but you can specify which index to pop off"
   ]
  },
  {
   "cell_type": "code",
   "execution_count": 90,
   "id": "116ee9b1",
   "metadata": {},
   "outputs": [
    {
     "data": {
      "text/plain": [
       "[6, 4, 5, 7]"
      ]
     },
     "execution_count": 90,
     "metadata": {},
     "output_type": "execute_result"
    }
   ],
   "source": [
    "A = [6,4,5,7,'Sunny']\n",
    "A.pop()\n",
    "A"
   ]
  },
  {
   "cell_type": "code",
   "execution_count": 95,
   "id": "13024bd8",
   "metadata": {},
   "outputs": [
    {
     "data": {
      "text/plain": [
       "[6, 4, 7, 'Sunny']"
      ]
     },
     "execution_count": 95,
     "metadata": {},
     "output_type": "execute_result"
    }
   ],
   "source": [
    "A = [6,4,5,7,'Sunny']\n",
    "A.pop(2)\n",
    "A"
   ]
  },
  {
   "cell_type": "code",
   "execution_count": 96,
   "id": "b6d15a41",
   "metadata": {},
   "outputs": [
    {
     "data": {
      "text/plain": [
       "6"
      ]
     },
     "execution_count": 96,
     "metadata": {},
     "output_type": "execute_result"
    }
   ],
   "source": [
    "#pop off the 0 indexed item\n",
    "A.pop(0)"
   ]
  },
  {
   "cell_type": "code",
   "execution_count": 97,
   "id": "904dae1e",
   "metadata": {},
   "outputs": [
    {
     "name": "stdout",
     "output_type": "stream",
     "text": [
      "[4, 7, 'Sunny']\n"
     ]
    }
   ],
   "source": [
    "print(A)\n",
    "removed_item=A.pop(1)"
   ]
  },
  {
   "cell_type": "code",
   "execution_count": 98,
   "id": "f57e6caa",
   "metadata": {},
   "outputs": [
    {
     "data": {
      "text/plain": [
       "[4, 'Sunny']"
      ]
     },
     "execution_count": 98,
     "metadata": {},
     "output_type": "execute_result"
    }
   ],
   "source": [
    "A\n"
   ]
  },
  {
   "cell_type": "code",
   "execution_count": 104,
   "id": "57efab62",
   "metadata": {},
   "outputs": [
    {
     "name": "stdout",
     "output_type": "stream",
     "text": [
      "0 1\n",
      "odd num: 1\n",
      "1 34\n",
      "even number: 34\n",
      "2 56\n",
      "even number: 56\n",
      "3 76\n",
      "even number: 76\n",
      "4 99\n",
      "odd num: 99\n"
     ]
    }
   ],
   "source": [
    "#to print the odd numbers\n",
    "\n",
    "A = [1,34,56,76,99]\n",
    "\n",
    "for idx in range(len(A)):\n",
    "    num = A[idx]\n",
    "    print(idx,num)\n",
    "    if num%2!=0:\n",
    "        print(f'odd num: {num}')\n",
    "    else:\n",
    "        print(f'even number: {num}')"
   ]
  },
  {
   "cell_type": "code",
   "execution_count": 105,
   "id": "8d9cec56",
   "metadata": {},
   "outputs": [
    {
     "data": {
      "text/plain": [
       "[-34, 1, 45, 67, 98]"
      ]
     },
     "execution_count": 105,
     "metadata": {},
     "output_type": "execute_result"
    }
   ],
   "source": [
    "A = [1,45,67,98,-34]\n",
    "\n",
    "sorted(A)"
   ]
  },
  {
   "cell_type": "code",
   "execution_count": 106,
   "id": "44bf5518",
   "metadata": {},
   "outputs": [
    {
     "data": {
      "text/plain": [
       "[1, 45, 67, 98, -34]"
      ]
     },
     "execution_count": 106,
     "metadata": {},
     "output_type": "execute_result"
    }
   ],
   "source": [
    "A #does not make inplace changes"
   ]
  },
  {
   "cell_type": "code",
   "execution_count": 107,
   "id": "619c473e",
   "metadata": {},
   "outputs": [
    {
     "data": {
      "text/plain": [
       "[-34, 1, 45, 67, 98]"
      ]
     },
     "execution_count": 107,
     "metadata": {},
     "output_type": "execute_result"
    }
   ],
   "source": [
    "A = sorted(A)\n",
    "A"
   ]
  },
  {
   "cell_type": "code",
   "execution_count": 108,
   "id": "8d69961d",
   "metadata": {},
   "outputs": [],
   "source": [
    "#to get desc order\n",
    "A = [1,45,67,98,-34]\n",
    "A.sort(reverse=True)  #inplace change"
   ]
  },
  {
   "cell_type": "code",
   "execution_count": 109,
   "id": "883b5ffc",
   "metadata": {},
   "outputs": [
    {
     "data": {
      "text/plain": [
       "[98, 67, 45, 1, -34]"
      ]
     },
     "execution_count": 109,
     "metadata": {},
     "output_type": "execute_result"
    }
   ],
   "source": [
    "A"
   ]
  },
  {
   "cell_type": "code",
   "execution_count": 110,
   "id": "4cfe3467",
   "metadata": {},
   "outputs": [
    {
     "data": {
      "text/plain": [
       "[-34, 1, 45, 67, 98]"
      ]
     },
     "execution_count": 110,
     "metadata": {},
     "output_type": "execute_result"
    }
   ],
   "source": [
    "A.reverse()  #inplace change\n",
    "A"
   ]
  },
  {
   "cell_type": "code",
   "execution_count": 111,
   "id": "04ae571c",
   "metadata": {},
   "outputs": [
    {
     "data": {
      "text/plain": [
       "['iNeuron', 'Sunny', 45, 23, 1]"
      ]
     },
     "execution_count": 111,
     "metadata": {},
     "output_type": "execute_result"
    }
   ],
   "source": [
    "A = [1,23,45,'Sunny','iNeuron']\n",
    "\n",
    "A=A[::-1]\n",
    "A"
   ]
  },
  {
   "cell_type": "code",
   "execution_count": 112,
   "id": "ee4523d9",
   "metadata": {},
   "outputs": [],
   "source": [
    "A = [1,23,45,'Sunny','iNeuron']\n",
    "\n",
    "A.reverse()"
   ]
  },
  {
   "cell_type": "code",
   "execution_count": 113,
   "id": "71e4a7fa",
   "metadata": {},
   "outputs": [
    {
     "data": {
      "text/plain": [
       "['iNeuron', 'Sunny', 45, 23, 1]"
      ]
     },
     "execution_count": 113,
     "metadata": {},
     "output_type": "execute_result"
    }
   ],
   "source": [
    "A"
   ]
  },
  {
   "cell_type": "markdown",
   "id": "a2a43432",
   "metadata": {},
   "source": [
    "### Nesting of the list"
   ]
  },
  {
   "cell_type": "code",
   "execution_count": null,
   "id": "86e5ee34",
   "metadata": {},
   "outputs": [],
   "source": []
  }
 ],
 "metadata": {
  "kernelspec": {
   "display_name": "Python 3 (ipykernel)",
   "language": "python",
   "name": "python3"
  },
  "language_info": {
   "codemirror_mode": {
    "name": "ipython",
    "version": 3
   },
   "file_extension": ".py",
   "mimetype": "text/x-python",
   "name": "python",
   "nbconvert_exporter": "python",
   "pygments_lexer": "ipython3",
   "version": "3.9.12"
  }
 },
 "nbformat": 4,
 "nbformat_minor": 5
}
