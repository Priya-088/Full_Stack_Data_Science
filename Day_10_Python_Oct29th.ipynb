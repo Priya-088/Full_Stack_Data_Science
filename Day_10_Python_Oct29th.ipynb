{
 "cells": [
  {
   "cell_type": "markdown",
   "id": "affb6769",
   "metadata": {},
   "source": [
    "## Function in python\n",
    "\n",
    "- There are inbuilt functions in python\n",
    "- Function is a set of code which is utilised again and again, to increase the reusability of the code."
   ]
  },
  {
   "cell_type": "code",
   "execution_count": 1,
   "id": "3102ff35",
   "metadata": {},
   "outputs": [],
   "source": [
    "a = 'sudh'"
   ]
  },
  {
   "cell_type": "code",
   "execution_count": 2,
   "id": "83567d26",
   "metadata": {},
   "outputs": [
    {
     "data": {
      "text/plain": [
       "4"
      ]
     },
     "execution_count": 2,
     "metadata": {},
     "output_type": "execute_result"
    }
   ],
   "source": [
    "len(a)"
   ]
  },
  {
   "cell_type": "code",
   "execution_count": 3,
   "id": "62ca11ee",
   "metadata": {},
   "outputs": [],
   "source": [
    "l = [2,3,4,5,'sudh',4.67]"
   ]
  },
  {
   "cell_type": "code",
   "execution_count": 4,
   "id": "abc85af7",
   "metadata": {},
   "outputs": [
    {
     "data": {
      "text/plain": [
       "6"
      ]
     },
     "execution_count": 4,
     "metadata": {},
     "output_type": "execute_result"
    }
   ],
   "source": [
    "len(l)"
   ]
  },
  {
   "cell_type": "code",
   "execution_count": 5,
   "id": "83e5dfb8",
   "metadata": {},
   "outputs": [
    {
     "ename": "IndentationError",
     "evalue": "expected an indented block (Temp/ipykernel_8756/3917857719.py, line 4)",
     "output_type": "error",
     "traceback": [
      "\u001b[1;36m  File \u001b[1;32m\"C:\\Users\\hi\\AppData\\Local\\Temp/ipykernel_8756/3917857719.py\"\u001b[1;36m, line \u001b[1;32m4\u001b[0m\n\u001b[1;33m    \u001b[0m\n\u001b[1;37m    ^\u001b[0m\n\u001b[1;31mIndentationError\u001b[0m\u001b[1;31m:\u001b[0m expected an indented block\n"
     ]
    }
   ],
   "source": [
    "#creating a function\n",
    "\n",
    "def test():\n",
    "    "
   ]
  },
  {
   "cell_type": "code",
   "execution_count": 6,
   "id": "027c4612",
   "metadata": {},
   "outputs": [],
   "source": [
    "def test():\n",
    "    pass"
   ]
  },
  {
   "cell_type": "code",
   "execution_count": 7,
   "id": "9857f710",
   "metadata": {},
   "outputs": [],
   "source": [
    "def test1():\n",
    "    print('this is my very first function in python')"
   ]
  },
  {
   "cell_type": "code",
   "execution_count": 8,
   "id": "85520027",
   "metadata": {},
   "outputs": [
    {
     "name": "stdout",
     "output_type": "stream",
     "text": [
      "this is my very first function in python\n"
     ]
    }
   ],
   "source": [
    "test1() #call of the function"
   ]
  },
  {
   "cell_type": "code",
   "execution_count": 10,
   "id": "bbf6da0f",
   "metadata": {},
   "outputs": [
    {
     "name": "stdout",
     "output_type": "stream",
     "text": [
      "this is my very first function in python\n"
     ]
    }
   ],
   "source": [
    "b = test1()"
   ]
  },
  {
   "cell_type": "code",
   "execution_count": 11,
   "id": "79039fd3",
   "metadata": {},
   "outputs": [],
   "source": [
    "b"
   ]
  },
  {
   "cell_type": "code",
   "execution_count": 14,
   "id": "27f2160e",
   "metadata": {},
   "outputs": [
    {
     "name": "stdout",
     "output_type": "stream",
     "text": [
      "None\n"
     ]
    },
    {
     "data": {
      "text/plain": [
       "NoneType"
      ]
     },
     "execution_count": 14,
     "metadata": {},
     "output_type": "execute_result"
    }
   ],
   "source": [
    "print(b)\n",
    "type(b)"
   ]
  },
  {
   "cell_type": "code",
   "execution_count": 13,
   "id": "2ef95696",
   "metadata": {},
   "outputs": [
    {
     "data": {
      "text/plain": [
       "str"
      ]
     },
     "execution_count": 13,
     "metadata": {},
     "output_type": "execute_result"
    }
   ],
   "source": [
    "c = 'kumar'\n",
    "type(c)"
   ]
  },
  {
   "cell_type": "code",
   "execution_count": 15,
   "id": "d77b6d5c",
   "metadata": {},
   "outputs": [
    {
     "name": "stdout",
     "output_type": "stream",
     "text": [
      "this is my very first function in python\n"
     ]
    },
    {
     "data": {
      "text/plain": [
       "NoneType"
      ]
     },
     "execution_count": 15,
     "metadata": {},
     "output_type": "execute_result"
    }
   ],
   "source": [
    "type(test1()) #None type can't be stored in any variable"
   ]
  },
  {
   "cell_type": "code",
   "execution_count": 16,
   "id": "78ad9cc1",
   "metadata": {},
   "outputs": [],
   "source": [
    "def test2():\n",
    "    return 5"
   ]
  },
  {
   "cell_type": "code",
   "execution_count": 17,
   "id": "34e48546",
   "metadata": {},
   "outputs": [
    {
     "data": {
      "text/plain": [
       "5"
      ]
     },
     "execution_count": 17,
     "metadata": {},
     "output_type": "execute_result"
    }
   ],
   "source": [
    "test2()"
   ]
  },
  {
   "cell_type": "code",
   "execution_count": 18,
   "id": "a2f0e01a",
   "metadata": {},
   "outputs": [],
   "source": [
    "d = test2()"
   ]
  },
  {
   "cell_type": "code",
   "execution_count": 19,
   "id": "cc5e24fb",
   "metadata": {},
   "outputs": [
    {
     "data": {
      "text/plain": [
       "5"
      ]
     },
     "execution_count": 19,
     "metadata": {},
     "output_type": "execute_result"
    }
   ],
   "source": [
    "d"
   ]
  },
  {
   "cell_type": "code",
   "execution_count": 20,
   "id": "6ccdf273",
   "metadata": {},
   "outputs": [
    {
     "name": "stdout",
     "output_type": "stream",
     "text": [
      "priya\n"
     ]
    },
    {
     "data": {
      "text/plain": [
       "NoneType"
      ]
     },
     "execution_count": 20,
     "metadata": {},
     "output_type": "execute_result"
    }
   ],
   "source": [
    "#print always tries to return none type\n",
    "type(print('priya'))"
   ]
  },
  {
   "cell_type": "code",
   "execution_count": 21,
   "id": "849b1777",
   "metadata": {},
   "outputs": [],
   "source": [
    "def test3():\n",
    "    return 5"
   ]
  },
  {
   "cell_type": "code",
   "execution_count": 22,
   "id": "f3abed18",
   "metadata": {},
   "outputs": [],
   "source": [
    "def test4():  #print type returns none type hence can't be hold in a variable\n",
    "    print('this is my print return')"
   ]
  },
  {
   "cell_type": "code",
   "execution_count": 23,
   "id": "6c3ffb96",
   "metadata": {},
   "outputs": [
    {
     "data": {
      "text/plain": [
       "5"
      ]
     },
     "execution_count": 23,
     "metadata": {},
     "output_type": "execute_result"
    }
   ],
   "source": [
    "test3()"
   ]
  },
  {
   "cell_type": "code",
   "execution_count": 24,
   "id": "48489f80",
   "metadata": {},
   "outputs": [
    {
     "name": "stdout",
     "output_type": "stream",
     "text": [
      "this is my print return\n"
     ]
    }
   ],
   "source": [
    "test4()"
   ]
  },
  {
   "cell_type": "code",
   "execution_count": 25,
   "id": "5550f2b6",
   "metadata": {},
   "outputs": [
    {
     "name": "stdout",
     "output_type": "stream",
     "text": [
      "this is my print return\n"
     ]
    }
   ],
   "source": [
    "e = test4()"
   ]
  },
  {
   "cell_type": "code",
   "execution_count": 26,
   "id": "8bd551f6",
   "metadata": {},
   "outputs": [
    {
     "ename": "TypeError",
     "evalue": "unsupported operand type(s) for +: 'NoneType' and 'str'",
     "output_type": "error",
     "traceback": [
      "\u001b[1;31m---------------------------------------------------------------------------\u001b[0m",
      "\u001b[1;31mTypeError\u001b[0m                                 Traceback (most recent call last)",
      "\u001b[1;32m~\\AppData\\Local\\Temp/ipykernel_8756/905593092.py\u001b[0m in \u001b[0;36m<module>\u001b[1;34m\u001b[0m\n\u001b[1;32m----> 1\u001b[1;33m \u001b[0me\u001b[0m \u001b[1;33m+\u001b[0m\u001b[1;34m'sudh'\u001b[0m\u001b[1;33m\u001b[0m\u001b[1;33m\u001b[0m\u001b[0m\n\u001b[0m",
      "\u001b[1;31mTypeError\u001b[0m: unsupported operand type(s) for +: 'NoneType' and 'str'"
     ]
    }
   ],
   "source": [
    "e +'sudh'"
   ]
  },
  {
   "cell_type": "code",
   "execution_count": 27,
   "id": "d8f56456",
   "metadata": {},
   "outputs": [],
   "source": [
    "def test3():\n",
    "    return 'sudh'"
   ]
  },
  {
   "cell_type": "code",
   "execution_count": 28,
   "id": "8629777a",
   "metadata": {},
   "outputs": [
    {
     "data": {
      "text/plain": [
       "'sudhkumar'"
      ]
     },
     "execution_count": 28,
     "metadata": {},
     "output_type": "execute_result"
    }
   ],
   "source": [
    "test3()+'kumar'"
   ]
  },
  {
   "cell_type": "code",
   "execution_count": 29,
   "id": "441cb102",
   "metadata": {},
   "outputs": [
    {
     "name": "stdout",
     "output_type": "stream",
     "text": [
      "this is my print return\n"
     ]
    },
    {
     "ename": "TypeError",
     "evalue": "unsupported operand type(s) for +: 'NoneType' and 'str'",
     "output_type": "error",
     "traceback": [
      "\u001b[1;31m---------------------------------------------------------------------------\u001b[0m",
      "\u001b[1;31mTypeError\u001b[0m                                 Traceback (most recent call last)",
      "\u001b[1;32m~\\AppData\\Local\\Temp/ipykernel_8756/3153062534.py\u001b[0m in \u001b[0;36m<module>\u001b[1;34m\u001b[0m\n\u001b[1;32m----> 1\u001b[1;33m \u001b[0mtest4\u001b[0m\u001b[1;33m(\u001b[0m\u001b[1;33m)\u001b[0m\u001b[1;33m+\u001b[0m\u001b[1;34m'kumar'\u001b[0m\u001b[1;33m\u001b[0m\u001b[1;33m\u001b[0m\u001b[0m\n\u001b[0m",
      "\u001b[1;31mTypeError\u001b[0m: unsupported operand type(s) for +: 'NoneType' and 'str'"
     ]
    }
   ],
   "source": [
    "test4()+'kumar' #test4() holds none type, so can't concate the str"
   ]
  },
  {
   "cell_type": "code",
   "execution_count": 30,
   "id": "a7d794ac",
   "metadata": {},
   "outputs": [
    {
     "ename": "IndentationError",
     "evalue": "expected an indented block (Temp/ipykernel_8756/2575248083.py, line 2)",
     "output_type": "error",
     "traceback": [
      "\u001b[1;36m  File \u001b[1;32m\"C:\\Users\\hi\\AppData\\Local\\Temp/ipykernel_8756/2575248083.py\"\u001b[1;36m, line \u001b[1;32m2\u001b[0m\n\u001b[1;33m    print('this is my python code')\u001b[0m\n\u001b[1;37m    ^\u001b[0m\n\u001b[1;31mIndentationError\u001b[0m\u001b[1;31m:\u001b[0m expected an indented block\n"
     ]
    }
   ],
   "source": [
    "def test5():\n",
    "print('this is my python code')"
   ]
  },
  {
   "cell_type": "code",
   "execution_count": 31,
   "id": "f81f2edc",
   "metadata": {},
   "outputs": [],
   "source": [
    "def test6(): #we can return multiple entites/ outcomes and return as tuple\n",
    "    return 1,3,[3,4,5,'sudh'],(1,2,4)"
   ]
  },
  {
   "cell_type": "code",
   "execution_count": 32,
   "id": "57ec1852",
   "metadata": {},
   "outputs": [
    {
     "data": {
      "text/plain": [
       "(1, 3, [3, 4, 5, 'sudh'], (1, 2, 4))"
      ]
     },
     "execution_count": 32,
     "metadata": {},
     "output_type": "execute_result"
    }
   ],
   "source": [
    "test6()"
   ]
  },
  {
   "cell_type": "code",
   "execution_count": 34,
   "id": "3791f0a1",
   "metadata": {},
   "outputs": [
    {
     "data": {
      "text/plain": [
       "tuple"
      ]
     },
     "execution_count": 34,
     "metadata": {},
     "output_type": "execute_result"
    }
   ],
   "source": [
    "type(test6())"
   ]
  },
  {
   "cell_type": "code",
   "execution_count": 35,
   "id": "cd102ccd",
   "metadata": {},
   "outputs": [
    {
     "data": {
      "text/plain": [
       "3"
      ]
     },
     "execution_count": 35,
     "metadata": {},
     "output_type": "execute_result"
    }
   ],
   "source": [
    "test6()[1]"
   ]
  },
  {
   "cell_type": "code",
   "execution_count": 36,
   "id": "eb619498",
   "metadata": {},
   "outputs": [],
   "source": [
    "def test7(): #we can return multiple entites/ outcomes and return as tuple\n",
    "    return 1,3,[3,4,5,'sudh'],(1,2,4)"
   ]
  },
  {
   "cell_type": "code",
   "execution_count": 37,
   "id": "efc1c8a2",
   "metadata": {},
   "outputs": [
    {
     "data": {
      "text/plain": [
       "(1, 3, [3, 4, 5, 'sudh'], (1, 2, 4))"
      ]
     },
     "execution_count": 37,
     "metadata": {},
     "output_type": "execute_result"
    }
   ],
   "source": [
    "test7()"
   ]
  },
  {
   "cell_type": "code",
   "execution_count": 38,
   "id": "1ff9e164",
   "metadata": {},
   "outputs": [],
   "source": [
    "a,b,c,d = test7()"
   ]
  },
  {
   "cell_type": "code",
   "execution_count": 39,
   "id": "ac8ffd8d",
   "metadata": {},
   "outputs": [
    {
     "name": "stdout",
     "output_type": "stream",
     "text": [
      "1 3 [3, 4, 5, 'sudh'] (1, 2, 4)\n"
     ]
    }
   ],
   "source": [
    "print(a,b,c,d)"
   ]
  },
  {
   "cell_type": "code",
   "execution_count": 40,
   "id": "34e61d9c",
   "metadata": {},
   "outputs": [
    {
     "name": "stdout",
     "output_type": "stream",
     "text": [
      "1\n",
      "3\n",
      "sudh\n"
     ]
    }
   ],
   "source": [
    "e, f, g = 1,3,'sudh'\n",
    "print(e)\n",
    "print(f)\n",
    "print(g)"
   ]
  },
  {
   "cell_type": "code",
   "execution_count": 41,
   "id": "8cb56e69",
   "metadata": {},
   "outputs": [],
   "source": [
    "def test8():\n",
    "    a = 4*5+8\n",
    "    return a"
   ]
  },
  {
   "cell_type": "code",
   "execution_count": 42,
   "id": "a569ccda",
   "metadata": {},
   "outputs": [
    {
     "data": {
      "text/plain": [
       "28"
      ]
     },
     "execution_count": 42,
     "metadata": {},
     "output_type": "execute_result"
    }
   ],
   "source": [
    "test8()"
   ]
  },
  {
   "cell_type": "code",
   "execution_count": 43,
   "id": "987612e0",
   "metadata": {},
   "outputs": [
    {
     "data": {
      "text/plain": [
       "int"
      ]
     },
     "execution_count": 43,
     "metadata": {},
     "output_type": "execute_result"
    }
   ],
   "source": [
    "type(test8())"
   ]
  },
  {
   "cell_type": "code",
   "execution_count": 44,
   "id": "a737a7e6",
   "metadata": {},
   "outputs": [
    {
     "data": {
      "text/plain": [
       "44"
      ]
     },
     "execution_count": 44,
     "metadata": {},
     "output_type": "execute_result"
    }
   ],
   "source": [
    "l = [2,3,4,5,6,7,8,9]\n",
    "sum2 = 0\n",
    "for i in l:\n",
    "    sum2 = sum2+i\n",
    "    \n",
    "sum2"
   ]
  },
  {
   "cell_type": "code",
   "execution_count": 45,
   "id": "c3c3ab2e",
   "metadata": {},
   "outputs": [],
   "source": [
    "def test9():\n",
    "    l = [2,3,4,5,6,7,8,9]\n",
    "    sum2=0\n",
    "    for i in l:\n",
    "        sum2 = i+sum2\n",
    "    return sum2\n",
    "        \n"
   ]
  },
  {
   "cell_type": "code",
   "execution_count": 46,
   "id": "bd2e6f33",
   "metadata": {},
   "outputs": [
    {
     "data": {
      "text/plain": [
       "44"
      ]
     },
     "execution_count": 46,
     "metadata": {},
     "output_type": "execute_result"
    }
   ],
   "source": [
    "test9()"
   ]
  },
  {
   "cell_type": "code",
   "execution_count": 47,
   "id": "7b415c82",
   "metadata": {},
   "outputs": [],
   "source": [
    "def test9():\n",
    "    l = [2,3,4,5,6,7,8,9,'sudh']\n",
    "    sum2=0\n",
    "    for i in l:\n",
    "        if type(i)==int:\n",
    "            sum2 = i+sum2\n",
    "    return sum2"
   ]
  },
  {
   "cell_type": "code",
   "execution_count": 48,
   "id": "a472935b",
   "metadata": {},
   "outputs": [
    {
     "data": {
      "text/plain": [
       "44"
      ]
     },
     "execution_count": 48,
     "metadata": {},
     "output_type": "execute_result"
    }
   ],
   "source": [
    "test9()"
   ]
  },
  {
   "cell_type": "code",
   "execution_count": 49,
   "id": "df080cea",
   "metadata": {},
   "outputs": [],
   "source": [
    "def test10(l):  #passing arguments\n",
    "    a = 0\n",
    "    for i in l:\n",
    "        if type(i)==int:\n",
    "            a = a+i\n",
    "    return a"
   ]
  },
  {
   "cell_type": "code",
   "execution_count": 50,
   "id": "a91db8eb",
   "metadata": {},
   "outputs": [
    {
     "ename": "TypeError",
     "evalue": "test10() missing 1 required positional argument: 'l'",
     "output_type": "error",
     "traceback": [
      "\u001b[1;31m---------------------------------------------------------------------------\u001b[0m",
      "\u001b[1;31mTypeError\u001b[0m                                 Traceback (most recent call last)",
      "\u001b[1;32m~\\AppData\\Local\\Temp/ipykernel_8756/4112227926.py\u001b[0m in \u001b[0;36m<module>\u001b[1;34m\u001b[0m\n\u001b[1;32m----> 1\u001b[1;33m \u001b[0mtest10\u001b[0m\u001b[1;33m(\u001b[0m\u001b[1;33m)\u001b[0m\u001b[1;33m\u001b[0m\u001b[1;33m\u001b[0m\u001b[0m\n\u001b[0m",
      "\u001b[1;31mTypeError\u001b[0m: test10() missing 1 required positional argument: 'l'"
     ]
    }
   ],
   "source": [
    "test10() #it expects one positional argument"
   ]
  },
  {
   "cell_type": "code",
   "execution_count": 52,
   "id": "b2e2e53f",
   "metadata": {},
   "outputs": [],
   "source": [
    "l1 = [4,5,6,7,7,8,'kumar',4.56]"
   ]
  },
  {
   "cell_type": "code",
   "execution_count": 53,
   "id": "fdd64c54",
   "metadata": {},
   "outputs": [
    {
     "data": {
      "text/plain": [
       "37"
      ]
     },
     "execution_count": 53,
     "metadata": {},
     "output_type": "execute_result"
    }
   ],
   "source": [
    "test10(l1)"
   ]
  },
  {
   "cell_type": "code",
   "execution_count": 54,
   "id": "f647c141",
   "metadata": {},
   "outputs": [],
   "source": [
    "def test11(a,b):\n",
    "    return a+b"
   ]
  },
  {
   "cell_type": "code",
   "execution_count": 55,
   "id": "27ea1afe",
   "metadata": {},
   "outputs": [
    {
     "ename": "TypeError",
     "evalue": "test11() missing 2 required positional arguments: 'a' and 'b'",
     "output_type": "error",
     "traceback": [
      "\u001b[1;31m---------------------------------------------------------------------------\u001b[0m",
      "\u001b[1;31mTypeError\u001b[0m                                 Traceback (most recent call last)",
      "\u001b[1;32m~\\AppData\\Local\\Temp/ipykernel_8756/894027107.py\u001b[0m in \u001b[0;36m<module>\u001b[1;34m\u001b[0m\n\u001b[1;32m----> 1\u001b[1;33m \u001b[0mtest11\u001b[0m\u001b[1;33m(\u001b[0m\u001b[1;33m)\u001b[0m\u001b[1;33m\u001b[0m\u001b[1;33m\u001b[0m\u001b[0m\n\u001b[0m",
      "\u001b[1;31mTypeError\u001b[0m: test11() missing 2 required positional arguments: 'a' and 'b'"
     ]
    }
   ],
   "source": [
    "test11() #expects 2 positional arguments"
   ]
  },
  {
   "cell_type": "code",
   "execution_count": 56,
   "id": "6a36d389",
   "metadata": {},
   "outputs": [
    {
     "data": {
      "text/plain": [
       "'sudhkumar'"
      ]
     },
     "execution_count": 56,
     "metadata": {},
     "output_type": "execute_result"
    }
   ],
   "source": [
    "test11('sudh','kumar')"
   ]
  },
  {
   "cell_type": "code",
   "execution_count": 57,
   "id": "4d7f693d",
   "metadata": {},
   "outputs": [
    {
     "data": {
      "text/plain": [
       "12"
      ]
     },
     "execution_count": 57,
     "metadata": {},
     "output_type": "execute_result"
    }
   ],
   "source": [
    "test11(a=7, b=5)\n",
    "    "
   ]
  },
  {
   "cell_type": "code",
   "execution_count": 58,
   "id": "e99ecdbd",
   "metadata": {},
   "outputs": [
    {
     "data": {
      "text/plain": [
       "13"
      ]
     },
     "execution_count": 58,
     "metadata": {},
     "output_type": "execute_result"
    }
   ],
   "source": [
    "test11(b=8,a=5)"
   ]
  },
  {
   "cell_type": "code",
   "execution_count": 59,
   "id": "3d08e908",
   "metadata": {},
   "outputs": [
    {
     "data": {
      "text/plain": [
       "5"
      ]
     },
     "execution_count": 59,
     "metadata": {},
     "output_type": "execute_result"
    }
   ],
   "source": [
    "test11(2,3)"
   ]
  },
  {
   "cell_type": "code",
   "execution_count": 60,
   "id": "2b4ef373",
   "metadata": {},
   "outputs": [],
   "source": [
    "l = [3,4,5,6,7,8,'sudh',5,6,7,'kumar','ineuron']\n"
   ]
  },
  {
   "cell_type": "code",
   "execution_count": 61,
   "id": "500ff3c4",
   "metadata": {},
   "outputs": [
    {
     "data": {
      "text/plain": [
       "['sudh', 'kumar', 'ineuron']"
      ]
     },
     "execution_count": 61,
     "metadata": {},
     "output_type": "execute_result"
    }
   ],
   "source": [
    "l2=list()\n",
    "for i in l:\n",
    "    if type(i)==str:\n",
    "        l2.append(i)\n",
    "l2"
   ]
  },
  {
   "cell_type": "code",
   "execution_count": 62,
   "id": "cabeec33",
   "metadata": {},
   "outputs": [
    {
     "data": {
      "text/plain": [
       "['sudh', 'kumar', 'ineuron']"
      ]
     },
     "execution_count": 62,
     "metadata": {},
     "output_type": "execute_result"
    }
   ],
   "source": [
    "l3 = [i for i in l if type(i)==str]\n",
    "l3"
   ]
  },
  {
   "cell_type": "code",
   "execution_count": 66,
   "id": "b670803b",
   "metadata": {},
   "outputs": [],
   "source": [
    "def test12():\n",
    "    l2 = list()\n",
    "    for i in l:\n",
    "        if type(i)==str:\n",
    "            l2.append(i)\n",
    "    return l2\n",
    "    "
   ]
  },
  {
   "cell_type": "code",
   "execution_count": 67,
   "id": "9fd507b1",
   "metadata": {},
   "outputs": [
    {
     "data": {
      "text/plain": [
       "['sudh', 'kumar', 'ineuron']"
      ]
     },
     "execution_count": 67,
     "metadata": {},
     "output_type": "execute_result"
    }
   ],
   "source": [
    "test12()"
   ]
  },
  {
   "cell_type": "code",
   "execution_count": 73,
   "id": "f34024ed",
   "metadata": {},
   "outputs": [],
   "source": [
    "def test12(l):  ##adding a doc for the function\n",
    "    \"\"\"This is my function which will help you to seperate a \n",
    "    string from a list and append it to new list\"\"\"\n",
    "    l2 = list()\n",
    "    for i in l:\n",
    "        if type(i)==str:\n",
    "            l2.append(i)\n",
    "    return l2\n",
    "    "
   ]
  },
  {
   "cell_type": "code",
   "execution_count": 70,
   "id": "8efa9489",
   "metadata": {},
   "outputs": [],
   "source": [
    "l2 = ['dscd','gh',1.2,3]"
   ]
  },
  {
   "cell_type": "code",
   "execution_count": 71,
   "id": "a7830f54",
   "metadata": {},
   "outputs": [
    {
     "data": {
      "text/plain": [
       "['dscd', 'gh']"
      ]
     },
     "execution_count": 71,
     "metadata": {},
     "output_type": "execute_result"
    }
   ],
   "source": [
    "test12(l2)"
   ]
  },
  {
   "cell_type": "code",
   "execution_count": 72,
   "id": "37bf310a",
   "metadata": {},
   "outputs": [
    {
     "data": {
      "text/plain": [
       "3"
      ]
     },
     "execution_count": 72,
     "metadata": {},
     "output_type": "execute_result"
    }
   ],
   "source": [
    "len('sdf')"
   ]
  },
  {
   "cell_type": "markdown",
   "id": "0976a449",
   "metadata": {},
   "source": [
    "1. write a function which try to find out the len of the string without using an inbuilt len function\n",
    "2. Write a fuction which will print the an index of the list element (ele: index) with out using index function\n",
    "3. Write a function which will be able to print an IP Address of your system\n",
    "4. Write a function which will shutdown your system\n",
    "5. Write a fuction which will take input as a list with any kind of numeric values and give an output as a multiplication ofall the numeric data l = [3,5,6.56, 4,5,'sudh', 'fsds bootcamp 2.0']\n",
    "6. Write a function which will be able to read all the mails\n",
    "7. Write a fuction which will be able to send a mail to anyone\n",
    "8. Write a function which will be able to read a doc/word file from your system\n",
    "\n",
    "send the solution to query@ineuron.ai"
   ]
  },
  {
   "cell_type": "code",
   "execution_count": null,
   "id": "5ffd65b2",
   "metadata": {},
   "outputs": [],
   "source": []
  }
 ],
 "metadata": {
  "kernelspec": {
   "display_name": "Python 3 (ipykernel)",
   "language": "python",
   "name": "python3"
  },
  "language_info": {
   "codemirror_mode": {
    "name": "ipython",
    "version": 3
   },
   "file_extension": ".py",
   "mimetype": "text/x-python",
   "name": "python",
   "nbconvert_exporter": "python",
   "pygments_lexer": "ipython3",
   "version": "3.9.12"
  }
 },
 "nbformat": 4,
 "nbformat_minor": 5
}
