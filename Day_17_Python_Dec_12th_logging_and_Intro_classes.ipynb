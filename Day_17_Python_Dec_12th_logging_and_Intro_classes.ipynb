{
 "cells": [
  {
   "cell_type": "markdown",
   "id": "4f4a8b94",
   "metadata": {},
   "source": [
    "## Agenda\n",
    "\n",
    "1. class revision\n",
    "2. Stream handler - in steamhandler logs will be availble on console\n",
    "3. Inroduction to class"
   ]
  },
  {
   "cell_type": "code",
   "execution_count": 7,
   "id": "d02c7894",
   "metadata": {},
   "outputs": [
    {
     "name": "stderr",
     "output_type": "stream",
     "text": [
      "__main__ - WARNING - this is a warning\n",
      "__main__ - ERROR - This is error\n"
     ]
    }
   ],
   "source": [
    "import logging\n",
    "\n",
    "#create a custom logger\n",
    "\n",
    "logger = logging.getLogger(__name__)\n",
    "\n",
    "#create handlers\n",
    "c_handler = logging.StreamHandler() #in steamhandler logs will be availble on console \n",
    "f_handler = logging.FileHandler('abc.log') #logs will push to the files\n",
    "\n",
    "#setting the level for logger\n",
    "c_handler.setLevel(logging.WARNING)\n",
    "f_handler.setLevel(logging.ERROR)\n",
    "\n",
    "\n",
    "#Create formatters and add it to the handlers\n",
    "c_format=logging.Formatter('%(name)s - %(levelname)s - %(message)s')\n",
    "f_format=logging.Formatter('%(name)s - %(levelname)s - %(message)s')\n",
    "c_handler.setFormatter(c_format)\n",
    "f_handler.setFormatter(f_format)\n",
    "\n",
    "#Add this handlers to the logger\n",
    "logger.addHandler(c_handler)\n",
    "logger.addHandler(f_handler)\n",
    "\n",
    "logger.warning('this is a warning')\n",
    "logger.error(\"This is error\")"
   ]
  },
  {
   "cell_type": "code",
   "execution_count": 8,
   "id": "76f496a2",
   "metadata": {},
   "outputs": [
    {
     "name": "stderr",
     "output_type": "stream",
     "text": [
      "__main__ - INFO - Dividing 6 by 2\n"
     ]
    },
    {
     "name": "stdout",
     "output_type": "stream",
     "text": [
      "3.0\n"
     ]
    }
   ],
   "source": [
    "import logging\n",
    "\n",
    "logger = logging.getLogger(__name__)\n",
    "handler = logging.StreamHandler()\n",
    "\n",
    "formatter = logging.Formatter('%(name)s - %(levelname)s - %(message)s')\n",
    "\n",
    "handler.setFormatter(formatter)\n",
    "\n",
    "logger.addHandler(handler)\n",
    "logger.setLevel(logging.INFO)\n",
    "\n",
    "def divide(dividend,divisor):\n",
    "    try:\n",
    "        logger.info(f'Dividing {dividend} by {divisor}')\n",
    "        return dividend/divisor\n",
    "    except ZeroDivisionError:\n",
    "        logger.info('Zero division error')\n",
    "        \n",
    "print(divide(6,2))"
   ]
  },
  {
   "cell_type": "markdown",
   "id": "eed32965",
   "metadata": {},
   "source": [
    "## Python Programe\n",
    "\n",
    "- class: is a blueprint or the templet for the object creation\n",
    "- object: It is an instance of the class\n",
    "\n",
    "1. Scripting - line by line execution\n",
    "2. OOPs - class and object\n",
    "\n",
    "- object : (eg: person, car, laptop etc)\n",
    "- object has properties(Attributes) and functionalities (properties of car are color, price, model etc)\n",
    "- Functionalities (car can be driven, person can read etc)\n",
    "- Properties of the object is called as attributies or instance variable\n",
    "- Functions inside object is called as method.\n"
   ]
  },
  {
   "cell_type": "code",
   "execution_count": 9,
   "id": "f921f4e3",
   "metadata": {},
   "outputs": [],
   "source": [
    "#creating a class\n",
    "\n",
    "class Emp:\n",
    "    pass"
   ]
  },
  {
   "cell_type": "code",
   "execution_count": 10,
   "id": "8719f98a",
   "metadata": {},
   "outputs": [],
   "source": [
    "e=Emp() #ceating an object of the class"
   ]
  },
  {
   "cell_type": "code",
   "execution_count": 12,
   "id": "49c1ea96",
   "metadata": {},
   "outputs": [
    {
     "name": "stdout",
     "output_type": "stream",
     "text": [
      "<class '__main__.Emp'>\n"
     ]
    }
   ],
   "source": [
    "print(type(e))"
   ]
  },
  {
   "cell_type": "code",
   "execution_count": 13,
   "id": "af598d27",
   "metadata": {},
   "outputs": [
    {
     "data": {
      "text/plain": [
       "3219851693696"
      ]
     },
     "execution_count": 13,
     "metadata": {},
     "output_type": "execute_result"
    }
   ],
   "source": [
    "id(e)"
   ]
  },
  {
   "cell_type": "code",
   "execution_count": 14,
   "id": "ba399045",
   "metadata": {},
   "outputs": [],
   "source": [
    "class Robot:\n",
    "    \n",
    "    def introduce_self(self):\n",
    "        print('My name is '+self.name)"
   ]
  },
  {
   "cell_type": "code",
   "execution_count": 15,
   "id": "cbefdc9b",
   "metadata": {},
   "outputs": [],
   "source": [
    "r1=Robot()"
   ]
  },
  {
   "cell_type": "code",
   "execution_count": 16,
   "id": "7cdbe52b",
   "metadata": {},
   "outputs": [],
   "source": [
    "r1.name='abc'"
   ]
  },
  {
   "cell_type": "code",
   "execution_count": 17,
   "id": "a5721368",
   "metadata": {},
   "outputs": [
    {
     "name": "stdout",
     "output_type": "stream",
     "text": [
      "My name is abc\n"
     ]
    }
   ],
   "source": [
    "r1.introduce_self()"
   ]
  },
  {
   "cell_type": "code",
   "execution_count": 19,
   "id": "12527a8e",
   "metadata": {},
   "outputs": [
    {
     "ename": "NameError",
     "evalue": "name 'r2' is not defined",
     "output_type": "error",
     "traceback": [
      "\u001b[1;31m---------------------------------------------------------------------------\u001b[0m",
      "\u001b[1;31mNameError\u001b[0m                                 Traceback (most recent call last)",
      "\u001b[1;32m~\\AppData\\Local\\Temp/ipykernel_7256/3877941080.py\u001b[0m in \u001b[0;36m<module>\u001b[1;34m\u001b[0m\n\u001b[1;32m----> 1\u001b[1;33m \u001b[0mr2\u001b[0m\u001b[1;33m.\u001b[0m\u001b[0mname\u001b[0m\u001b[1;33m=\u001b[0m\u001b[1;34m'xyz'\u001b[0m\u001b[1;33m,\u001b[0m\u001b[1;31m#create r2\u001b[0m\u001b[1;33m\u001b[0m\u001b[1;33m\u001b[0m\u001b[0m\n\u001b[0m",
      "\u001b[1;31mNameError\u001b[0m: name 'r2' is not defined"
     ]
    }
   ],
   "source": [
    "r2.name='xyz',#create r2"
   ]
  },
  {
   "cell_type": "code",
   "execution_count": 20,
   "id": "97dfcb74",
   "metadata": {},
   "outputs": [],
   "source": [
    "r2=Robot()"
   ]
  },
  {
   "cell_type": "code",
   "execution_count": 22,
   "id": "7b145579",
   "metadata": {},
   "outputs": [],
   "source": [
    "r2.name = 'xyz'"
   ]
  },
  {
   "cell_type": "code",
   "execution_count": 23,
   "id": "95bed3c6",
   "metadata": {},
   "outputs": [
    {
     "name": "stdout",
     "output_type": "stream",
     "text": [
      "My name is xyz\n"
     ]
    }
   ],
   "source": [
    "r2.introduce_self()"
   ]
  },
  {
   "cell_type": "code",
   "execution_count": 24,
   "id": "9dee5db5",
   "metadata": {},
   "outputs": [
    {
     "data": {
      "text/plain": [
       "['__class__',\n",
       " '__delattr__',\n",
       " '__dict__',\n",
       " '__dir__',\n",
       " '__doc__',\n",
       " '__eq__',\n",
       " '__format__',\n",
       " '__ge__',\n",
       " '__getattribute__',\n",
       " '__gt__',\n",
       " '__hash__',\n",
       " '__init__',\n",
       " '__init_subclass__',\n",
       " '__le__',\n",
       " '__lt__',\n",
       " '__module__',\n",
       " '__ne__',\n",
       " '__new__',\n",
       " '__reduce__',\n",
       " '__reduce_ex__',\n",
       " '__repr__',\n",
       " '__setattr__',\n",
       " '__sizeof__',\n",
       " '__str__',\n",
       " '__subclasshook__',\n",
       " '__weakref__',\n",
       " 'introduce_self',\n",
       " 'name']"
      ]
     },
     "execution_count": 24,
     "metadata": {},
     "output_type": "execute_result"
    }
   ],
   "source": [
    "dir(r2)"
   ]
  },
  {
   "cell_type": "code",
   "execution_count": 25,
   "id": "cd8ce6be",
   "metadata": {},
   "outputs": [
    {
     "ename": "NameError",
     "evalue": "name 'r3' is not defined",
     "output_type": "error",
     "traceback": [
      "\u001b[1;31m---------------------------------------------------------------------------\u001b[0m",
      "\u001b[1;31mNameError\u001b[0m                                 Traceback (most recent call last)",
      "\u001b[1;32m~\\AppData\\Local\\Temp/ipykernel_7256/2458963676.py\u001b[0m in \u001b[0;36m<module>\u001b[1;34m\u001b[0m\n\u001b[1;32m----> 1\u001b[1;33m \u001b[0mr3\u001b[0m\u001b[1;33m.\u001b[0m\u001b[0mintroduce_self\u001b[0m\u001b[1;33m(\u001b[0m\u001b[1;33m)\u001b[0m\u001b[1;33m\u001b[0m\u001b[1;33m\u001b[0m\u001b[0m\n\u001b[0m",
      "\u001b[1;31mNameError\u001b[0m: name 'r3' is not defined"
     ]
    }
   ],
   "source": [
    "r3.introduce_self()"
   ]
  },
  {
   "cell_type": "code",
   "execution_count": 27,
   "id": "285e7e31",
   "metadata": {},
   "outputs": [
    {
     "name": "stdout",
     "output_type": "stream",
     "text": [
      "My name is xyz\n"
     ]
    }
   ],
   "source": [
    "r3 = Robot()\n",
    "r3.name = 'xyz'\n",
    "r3.introduce_self()"
   ]
  },
  {
   "cell_type": "markdown",
   "id": "0b6e3f8c",
   "metadata": {},
   "source": [
    "#### Constructor is used to create mulple objects\n",
    "\n",
    "#### __init__ method is used to create mulple attributes"
   ]
  },
  {
   "cell_type": "code",
   "execution_count": 32,
   "id": "7795d4f8",
   "metadata": {},
   "outputs": [],
   "source": [
    "class Robot():\n",
    "    \n",
    "    def __init__(self,name,color,weight): #method to initialise the attributes\n",
    "        self.name=name #\n",
    "        self.color=color\n",
    "        self.weight=weight\n",
    "    \n",
    "    def introduce_self(self):\n",
    "        print('my name is '+self.name)"
   ]
  },
  {
   "cell_type": "code",
   "execution_count": 33,
   "id": "14a2453b",
   "metadata": {},
   "outputs": [],
   "source": [
    "r1 = Robot('abc','red',30) #self is refering the object r1"
   ]
  },
  {
   "cell_type": "code",
   "execution_count": 36,
   "id": "0e100f68",
   "metadata": {},
   "outputs": [
    {
     "data": {
      "text/plain": [
       "'red'"
      ]
     },
     "execution_count": 36,
     "metadata": {},
     "output_type": "execute_result"
    }
   ],
   "source": [
    "r1.color"
   ]
  },
  {
   "cell_type": "code",
   "execution_count": 34,
   "id": "3fac8fc8",
   "metadata": {},
   "outputs": [],
   "source": [
    "r2 = Robot('xyz', 'blue', 40)"
   ]
  },
  {
   "cell_type": "code",
   "execution_count": 37,
   "id": "5dc7c672",
   "metadata": {},
   "outputs": [
    {
     "name": "stdout",
     "output_type": "stream",
     "text": [
      "my name is xyz\n"
     ]
    }
   ],
   "source": [
    "r2.introduce_self()"
   ]
  },
  {
   "cell_type": "code",
   "execution_count": 38,
   "id": "5e29eb6f",
   "metadata": {},
   "outputs": [
    {
     "data": {
      "text/plain": [
       "'blue'"
      ]
     },
     "execution_count": 38,
     "metadata": {},
     "output_type": "execute_result"
    }
   ],
   "source": [
    "r2.color"
   ]
  },
  {
   "cell_type": "code",
   "execution_count": 39,
   "id": "c2081662",
   "metadata": {},
   "outputs": [
    {
     "ename": "TypeError",
     "evalue": "__init__() missing 1 required positional argument: 'weight'",
     "output_type": "error",
     "traceback": [
      "\u001b[1;31m---------------------------------------------------------------------------\u001b[0m",
      "\u001b[1;31mTypeError\u001b[0m                                 Traceback (most recent call last)",
      "\u001b[1;32m~\\AppData\\Local\\Temp/ipykernel_7256/4238131037.py\u001b[0m in \u001b[0;36m<module>\u001b[1;34m\u001b[0m\n\u001b[1;32m----> 1\u001b[1;33m \u001b[0mr3\u001b[0m \u001b[1;33m=\u001b[0m \u001b[0mRobot\u001b[0m\u001b[1;33m(\u001b[0m\u001b[1;34m'xyz'\u001b[0m\u001b[1;33m,\u001b[0m \u001b[1;36m40\u001b[0m\u001b[1;33m)\u001b[0m\u001b[1;33m\u001b[0m\u001b[1;33m\u001b[0m\u001b[0m\n\u001b[0m",
      "\u001b[1;31mTypeError\u001b[0m: __init__() missing 1 required positional argument: 'weight'"
     ]
    }
   ],
   "source": [
    "r3 = Robot('xyz', 40)"
   ]
  },
  {
   "cell_type": "code",
   "execution_count": 40,
   "id": "d3a6a453",
   "metadata": {},
   "outputs": [],
   "source": [
    "class Person:\n",
    "    \n",
    "    def __init__(self,name,gender,profession):\n",
    "        self.name=name\n",
    "        self.gender=gender\n",
    "        self.profession=profession\n",
    "        \n",
    "    def show(self):\n",
    "        print('Name',self.name,'Gender',self.gender,'Profession',self.profession)\n",
    "        \n",
    "    def work(self):\n",
    "        print(self.name, 'working as a',self.profession)"
   ]
  },
  {
   "cell_type": "code",
   "execution_count": 41,
   "id": "0ef63450",
   "metadata": {},
   "outputs": [],
   "source": [
    "o1 = Person('Imran','Male','Engineer')"
   ]
  },
  {
   "cell_type": "code",
   "execution_count": 42,
   "id": "61fb1a4a",
   "metadata": {},
   "outputs": [
    {
     "name": "stdout",
     "output_type": "stream",
     "text": [
      "Name Imran Gender Male Profession Engineer\n"
     ]
    }
   ],
   "source": [
    "o1.show()"
   ]
  },
  {
   "cell_type": "code",
   "execution_count": 44,
   "id": "1498b965",
   "metadata": {},
   "outputs": [
    {
     "name": "stdout",
     "output_type": "stream",
     "text": [
      "Imran working as a Engineer\n"
     ]
    }
   ],
   "source": [
    "o1.work()"
   ]
  },
  {
   "cell_type": "code",
   "execution_count": 48,
   "id": "d3014d32",
   "metadata": {},
   "outputs": [
    {
     "data": {
      "text/plain": [
       "'sagar'"
      ]
     },
     "execution_count": 48,
     "metadata": {},
     "output_type": "execute_result"
    }
   ],
   "source": [
    "o1.name='sagar' #updating the values for attributes\n",
    "o1.name"
   ]
  },
  {
   "cell_type": "code",
   "execution_count": 49,
   "id": "b0596454",
   "metadata": {},
   "outputs": [
    {
     "name": "stdout",
     "output_type": "stream",
     "text": [
      "Name sagar Gender Male Profession Engineer\n"
     ]
    }
   ],
   "source": [
    "o1.show()"
   ]
  },
  {
   "cell_type": "code",
   "execution_count": 51,
   "id": "51769429",
   "metadata": {},
   "outputs": [
    {
     "data": {
      "text/plain": [
       "['__class__',\n",
       " '__delattr__',\n",
       " '__dict__',\n",
       " '__dir__',\n",
       " '__doc__',\n",
       " '__eq__',\n",
       " '__format__',\n",
       " '__ge__',\n",
       " '__getattribute__',\n",
       " '__gt__',\n",
       " '__hash__',\n",
       " '__init__',\n",
       " '__init_subclass__',\n",
       " '__le__',\n",
       " '__lt__',\n",
       " '__module__',\n",
       " '__ne__',\n",
       " '__new__',\n",
       " '__reduce__',\n",
       " '__reduce_ex__',\n",
       " '__repr__',\n",
       " '__setattr__',\n",
       " '__sizeof__',\n",
       " '__str__',\n",
       " '__subclasshook__',\n",
       " '__weakref__',\n",
       " 'gender',\n",
       " 'name',\n",
       " 'profession',\n",
       " 'show',\n",
       " 'work']"
      ]
     },
     "execution_count": 51,
     "metadata": {},
     "output_type": "execute_result"
    }
   ],
   "source": [
    "dir(o1) #to check inbuilt properties and methods associated with object"
   ]
  },
  {
   "cell_type": "code",
   "execution_count": 45,
   "id": "a658b08b",
   "metadata": {},
   "outputs": [],
   "source": [
    "class Person:\n",
    "    \n",
    "    def __init__(a,name,gender,profession):\n",
    "        a.name=name\n",
    "        a.gender=gender\n",
    "        a.profession=profession\n",
    "        \n",
    "    def show(a):\n",
    "        print('Name',a.name,'Gender',a.gender,'Profession',self.profession)\n",
    "        \n",
    "    def work(a):\n",
    "        print(a.name, 'working as a',a.profession)"
   ]
  },
  {
   "cell_type": "code",
   "execution_count": 47,
   "id": "97f35907",
   "metadata": {},
   "outputs": [
    {
     "name": "stdout",
     "output_type": "stream",
     "text": [
      "Imran working as a Engineer\n"
     ]
    }
   ],
   "source": [
    "o2 = Person('Imran','Male','Engineer')\n",
    "o2.work()"
   ]
  },
  {
   "cell_type": "code",
   "execution_count": 52,
   "id": "65a5cce4",
   "metadata": {},
   "outputs": [],
   "source": [
    "class Emp:\n",
    "    def __init__(self):\n",
    "        print(id(self))\n",
    "        self.age=25\n",
    "        self.name='Imran'\n",
    "        self.salary=380000\n",
    "    "
   ]
  },
  {
   "cell_type": "code",
   "execution_count": 53,
   "id": "f3348b93",
   "metadata": {},
   "outputs": [
    {
     "name": "stdout",
     "output_type": "stream",
     "text": [
      "3219889008064\n"
     ]
    }
   ],
   "source": [
    "e1=Emp()"
   ]
  },
  {
   "cell_type": "code",
   "execution_count": 54,
   "id": "b94606bb",
   "metadata": {},
   "outputs": [
    {
     "data": {
      "text/plain": [
       "380000"
      ]
     },
     "execution_count": 54,
     "metadata": {},
     "output_type": "execute_result"
    }
   ],
   "source": [
    "e1.salary"
   ]
  },
  {
   "cell_type": "code",
   "execution_count": 55,
   "id": "f8fcb9dc",
   "metadata": {},
   "outputs": [],
   "source": [
    "e1.name='Priya'"
   ]
  },
  {
   "cell_type": "code",
   "execution_count": 56,
   "id": "de5c457e",
   "metadata": {},
   "outputs": [
    {
     "data": {
      "text/plain": [
       "'Priya'"
      ]
     },
     "execution_count": 56,
     "metadata": {},
     "output_type": "execute_result"
    }
   ],
   "source": [
    "e1.name"
   ]
  },
  {
   "cell_type": "code",
   "execution_count": 63,
   "id": "1f30e5ac",
   "metadata": {},
   "outputs": [],
   "source": [
    "#find area and circumference of circle\n",
    "class Circle:\n",
    "    \n",
    "    def __init__(self,r):\n",
    "        self.r=r\n",
    "        \n",
    "    def area(self):\n",
    "        return 3.14*self.r\n",
    "    def circumference(self):\n",
    "        return 2*3.14*self.r"
   ]
  },
  {
   "cell_type": "code",
   "execution_count": 64,
   "id": "bb52c481",
   "metadata": {},
   "outputs": [],
   "source": [
    "p1=Circle(1)"
   ]
  },
  {
   "cell_type": "code",
   "execution_count": 65,
   "id": "62960fa9",
   "metadata": {},
   "outputs": [
    {
     "data": {
      "text/plain": [
       "3.14"
      ]
     },
     "execution_count": 65,
     "metadata": {},
     "output_type": "execute_result"
    }
   ],
   "source": [
    "p1.area()"
   ]
  },
  {
   "cell_type": "code",
   "execution_count": 69,
   "id": "659c176e",
   "metadata": {},
   "outputs": [],
   "source": [
    "#Create a class 'Bankaccount',\n",
    "#ACCN, name, balance\n",
    "#method - deposite, withdrawl, display(account info)\n",
    "\n",
    "class Bankaccount:\n",
    "    \n",
    "    \n",
    "    def __init__(self,ACN,name,balance):\n",
    "        self.ACN = ACN\n",
    "        self.name=name\n",
    "        self.balance=balance\n",
    "    def deposite(self):\n",
    "        deposite_amt=int(input())\n",
    "        print(f'Balance after deposite: {self.balance+deposite_amt}')\n",
    "        \n",
    "    def withdrawl(self):\n",
    "        with_drawl_amt = int(input())\n",
    "        print(f'Balance after withdrawl: {self.balance-with_drawl_amt}')\n",
    "        \n",
    "    def display(self):\n",
    "        print(f'ACN: {self.ACN} name: {self.name} balance: {self.balance}')\n",
    "        \n",
    "    "
   ]
  },
  {
   "cell_type": "code",
   "execution_count": 70,
   "id": "a3f1f16c",
   "metadata": {},
   "outputs": [],
   "source": [
    "p2 = Bankaccount(12345678,'priya',5000)"
   ]
  },
  {
   "cell_type": "code",
   "execution_count": 71,
   "id": "38d3700e",
   "metadata": {},
   "outputs": [
    {
     "name": "stdout",
     "output_type": "stream",
     "text": [
      "1000\n",
      "Balance after deposite: 6000\n"
     ]
    }
   ],
   "source": [
    "p2.deposite()"
   ]
  },
  {
   "cell_type": "code",
   "execution_count": 73,
   "id": "09fb19a8",
   "metadata": {},
   "outputs": [],
   "source": [
    "#Create a class 'Bankaccount',\n",
    "#ACCN, name, balance\n",
    "#method - deposite, withdrawl, display(account info)\n",
    "\n",
    "class Bankaccount:\n",
    "    \n",
    "    \n",
    "    def __init__(self,ACN,name,balance):\n",
    "        self.ACN = ACN\n",
    "        self.name=name\n",
    "        self.balance=balance\n",
    "    def deposite(self,deposite_amt):\n",
    "        self.deposite_amt=deposite_amt\n",
    "        print(f'Balance after deposite: {self.balance+self.deposite_amt}')\n",
    "        \n",
    "    def withdrawl(self,with_drawl_amt):\n",
    "        self.with_drawl_amt = with_drawl_amt\n",
    "        print(f'Balance after withdrawl: {self.balance-self.with_drawl_amt}')\n",
    "        \n",
    "    def display(self):\n",
    "        print(f'ACN: {self.ACN} name: {self.name} balance: {self.balance}')\n",
    "        \n",
    "    "
   ]
  },
  {
   "cell_type": "code",
   "execution_count": 74,
   "id": "a4dd237f",
   "metadata": {},
   "outputs": [],
   "source": [
    "p3 = Bankaccount(1234,'priya',5000)"
   ]
  },
  {
   "cell_type": "code",
   "execution_count": 75,
   "id": "20dd8090",
   "metadata": {},
   "outputs": [
    {
     "name": "stdout",
     "output_type": "stream",
     "text": [
      "Balance after deposite: 6000\n"
     ]
    }
   ],
   "source": [
    "p3.deposite(1000)"
   ]
  },
  {
   "cell_type": "code",
   "execution_count": 76,
   "id": "1e33827b",
   "metadata": {},
   "outputs": [
    {
     "name": "stdout",
     "output_type": "stream",
     "text": [
      "Balance after withdrawl: 3000\n"
     ]
    }
   ],
   "source": [
    "p3.withdrawl(2000)"
   ]
  },
  {
   "cell_type": "code",
   "execution_count": null,
   "id": "c68fd4aa",
   "metadata": {},
   "outputs": [],
   "source": []
  }
 ],
 "metadata": {
  "kernelspec": {
   "display_name": "Python 3 (ipykernel)",
   "language": "python",
   "name": "python3"
  },
  "language_info": {
   "codemirror_mode": {
    "name": "ipython",
    "version": 3
   },
   "file_extension": ".py",
   "mimetype": "text/x-python",
   "name": "python",
   "nbconvert_exporter": "python",
   "pygments_lexer": "ipython3",
   "version": "3.9.12"
  }
 },
 "nbformat": 4,
 "nbformat_minor": 5
}
