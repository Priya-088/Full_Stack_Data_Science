{
 "cells": [
  {
   "cell_type": "markdown",
   "id": "0a1c74b1",
   "metadata": {},
   "source": [
    "## Agenda\n",
    "\n",
    "1. Variables case sensitivity\n",
    "2. Reserve words in Python\n",
    "3. Multi assigment of variables\n",
    "4. User Input\n",
    "5. Type casting\n",
    "6. Memory block\n",
    "7. Operators\n",
    "  - Logiacal\n",
    "  - Equality\n",
    "  - Comparision\n",
    "  - Arthematic\n",
    "  - Bitwise (In Advance class)\n",
    "  - Operators for sets and dictionaries\n",
    "8. String methods"
   ]
  },
  {
   "cell_type": "markdown",
   "id": "f14a7745",
   "metadata": {},
   "source": [
    "### Variable case sensitivity"
   ]
  },
  {
   "cell_type": "code",
   "execution_count": 1,
   "id": "6d1a56b0",
   "metadata": {},
   "outputs": [],
   "source": [
    "TEN = 10\n",
    "ten = 20  ##both variables are different"
   ]
  },
  {
   "cell_type": "code",
   "execution_count": 2,
   "id": "240526a4",
   "metadata": {},
   "outputs": [
    {
     "name": "stdout",
     "output_type": "stream",
     "text": [
      "10\n",
      "20\n"
     ]
    }
   ],
   "source": [
    "print(TEN)\n",
    "print(ten)"
   ]
  },
  {
   "cell_type": "code",
   "execution_count": 4,
   "id": "2eacefa9",
   "metadata": {},
   "outputs": [
    {
     "ename": "NameError",
     "evalue": "name 'TEn' is not defined",
     "output_type": "error",
     "traceback": [
      "\u001b[1;31m---------------------------------------------------------------------------\u001b[0m",
      "\u001b[1;31mNameError\u001b[0m                                 Traceback (most recent call last)",
      "\u001b[1;32m~\\AppData\\Local\\Temp/ipykernel_9524/1331414821.py\u001b[0m in \u001b[0;36m<module>\u001b[1;34m\u001b[0m\n\u001b[1;32m----> 1\u001b[1;33m \u001b[0mprint\u001b[0m\u001b[1;33m(\u001b[0m\u001b[0mTEn\u001b[0m\u001b[1;33m)\u001b[0m\u001b[1;33m\u001b[0m\u001b[1;33m\u001b[0m\u001b[0m\n\u001b[0m",
      "\u001b[1;31mNameError\u001b[0m: name 'TEn' is not defined"
     ]
    }
   ],
   "source": [
    "print(TEn)"
   ]
  },
  {
   "cell_type": "markdown",
   "id": "bdb2126e",
   "metadata": {},
   "source": [
    "### Reserve words in Python\n",
    "\n",
    "1. We should not use reserve words as variable\n",
    "2. Python will not restrict to use the key word"
   ]
  },
  {
   "cell_type": "code",
   "execution_count": 5,
   "id": "77a7bdd6",
   "metadata": {},
   "outputs": [
    {
     "name": "stdout",
     "output_type": "stream",
     "text": [
      "Hi there\n"
     ]
    }
   ],
   "source": [
    "print('Hi there')"
   ]
  },
  {
   "cell_type": "code",
   "execution_count": 1,
   "id": "71097984",
   "metadata": {},
   "outputs": [],
   "source": [
    "print = 'Hi there'"
   ]
  },
  {
   "cell_type": "code",
   "execution_count": 2,
   "id": "e02138a8",
   "metadata": {},
   "outputs": [
    {
     "ename": "TypeError",
     "evalue": "'str' object is not callable",
     "output_type": "error",
     "traceback": [
      "\u001b[1;31m---------------------------------------------------------------------------\u001b[0m",
      "\u001b[1;31mTypeError\u001b[0m                                 Traceback (most recent call last)",
      "\u001b[1;32m~\\AppData\\Local\\Temp/ipykernel_12952/3593735940.py\u001b[0m in \u001b[0;36m<module>\u001b[1;34m\u001b[0m\n\u001b[1;32m----> 1\u001b[1;33m \u001b[0mprint\u001b[0m\u001b[1;33m(\u001b[0m\u001b[1;34m'Hi there'\u001b[0m\u001b[1;33m)\u001b[0m\u001b[1;33m\u001b[0m\u001b[1;33m\u001b[0m\u001b[0m\n\u001b[0m",
      "\u001b[1;31mTypeError\u001b[0m: 'str' object is not callable"
     ]
    }
   ],
   "source": [
    "print('Hi there')"
   ]
  },
  {
   "cell_type": "code",
   "execution_count": 3,
   "id": "bb9cf514",
   "metadata": {},
   "outputs": [],
   "source": [
    "del print # delet the variable"
   ]
  },
  {
   "cell_type": "code",
   "execution_count": 4,
   "id": "4b8f0cb0",
   "metadata": {},
   "outputs": [
    {
     "name": "stdout",
     "output_type": "stream",
     "text": [
      "Hey you!\n"
     ]
    }
   ],
   "source": [
    "print('Hey you!')"
   ]
  },
  {
   "cell_type": "markdown",
   "id": "92365ad6",
   "metadata": {},
   "source": [
    "### Multi assignment of variables"
   ]
  },
  {
   "cell_type": "code",
   "execution_count": 14,
   "id": "94b9092f",
   "metadata": {},
   "outputs": [],
   "source": [
    "a, b, c, yes = 10, 20, \"Sunny\", True"
   ]
  },
  {
   "cell_type": "code",
   "execution_count": 7,
   "id": "309effe3",
   "metadata": {},
   "outputs": [
    {
     "name": "stdout",
     "output_type": "stream",
     "text": [
      "<class 'int'>\n"
     ]
    },
    {
     "data": {
      "text/plain": [
       "str"
      ]
     },
     "execution_count": 7,
     "metadata": {},
     "output_type": "execute_result"
    }
   ],
   "source": [
    "print(type(a))\n",
    "type(b)\n",
    "type(c)"
   ]
  },
  {
   "cell_type": "code",
   "execution_count": 9,
   "id": "954801b7",
   "metadata": {},
   "outputs": [
    {
     "data": {
      "text/plain": [
       "bool"
      ]
     },
     "execution_count": 9,
     "metadata": {},
     "output_type": "execute_result"
    }
   ],
   "source": [
    "type(yes)"
   ]
  },
  {
   "cell_type": "code",
   "execution_count": 11,
   "id": "ce6d0bcd",
   "metadata": {},
   "outputs": [
    {
     "ename": "TypeError",
     "evalue": "cannot unpack non-iterable int object",
     "output_type": "error",
     "traceback": [
      "\u001b[1;31m---------------------------------------------------------------------------\u001b[0m",
      "\u001b[1;31mTypeError\u001b[0m                                 Traceback (most recent call last)",
      "\u001b[1;32m~\\AppData\\Local\\Temp/ipykernel_12952/497999565.py\u001b[0m in \u001b[0;36m<module>\u001b[1;34m\u001b[0m\n\u001b[1;32m----> 1\u001b[1;33m \u001b[0ma\u001b[0m\u001b[1;33m,\u001b[0m \u001b[0mb\u001b[0m\u001b[1;33m,\u001b[0m \u001b[0mc\u001b[0m\u001b[1;33m,\u001b[0m \u001b[0myes\u001b[0m \u001b[1;33m=\u001b[0m \u001b[1;36m10\u001b[0m\u001b[1;33m\u001b[0m\u001b[1;33m\u001b[0m\u001b[0m\n\u001b[0m",
      "\u001b[1;31mTypeError\u001b[0m: cannot unpack non-iterable int object"
     ]
    }
   ],
   "source": [
    "# a, b, c, yes = 10"
   ]
  },
  {
   "cell_type": "code",
   "execution_count": 12,
   "id": "bfcb8cf5",
   "metadata": {},
   "outputs": [
    {
     "data": {
      "text/plain": [
       "int"
      ]
     },
     "execution_count": 12,
     "metadata": {},
     "output_type": "execute_result"
    }
   ],
   "source": [
    "type(a)"
   ]
  },
  {
   "cell_type": "code",
   "execution_count": 13,
   "id": "d1816f3e",
   "metadata": {},
   "outputs": [
    {
     "ename": "TypeError",
     "evalue": "type.__new__() argument 1 must be str, not int",
     "output_type": "error",
     "traceback": [
      "\u001b[1;31m---------------------------------------------------------------------------\u001b[0m",
      "\u001b[1;31mTypeError\u001b[0m                                 Traceback (most recent call last)",
      "\u001b[1;32m~\\AppData\\Local\\Temp/ipykernel_12952/303203518.py\u001b[0m in \u001b[0;36m<module>\u001b[1;34m\u001b[0m\n\u001b[1;32m----> 1\u001b[1;33m \u001b[0mtype\u001b[0m\u001b[1;33m(\u001b[0m\u001b[0ma\u001b[0m\u001b[1;33m,\u001b[0m\u001b[0mb\u001b[0m\u001b[1;33m,\u001b[0m\u001b[0mc\u001b[0m\u001b[1;33m)\u001b[0m\u001b[1;33m\u001b[0m\u001b[1;33m\u001b[0m\u001b[0m\n\u001b[0m",
      "\u001b[1;31mTypeError\u001b[0m: type.__new__() argument 1 must be str, not int"
     ]
    }
   ],
   "source": [
    "type(a,b,c)"
   ]
  },
  {
   "cell_type": "code",
   "execution_count": 15,
   "id": "d54b282d",
   "metadata": {},
   "outputs": [
    {
     "name": "stdout",
     "output_type": "stream",
     "text": [
      "<class 'int'>\n",
      "<class 'int'>\n"
     ]
    }
   ],
   "source": [
    "print(type(a))\n",
    "print(type(b))"
   ]
  },
  {
   "cell_type": "code",
   "execution_count": 16,
   "id": "e9b90762",
   "metadata": {},
   "outputs": [],
   "source": [
    "a, A, c, C = 10, 20, \"Sunny\", True"
   ]
  },
  {
   "cell_type": "code",
   "execution_count": 17,
   "id": "9a558853",
   "metadata": {},
   "outputs": [
    {
     "name": "stdout",
     "output_type": "stream",
     "text": [
      "10 20 Sunny True\n"
     ]
    }
   ],
   "source": [
    "print(a, A, c, C)"
   ]
  },
  {
   "cell_type": "code",
   "execution_count": 18,
   "id": "d69c1da7",
   "metadata": {},
   "outputs": [],
   "source": [
    "a = b = c = 10"
   ]
  },
  {
   "cell_type": "code",
   "execution_count": 19,
   "id": "18effe67",
   "metadata": {},
   "outputs": [
    {
     "name": "stdout",
     "output_type": "stream",
     "text": [
      "10\n",
      "10\n",
      "10\n"
     ]
    }
   ],
   "source": [
    "print(a)\n",
    "print(b)\n",
    "print(c)"
   ]
  },
  {
   "cell_type": "markdown",
   "id": "b43cbaf4",
   "metadata": {},
   "source": [
    "### User Input"
   ]
  },
  {
   "cell_type": "code",
   "execution_count": 20,
   "id": "acd79aaf",
   "metadata": {},
   "outputs": [
    {
     "name": "stdout",
     "output_type": "stream",
     "text": [
      "Enter your name: Priya\n",
      "you have entered: Priya\n"
     ]
    }
   ],
   "source": [
    "name = input(\"Enter your name: \")\n",
    "print(f\"you have entered: {name}\")"
   ]
  },
  {
   "cell_type": "code",
   "execution_count": 21,
   "id": "dee5d726",
   "metadata": {},
   "outputs": [
    {
     "name": "stdout",
     "output_type": "stream",
     "text": [
      "Enter your name: 1234\n",
      "you have entered: 1234\n"
     ]
    }
   ],
   "source": [
    "name = input(\"Enter your name: \")\n",
    "print(f\"you have entered: {name}\")"
   ]
  },
  {
   "cell_type": "code",
   "execution_count": 22,
   "id": "debdd168",
   "metadata": {},
   "outputs": [
    {
     "name": "stdout",
     "output_type": "stream",
     "text": [
      "Enter values of A: 12\n",
      "Enter value of B: 45\n",
      "Sum of values: 1245\n"
     ]
    }
   ],
   "source": [
    "A = input(\"Enter values of A: \")\n",
    "B = input('Enter value of B: ')\n",
    "print(f\"Sum of values: {A+B}\")"
   ]
  },
  {
   "cell_type": "code",
   "execution_count": 23,
   "id": "8880be17",
   "metadata": {},
   "outputs": [
    {
     "name": "stdout",
     "output_type": "stream",
     "text": [
      "Enter values of A: 12\n",
      "Enter value of B: 34\n",
      "<class 'str'> <class 'str'>\n"
     ]
    }
   ],
   "source": [
    "A = input(\"Enter values of A: \")\n",
    "B = input('Enter value of B: ')\n",
    "print(type(A), type(B))"
   ]
  },
  {
   "cell_type": "code",
   "execution_count": 43,
   "id": "a69f259e",
   "metadata": {},
   "outputs": [
    {
     "name": "stdout",
     "output_type": "stream",
     "text": [
      "Name: Priya\n",
      "Where do you live?Hyd\n",
      "Year_of_birth: 1996\n"
     ]
    }
   ],
   "source": [
    "name = input('Name: ')\n",
    "place = input('Where do you live?')\n",
    "year_of_birth = float(input('Year_of_birth: '))"
   ]
  },
  {
   "cell_type": "code",
   "execution_count": 44,
   "id": "385d3260",
   "metadata": {},
   "outputs": [
    {
     "name": "stdout",
     "output_type": "stream",
     "text": [
      "Name: Priya\n",
      "Where do you live?Hyd\n",
      "Year_of_birth: 1980\n",
      "Age of the person is: 42\n"
     ]
    }
   ],
   "source": [
    "#calcualte the age of the user\n",
    "\n",
    "name = input('Name: ') ##input() is always takes input as str\n",
    "place = input('Where do you live?')\n",
    "year_of_birth = int(input('Year_of_birth: '))\n",
    "\n",
    "age = 2022 - year_of_birth\n",
    "\n",
    "print(f\"Age of the person is: {age}\")"
   ]
  },
  {
   "cell_type": "code",
   "execution_count": 45,
   "id": "f4ecf8b8",
   "metadata": {},
   "outputs": [
    {
     "name": "stdout",
     "output_type": "stream",
     "text": [
      "Name: priya\n",
      "Where do you live?Hyd\n",
      "Year_of_birth: 1987\n",
      "Age of the person is: 35\n"
     ]
    }
   ],
   "source": [
    "#calcualte the age of the user\n",
    "\n",
    "name = input('Name: ') ##input() is always takes input as str\n",
    "place = input('Where do you live?')\n",
    "year_of_birth = input('Year_of_birth: ')\n",
    "\n",
    "age = 2022 - int(year_of_birth)\n",
    "\n",
    "print(f\"Age of the person is: {age}\")"
   ]
  },
  {
   "cell_type": "code",
   "execution_count": 46,
   "id": "148e3450",
   "metadata": {},
   "outputs": [
    {
     "name": "stdout",
     "output_type": "stream",
     "text": [
      "Name: x\n",
      "Where do you live?hyd\n",
      "Year_of_birth: 2000\n",
      "Enter current year: 2022\n",
      "Age of the person is: 22\n"
     ]
    }
   ],
   "source": [
    "#calcualte the age of the user\n",
    "\n",
    "name = input('Name: ') ##input() is always takes input as str\n",
    "place = input('Where do you live?')\n",
    "year_of_birth = input('Year_of_birth: ')\n",
    "current_year = input('Enter current year: ')\n",
    "\n",
    "age = int(current_year) - int(year_of_birth)\n",
    "\n",
    "print(f\"Age of the person is: {age}\")"
   ]
  },
  {
   "cell_type": "markdown",
   "id": "1d4b0658",
   "metadata": {},
   "source": [
    "### Type conversion"
   ]
  },
  {
   "cell_type": "code",
   "execution_count": 24,
   "id": "b44ecef5",
   "metadata": {},
   "outputs": [
    {
     "name": "stdout",
     "output_type": "stream",
     "text": [
      "Enter values of A: 12\n",
      "Enter value of B: 12\n",
      "Sum of values: 24\n"
     ]
    }
   ],
   "source": [
    "A = int(input(\"Enter values of A: \"))\n",
    "B = int(input('Enter value of B: '))\n",
    "print(f\"Sum of values: {A+B}\")"
   ]
  },
  {
   "cell_type": "code",
   "execution_count": 25,
   "id": "e0b4ef0d",
   "metadata": {},
   "outputs": [
    {
     "name": "stdout",
     "output_type": "stream",
     "text": [
      "<class 'int'> <class 'int'>\n"
     ]
    }
   ],
   "source": [
    "print(type(A), type(B))"
   ]
  },
  {
   "cell_type": "code",
   "execution_count": 26,
   "id": "e6098a75",
   "metadata": {},
   "outputs": [
    {
     "name": "stdout",
     "output_type": "stream",
     "text": [
      "Enter values of A: 23.2\n",
      "Enter value of B: 12.2\n",
      "Sum of values: 35.4\n"
     ]
    }
   ],
   "source": [
    "A = float(input(\"Enter values of A: \"))\n",
    "B = float(input('Enter value of B: '))\n",
    "print(f\"Sum of values: {A+B}\")"
   ]
  },
  {
   "cell_type": "code",
   "execution_count": 27,
   "id": "fd665c5e",
   "metadata": {},
   "outputs": [
    {
     "name": "stdout",
     "output_type": "stream",
     "text": [
      "Enter values of A: 12.2\n",
      "Enter value of B: 10\n",
      "Sum of values: 22.2\n"
     ]
    }
   ],
   "source": [
    "A = float(input(\"Enter values of A: \"))\n",
    "B = int(input('Enter value of B: '))\n",
    "print(f\"Sum of values: {A+B}\")"
   ]
  },
  {
   "cell_type": "code",
   "execution_count": 28,
   "id": "5883134b",
   "metadata": {},
   "outputs": [
    {
     "name": "stdout",
     "output_type": "stream",
     "text": [
      "Enter values of A: 12.2\n",
      "Enter value of B: 10.2\n"
     ]
    },
    {
     "ename": "ValueError",
     "evalue": "invalid literal for int() with base 10: '10.2'",
     "output_type": "error",
     "traceback": [
      "\u001b[1;31m---------------------------------------------------------------------------\u001b[0m",
      "\u001b[1;31mValueError\u001b[0m                                Traceback (most recent call last)",
      "\u001b[1;32m~\\AppData\\Local\\Temp/ipykernel_12952/2917948930.py\u001b[0m in \u001b[0;36m<module>\u001b[1;34m\u001b[0m\n\u001b[0;32m      1\u001b[0m \u001b[0mA\u001b[0m \u001b[1;33m=\u001b[0m \u001b[0mfloat\u001b[0m\u001b[1;33m(\u001b[0m\u001b[0minput\u001b[0m\u001b[1;33m(\u001b[0m\u001b[1;34m\"Enter values of A: \"\u001b[0m\u001b[1;33m)\u001b[0m\u001b[1;33m)\u001b[0m\u001b[1;33m\u001b[0m\u001b[1;33m\u001b[0m\u001b[0m\n\u001b[1;32m----> 2\u001b[1;33m \u001b[0mB\u001b[0m \u001b[1;33m=\u001b[0m \u001b[0mint\u001b[0m\u001b[1;33m(\u001b[0m\u001b[0minput\u001b[0m\u001b[1;33m(\u001b[0m\u001b[1;34m'Enter value of B: '\u001b[0m\u001b[1;33m)\u001b[0m\u001b[1;33m)\u001b[0m\u001b[1;33m\u001b[0m\u001b[1;33m\u001b[0m\u001b[0m\n\u001b[0m\u001b[0;32m      3\u001b[0m \u001b[0mprint\u001b[0m\u001b[1;33m(\u001b[0m\u001b[1;34mf\"Sum of values: {A+B}\"\u001b[0m\u001b[1;33m)\u001b[0m\u001b[1;33m\u001b[0m\u001b[1;33m\u001b[0m\u001b[0m\n",
      "\u001b[1;31mValueError\u001b[0m: invalid literal for int() with base 10: '10.2'"
     ]
    }
   ],
   "source": [
    "A = float(input(\"Enter values of A: \"))\n",
    "B = int(input('Enter value of B: '))\n",
    "print(f\"Sum of values: {A+B}\")"
   ]
  },
  {
   "cell_type": "code",
   "execution_count": 30,
   "id": "02ff71cd",
   "metadata": {},
   "outputs": [
    {
     "name": "stdout",
     "output_type": "stream",
     "text": [
      "data type before <class 'str'>\n",
      "data type after <class 'int'>\n"
     ]
    }
   ],
   "source": [
    "## Str to integer\n",
    "\n",
    "A = '50'\n",
    "print(f'data type before {type(A)}')\n",
    "A = int(A)\n",
    "print(f'data type after {type(A)}')"
   ]
  },
  {
   "cell_type": "code",
   "execution_count": 31,
   "id": "53d4bc7f",
   "metadata": {},
   "outputs": [
    {
     "name": "stdout",
     "output_type": "stream",
     "text": [
      "data type before <class 'str'>\n"
     ]
    },
    {
     "ename": "ValueError",
     "evalue": "invalid literal for int() with base 10: '50.22'",
     "output_type": "error",
     "traceback": [
      "\u001b[1;31m---------------------------------------------------------------------------\u001b[0m",
      "\u001b[1;31mValueError\u001b[0m                                Traceback (most recent call last)",
      "\u001b[1;32m~\\AppData\\Local\\Temp/ipykernel_12952/3680288932.py\u001b[0m in \u001b[0;36m<module>\u001b[1;34m\u001b[0m\n\u001b[0;32m      1\u001b[0m \u001b[0mA\u001b[0m \u001b[1;33m=\u001b[0m \u001b[1;34m'50.22'\u001b[0m\u001b[1;33m\u001b[0m\u001b[1;33m\u001b[0m\u001b[0m\n\u001b[0;32m      2\u001b[0m \u001b[0mprint\u001b[0m\u001b[1;33m(\u001b[0m\u001b[1;34mf'data type before {type(A)}'\u001b[0m\u001b[1;33m)\u001b[0m\u001b[1;33m\u001b[0m\u001b[1;33m\u001b[0m\u001b[0m\n\u001b[1;32m----> 3\u001b[1;33m \u001b[0mA\u001b[0m \u001b[1;33m=\u001b[0m \u001b[0mint\u001b[0m\u001b[1;33m(\u001b[0m\u001b[0mA\u001b[0m\u001b[1;33m)\u001b[0m\u001b[1;33m\u001b[0m\u001b[1;33m\u001b[0m\u001b[0m\n\u001b[0m\u001b[0;32m      4\u001b[0m \u001b[0mprint\u001b[0m\u001b[1;33m(\u001b[0m\u001b[1;34mf'data type after {type(A)}'\u001b[0m\u001b[1;33m)\u001b[0m\u001b[1;33m\u001b[0m\u001b[1;33m\u001b[0m\u001b[0m\n",
      "\u001b[1;31mValueError\u001b[0m: invalid literal for int() with base 10: '50.22'"
     ]
    }
   ],
   "source": [
    "#Not allowed\n",
    "A = '50.22'\n",
    "print(f'data type before {type(A)}')\n",
    "A = int(A)\n",
    "print(f'data type after {type(A)}')"
   ]
  },
  {
   "cell_type": "code",
   "execution_count": 33,
   "id": "f069e77f",
   "metadata": {},
   "outputs": [
    {
     "name": "stdout",
     "output_type": "stream",
     "text": [
      "data type before <class 'float'>, value of A: 50.22\n",
      "data type before <class 'int'>, value of A: 50\n"
     ]
    }
   ],
   "source": [
    "#float to int\n",
    "A = 50.22\n",
    "print(f'data type before {type(A)}, value of A: {A}')\n",
    "A = int(A)\n",
    "print(f'data type before {type(A)}, value of A: {A}')"
   ]
  },
  {
   "cell_type": "code",
   "execution_count": 34,
   "id": "62492e8c",
   "metadata": {},
   "outputs": [
    {
     "name": "stdout",
     "output_type": "stream",
     "text": [
      "data type before <class 'int'>, value of A: 50\n",
      "data type before <class 'float'>, value of A: 50.0\n"
     ]
    }
   ],
   "source": [
    "#int to float\n",
    "A = 50\n",
    "print(f'data type before {type(A)}, value of A: {A}')\n",
    "A = float(A)\n",
    "print(f'data type before {type(A)}, value of A: {A}')"
   ]
  },
  {
   "cell_type": "code",
   "execution_count": 35,
   "id": "80a39932",
   "metadata": {},
   "outputs": [
    {
     "name": "stdout",
     "output_type": "stream",
     "text": [
      "data type before <class 'int'>, value of A: 10\n",
      "data type before <class 'bool'>, value of A: True\n"
     ]
    }
   ],
   "source": [
    "#int to boolean\n",
    "A = 10\n",
    "print(f'data type before {type(A)}, value of A: {A}')\n",
    "A = bool(A)\n",
    "print(f'data type before {type(A)}, value of A: {A}')"
   ]
  },
  {
   "cell_type": "code",
   "execution_count": 36,
   "id": "c88aa2da",
   "metadata": {},
   "outputs": [
    {
     "name": "stdout",
     "output_type": "stream",
     "text": [
      "data type before <class 'int'>, value of A: 0\n",
      "data type before <class 'bool'>, value of A: False\n"
     ]
    }
   ],
   "source": [
    "#int to boolean\n",
    "# only 0 will be given as false \n",
    "A = 0\n",
    "print(f'data type before {type(A)}, value of A: {A}')\n",
    "A = bool(A)\n",
    "print(f'data type before {type(A)}, value of A: {A}')"
   ]
  },
  {
   "cell_type": "markdown",
   "id": "fe3ba00f",
   "metadata": {},
   "source": [
    "- True in binary is 1\n",
    "- False in binary is 0\n",
    "- convering any non-zero numbers and sting values into booleans will give True as an answer\n",
    "- Empty string \"\" will give false as an answer after converting from str to boolean"
   ]
  },
  {
   "cell_type": "code",
   "execution_count": 37,
   "id": "2346e3b8",
   "metadata": {},
   "outputs": [
    {
     "name": "stdout",
     "output_type": "stream",
     "text": [
      "data type before <class 'int'>, value of A: -5\n",
      "data type before <class 'bool'>, value of A: True\n"
     ]
    }
   ],
   "source": [
    "#int to boolean\n",
    "A = -5\n",
    "print(f'data type before {type(A)}, value of A: {A}')\n",
    "A = bool(A)\n",
    "print(f'data type before {type(A)}, value of A: {A}')"
   ]
  },
  {
   "cell_type": "code",
   "execution_count": 38,
   "id": "86f4c6e1",
   "metadata": {},
   "outputs": [
    {
     "name": "stdout",
     "output_type": "stream",
     "text": [
      "data type before <class 'str'>, value of A: Priya\n",
      "data type before <class 'bool'>, value of A: True\n"
     ]
    }
   ],
   "source": [
    "#str to boolean\n",
    "A = \"Priya\"\n",
    "print(f'data type before {type(A)}, value of A: {A}')\n",
    "A = bool(A)\n",
    "print(f'data type before {type(A)}, value of A: {A}')"
   ]
  },
  {
   "cell_type": "code",
   "execution_count": 39,
   "id": "30d23391",
   "metadata": {},
   "outputs": [
    {
     "name": "stdout",
     "output_type": "stream",
     "text": [
      "data type before <class 'str'>, value of A: False\n",
      "data type before <class 'bool'>, value of A: True\n"
     ]
    }
   ],
   "source": [
    "#str to boolean\n",
    "A = \"False\"\n",
    "print(f'data type before {type(A)}, value of A: {A}')\n",
    "A = bool(A)\n",
    "print(f'data type before {type(A)}, value of A: {A}')"
   ]
  },
  {
   "cell_type": "code",
   "execution_count": 40,
   "id": "6a9bc8b8",
   "metadata": {},
   "outputs": [
    {
     "name": "stdout",
     "output_type": "stream",
     "text": [
      "data type before <class 'str'>, value of A: \n",
      "data type before <class 'bool'>, value of A: False\n"
     ]
    }
   ],
   "source": [
    "#empty str to boolean\n",
    "A = \"\"\n",
    "print(f'data type before {type(A)}, value of A: {A}')\n",
    "A = bool(A)\n",
    "print(f'data type before {type(A)}, value of A: {A}')"
   ]
  },
  {
   "cell_type": "code",
   "execution_count": 41,
   "id": "3e11f036",
   "metadata": {},
   "outputs": [
    {
     "name": "stdout",
     "output_type": "stream",
     "text": [
      "data type before <class 'str'>, value of A: \n"
     ]
    },
    {
     "ename": "ValueError",
     "evalue": "invalid literal for int() with base 10: ''",
     "output_type": "error",
     "traceback": [
      "\u001b[1;31m---------------------------------------------------------------------------\u001b[0m",
      "\u001b[1;31mValueError\u001b[0m                                Traceback (most recent call last)",
      "\u001b[1;32m~\\AppData\\Local\\Temp/ipykernel_12952/773569710.py\u001b[0m in \u001b[0;36m<module>\u001b[1;34m\u001b[0m\n\u001b[0;32m      2\u001b[0m \u001b[0mA\u001b[0m \u001b[1;33m=\u001b[0m \u001b[1;34m\"\"\u001b[0m\u001b[1;33m\u001b[0m\u001b[1;33m\u001b[0m\u001b[0m\n\u001b[0;32m      3\u001b[0m \u001b[0mprint\u001b[0m\u001b[1;33m(\u001b[0m\u001b[1;34mf'data type before {type(A)}, value of A: {A}'\u001b[0m\u001b[1;33m)\u001b[0m\u001b[1;33m\u001b[0m\u001b[1;33m\u001b[0m\u001b[0m\n\u001b[1;32m----> 4\u001b[1;33m \u001b[0mA\u001b[0m \u001b[1;33m=\u001b[0m \u001b[0mint\u001b[0m\u001b[1;33m(\u001b[0m\u001b[0mA\u001b[0m\u001b[1;33m)\u001b[0m\u001b[1;33m\u001b[0m\u001b[1;33m\u001b[0m\u001b[0m\n\u001b[0m\u001b[0;32m      5\u001b[0m \u001b[0mprint\u001b[0m\u001b[1;33m(\u001b[0m\u001b[1;34mf'data type before {type(A)}, value of A: {A}'\u001b[0m\u001b[1;33m)\u001b[0m\u001b[1;33m\u001b[0m\u001b[1;33m\u001b[0m\u001b[0m\n",
      "\u001b[1;31mValueError\u001b[0m: invalid literal for int() with base 10: ''"
     ]
    }
   ],
   "source": [
    "#empty str to int\n",
    "A = \"\"\n",
    "print(f'data type before {type(A)}, value of A: {A}')\n",
    "A = int(A)\n",
    "print(f'data type before {type(A)}, value of A: {A}')"
   ]
  },
  {
   "cell_type": "markdown",
   "id": "a16cb4ea",
   "metadata": {},
   "source": [
    "### Memory block\n",
    "\n",
    "Memory is assigned to the value of variable passed not the variable name"
   ]
  },
  {
   "cell_type": "code",
   "execution_count": 47,
   "id": "731f0d70",
   "metadata": {},
   "outputs": [],
   "source": [
    "a = 22\n",
    "b = 34\n",
    "c = 22"
   ]
  },
  {
   "cell_type": "code",
   "execution_count": 48,
   "id": "4fc7a78a",
   "metadata": {},
   "outputs": [
    {
     "data": {
      "text/plain": [
       "2076565662672"
      ]
     },
     "execution_count": 48,
     "metadata": {},
     "output_type": "execute_result"
    }
   ],
   "source": [
    "#to get the memory address/location of a variable\n",
    "\n",
    "id(a)"
   ]
  },
  {
   "cell_type": "code",
   "execution_count": 49,
   "id": "452488f9",
   "metadata": {},
   "outputs": [
    {
     "data": {
      "text/plain": [
       "2076565663056"
      ]
     },
     "execution_count": 49,
     "metadata": {},
     "output_type": "execute_result"
    }
   ],
   "source": [
    "id(b)"
   ]
  },
  {
   "cell_type": "code",
   "execution_count": 50,
   "id": "b5c20f34",
   "metadata": {},
   "outputs": [
    {
     "data": {
      "text/plain": [
       "2076565662672"
      ]
     },
     "execution_count": 50,
     "metadata": {},
     "output_type": "execute_result"
    }
   ],
   "source": [
    "id(c)"
   ]
  },
  {
   "cell_type": "code",
   "execution_count": 51,
   "id": "15548e9c",
   "metadata": {},
   "outputs": [],
   "source": [
    "c = 22+b"
   ]
  },
  {
   "cell_type": "code",
   "execution_count": 52,
   "id": "44f594ee",
   "metadata": {},
   "outputs": [
    {
     "data": {
      "text/plain": [
       "2076565852240"
      ]
     },
     "execution_count": 52,
     "metadata": {},
     "output_type": "execute_result"
    }
   ],
   "source": [
    "id(c)"
   ]
  },
  {
   "cell_type": "code",
   "execution_count": 53,
   "id": "6d816501",
   "metadata": {},
   "outputs": [
    {
     "data": {
      "text/plain": [
       "2076565662672"
      ]
     },
     "execution_count": 53,
     "metadata": {},
     "output_type": "execute_result"
    }
   ],
   "source": [
    "a = 22\n",
    "id(a)"
   ]
  },
  {
   "cell_type": "code",
   "execution_count": 54,
   "id": "998a3131",
   "metadata": {},
   "outputs": [
    {
     "data": {
      "text/plain": [
       "2076565853616"
      ]
     },
     "execution_count": 54,
     "metadata": {},
     "output_type": "execute_result"
    }
   ],
   "source": [
    "a = 99\n",
    "id(a)"
   ]
  },
  {
   "cell_type": "code",
   "execution_count": 55,
   "id": "ebb39ba9",
   "metadata": {},
   "outputs": [],
   "source": [
    "a = 'Priya'\n",
    "b = 'Priya'"
   ]
  },
  {
   "cell_type": "code",
   "execution_count": 56,
   "id": "ab29dd11",
   "metadata": {},
   "outputs": [
    {
     "data": {
      "text/plain": [
       "2074532425904"
      ]
     },
     "execution_count": 56,
     "metadata": {},
     "output_type": "execute_result"
    }
   ],
   "source": [
    "id(a)"
   ]
  },
  {
   "cell_type": "code",
   "execution_count": 57,
   "id": "07b66bd0",
   "metadata": {},
   "outputs": [
    {
     "data": {
      "text/plain": [
       "2074532425904"
      ]
     },
     "execution_count": 57,
     "metadata": {},
     "output_type": "execute_result"
    }
   ],
   "source": [
    "id(b)"
   ]
  },
  {
   "cell_type": "code",
   "execution_count": 58,
   "id": "6c9d3c49",
   "metadata": {},
   "outputs": [
    {
     "name": "stdout",
     "output_type": "stream",
     "text": [
      "2076571748912 2076571748912\n"
     ]
    }
   ],
   "source": [
    "a = 'P'\n",
    "b = 'P'\n",
    "print(id(a),id(b))"
   ]
  },
  {
   "cell_type": "markdown",
   "id": "f37bc828",
   "metadata": {},
   "source": [
    "### Assignments"
   ]
  }
 ],
 "metadata": {
  "kernelspec": {
   "display_name": "Python 3 (ipykernel)",
   "language": "python",
   "name": "python3"
  },
  "language_info": {
   "codemirror_mode": {
    "name": "ipython",
    "version": 3
   },
   "file_extension": ".py",
   "mimetype": "text/x-python",
   "name": "python",
   "nbconvert_exporter": "python",
   "pygments_lexer": "ipython3",
   "version": "3.9.12"
  }
 },
 "nbformat": 4,
 "nbformat_minor": 5
}
