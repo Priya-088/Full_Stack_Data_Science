{
 "cells": [
  {
   "cell_type": "markdown",
   "id": "459a7666",
   "metadata": {},
   "source": [
    "### Agenda\n",
    "\n",
    "1. Variable case sensitivity\n",
    "2. Reserved words in python\n",
    "3. Multi assignment of variables\n",
    "4. User input\n",
    "5. Type casting\n",
    "6. Memory block\n",
    "7. Operators\n",
    "  - Logical\n",
    "  - Equality\n",
    "  - comparision\n",
    "  - Arthematic (Advance class)\n",
    "  - Bitwise \n",
    "  - Operators for sets and dictionary (Advance class)"
   ]
  },
  {
   "cell_type": "markdown",
   "id": "3f81835f",
   "metadata": {},
   "source": [
    "### Variable case sensitivity"
   ]
  },
  {
   "cell_type": "code",
   "execution_count": 2,
   "id": "b08f8905",
   "metadata": {},
   "outputs": [
    {
     "name": "stdout",
     "output_type": "stream",
     "text": [
      "20 10\n"
     ]
    }
   ],
   "source": [
    "# Ten and ten are both different vaiables, case sensitivity applies here\n",
    "Ten = 20\n",
    "ten = 10\n",
    "print(Ten, ten)"
   ]
  },
  {
   "cell_type": "markdown",
   "id": "b017d341",
   "metadata": {},
   "source": [
    "### Reserve words in python\n",
    "\n",
    "- We should not use reserve words as variable\n",
    "- Also python doesn't restict the user to use reserved keywords as variables names\n",
    "- we can refer offcial documents for the knowing availble reserve words"
   ]
  },
  {
   "cell_type": "code",
   "execution_count": 1,
   "id": "08f69da7",
   "metadata": {},
   "outputs": [
    {
     "name": "stdout",
     "output_type": "stream",
     "text": [
      "Hi there\n"
     ]
    }
   ],
   "source": [
    "print('Hi there')"
   ]
  },
  {
   "cell_type": "code",
   "execution_count": 7,
   "id": "7a8a1df5",
   "metadata": {},
   "outputs": [],
   "source": [
    "#here print is the reserved word in python\n",
    "print = 'Hi there'"
   ]
  },
  {
   "cell_type": "code",
   "execution_count": 8,
   "id": "64c08e54",
   "metadata": {},
   "outputs": [
    {
     "ename": "TypeError",
     "evalue": "'str' object is not callable",
     "output_type": "error",
     "traceback": [
      "\u001b[1;31m---------------------------------------------------------------------------\u001b[0m",
      "\u001b[1;31mTypeError\u001b[0m                                 Traceback (most recent call last)",
      "\u001b[1;32m~\\AppData\\Local\\Temp/ipykernel_4784/3593735940.py\u001b[0m in \u001b[0;36m<module>\u001b[1;34m\u001b[0m\n\u001b[1;32m----> 1\u001b[1;33m \u001b[0mprint\u001b[0m\u001b[1;33m(\u001b[0m\u001b[1;34m'Hi there'\u001b[0m\u001b[1;33m)\u001b[0m\u001b[1;33m\u001b[0m\u001b[1;33m\u001b[0m\u001b[0m\n\u001b[0m",
      "\u001b[1;31mTypeError\u001b[0m: 'str' object is not callable"
     ]
    }
   ],
   "source": [
    "#print operation is overried with the variable assigned above\n",
    "print('Hi there')"
   ]
  },
  {
   "cell_type": "code",
   "execution_count": 9,
   "id": "b7b67bc7",
   "metadata": {},
   "outputs": [],
   "source": [
    "#Deleting user defined function\n",
    "del print"
   ]
  },
  {
   "cell_type": "code",
   "execution_count": 10,
   "id": "5bb33ac0",
   "metadata": {},
   "outputs": [
    {
     "name": "stdout",
     "output_type": "stream",
     "text": [
      "Hi there\n"
     ]
    }
   ],
   "source": [
    "print('Hi there')"
   ]
  },
  {
   "cell_type": "markdown",
   "id": "a878c886",
   "metadata": {},
   "source": [
    "### Multi assignment of variables (57:00)\n"
   ]
  },
  {
   "cell_type": "code",
   "execution_count": null,
   "id": "8622a770",
   "metadata": {},
   "outputs": [],
   "source": []
  }
 ],
 "metadata": {
  "kernelspec": {
   "display_name": "Python 3 (ipykernel)",
   "language": "python",
   "name": "python3"
  },
  "language_info": {
   "codemirror_mode": {
    "name": "ipython",
    "version": 3
   },
   "file_extension": ".py",
   "mimetype": "text/x-python",
   "name": "python",
   "nbconvert_exporter": "python",
   "pygments_lexer": "ipython3",
   "version": "3.9.12"
  }
 },
 "nbformat": 4,
 "nbformat_minor": 5
}
