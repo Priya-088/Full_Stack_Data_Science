{
 "cells": [
  {
   "cell_type": "markdown",
   "id": "58d26bdb",
   "metadata": {},
   "source": [
    "### Agenda\n",
    "\n",
    "- Python Programming\n",
    "- Pseudo Programming (False programming)\n",
    "- Flow chart\n",
    "- Python (Variables and data types)"
   ]
  },
  {
   "cell_type": "markdown",
   "id": "b94b49cb",
   "metadata": {},
   "source": [
    " - Programming --> Way of communicating/ instructing the computers to do certain task\n",
    "  - programming has the key words\n",
    "  - syntax (rules)\n",
    "- Programming is of 2 ways\n",
    "      - compiled programming --> executed at once and code is converted to byte code and avaiable in 'exe' files (eg: C, C++, Java etc)\n",
    "      - Interpreted programming --> code is executed line by line, not at once (very slower in performance, but can be improved using high GPU support), (eg: Python, Javascript)\n",
    "- Compiler --> converts high level programming to binary language (machine language), kind of a job like translator\n",
    "- Python is an interpreted language\n",
    "      - Python code is taken by the interpreter and the code is executed line by line and converts the program into byte code\n",
    "- Python is helpful in fast prototyping (building demo code fastly by writing very less number of lines of code)"
   ]
  },
  {
   "cell_type": "markdown",
   "id": "90595167",
   "metadata": {},
   "source": [
    "#### Pseudo Programming\n",
    "- It is false programming\n",
    "- Roughtly mentioning the logic of the task instard of building it as an entire programe with proper syntax\n",
    "- It is not always needed to have a pseudo programming when we talk about python, as python programming already seems to be like a Pseudo programming. "
   ]
  },
  {
   "cell_type": "markdown",
   "id": "c4185c3b",
   "metadata": {},
   "source": [
    "#### Flow chart\n",
    "\n",
    "- Representing the problem-solution in the diagrametical or pictorial way\n",
    "- Flow charts will be helpful when we try to solve complex problems --> It will be a better way to analyse an complex problem throught flow chart before going for the implementation."
   ]
  },
  {
   "cell_type": "markdown",
   "id": "2d1c093d",
   "metadata": {},
   "source": [
    "### Print()"
   ]
  },
  {
   "cell_type": "code",
   "execution_count": 1,
   "id": "6d6add56",
   "metadata": {},
   "outputs": [
    {
     "name": "stdout",
     "output_type": "stream",
     "text": [
      "Hello team\n"
     ]
    }
   ],
   "source": [
    "print('Hello team')"
   ]
  },
  {
   "cell_type": "code",
   "execution_count": 3,
   "id": "226fa6a4",
   "metadata": {},
   "outputs": [
    {
     "name": "stdout",
     "output_type": "stream",
     "text": [
      "Greetings from ineuron\n",
      "Good evng\n"
     ]
    }
   ],
   "source": [
    "# print is keyword here to write a comment\n",
    "print('Greetings from ineuron')\n",
    "print('Good evng')"
   ]
  },
  {
   "cell_type": "code",
   "execution_count": 6,
   "id": "c2735b7f",
   "metadata": {},
   "outputs": [
    {
     "ename": "NameError",
     "evalue": "name 'Print' is not defined",
     "output_type": "error",
     "traceback": [
      "\u001b[1;31m---------------------------------------------------------------------------\u001b[0m",
      "\u001b[1;31mNameError\u001b[0m                                 Traceback (most recent call last)",
      "\u001b[1;32m~\\AppData\\Local\\Temp/ipykernel_7760/1875484015.py\u001b[0m in \u001b[0;36m<module>\u001b[1;34m\u001b[0m\n\u001b[0;32m      1\u001b[0m \u001b[1;31m#mistakes in syntax\u001b[0m\u001b[1;33m\u001b[0m\u001b[1;33m\u001b[0m\u001b[0m\n\u001b[1;32m----> 2\u001b[1;33m \u001b[0mPrint\u001b[0m\u001b[1;33m(\u001b[0m\u001b[1;34m'Good evng'\u001b[0m\u001b[1;33m)\u001b[0m\u001b[1;33m\u001b[0m\u001b[1;33m\u001b[0m\u001b[0m\n\u001b[0m",
      "\u001b[1;31mNameError\u001b[0m: name 'Print' is not defined"
     ]
    }
   ],
   "source": [
    "#mistakes in syntax\n",
    "Print('Good evng')"
   ]
  },
  {
   "cell_type": "code",
   "execution_count": 7,
   "id": "ce69c8d9",
   "metadata": {},
   "outputs": [
    {
     "ename": "SyntaxError",
     "evalue": "invalid syntax (Temp/ipykernel_7760/2680896899.py, line 1)",
     "output_type": "error",
     "traceback": [
      "\u001b[1;36m  File \u001b[1;32m\"C:\\Users\\hi\\AppData\\Local\\Temp/ipykernel_7760/2680896899.py\"\u001b[1;36m, line \u001b[1;32m1\u001b[0m\n\u001b[1;33m    print'Good evng'\u001b[0m\n\u001b[1;37m         ^\u001b[0m\n\u001b[1;31mSyntaxError\u001b[0m\u001b[1;31m:\u001b[0m invalid syntax\n"
     ]
    }
   ],
   "source": [
    "print'Good evng'"
   ]
  },
  {
   "cell_type": "code",
   "execution_count": 8,
   "id": "ff08051b",
   "metadata": {},
   "outputs": [
    {
     "ename": "SyntaxError",
     "evalue": "EOL while scanning string literal (Temp/ipykernel_7760/80935069.py, line 1)",
     "output_type": "error",
     "traceback": [
      "\u001b[1;36m  File \u001b[1;32m\"C:\\Users\\hi\\AppData\\Local\\Temp/ipykernel_7760/80935069.py\"\u001b[1;36m, line \u001b[1;32m1\u001b[0m\n\u001b[1;33m    Print('Good\u001b[0m\n\u001b[1;37m                ^\u001b[0m\n\u001b[1;31mSyntaxError\u001b[0m\u001b[1;31m:\u001b[0m EOL while scanning string literal\n"
     ]
    }
   ],
   "source": [
    "Print('Good \n",
    "      evng')"
   ]
  },
  {
   "cell_type": "code",
   "execution_count": 9,
   "id": "f56965f9",
   "metadata": {},
   "outputs": [
    {
     "data": {
      "text/plain": [
       "'Good morning'"
      ]
     },
     "execution_count": 9,
     "metadata": {},
     "output_type": "execute_result"
    }
   ],
   "source": [
    "'Good morning'"
   ]
  },
  {
   "cell_type": "code",
   "execution_count": 10,
   "id": "430952ca",
   "metadata": {},
   "outputs": [
    {
     "name": "stdout",
     "output_type": "stream",
     "text": [
      "hello\n"
     ]
    }
   ],
   "source": [
    "'Good morning' ## this sytax needs to be in the last line of code to appear\n",
    "print('hello')"
   ]
  },
  {
   "cell_type": "code",
   "execution_count": 12,
   "id": "0e01975c",
   "metadata": {},
   "outputs": [
    {
     "name": "stdout",
     "output_type": "stream",
     "text": [
      "Hi, Kids\n",
      "How you are all doing??\n",
      "Good to hear\n"
     ]
    }
   ],
   "source": [
    "#multi line comment\n",
    "\n",
    "print(\"\"\"Hi, Kids\n",
    "How you are all doing??\n",
    "Good to hear\"\"\")"
   ]
  },
  {
   "cell_type": "markdown",
   "id": "e0da231b",
   "metadata": {},
   "source": [
    "### Comments"
   ]
  },
  {
   "cell_type": "code",
   "execution_count": 14,
   "id": "ea75db35",
   "metadata": {},
   "outputs": [],
   "source": [
    "# comments are helpful to mention some detials regarding the code"
   ]
  },
  {
   "cell_type": "code",
   "execution_count": 15,
   "id": "35b152b8",
   "metadata": {},
   "outputs": [
    {
     "name": "stdout",
     "output_type": "stream",
     "text": [
      "hello students!!\n"
     ]
    }
   ],
   "source": [
    "#say hello to students\n",
    "print('hello students!!')"
   ]
  },
  {
   "cell_type": "markdown",
   "id": "e9cb315a",
   "metadata": {},
   "source": [
    "### Multi line comments"
   ]
  },
  {
   "cell_type": "code",
   "execution_count": 16,
   "id": "40ad628e",
   "metadata": {},
   "outputs": [
    {
     "name": "stdout",
     "output_type": "stream",
     "text": [
      "Hi students\n"
     ]
    }
   ],
   "source": [
    "'''\n",
    "Say hi\n",
    "to the students\n",
    "'''\n",
    "print('Hi students')"
   ]
  },
  {
   "cell_type": "code",
   "execution_count": 1,
   "id": "0f80edd6",
   "metadata": {},
   "outputs": [
    {
     "name": "stdout",
     "output_type": "stream",
     "text": [
      "Hi my name is \"Priya\"\n"
     ]
    }
   ],
   "source": [
    "#more exceptional cases in print statement\n",
    "print('Hi my name is \"Priya\"')\n"
   ]
  },
  {
   "cell_type": "code",
   "execution_count": 2,
   "id": "182ee1e0",
   "metadata": {},
   "outputs": [
    {
     "name": "stdout",
     "output_type": "stream",
     "text": [
      " Hi my name is 'Priya'\n"
     ]
    }
   ],
   "source": [
    "print(\" Hi my name is 'Priya'\")"
   ]
  },
  {
   "cell_type": "code",
   "execution_count": 3,
   "id": "6a40c3cc",
   "metadata": {},
   "outputs": [],
   "source": [
    "#another way to handle this"
   ]
  },
  {
   "cell_type": "code",
   "execution_count": 5,
   "id": "0357a952",
   "metadata": {},
   "outputs": [
    {
     "name": "stdout",
     "output_type": "stream",
     "text": [
      "Hi my name is \"Priya\"\n",
      "\n"
     ]
    }
   ],
   "source": [
    "print(\"\"\"Hi my name is \"Priya\"\n",
    "\"\"\")"
   ]
  },
  {
   "cell_type": "code",
   "execution_count": 8,
   "id": "46e8027a",
   "metadata": {},
   "outputs": [
    {
     "name": "stdout",
     "output_type": "stream",
     "text": [
      "Hi my name is 'Priya'\n"
     ]
    }
   ],
   "source": [
    "#escape charater method\n",
    "print('Hi my name is \\'Priya\\'')"
   ]
  },
  {
   "cell_type": "markdown",
   "id": "0e9412a2",
   "metadata": {},
   "source": [
    "## Python can be used to calculate results of simple operation"
   ]
  },
  {
   "cell_type": "code",
   "execution_count": 9,
   "id": "89385fcf",
   "metadata": {},
   "outputs": [
    {
     "data": {
      "text/plain": [
       "368"
      ]
     },
     "execution_count": 9,
     "metadata": {},
     "output_type": "execute_result"
    }
   ],
   "source": [
    "123+245 #can use as calculater"
   ]
  },
  {
   "cell_type": "code",
   "execution_count": 10,
   "id": "4bc49eed",
   "metadata": {},
   "outputs": [
    {
     "data": {
      "text/plain": [
       "615"
      ]
     },
     "execution_count": 10,
     "metadata": {},
     "output_type": "execute_result"
    }
   ],
   "source": [
    "123 * 5"
   ]
  },
  {
   "cell_type": "code",
   "execution_count": 11,
   "id": "1cb57112",
   "metadata": {},
   "outputs": [
    {
     "data": {
      "text/plain": [
       "9.0"
      ]
     },
     "execution_count": 11,
     "metadata": {},
     "output_type": "execute_result"
    }
   ],
   "source": [
    "225/25"
   ]
  },
  {
   "cell_type": "code",
   "execution_count": 14,
   "id": "9f2c6b32",
   "metadata": {},
   "outputs": [
    {
     "data": {
      "text/plain": [
       "15129"
      ]
     },
     "execution_count": 14,
     "metadata": {},
     "output_type": "execute_result"
    }
   ],
   "source": [
    "#power of 2\n",
    "\n",
    "123**2"
   ]
  },
  {
   "cell_type": "code",
   "execution_count": 15,
   "id": "002a2441",
   "metadata": {},
   "outputs": [
    {
     "data": {
      "text/plain": [
       "1"
      ]
     },
     "execution_count": 15,
     "metadata": {},
     "output_type": "execute_result"
    }
   ],
   "source": [
    "123%2 #modulo operator which gives reminder after the calculation"
   ]
  },
  {
   "cell_type": "code",
   "execution_count": 18,
   "id": "57155467",
   "metadata": {},
   "outputs": [
    {
     "data": {
      "text/plain": [
       "-1860867"
      ]
     },
     "execution_count": 18,
     "metadata": {},
     "output_type": "execute_result"
    }
   ],
   "source": [
    "(-123)**3"
   ]
  },
  {
   "cell_type": "code",
   "execution_count": 19,
   "id": "3e987b68",
   "metadata": {},
   "outputs": [
    {
     "name": "stdout",
     "output_type": "stream",
     "text": [
      "Result\n"
     ]
    }
   ],
   "source": [
    "123*3\n",
    "print(\"Result\")"
   ]
  },
  {
   "cell_type": "code",
   "execution_count": 20,
   "id": "1a64446e",
   "metadata": {},
   "outputs": [
    {
     "name": "stdout",
     "output_type": "stream",
     "text": [
      "369\n",
      "123*3\n",
      "Result\n"
     ]
    }
   ],
   "source": [
    "print(123*3)\n",
    "print('123*3')\n",
    "print('Result')"
   ]
  },
  {
   "cell_type": "markdown",
   "id": "590b6374",
   "metadata": {},
   "source": [
    "### Variable in Python\n",
    "- Variable should start with alphabet\n",
    "- variable name should not contain any special charaters like ^*&$()\n",
    "- Variable name can contain number but can't start with a number\n",
    "- It is not a strict rule that you should have variable names with a Capital letter, but it is recommended to use small latters for the variable names"
   ]
  },
  {
   "cell_type": "code",
   "execution_count": 21,
   "id": "a982ceaf",
   "metadata": {},
   "outputs": [],
   "source": [
    "x = 10"
   ]
  },
  {
   "cell_type": "code",
   "execution_count": 22,
   "id": "eeffef14",
   "metadata": {},
   "outputs": [
    {
     "name": "stdout",
     "output_type": "stream",
     "text": [
      "10\n"
     ]
    }
   ],
   "source": [
    "print(x)"
   ]
  },
  {
   "cell_type": "code",
   "execution_count": 23,
   "id": "02f783d9",
   "metadata": {},
   "outputs": [],
   "source": [
    "y=20"
   ]
  },
  {
   "cell_type": "code",
   "execution_count": 24,
   "id": "b4530872",
   "metadata": {},
   "outputs": [
    {
     "name": "stdout",
     "output_type": "stream",
     "text": [
      "20\n"
     ]
    }
   ],
   "source": [
    "print(y)"
   ]
  },
  {
   "cell_type": "code",
   "execution_count": 25,
   "id": "314719ad",
   "metadata": {},
   "outputs": [
    {
     "name": "stdout",
     "output_type": "stream",
     "text": [
      "30\n"
     ]
    }
   ],
   "source": [
    "print(x+y)"
   ]
  },
  {
   "cell_type": "code",
   "execution_count": 26,
   "id": "96fe99ca",
   "metadata": {},
   "outputs": [
    {
     "name": "stdout",
     "output_type": "stream",
     "text": [
      "0.5\n"
     ]
    }
   ],
   "source": [
    "print(x/y)"
   ]
  },
  {
   "cell_type": "code",
   "execution_count": 31,
   "id": "cac6977e",
   "metadata": {},
   "outputs": [
    {
     "name": "stdout",
     "output_type": "stream",
     "text": [
      "10\n",
      "10\n",
      "10\n"
     ]
    }
   ],
   "source": [
    "#allowed use cases\n",
    "ten = 10\n",
    "ten_number = 10\n",
    "tenNumber = 10\n",
    "print(ten)\n",
    "print(ten_number)\n",
    "print(tenNumber)"
   ]
  },
  {
   "cell_type": "code",
   "execution_count": 33,
   "id": "9a89ecaf",
   "metadata": {},
   "outputs": [
    {
     "ename": "SyntaxError",
     "evalue": "invalid syntax (Temp/ipykernel_2124/2102209332.py, line 2)",
     "output_type": "error",
     "traceback": [
      "\u001b[1;36m  File \u001b[1;32m\"C:\\Users\\hi\\AppData\\Local\\Temp/ipykernel_2124/2102209332.py\"\u001b[1;36m, line \u001b[1;32m2\u001b[0m\n\u001b[1;33m    ten* = 10\u001b[0m\n\u001b[1;37m         ^\u001b[0m\n\u001b[1;31mSyntaxError\u001b[0m\u001b[1;31m:\u001b[0m invalid syntax\n"
     ]
    }
   ],
   "source": [
    "#no special char is not allowed\n",
    "ten* = 10"
   ]
  },
  {
   "cell_type": "code",
   "execution_count": 34,
   "id": "e18ec236",
   "metadata": {},
   "outputs": [
    {
     "ename": "SyntaxError",
     "evalue": "invalid syntax (Temp/ipykernel_2124/1982081111.py, line 1)",
     "output_type": "error",
     "traceback": [
      "\u001b[1;36m  File \u001b[1;32m\"C:\\Users\\hi\\AppData\\Local\\Temp/ipykernel_2124/1982081111.py\"\u001b[1;36m, line \u001b[1;32m1\u001b[0m\n\u001b[1;33m    ten$ = 10\u001b[0m\n\u001b[1;37m       ^\u001b[0m\n\u001b[1;31mSyntaxError\u001b[0m\u001b[1;31m:\u001b[0m invalid syntax\n"
     ]
    }
   ],
   "source": [
    "ten$ = 10"
   ]
  },
  {
   "cell_type": "code",
   "execution_count": 37,
   "id": "664dae08",
   "metadata": {},
   "outputs": [
    {
     "name": "stdout",
     "output_type": "stream",
     "text": [
      "10\n"
     ]
    }
   ],
   "source": [
    "#varable names can have number by not as the first character\n",
    "\n",
    "ten10 = 10\n",
    "print(ten10)"
   ]
  },
  {
   "cell_type": "code",
   "execution_count": 38,
   "id": "16785559",
   "metadata": {},
   "outputs": [
    {
     "ename": "SyntaxError",
     "evalue": "invalid syntax (Temp/ipykernel_2124/3011706180.py, line 1)",
     "output_type": "error",
     "traceback": [
      "\u001b[1;36m  File \u001b[1;32m\"C:\\Users\\hi\\AppData\\Local\\Temp/ipykernel_2124/3011706180.py\"\u001b[1;36m, line \u001b[1;32m1\u001b[0m\n\u001b[1;33m    10ten = 10\u001b[0m\n\u001b[1;37m      ^\u001b[0m\n\u001b[1;31mSyntaxError\u001b[0m\u001b[1;31m:\u001b[0m invalid syntax\n"
     ]
    }
   ],
   "source": [
    "10ten = 10"
   ]
  },
  {
   "cell_type": "code",
   "execution_count": 41,
   "id": "cc9b1056",
   "metadata": {},
   "outputs": [
    {
     "name": "stdout",
     "output_type": "stream",
     "text": [
      "10\n"
     ]
    }
   ],
   "source": [
    "# '_' can be allowed and the variables starting with '_' are called as hidden variables. These type of variables are used\n",
    "#internal use case\n",
    "_num = 10\n",
    "print(_num)"
   ]
  },
  {
   "cell_type": "code",
   "execution_count": 42,
   "id": "1d36897b",
   "metadata": {},
   "outputs": [],
   "source": [
    "Ten = 10"
   ]
  },
  {
   "cell_type": "code",
   "execution_count": 43,
   "id": "3b867cdb",
   "metadata": {},
   "outputs": [
    {
     "ename": "SyntaxError",
     "evalue": "invalid syntax (Temp/ipykernel_2124/2336307459.py, line 1)",
     "output_type": "error",
     "traceback": [
      "\u001b[1;36m  File \u001b[1;32m\"C:\\Users\\hi\\AppData\\Local\\Temp/ipykernel_2124/2336307459.py\"\u001b[1;36m, line \u001b[1;32m1\u001b[0m\n\u001b[1;33m    ten number=10\u001b[0m\n\u001b[1;37m        ^\u001b[0m\n\u001b[1;31mSyntaxError\u001b[0m\u001b[1;31m:\u001b[0m invalid syntax\n"
     ]
    }
   ],
   "source": [
    "ten number=10"
   ]
  },
  {
   "cell_type": "code",
   "execution_count": 45,
   "id": "418c3453",
   "metadata": {},
   "outputs": [
    {
     "name": "stdout",
     "output_type": "stream",
     "text": [
      "10\n"
     ]
    }
   ],
   "source": [
    "ten_number=10\n",
    "print(ten_number)"
   ]
  },
  {
   "cell_type": "code",
   "execution_count": 46,
   "id": "2647410d",
   "metadata": {},
   "outputs": [
    {
     "name": "stdout",
     "output_type": "stream",
     "text": [
      "10\n"
     ]
    }
   ],
   "source": [
    "#Dummy variable, you want to use it any output\n",
    "_=10\n",
    "print(_)"
   ]
  },
  {
   "cell_type": "markdown",
   "id": "52780783",
   "metadata": {},
   "source": [
    "## Fundamental data types"
   ]
  },
  {
   "cell_type": "markdown",
   "id": "573bdb4b",
   "metadata": {},
   "source": [
    "#### Integers"
   ]
  },
  {
   "cell_type": "code",
   "execution_count": 47,
   "id": "6f001be0",
   "metadata": {},
   "outputs": [],
   "source": [
    "a=7"
   ]
  },
  {
   "cell_type": "code",
   "execution_count": 48,
   "id": "978b429c",
   "metadata": {},
   "outputs": [
    {
     "data": {
      "text/plain": [
       "int"
      ]
     },
     "execution_count": 48,
     "metadata": {},
     "output_type": "execute_result"
    }
   ],
   "source": [
    "type(a)"
   ]
  },
  {
   "cell_type": "code",
   "execution_count": 49,
   "id": "cd73032e",
   "metadata": {},
   "outputs": [
    {
     "data": {
      "text/plain": [
       "int"
      ]
     },
     "execution_count": 49,
     "metadata": {},
     "output_type": "execute_result"
    }
   ],
   "source": [
    "b=77\n",
    "type(b)"
   ]
  },
  {
   "cell_type": "markdown",
   "id": "d5f0e49d",
   "metadata": {},
   "source": [
    "#### Floats -  numbers containing decimals"
   ]
  },
  {
   "cell_type": "code",
   "execution_count": 50,
   "id": "5a7400f1",
   "metadata": {},
   "outputs": [
    {
     "data": {
      "text/plain": [
       "float"
      ]
     },
     "execution_count": 50,
     "metadata": {},
     "output_type": "execute_result"
    }
   ],
   "source": [
    "pi = 3.14\n",
    "type(pi)"
   ]
  },
  {
   "cell_type": "code",
   "execution_count": 52,
   "id": "dd7219a8",
   "metadata": {},
   "outputs": [
    {
     "name": "stdout",
     "output_type": "stream",
     "text": [
      "3.142857142857143\n"
     ]
    },
    {
     "data": {
      "text/plain": [
       "float"
      ]
     },
     "execution_count": 52,
     "metadata": {},
     "output_type": "execute_result"
    }
   ],
   "source": [
    "pi=22/7\n",
    "print(pi)\n",
    "type(pi)"
   ]
  },
  {
   "cell_type": "code",
   "execution_count": 51,
   "id": "5ca73fc8",
   "metadata": {},
   "outputs": [
    {
     "data": {
      "text/plain": [
       "float"
      ]
     },
     "execution_count": 51,
     "metadata": {},
     "output_type": "execute_result"
    }
   ],
   "source": [
    "x=2.0\n",
    "type(x)"
   ]
  },
  {
   "cell_type": "markdown",
   "id": "7e5b3036",
   "metadata": {},
   "source": [
    "#### Complex numbers - imaginary numbers"
   ]
  },
  {
   "cell_type": "code",
   "execution_count": 53,
   "id": "9b2581bb",
   "metadata": {},
   "outputs": [
    {
     "name": "stdout",
     "output_type": "stream",
     "text": [
      "(2+3j)\n"
     ]
    },
    {
     "data": {
      "text/plain": [
       "complex"
      ]
     },
     "execution_count": 53,
     "metadata": {},
     "output_type": "execute_result"
    }
   ],
   "source": [
    "a = 2+3j\n",
    "print(a)\n",
    "type(a)"
   ]
  },
  {
   "cell_type": "code",
   "execution_count": 54,
   "id": "d5b9c123",
   "metadata": {},
   "outputs": [
    {
     "data": {
      "text/plain": [
       "2.0"
      ]
     },
     "execution_count": 54,
     "metadata": {},
     "output_type": "execute_result"
    }
   ],
   "source": [
    "a.real"
   ]
  },
  {
   "cell_type": "code",
   "execution_count": 55,
   "id": "48d25beb",
   "metadata": {},
   "outputs": [
    {
     "data": {
      "text/plain": [
       "3.0"
      ]
     },
     "execution_count": 55,
     "metadata": {},
     "output_type": "execute_result"
    }
   ],
   "source": [
    "a.imag"
   ]
  },
  {
   "cell_type": "markdown",
   "id": "f0a3f9b5",
   "metadata": {},
   "source": [
    "#### Strings"
   ]
  },
  {
   "cell_type": "code",
   "execution_count": 62,
   "id": "9e4de9f1",
   "metadata": {},
   "outputs": [
    {
     "data": {
      "text/plain": [
       "str"
      ]
     },
     "execution_count": 62,
     "metadata": {},
     "output_type": "execute_result"
    }
   ],
   "source": [
    "b = 'Priya Mora'\n",
    "type(a)"
   ]
  },
  {
   "cell_type": "markdown",
   "id": "984faff6",
   "metadata": {},
   "source": [
    "### Dynamic typing"
   ]
  },
  {
   "cell_type": "code",
   "execution_count": 59,
   "id": "dfe5db46",
   "metadata": {},
   "outputs": [
    {
     "name": "stdout",
     "output_type": "stream",
     "text": [
      "<class 'int'>\n",
      "<class 'float'>\n",
      "<class 'str'>\n"
     ]
    }
   ],
   "source": [
    "#here type of one variable (which is a) is changing based on the value we assign to it--> this is called dynamic typing\n",
    "a = 22\n",
    "print(type(a))\n",
    "a = 22.2\n",
    "print(type(a))\n",
    "a = \"Priya\"\n",
    "print(type(a))"
   ]
  },
  {
   "cell_type": "code",
   "execution_count": 60,
   "id": "034d02a4",
   "metadata": {},
   "outputs": [
    {
     "name": "stdout",
     "output_type": "stream",
     "text": [
      "Priya\n"
     ]
    }
   ],
   "source": [
    "print(a)"
   ]
  },
  {
   "cell_type": "markdown",
   "id": "12cc9fbf",
   "metadata": {},
   "source": [
    "### Strong typing\n",
    "\n",
    "- we can combine varibles of same data type, but not the different one's"
   ]
  },
  {
   "cell_type": "code",
   "execution_count": 64,
   "id": "9f2a6e8e",
   "metadata": {},
   "outputs": [
    {
     "ename": "TypeError",
     "evalue": "can only concatenate str (not \"int\") to str",
     "output_type": "error",
     "traceback": [
      "\u001b[1;31m---------------------------------------------------------------------------\u001b[0m",
      "\u001b[1;31mTypeError\u001b[0m                                 Traceback (most recent call last)",
      "\u001b[1;32m~\\AppData\\Local\\Temp/ipykernel_2124/3036947531.py\u001b[0m in \u001b[0;36m<module>\u001b[1;34m\u001b[0m\n\u001b[0;32m      1\u001b[0m \u001b[1;31m#we can't combine different data types, they needs to be same\u001b[0m\u001b[1;33m\u001b[0m\u001b[1;33m\u001b[0m\u001b[0m\n\u001b[1;32m----> 2\u001b[1;33m \u001b[1;34m\"Day\"\u001b[0m\u001b[1;33m+\u001b[0m\u001b[1;36m1\u001b[0m\u001b[1;33m\u001b[0m\u001b[1;33m\u001b[0m\u001b[0m\n\u001b[0m",
      "\u001b[1;31mTypeError\u001b[0m: can only concatenate str (not \"int\") to str"
     ]
    }
   ],
   "source": [
    "#we can't combine different data types, they needs to be same\n",
    "\"Day\"+1"
   ]
  },
  {
   "cell_type": "code",
   "execution_count": 65,
   "id": "c39fc97a",
   "metadata": {},
   "outputs": [
    {
     "data": {
      "text/plain": [
       "'Day1'"
      ]
     },
     "execution_count": 65,
     "metadata": {},
     "output_type": "execute_result"
    }
   ],
   "source": [
    "\"Day\"+\"1\""
   ]
  },
  {
   "cell_type": "code",
   "execution_count": 66,
   "id": "d461d0bd",
   "metadata": {},
   "outputs": [
    {
     "data": {
      "text/plain": [
       "'2222'"
      ]
     },
     "execution_count": 66,
     "metadata": {},
     "output_type": "execute_result"
    }
   ],
   "source": [
    "\"22\"+\"22\""
   ]
  },
  {
   "cell_type": "code",
   "execution_count": 68,
   "id": "d43c86dc",
   "metadata": {},
   "outputs": [
    {
     "data": {
      "text/plain": [
       "44"
      ]
     },
     "execution_count": 68,
     "metadata": {},
     "output_type": "execute_result"
    }
   ],
   "source": [
    "22+22"
   ]
  },
  {
   "cell_type": "code",
   "execution_count": 69,
   "id": "defc2885",
   "metadata": {},
   "outputs": [
    {
     "ename": "TypeError",
     "evalue": "can only concatenate str (not \"int\") to str",
     "output_type": "error",
     "traceback": [
      "\u001b[1;31m---------------------------------------------------------------------------\u001b[0m",
      "\u001b[1;31mTypeError\u001b[0m                                 Traceback (most recent call last)",
      "\u001b[1;32m~\\AppData\\Local\\Temp/ipykernel_2124/2953178879.py\u001b[0m in \u001b[0;36m<module>\u001b[1;34m\u001b[0m\n\u001b[1;32m----> 1\u001b[1;33m \u001b[1;34m'22'\u001b[0m\u001b[1;33m+\u001b[0m\u001b[1;36m22\u001b[0m\u001b[1;33m\u001b[0m\u001b[1;33m\u001b[0m\u001b[0m\n\u001b[0m",
      "\u001b[1;31mTypeError\u001b[0m: can only concatenate str (not \"int\") to str"
     ]
    }
   ],
   "source": [
    "'22'+22"
   ]
  },
  {
   "cell_type": "code",
   "execution_count": 70,
   "id": "c5986ea1",
   "metadata": {},
   "outputs": [
    {
     "data": {
      "text/plain": [
       "23.5"
      ]
     },
     "execution_count": 70,
     "metadata": {},
     "output_type": "execute_result"
    }
   ],
   "source": [
    "22+1.5"
   ]
  },
  {
   "cell_type": "code",
   "execution_count": 67,
   "id": "3c8ecac4",
   "metadata": {},
   "outputs": [
    {
     "data": {
      "text/plain": [
       "'Priya Mora'"
      ]
     },
     "execution_count": 67,
     "metadata": {},
     "output_type": "execute_result"
    }
   ],
   "source": [
    "'Priya'+' Mora'"
   ]
  },
  {
   "cell_type": "code",
   "execution_count": 71,
   "id": "3c76116b",
   "metadata": {},
   "outputs": [],
   "source": [
    "a = 1 #int\n",
    "b = 1.2 #float\n",
    "c = 'Priya' #Sring\n",
    "d = 1+2j  #complex"
   ]
  },
  {
   "cell_type": "code",
   "execution_count": 72,
   "id": "c4d766fb",
   "metadata": {},
   "outputs": [
    {
     "name": "stdout",
     "output_type": "stream",
     "text": [
      "Hi welcome to class of python language\n"
     ]
    }
   ],
   "source": [
    "print('Hi welcome to class of python language')"
   ]
  },
  {
   "cell_type": "code",
   "execution_count": 76,
   "id": "44c888ca",
   "metadata": {},
   "outputs": [
    {
     "name": "stdout",
     "output_type": "stream",
     "text": [
      "Hi welcome to class of Python language\n"
     ]
    }
   ],
   "source": [
    "language = 'Python'\n",
    "print('Hi welcome to class of '+language+ ' language')"
   ]
  },
  {
   "cell_type": "code",
   "execution_count": 77,
   "id": "5e198e01",
   "metadata": {},
   "outputs": [
    {
     "name": "stdout",
     "output_type": "stream",
     "text": [
      "Hi welcome to class of Java language\n"
     ]
    }
   ],
   "source": [
    "language = 'Java'\n",
    "print('Hi welcome to class of '+language+ ' language')"
   ]
  },
  {
   "cell_type": "code",
   "execution_count": 78,
   "id": "44a4c2cd",
   "metadata": {},
   "outputs": [
    {
     "name": "stdout",
     "output_type": "stream",
     "text": [
      "Hi welcome to class of Python language\n"
     ]
    }
   ],
   "source": [
    "# f --> here is the formated string\n",
    "#Standar opporach used in python\n",
    "language = 'Python'\n",
    "print(f\"Hi welcome to class of {language} language\")"
   ]
  },
  {
   "cell_type": "code",
   "execution_count": 80,
   "id": "dcd68663",
   "metadata": {},
   "outputs": [
    {
     "name": "stdout",
     "output_type": "stream",
     "text": [
      "Hi welcome to class of Python language\n"
     ]
    }
   ],
   "source": [
    "language = 'Python'\n",
    "print('Hi welcome to class of {} language'.format(language))"
   ]
  },
  {
   "cell_type": "code",
   "execution_count": 81,
   "id": "26cb7c20",
   "metadata": {},
   "outputs": [
    {
     "name": "stdout",
     "output_type": "stream",
     "text": [
      "Today is the first class of Python language\n"
     ]
    }
   ],
   "source": [
    "num = 'first'\n",
    "language = 'Python'\n",
    "print(\"Today is the {} class of {} language\".format(num,language) )"
   ]
  },
  {
   "cell_type": "code",
   "execution_count": 82,
   "id": "7c48b90a",
   "metadata": {},
   "outputs": [
    {
     "name": "stdout",
     "output_type": "stream",
     "text": [
      "Today is the first class of Python language\n"
     ]
    }
   ],
   "source": [
    "num = 'first'\n",
    "language = 'Python'\n",
    "print(f\"Today is the {num} class of {language} language\" )"
   ]
  },
  {
   "cell_type": "code",
   "execution_count": 84,
   "id": "40831f6b",
   "metadata": {},
   "outputs": [
    {
     "name": "stdout",
     "output_type": "stream",
     "text": [
      "The result sum of two numbers a:22, b:34 is 56\n"
     ]
    }
   ],
   "source": [
    "a = 22\n",
    "b = 34\n",
    "c = a+b\n",
    "print(f'The result sum of two numbers a:{a}, b:{b} is {c}')"
   ]
  },
  {
   "cell_type": "markdown",
   "id": "1ac5af13",
   "metadata": {},
   "source": [
    "### Boolean data types"
   ]
  },
  {
   "cell_type": "code",
   "execution_count": 85,
   "id": "b6c38663",
   "metadata": {},
   "outputs": [
    {
     "name": "stdout",
     "output_type": "stream",
     "text": [
      "<class 'bool'>\n",
      "<class 'bool'>\n"
     ]
    }
   ],
   "source": [
    "one = True\n",
    "two = False\n",
    "print(type(one))\n",
    "print(type(two))"
   ]
  },
  {
   "cell_type": "code",
   "execution_count": 88,
   "id": "b9e40906",
   "metadata": {},
   "outputs": [
    {
     "name": "stdout",
     "output_type": "stream",
     "text": [
      "You understood everything?: False\n"
     ]
    }
   ],
   "source": [
    "class_starts_at = 1500\n",
    "you_came_at = 1600\n",
    "you_understood_all_concepts = you_came_at < class_starts_at\n",
    "\n",
    "print(f'You understood everything?: {you_understood_all_concepts}')"
   ]
  },
  {
   "cell_type": "code",
   "execution_count": 90,
   "id": "3bd2b6d6",
   "metadata": {},
   "outputs": [
    {
     "name": "stdout",
     "output_type": "stream",
     "text": [
      "You understood everything?: True\n"
     ]
    }
   ],
   "source": [
    "class_starts_at = 3\n",
    "you_came_at = 2\n",
    "you_understood_all_concepts = you_came_at < class_starts_at\n",
    "\n",
    "print(f'You understood everything?: {you_understood_all_concepts}')"
   ]
  },
  {
   "cell_type": "code",
   "execution_count": 91,
   "id": "476a646f",
   "metadata": {},
   "outputs": [
    {
     "name": "stdout",
     "output_type": "stream",
     "text": [
      "You understood everything?: False\n"
     ]
    }
   ],
   "source": [
    "class_starts_at = 3\n",
    "you_came_at = 4\n",
    "you_understood_all_concepts = you_came_at < class_starts_at\n",
    "\n",
    "print(f'You understood everything?: {you_understood_all_concepts}')"
   ]
  },
  {
   "cell_type": "code",
   "execution_count": 92,
   "id": "f47f4c36",
   "metadata": {},
   "outputs": [
    {
     "name": "stdout",
     "output_type": "stream",
     "text": [
      "will you got to college?: False\n"
     ]
    }
   ],
   "source": [
    "is_raining = True\n",
    "print(f'will you got to college?: {not(is_raining)}')"
   ]
  },
  {
   "cell_type": "code",
   "execution_count": null,
   "id": "e6cb5e97",
   "metadata": {},
   "outputs": [],
   "source": []
  }
 ],
 "metadata": {
  "kernelspec": {
   "display_name": "Python 3 (ipykernel)",
   "language": "python",
   "name": "python3"
  },
  "language_info": {
   "codemirror_mode": {
    "name": "ipython",
    "version": 3
   },
   "file_extension": ".py",
   "mimetype": "text/x-python",
   "name": "python",
   "nbconvert_exporter": "python",
   "pygments_lexer": "ipython3",
   "version": "3.9.12"
  }
 },
 "nbformat": 4,
 "nbformat_minor": 5
}
