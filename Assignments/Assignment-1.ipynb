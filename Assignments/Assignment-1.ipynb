{
 "cells": [
  {
   "cell_type": "markdown",
   "id": "d5d3756c",
   "metadata": {},
   "source": [
    "1. In the below elements which of them are values or an expression? eg:- values can be\n",
    "integer or string and expressions will be mathematical operators.\n",
    "*\n",
    "&#39;hello&#39;\n",
    "-87.8\n",
    "-\n",
    "/\n",
    "+\n",
    "6"
   ]
  },
  {
   "cell_type": "markdown",
   "id": "638c9ca8",
   "metadata": {},
   "source": [
    "- values: 'hello', -87.8, 6\n",
    "- Expression: *, -, /, +"
   ]
  },
  {
   "cell_type": "markdown",
   "id": "1fcd96ee",
   "metadata": {},
   "source": [
    "2. What is the difference between string and variable?\n",
    "\n",
    "- String: String is a collection of alphabets or words or other characters, it is one of the premitive data structures and building blocks of data manupulation.  \n",
    "- Variables: variables are the containers helps us to store the data while writing a programe, variable is a name that can refer any value"
   ]
  },
  {
   "cell_type": "markdown",
   "id": "6ec3b307",
   "metadata": {},
   "source": [
    "3. Describe three different data types.\n",
    "- Numeric : Numeric data type represents the which has numeric value. Eg: integer, float, complex numbers\n",
    "- Sequence type: Sequence is the ordered collection of similar or different data types. Sequence allows us to store multiple values in an organised and efficient way. Eg: String, list, tuple\n",
    "- Boolean: The data type with on of the 2 built in values 'True'/ 'False'. The boolean objects which are True are thruthy and those equal to False are false.  But non-Boolean objects can be evaluated in Boolean context as well and determined to be true or false. It is denoted by the class bool.\n",
    "- Set\n",
    "- Dictionary"
   ]
  },
  {
   "cell_type": "markdown",
   "id": "209cb0ea",
   "metadata": {},
   "source": [
    "3. What is an expression made up of? What do all expressions do?\n",
    "An expression is a combination of operands and operators the are intererpreted to produce some other value. In any programming language and expression is evaluated as the procedure of it's operators"
   ]
  },
  {
   "cell_type": "code",
   "execution_count": null,
   "id": "d0da878a",
   "metadata": {},
   "outputs": [],
   "source": []
  }
 ],
 "metadata": {
  "kernelspec": {
   "display_name": "Python 3 (ipykernel)",
   "language": "python",
   "name": "python3"
  },
  "language_info": {
   "codemirror_mode": {
    "name": "ipython",
    "version": 3
   },
   "file_extension": ".py",
   "mimetype": "text/x-python",
   "name": "python",
   "nbconvert_exporter": "python",
   "pygments_lexer": "ipython3",
   "version": "3.9.12"
  }
 },
 "nbformat": 4,
 "nbformat_minor": 5
}
