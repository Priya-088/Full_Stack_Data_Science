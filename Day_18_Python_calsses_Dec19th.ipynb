{
 "cells": [
  {
   "cell_type": "code",
   "execution_count": 1,
   "id": "7392df1f",
   "metadata": {},
   "outputs": [],
   "source": [
    "class Car:\n",
    "    pass"
   ]
  },
  {
   "cell_type": "code",
   "execution_count": 2,
   "id": "7ebe62cc",
   "metadata": {},
   "outputs": [],
   "source": [
    "audi=Car()"
   ]
  },
  {
   "cell_type": "code",
   "execution_count": 3,
   "id": "00daa88c",
   "metadata": {},
   "outputs": [],
   "source": [
    "audi.milage=10\n",
    "audi.year=2005\n",
    "audi.model='abc'\n",
    "audi.make=345"
   ]
  },
  {
   "cell_type": "code",
   "execution_count": 4,
   "id": "37bde8b1",
   "metadata": {},
   "outputs": [
    {
     "data": {
      "text/plain": [
       "345"
      ]
     },
     "execution_count": 4,
     "metadata": {},
     "output_type": "execute_result"
    }
   ],
   "source": [
    "audi.make"
   ]
  },
  {
   "cell_type": "code",
   "execution_count": 5,
   "id": "04cfcfa6",
   "metadata": {},
   "outputs": [
    {
     "data": {
      "text/plain": [
       "'abc'"
      ]
     },
     "execution_count": 5,
     "metadata": {},
     "output_type": "execute_result"
    }
   ],
   "source": [
    "audi.model"
   ]
  },
  {
   "cell_type": "code",
   "execution_count": 6,
   "id": "86d3d4f4",
   "metadata": {},
   "outputs": [],
   "source": [
    "nano=Car()"
   ]
  },
  {
   "cell_type": "code",
   "execution_count": 7,
   "id": "68d9ab85",
   "metadata": {},
   "outputs": [],
   "source": [
    "nano.milage=67\n",
    "nano.year=2007\n",
    "audi.model='xyz'\n",
    "audi.make=67"
   ]
  },
  {
   "cell_type": "markdown",
   "id": "08469f86",
   "metadata": {},
   "source": [
    "#### Self is a pointer "
   ]
  },
  {
   "cell_type": "code",
   "execution_count": 10,
   "id": "cf3ca038",
   "metadata": {},
   "outputs": [],
   "source": [
    "class Car:\n",
    "    def __init__(self,milage,year,make,model):\n",
    "        self.milage=milage  #self is a pointer\n",
    "        self.year=year\n",
    "        self.make=make\n",
    "        self.model=model"
   ]
  },
  {
   "cell_type": "code",
   "execution_count": 11,
   "id": "23a99897",
   "metadata": {},
   "outputs": [],
   "source": [
    "nano1 = Car(10,2009,45,'jbdje')"
   ]
  },
  {
   "cell_type": "code",
   "execution_count": 12,
   "id": "a6329a07",
   "metadata": {},
   "outputs": [
    {
     "ename": "TypeError",
     "evalue": "__init__() missing 1 required positional argument: 'model'",
     "output_type": "error",
     "traceback": [
      "\u001b[1;31m---------------------------------------------------------------------------\u001b[0m",
      "\u001b[1;31mTypeError\u001b[0m                                 Traceback (most recent call last)",
      "\u001b[1;32m~\\AppData\\Local\\Temp/ipykernel_11004/3559830394.py\u001b[0m in \u001b[0;36m<module>\u001b[1;34m\u001b[0m\n\u001b[1;32m----> 1\u001b[1;33m \u001b[0mnano\u001b[0m \u001b[1;33m=\u001b[0m \u001b[0mCar\u001b[0m\u001b[1;33m(\u001b[0m\u001b[1;36m10\u001b[0m\u001b[1;33m,\u001b[0m\u001b[1;36m2009\u001b[0m\u001b[1;33m,\u001b[0m\u001b[1;34m'jbdje'\u001b[0m\u001b[1;33m)\u001b[0m\u001b[1;33m\u001b[0m\u001b[1;33m\u001b[0m\u001b[0m\n\u001b[0m",
      "\u001b[1;31mTypeError\u001b[0m: __init__() missing 1 required positional argument: 'model'"
     ]
    }
   ],
   "source": [
    "nano = Car(10,2009,'jbdje')"
   ]
  },
  {
   "cell_type": "code",
   "execution_count": 13,
   "id": "c1e91288",
   "metadata": {},
   "outputs": [],
   "source": [
    "nano1 = Car(10,2009,45,'jbdje') #here self is associated with nano1\n",
    "nano2 = Car(10,2009,45,'jbdje') #here self is associated with nano2\n",
    "nano3 = Car(10,2009,45,'jbdje')\n",
    "nano4 = Car(10,2009,45,'jbdje')"
   ]
  },
  {
   "cell_type": "code",
   "execution_count": 19,
   "id": "421d15a2",
   "metadata": {},
   "outputs": [],
   "source": [
    "class Car:\n",
    "    def __init__(a,m,y,ma,mo):\n",
    "        a.milage=m  #self is a pointer\n",
    "        a.year=y\n",
    "        a.make=ma\n",
    "        a.model=mo\n",
    "    \n",
    "    def age(b,current_year):\n",
    "        return current_year-b.year\n",
    "    def milage1(self):\n",
    "        print(\"Print a milage of the car\",self.milage)"
   ]
  },
  {
   "cell_type": "code",
   "execution_count": 20,
   "id": "46f25a3a",
   "metadata": {},
   "outputs": [],
   "source": [
    "nano23 = Car(10,2009,45,'nano23')"
   ]
  },
  {
   "cell_type": "code",
   "execution_count": 21,
   "id": "9afb4de1",
   "metadata": {},
   "outputs": [
    {
     "data": {
      "text/plain": [
       "11"
      ]
     },
     "execution_count": 21,
     "metadata": {},
     "output_type": "execute_result"
    }
   ],
   "source": [
    "nano23.age(2020)"
   ]
  },
  {
   "cell_type": "code",
   "execution_count": 24,
   "id": "61dced1c",
   "metadata": {},
   "outputs": [
    {
     "name": "stdout",
     "output_type": "stream",
     "text": [
      "Print a milage of the car 10\n"
     ]
    }
   ],
   "source": [
    "nano23.milage1()"
   ]
  },
  {
   "cell_type": "code",
   "execution_count": 25,
   "id": "a71247e1",
   "metadata": {},
   "outputs": [
    {
     "name": "stdout",
     "output_type": "stream",
     "text": [
      "<__main__.Car object at 0x00000212095F72E0>\n"
     ]
    }
   ],
   "source": [
    "print(nano23)"
   ]
  },
  {
   "cell_type": "code",
   "execution_count": 26,
   "id": "fddab5b3",
   "metadata": {},
   "outputs": [],
   "source": [
    "class Car:\n",
    "    def __init__(a,m,y,ma,mo):\n",
    "        a.milage=m  #self is a pointer\n",
    "        a.year=y\n",
    "        a.make=ma\n",
    "        a.model=mo\n",
    "    \n",
    "    def age(b,current_year):\n",
    "        return current_year-b.year\n",
    "    def milage1(self):\n",
    "        print(\"Print a milage of the car\",self.milage)\n",
    "        \n",
    "    def __str__(c): ##to print a text when we call this method\n",
    "        return 'this is from class i have created'"
   ]
  },
  {
   "cell_type": "code",
   "execution_count": 27,
   "id": "d8ab24bc",
   "metadata": {},
   "outputs": [],
   "source": [
    "nano23 = Car(10,2009,45,'nano23')"
   ]
  },
  {
   "cell_type": "code",
   "execution_count": 28,
   "id": "22b36e83",
   "metadata": {},
   "outputs": [
    {
     "name": "stdout",
     "output_type": "stream",
     "text": [
      "this is from class i have created\n"
     ]
    }
   ],
   "source": [
    "print(nano23)"
   ]
  },
  {
   "cell_type": "code",
   "execution_count": 29,
   "id": "6cd485fd",
   "metadata": {},
   "outputs": [],
   "source": [
    "class Person:\n",
    "    def __init__(self, first_name,last_name,age):\n",
    "        self.first_name=first_name\n",
    "        self.last_name=last_name\n",
    "        self.age=age"
   ]
  },
  {
   "cell_type": "code",
   "execution_count": 30,
   "id": "6e36499d",
   "metadata": {},
   "outputs": [],
   "source": [
    "person = Person('priya','mora',26)"
   ]
  },
  {
   "cell_type": "code",
   "execution_count": 31,
   "id": "21007d61",
   "metadata": {},
   "outputs": [
    {
     "name": "stdout",
     "output_type": "stream",
     "text": [
      "<__main__.Person object at 0x00000212095F7940>\n"
     ]
    }
   ],
   "source": [
    "print(person)"
   ]
  },
  {
   "cell_type": "code",
   "execution_count": 34,
   "id": "32da7403",
   "metadata": {},
   "outputs": [],
   "source": [
    "class Person:\n",
    "    def __init__(self, first_name,last_name,age):\n",
    "        self.first_name=first_name\n",
    "        self.last_name=last_name\n",
    "        self.age=age\n",
    "    \n",
    "    def __str__(self): #to show customised message while print the class\n",
    "        return 'This is the person method'"
   ]
  },
  {
   "cell_type": "code",
   "execution_count": 35,
   "id": "729a8c3c",
   "metadata": {},
   "outputs": [
    {
     "name": "stdout",
     "output_type": "stream",
     "text": [
      "This is the person method\n"
     ]
    }
   ],
   "source": [
    "person1 = Person('priya','mora',26)\n",
    "print(person1)"
   ]
  },
  {
   "cell_type": "code",
   "execution_count": 40,
   "id": "18aee408",
   "metadata": {},
   "outputs": [],
   "source": [
    "class Student:\n",
    "    def __init__(self,name,rollno,joining_date,current_topic):\n",
    "        self.name=name\n",
    "        self.rollno=rollno\n",
    "        self.joining_date=joining_date\n",
    "        self.current_topic=current_topic\n",
    "        \n",
    "    def cur_topic(self):\n",
    "        print('current topic discussed in class is ', self.current_topic)\n",
    "        \n",
    "    def str_rollno(self):\n",
    "        try:\n",
    "            if type(self.rollno)==str:\n",
    "                print('do nothing')\n",
    "            else:\n",
    "                return str(self.rollno)\n",
    "        except Exception as e:\n",
    "            print('this is my error message ',e)\n",
    "            \n",
    "    def duration(self,current_date):\n",
    "        print('duration of student in my class is ',current_date-self.joining_date)\n",
    "        \n",
    "    def __str__(self):\n",
    "        return 'this is student class'"
   ]
  },
  {
   "cell_type": "code",
   "execution_count": 41,
   "id": "9b1e6e92",
   "metadata": {},
   "outputs": [],
   "source": [
    "s1 = Student('priya',45,2007,'data science')"
   ]
  },
  {
   "cell_type": "code",
   "execution_count": 42,
   "id": "99132f1e",
   "metadata": {},
   "outputs": [
    {
     "name": "stdout",
     "output_type": "stream",
     "text": [
      "this is student class\n"
     ]
    }
   ],
   "source": [
    "print(s1)"
   ]
  },
  {
   "cell_type": "code",
   "execution_count": 43,
   "id": "5898c4af",
   "metadata": {},
   "outputs": [
    {
     "name": "stdout",
     "output_type": "stream",
     "text": [
      "duration of student in my class is  1\n"
     ]
    }
   ],
   "source": [
    "s1.duration(2008)"
   ]
  },
  {
   "cell_type": "code",
   "execution_count": 45,
   "id": "4003460d",
   "metadata": {},
   "outputs": [
    {
     "data": {
      "text/plain": [
       "'45'"
      ]
     },
     "execution_count": 45,
     "metadata": {},
     "output_type": "execute_result"
    }
   ],
   "source": [
    "s1.str_rollno()"
   ]
  },
  {
   "cell_type": "code",
   "execution_count": 49,
   "id": "96d7b588",
   "metadata": {},
   "outputs": [],
   "source": [
    "#try create a class called calculator\n",
    "#parametirised constructor\n",
    "class Calculator:\n",
    "    \n",
    "    def __init__(self,input1,input2): #parametirised constructor\n",
    "        self.input1 = input1\n",
    "        self.input2 = input2\n",
    "        \n",
    "    def add(d):\n",
    "        return d.input1+d.input2\n",
    "    def sub(d):\n",
    "        return d.input1-d.input2\n",
    "    def mul(d):\n",
    "        return d.input1*d.input2\n",
    "    def div(d):\n",
    "        return d.input1/d.input2\n",
    "        "
   ]
  },
  {
   "cell_type": "code",
   "execution_count": 50,
   "id": "c021df89",
   "metadata": {},
   "outputs": [],
   "source": [
    "c1 = Calculator(3,4)"
   ]
  },
  {
   "cell_type": "code",
   "execution_count": 51,
   "id": "b1c32fb6",
   "metadata": {},
   "outputs": [
    {
     "data": {
      "text/plain": [
       "7"
      ]
     },
     "execution_count": 51,
     "metadata": {},
     "output_type": "execute_result"
    }
   ],
   "source": [
    "c1.add()"
   ]
  },
  {
   "cell_type": "markdown",
   "id": "df5da2f3",
   "metadata": {},
   "source": [
    "## constructor"
   ]
  },
  {
   "cell_type": "code",
   "execution_count": 52,
   "id": "21457614",
   "metadata": {},
   "outputs": [],
   "source": [
    "#here python is creating a default constructor\n",
    "class Student:\n",
    "    def who(self):\n",
    "        print('iam a student')"
   ]
  },
  {
   "cell_type": "code",
   "execution_count": 53,
   "id": "17a56dfd",
   "metadata": {},
   "outputs": [],
   "source": [
    "s1=Student()"
   ]
  },
  {
   "cell_type": "code",
   "execution_count": 54,
   "id": "a19a6043",
   "metadata": {},
   "outputs": [
    {
     "name": "stdout",
     "output_type": "stream",
     "text": [
      "iam a student\n"
     ]
    }
   ],
   "source": [
    "s1.who()"
   ]
  },
  {
   "cell_type": "code",
   "execution_count": 57,
   "id": "5c78bd95",
   "metadata": {},
   "outputs": [],
   "source": [
    "#Non parametirised constructor\n",
    "class Company:\n",
    "    \n",
    "    def __init__(self): ##Non parametirised constructor\n",
    "        self.name='ineuron'\n",
    "        self.address='Banglore'\n",
    "        \n",
    "    def show(self):\n",
    "        print('name ',self.name,'address ',self.address)"
   ]
  },
  {
   "cell_type": "code",
   "execution_count": 58,
   "id": "aa37ab3d",
   "metadata": {},
   "outputs": [],
   "source": [
    "cmp = Company()"
   ]
  },
  {
   "cell_type": "code",
   "execution_count": 59,
   "id": "87788f81",
   "metadata": {},
   "outputs": [
    {
     "data": {
      "text/plain": [
       "'Banglore'"
      ]
     },
     "execution_count": 59,
     "metadata": {},
     "output_type": "execute_result"
    }
   ],
   "source": [
    "cmp.address"
   ]
  },
  {
   "cell_type": "markdown",
   "id": "b9aa0ff7",
   "metadata": {},
   "source": [
    "## Encapsulation\n",
    "\n",
    "Encapsulation is used to bundle attributes and methods in to single units (grouping attributes and methods)\n",
    "\n",
    "- we can hide the variables (using modifiers)\n",
    "\n",
    "- _project = procat (protect variable we can access with in class and sub class\n",
    "\n",
    "- __project = procat (private variable can we access with in the class only)\n",
    "\n",
    "- we can't updated the private or protected variables"
   ]
  },
  {
   "cell_type": "code",
   "execution_count": 66,
   "id": "62ef7ad7",
   "metadata": {},
   "outputs": [],
   "source": [
    "class Pub_mod:\n",
    "    \n",
    "    def __init__(self,name,age):\n",
    "        self.name=name\n",
    "        self.age=age\n",
    "        \n",
    "    def age(self):\n",
    "        print('age ',self.age)\n",
    "        \n",
    "        "
   ]
  },
  {
   "cell_type": "code",
   "execution_count": 67,
   "id": "bfed4f4d",
   "metadata": {},
   "outputs": [],
   "source": [
    "c1 = Pub_mod('priya',26)"
   ]
  },
  {
   "cell_type": "code",
   "execution_count": 68,
   "id": "78b39294",
   "metadata": {},
   "outputs": [
    {
     "data": {
      "text/plain": [
       "26"
      ]
     },
     "execution_count": 68,
     "metadata": {},
     "output_type": "execute_result"
    }
   ],
   "source": [
    "c1.age"
   ]
  },
  {
   "cell_type": "code",
   "execution_count": 72,
   "id": "b09b5cdb",
   "metadata": {},
   "outputs": [],
   "source": [
    "class Pub_mod:\n",
    "    \n",
    "    def __init__(self,name,age):\n",
    "        self._name=name  #protected variable\n",
    "        self.age=age\n",
    "        \n",
    "    def age1(self):\n",
    "        print('age ',self.age)\n",
    "        \n",
    "        "
   ]
  },
  {
   "cell_type": "code",
   "execution_count": 73,
   "id": "07cbb752",
   "metadata": {},
   "outputs": [],
   "source": [
    "c2 = Pub_mod('priya',26)"
   ]
  },
  {
   "cell_type": "code",
   "execution_count": 74,
   "id": "e805624e",
   "metadata": {},
   "outputs": [
    {
     "name": "stdout",
     "output_type": "stream",
     "text": [
      "age  26\n"
     ]
    }
   ],
   "source": [
    "c2.age1()"
   ]
  },
  {
   "cell_type": "code",
   "execution_count": null,
   "id": "3d1175c7",
   "metadata": {},
   "outputs": [],
   "source": []
  },
  {
   "cell_type": "code",
   "execution_count": 76,
   "id": "670ea251",
   "metadata": {},
   "outputs": [],
   "source": [
    "#we can hide data using modifiers\n",
    "#public\n",
    "#private  (__sname='priya')\n",
    "#protected  (_sname='priya')\n",
    "\n",
    "class Rectangle:\n",
    "    __length = 0 #private variable\n",
    "    __bredth = 0\n",
    "    \n",
    "    def __init__(self):\n",
    "        self.__length=5\n",
    "        self.__bredth=3\n",
    "        \n",
    "        print(self.__length)\n",
    "        print(self.__bredth)\n",
    "    "
   ]
  },
  {
   "cell_type": "code",
   "execution_count": 77,
   "id": "8e97c4c9",
   "metadata": {},
   "outputs": [
    {
     "name": "stdout",
     "output_type": "stream",
     "text": [
      "5\n",
      "3\n"
     ]
    }
   ],
   "source": [
    "r1=Rectangle()"
   ]
  },
  {
   "cell_type": "code",
   "execution_count": null,
   "id": "adfc5b46",
   "metadata": {},
   "outputs": [],
   "source": [
    "r.  ##can't access length and bredth since these \n",
    "#are private varible and can be accessed inside a class"
   ]
  },
  {
   "cell_type": "code",
   "execution_count": 87,
   "id": "20b35368",
   "metadata": {},
   "outputs": [],
   "source": [
    "#we can hide data using modifiers\n",
    "#public\n",
    "#private  (__sname='priya')\n",
    "#protected  (_sname='priya')\n",
    "\n",
    "class Rectangle:\n",
    "    #__length = 0 #private variable\n",
    "    #__bredth = 0\n",
    "    \n",
    "    def __init__(self):\n",
    "        self.length=5\n",
    "        self.__bredth=3\n",
    "        \n",
    "        print(self.length)\n",
    "        print(self.__bredth)\n",
    "    "
   ]
  },
  {
   "cell_type": "code",
   "execution_count": 88,
   "id": "891f11a2",
   "metadata": {},
   "outputs": [
    {
     "name": "stdout",
     "output_type": "stream",
     "text": [
      "5\n",
      "3\n"
     ]
    }
   ],
   "source": [
    "r2 = Rectangle()\n"
   ]
  },
  {
   "cell_type": "code",
   "execution_count": 89,
   "id": "3fb41380",
   "metadata": {},
   "outputs": [
    {
     "data": {
      "text/plain": [
       "5"
      ]
     },
     "execution_count": 89,
     "metadata": {},
     "output_type": "execute_result"
    }
   ],
   "source": [
    "r2.length"
   ]
  },
  {
   "cell_type": "code",
   "execution_count": 90,
   "id": "bd805df0",
   "metadata": {},
   "outputs": [],
   "source": [
    "class Rectangle:\n",
    "    #__length = 0 #private variable\n",
    "    #__bredth = 0\n",
    "    \n",
    "    def __init__(self):\n",
    "        self.length=5\n",
    "        self.__bredth=3\n",
    "        \n",
    "        print(self.length)\n",
    "        print(self.__bredth)\n",
    "        \n",
    "    def show(self): #create a method to access private or protected variables\n",
    "        print('this is print private variable ',self.__bredth)"
   ]
  },
  {
   "cell_type": "code",
   "execution_count": 91,
   "id": "9e58827c",
   "metadata": {},
   "outputs": [
    {
     "name": "stdout",
     "output_type": "stream",
     "text": [
      "5\n",
      "3\n",
      "5\n"
     ]
    },
    {
     "ename": "AttributeError",
     "evalue": "'Rectangle' object has no attribute 'bredth'",
     "output_type": "error",
     "traceback": [
      "\u001b[1;31m---------------------------------------------------------------------------\u001b[0m",
      "\u001b[1;31mAttributeError\u001b[0m                            Traceback (most recent call last)",
      "\u001b[1;32m~\\AppData\\Local\\Temp/ipykernel_11004/2924388295.py\u001b[0m in \u001b[0;36m<module>\u001b[1;34m\u001b[0m\n\u001b[0;32m      1\u001b[0m \u001b[0mrect\u001b[0m \u001b[1;33m=\u001b[0m \u001b[0mRectangle\u001b[0m\u001b[1;33m(\u001b[0m\u001b[1;33m)\u001b[0m\u001b[1;33m\u001b[0m\u001b[1;33m\u001b[0m\u001b[0m\n\u001b[0;32m      2\u001b[0m \u001b[0mprint\u001b[0m\u001b[1;33m(\u001b[0m\u001b[0mrect\u001b[0m\u001b[1;33m.\u001b[0m\u001b[0mlength\u001b[0m\u001b[1;33m)\u001b[0m\u001b[1;33m\u001b[0m\u001b[1;33m\u001b[0m\u001b[0m\n\u001b[1;32m----> 3\u001b[1;33m \u001b[0mprint\u001b[0m\u001b[1;33m(\u001b[0m\u001b[0mrect\u001b[0m\u001b[1;33m.\u001b[0m\u001b[0mbredth\u001b[0m\u001b[1;33m)\u001b[0m\u001b[1;33m\u001b[0m\u001b[1;33m\u001b[0m\u001b[0m\n\u001b[0m",
      "\u001b[1;31mAttributeError\u001b[0m: 'Rectangle' object has no attribute 'bredth'"
     ]
    }
   ],
   "source": [
    "rect = Rectangle()\n",
    "print(rect.length)\n",
    "print(rect.bredth)  #private variables can't be accessed with objects"
   ]
  },
  {
   "cell_type": "code",
   "execution_count": 94,
   "id": "415ed1a8",
   "metadata": {},
   "outputs": [
    {
     "data": {
      "text/plain": [
       "3"
      ]
     },
     "execution_count": 94,
     "metadata": {},
     "output_type": "execute_result"
    }
   ],
   "source": [
    "#accessing by magling\n",
    "rect._Rectangle__bredth #syntax to access protected variable"
   ]
  },
  {
   "cell_type": "code",
   "execution_count": 95,
   "id": "697ded54",
   "metadata": {},
   "outputs": [],
   "source": [
    "class test:\n",
    "    \n",
    "    def __init__(self):\n",
    "        \n",
    "        self.a=6\n",
    "        self._b=5\n",
    "        self.__c=0\n",
    "        \n",
    "        print('public ',self.a,'protected ',self._b,'private ',self.__c)\n",
    "        "
   ]
  },
  {
   "cell_type": "code",
   "execution_count": 96,
   "id": "19c6f8ff",
   "metadata": {},
   "outputs": [
    {
     "name": "stdout",
     "output_type": "stream",
     "text": [
      "public  6 protected  5 private  0\n"
     ]
    }
   ],
   "source": [
    "t1=test()"
   ]
  },
  {
   "cell_type": "code",
   "execution_count": 97,
   "id": "8d674762",
   "metadata": {},
   "outputs": [
    {
     "ename": "AttributeError",
     "evalue": "'test' object has no attribute 'c'",
     "output_type": "error",
     "traceback": [
      "\u001b[1;31m---------------------------------------------------------------------------\u001b[0m",
      "\u001b[1;31mAttributeError\u001b[0m                            Traceback (most recent call last)",
      "\u001b[1;32m~\\AppData\\Local\\Temp/ipykernel_11004/193452050.py\u001b[0m in \u001b[0;36m<module>\u001b[1;34m\u001b[0m\n\u001b[1;32m----> 1\u001b[1;33m \u001b[0mt1\u001b[0m\u001b[1;33m.\u001b[0m\u001b[0mc\u001b[0m\u001b[1;33m\u001b[0m\u001b[1;33m\u001b[0m\u001b[0m\n\u001b[0m",
      "\u001b[1;31mAttributeError\u001b[0m: 'test' object has no attribute 'c'"
     ]
    }
   ],
   "source": [
    "t1.c"
   ]
  },
  {
   "cell_type": "code",
   "execution_count": 98,
   "id": "cd6e4ecb",
   "metadata": {},
   "outputs": [
    {
     "ename": "AttributeError",
     "evalue": "'test' object has no attribute 'b'",
     "output_type": "error",
     "traceback": [
      "\u001b[1;31m---------------------------------------------------------------------------\u001b[0m",
      "\u001b[1;31mAttributeError\u001b[0m                            Traceback (most recent call last)",
      "\u001b[1;32m~\\AppData\\Local\\Temp/ipykernel_11004/641394686.py\u001b[0m in \u001b[0;36m<module>\u001b[1;34m\u001b[0m\n\u001b[1;32m----> 1\u001b[1;33m \u001b[0mt1\u001b[0m\u001b[1;33m.\u001b[0m\u001b[0mb\u001b[0m\u001b[1;33m\u001b[0m\u001b[1;33m\u001b[0m\u001b[0m\n\u001b[0m",
      "\u001b[1;31mAttributeError\u001b[0m: 'test' object has no attribute 'b'"
     ]
    }
   ],
   "source": [
    "t1.b"
   ]
  },
  {
   "cell_type": "code",
   "execution_count": 103,
   "id": "4f7439ab",
   "metadata": {},
   "outputs": [],
   "source": [
    "#to access private and protected variable\n",
    "\n",
    "class test1:\n",
    "    \n",
    "    def __init__(self):\n",
    "        \n",
    "        self.a=6\n",
    "        self._b=5\n",
    "        self.__c=0\n",
    "        \n",
    "        print('public ',self.a,'protected ',self._b,'private ',self.__c)\n",
    "        \n",
    "    def show(self):\n",
    "        print('protected', self._b,'private ',self.__c)"
   ]
  },
  {
   "cell_type": "code",
   "execution_count": 104,
   "id": "ff0bc73a",
   "metadata": {},
   "outputs": [
    {
     "name": "stdout",
     "output_type": "stream",
     "text": [
      "public  6 protected  5 private  0\n"
     ]
    }
   ],
   "source": [
    "t2=test1()"
   ]
  },
  {
   "cell_type": "code",
   "execution_count": 105,
   "id": "696c31d2",
   "metadata": {},
   "outputs": [
    {
     "name": "stdout",
     "output_type": "stream",
     "text": [
      "protected 5 private  0\n"
     ]
    }
   ],
   "source": [
    "t2.show()"
   ]
  },
  {
   "cell_type": "code",
   "execution_count": 109,
   "id": "05d82b12",
   "metadata": {},
   "outputs": [
    {
     "data": {
      "text/plain": [
       "0"
      ]
     },
     "execution_count": 109,
     "metadata": {},
     "output_type": "execute_result"
    }
   ],
   "source": [
    "#to access private variable by name maglling\n",
    "\n",
    "t2._test1__c"
   ]
  },
  {
   "cell_type": "code",
   "execution_count": 107,
   "id": "183fbc5b",
   "metadata": {},
   "outputs": [
    {
     "data": {
      "text/plain": [
       "5"
      ]
     },
     "execution_count": 107,
     "metadata": {},
     "output_type": "execute_result"
    }
   ],
   "source": [
    "#to access protected variable\n",
    "t2._b ##accessing by name maglling"
   ]
  },
  {
   "cell_type": "code",
   "execution_count": 121,
   "id": "9eed0268",
   "metadata": {},
   "outputs": [],
   "source": [
    "#grouping the attributes and method\n",
    "\n",
    "class Tyres:\n",
    "    def __init__(self,branch,belted_bias,opt_press):\n",
    "        self.branch = branch\n",
    "        self.belted_bias = belted_bias\n",
    "        self.op_pressure = opt_press\n",
    "        \n",
    "    def __str__(self):\n",
    "        return ('Tyres: \\n \\tBranch'+self.branch+\n",
    "               \"\\n \\t Belted bias\"+ str(self.belted_bias)+\n",
    "                '\\n \\t Optical pressure'+str(self.opt_pressure)) \n",
    "    \n",
    "class Engine:\n",
    "    def __init__(self,fuel_type,noise_level):\n",
    "        self.fuel_type=fuel_type\n",
    "        self.noise_level=noise_level\n",
    "        \n",
    "    def __str__(self):\n",
    "        return ('Engine: \\n \\tfuel type'+self.fuel_type+\n",
    "               \"\\n \\t Noise level\"+ str(self.noise_level))\n",
    "    \n",
    "class Body:\n",
    "    def __init__(self,size):\n",
    "        self.size=size\n",
    "        \n",
    "    def __str__(self):\n",
    "        return ('body: \\n \\t size'+self.size)\n",
    "    \n",
    "class Car:\n",
    "    \n",
    "    def __init__(self,tyres,engine,body):\n",
    "        self.tyres = tyres\n",
    "        self.engine=engine\n",
    "        self.body=body\n",
    "        \n",
    "    def __str__(self):\n",
    "        return (str(self.tyres)+'\\n'+str(self.engine)+'\\n'+str(self.body))\n"
   ]
  },
  {
   "cell_type": "code",
   "execution_count": 122,
   "id": "7f99bc0f",
   "metadata": {},
   "outputs": [],
   "source": [
    "t = Tyres('banglore',True,2.0)\n",
    "e = Engine('Diesel',3)\n",
    "b = Body('Medium')"
   ]
  },
  {
   "cell_type": "code",
   "execution_count": 123,
   "id": "f7ac3b1a",
   "metadata": {},
   "outputs": [
    {
     "ename": "AttributeError",
     "evalue": "'Tyres' object has no attribute 'opt_pressure'",
     "output_type": "error",
     "traceback": [
      "\u001b[1;31m---------------------------------------------------------------------------\u001b[0m",
      "\u001b[1;31mAttributeError\u001b[0m                            Traceback (most recent call last)",
      "\u001b[1;32m~\\AppData\\Local\\Temp/ipykernel_11004/1989972607.py\u001b[0m in \u001b[0;36m<module>\u001b[1;34m\u001b[0m\n\u001b[0;32m      1\u001b[0m \u001b[0mc\u001b[0m \u001b[1;33m=\u001b[0m \u001b[0mCar\u001b[0m\u001b[1;33m(\u001b[0m\u001b[0mt\u001b[0m\u001b[1;33m,\u001b[0m\u001b[0me\u001b[0m\u001b[1;33m,\u001b[0m\u001b[0mb\u001b[0m\u001b[1;33m)\u001b[0m\u001b[1;33m\u001b[0m\u001b[1;33m\u001b[0m\u001b[0m\n\u001b[1;32m----> 2\u001b[1;33m \u001b[0mprint\u001b[0m\u001b[1;33m(\u001b[0m\u001b[0mc\u001b[0m\u001b[1;33m)\u001b[0m\u001b[1;33m\u001b[0m\u001b[1;33m\u001b[0m\u001b[0m\n\u001b[0m",
      "\u001b[1;32m~\\AppData\\Local\\Temp/ipykernel_11004/641805419.py\u001b[0m in \u001b[0;36m__str__\u001b[1;34m(self)\u001b[0m\n\u001b[0;32m     36\u001b[0m \u001b[1;33m\u001b[0m\u001b[0m\n\u001b[0;32m     37\u001b[0m     \u001b[1;32mdef\u001b[0m \u001b[0m__str__\u001b[0m\u001b[1;33m(\u001b[0m\u001b[0mself\u001b[0m\u001b[1;33m)\u001b[0m\u001b[1;33m:\u001b[0m\u001b[1;33m\u001b[0m\u001b[1;33m\u001b[0m\u001b[0m\n\u001b[1;32m---> 38\u001b[1;33m         \u001b[1;32mreturn\u001b[0m \u001b[1;33m(\u001b[0m\u001b[0mstr\u001b[0m\u001b[1;33m(\u001b[0m\u001b[0mself\u001b[0m\u001b[1;33m.\u001b[0m\u001b[0mtyres\u001b[0m\u001b[1;33m)\u001b[0m\u001b[1;33m+\u001b[0m\u001b[1;34m'\\n'\u001b[0m\u001b[1;33m+\u001b[0m\u001b[0mstr\u001b[0m\u001b[1;33m(\u001b[0m\u001b[0mself\u001b[0m\u001b[1;33m.\u001b[0m\u001b[0mengine\u001b[0m\u001b[1;33m)\u001b[0m\u001b[1;33m+\u001b[0m\u001b[1;34m'\\n'\u001b[0m\u001b[1;33m+\u001b[0m\u001b[0mstr\u001b[0m\u001b[1;33m(\u001b[0m\u001b[0mself\u001b[0m\u001b[1;33m.\u001b[0m\u001b[0mbody\u001b[0m\u001b[1;33m)\u001b[0m\u001b[1;33m)\u001b[0m\u001b[1;33m\u001b[0m\u001b[1;33m\u001b[0m\u001b[0m\n\u001b[0m",
      "\u001b[1;32m~\\AppData\\Local\\Temp/ipykernel_11004/641805419.py\u001b[0m in \u001b[0;36m__str__\u001b[1;34m(self)\u001b[0m\n\u001b[0;32m     10\u001b[0m         return ('Tyres: \\n \\tBranch'+self.branch+\n\u001b[0;32m     11\u001b[0m                \u001b[1;34m\"\\n \\t Belted bias\"\u001b[0m\u001b[1;33m+\u001b[0m \u001b[0mstr\u001b[0m\u001b[1;33m(\u001b[0m\u001b[0mself\u001b[0m\u001b[1;33m.\u001b[0m\u001b[0mbelted_bias\u001b[0m\u001b[1;33m)\u001b[0m\u001b[1;33m+\u001b[0m\u001b[1;33m\u001b[0m\u001b[1;33m\u001b[0m\u001b[0m\n\u001b[1;32m---> 12\u001b[1;33m                 '\\n \\t Optical pressure'+str(self.opt_pressure)) \n\u001b[0m\u001b[0;32m     13\u001b[0m \u001b[1;33m\u001b[0m\u001b[0m\n\u001b[0;32m     14\u001b[0m \u001b[1;32mclass\u001b[0m \u001b[0mEngine\u001b[0m\u001b[1;33m:\u001b[0m\u001b[1;33m\u001b[0m\u001b[1;33m\u001b[0m\u001b[0m\n",
      "\u001b[1;31mAttributeError\u001b[0m: 'Tyres' object has no attribute 'opt_pressure'"
     ]
    }
   ],
   "source": [
    "c = Car(t,e,b)\n",
    "print(c)"
   ]
  },
  {
   "cell_type": "code",
   "execution_count": null,
   "id": "696da3cd",
   "metadata": {},
   "outputs": [],
   "source": []
  }
 ],
 "metadata": {
  "kernelspec": {
   "display_name": "Python 3 (ipykernel)",
   "language": "python",
   "name": "python3"
  },
  "language_info": {
   "codemirror_mode": {
    "name": "ipython",
    "version": 3
   },
   "file_extension": ".py",
   "mimetype": "text/x-python",
   "name": "python",
   "nbconvert_exporter": "python",
   "pygments_lexer": "ipython3",
   "version": "3.9.12"
  }
 },
 "nbformat": 4,
 "nbformat_minor": 5
}
